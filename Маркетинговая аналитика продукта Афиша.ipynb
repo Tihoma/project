{
 "cells": [
  {
   "cell_type": "markdown",
   "metadata": {},
   "source": [
    "# Проект \"Маркетинговая аналитика продукта \"Афиша\""
   ]
  },
  {
   "cell_type": "markdown",
   "metadata": {},
   "source": [
    "## Описание проекта\n",
    "\n",
    "**Задача:** снизить расходы на маркетинг — отказаться от невыгодных источников трафика и перераспределить бюджет.\n",
    "\n",
    "Есть данные Афиши с июня 2017 по конец мая 2018 года:\n",
    "лог сервера с данными о посещениях сайта Афиши,\n",
    "выгрузка всех заказов за этот период,\n",
    "статистика рекламных расходов.\n",
    "\n",
    "**Необходимо изучить:**\n",
    "<li> как клиенты пользуются сервисом,\n",
    "<li> когда делают первые покупки на сайте,\n",
    "<li> сколько денег приносит компании каждый клиент,\n",
    "<li> когда расходы на привлечение клиента окупаются.\n",
    "    \n",
    "Выручка измеряется в условных единицах — у.е.\n",
    "       \n",
    "**Данные:**\n",
    "    \n",
    "визиты: /datasets/visits_log.csv \n",
    "    \n",
    "заказы: /datasets/orders_log.csv\n",
    "    \n",
    "расходы: /datasets/costs.csv"
   ]
  },
  {
   "cell_type": "markdown",
   "metadata": {},
   "source": [
    "## Подготовка данных"
   ]
  },
  {
   "cell_type": "code",
   "execution_count": 1,
   "metadata": {},
   "outputs": [],
   "source": [
    "import pandas as pd\n",
    "import numpy as np\n",
    "pd.options.display.max_columns = 200\n",
    "import matplotlib.pyplot as plt\n",
    "from scipy import stats as st\n",
    "import plotly.express as px\n",
    "import seaborn as sns"
   ]
  },
  {
   "cell_type": "code",
   "execution_count": 2,
   "metadata": {},
   "outputs": [],
   "source": [
    "visits = pd.read_csv('/datasets/visits_log.csv')\n",
    "orders = pd.read_csv('/datasets/orders_log.csv')\n",
    "costs = pd.read_csv('/datasets/costs.csv')"
   ]
  },
  {
   "cell_type": "markdown",
   "metadata": {},
   "source": [
    "### Предобработка датафрейма visits"
   ]
  },
  {
   "cell_type": "code",
   "execution_count": 3,
   "metadata": {},
   "outputs": [
    {
     "name": "stdout",
     "output_type": "stream",
     "text": [
      "    Device               End Ts  Source Id             Start Ts  \\\n",
      "0    touch  2017-12-20 17:38:00          4  2017-12-20 17:20:00   \n",
      "1  desktop  2018-02-19 17:21:00          2  2018-02-19 16:53:00   \n",
      "2    touch  2017-07-01 01:54:00          5  2017-07-01 01:54:00   \n",
      "3  desktop  2018-05-20 11:23:00          9  2018-05-20 10:59:00   \n",
      "4  desktop  2017-12-27 14:06:00          3  2017-12-27 14:06:00   \n",
      "\n",
      "                    Uid  \n",
      "0  16879256277535980062  \n",
      "1    104060357244891740  \n",
      "2   7459035603376831527  \n",
      "3  16174680259334210214  \n",
      "4   9969694820036681168  \n",
      "<class 'pandas.core.frame.DataFrame'>\n",
      "RangeIndex: 359400 entries, 0 to 359399\n",
      "Data columns (total 5 columns):\n",
      "Device       359400 non-null object\n",
      "End Ts       359400 non-null object\n",
      "Source Id    359400 non-null int64\n",
      "Start Ts     359400 non-null object\n",
      "Uid          359400 non-null uint64\n",
      "dtypes: int64(1), object(3), uint64(1)\n",
      "memory usage: 13.7+ MB\n"
     ]
    },
    {
     "data": {
      "text/plain": [
       "Index(['Device', 'End Ts', 'Source Id', 'Start Ts', 'Uid'], dtype='object')"
      ]
     },
     "execution_count": 3,
     "metadata": {},
     "output_type": "execute_result"
    }
   ],
   "source": [
    "print(visits.head())\n",
    "visits.info()\n",
    "visits.columns"
   ]
  },
  {
   "cell_type": "markdown",
   "metadata": {},
   "source": [
    "Столбцы датафрейма заполнены полностью, у столбцов End Ts и Start Ts не корректный тип. Необходимо эти столбцы привести к типу datetime.\n",
    "А так же для удобства, переименую столбцы, приведу их названия к нижнему регистру и заменю пробелы."
   ]
  },
  {
   "cell_type": "code",
   "execution_count": 4,
   "metadata": {},
   "outputs": [
    {
     "data": {
      "text/plain": [
       "Index(['device', 'end_ts', 'source_id', 'start_ts', 'uid'], dtype='object')"
      ]
     },
     "execution_count": 4,
     "metadata": {},
     "output_type": "execute_result"
    }
   ],
   "source": [
    "#переименование столбцов\n",
    "visits.set_axis(['device', 'end_ts', 'source_id', 'start_ts', 'uid'], axis = 'columns', inplace = True)\n",
    "visits.columns"
   ]
  },
  {
   "cell_type": "code",
   "execution_count": 5,
   "metadata": {},
   "outputs": [],
   "source": [
    "#изменение типов столбцов\n",
    "visits['start_ts'] = pd.to_datetime(visits['start_ts'])\n",
    "visits['end_ts'] = pd.to_datetime(visits['end_ts'])\n",
    "visits['device'] = pd.Series(visits['device'], dtype=\"category\")"
   ]
  },
  {
   "cell_type": "code",
   "execution_count": 6,
   "metadata": {},
   "outputs": [
    {
     "name": "stdout",
     "output_type": "stream",
     "text": [
      "<class 'pandas.core.frame.DataFrame'>\n",
      "RangeIndex: 359400 entries, 0 to 359399\n",
      "Data columns (total 5 columns):\n",
      "device       359400 non-null category\n",
      "end_ts       359400 non-null datetime64[ns]\n",
      "source_id    359400 non-null int64\n",
      "start_ts     359400 non-null datetime64[ns]\n",
      "uid          359400 non-null uint64\n",
      "dtypes: category(1), datetime64[ns](2), int64(1), uint64(1)\n",
      "memory usage: 11.3 MB\n"
     ]
    }
   ],
   "source": [
    "visits.info()"
   ]
  },
  {
   "cell_type": "code",
   "execution_count": 7,
   "metadata": {},
   "outputs": [
    {
     "name": "stdout",
     "output_type": "stream",
     "text": [
      "Дубликатов в датесете visits:  0\n"
     ]
    }
   ],
   "source": [
    "print('Дубликатов в датесете visits: ', visits.duplicated().sum()) "
   ]
  },
  {
   "cell_type": "markdown",
   "metadata": {},
   "source": [
    "### Предобработка датафрейма orders"
   ]
  },
  {
   "cell_type": "code",
   "execution_count": 8,
   "metadata": {},
   "outputs": [
    {
     "name": "stdout",
     "output_type": "stream",
     "text": [
      "                Buy Ts  Revenue                   Uid\n",
      "0  2017-06-01 00:10:00    17.00  10329302124590727494\n",
      "1  2017-06-01 00:25:00     0.55  11627257723692907447\n",
      "2  2017-06-01 00:27:00     0.37  17903680561304213844\n",
      "3  2017-06-01 00:29:00     0.55  16109239769442553005\n",
      "4  2017-06-01 07:58:00     0.37  14200605875248379450\n",
      "<class 'pandas.core.frame.DataFrame'>\n",
      "RangeIndex: 50415 entries, 0 to 50414\n",
      "Data columns (total 3 columns):\n",
      "Buy Ts     50415 non-null object\n",
      "Revenue    50415 non-null float64\n",
      "Uid        50415 non-null uint64\n",
      "dtypes: float64(1), object(1), uint64(1)\n",
      "memory usage: 1.2+ MB\n"
     ]
    },
    {
     "data": {
      "text/plain": [
       "Index(['Buy Ts', 'Revenue', 'Uid'], dtype='object')"
      ]
     },
     "execution_count": 8,
     "metadata": {},
     "output_type": "execute_result"
    }
   ],
   "source": [
    "print(orders.head())\n",
    "orders.info()\n",
    "orders.columns"
   ]
  },
  {
   "cell_type": "markdown",
   "metadata": {},
   "source": [
    "Датафрейм заполнен полностью, столбец Buy Ts имеет не корректный тип, его нобходимо изменить, так же изменю названия столбцов для удобства."
   ]
  },
  {
   "cell_type": "code",
   "execution_count": 9,
   "metadata": {},
   "outputs": [
    {
     "data": {
      "text/plain": [
       "Index(['buy_ts', 'revenue', 'uid'], dtype='object')"
      ]
     },
     "execution_count": 9,
     "metadata": {},
     "output_type": "execute_result"
    }
   ],
   "source": [
    "# переименование столбцов\n",
    "orders.set_axis(['buy_ts', 'revenue', 'uid'], axis = 'columns', inplace = True)\n",
    "orders.columns"
   ]
  },
  {
   "cell_type": "code",
   "execution_count": 10,
   "metadata": {},
   "outputs": [],
   "source": [
    "#изменение типа данных\n",
    "orders['buy_ts'] = pd.to_datetime(orders['buy_ts'])"
   ]
  },
  {
   "cell_type": "code",
   "execution_count": 11,
   "metadata": {},
   "outputs": [
    {
     "name": "stdout",
     "output_type": "stream",
     "text": [
      "<class 'pandas.core.frame.DataFrame'>\n",
      "RangeIndex: 50415 entries, 0 to 50414\n",
      "Data columns (total 3 columns):\n",
      "buy_ts     50415 non-null datetime64[ns]\n",
      "revenue    50415 non-null float64\n",
      "uid        50415 non-null uint64\n",
      "dtypes: datetime64[ns](1), float64(1), uint64(1)\n",
      "memory usage: 1.2 MB\n"
     ]
    }
   ],
   "source": [
    "orders.info()"
   ]
  },
  {
   "cell_type": "code",
   "execution_count": 12,
   "metadata": {},
   "outputs": [
    {
     "data": {
      "text/html": [
       "<div>\n",
       "<style scoped>\n",
       "    .dataframe tbody tr th:only-of-type {\n",
       "        vertical-align: middle;\n",
       "    }\n",
       "\n",
       "    .dataframe tbody tr th {\n",
       "        vertical-align: top;\n",
       "    }\n",
       "\n",
       "    .dataframe thead th {\n",
       "        text-align: right;\n",
       "    }\n",
       "</style>\n",
       "<table border=\"1\" class=\"dataframe\">\n",
       "  <thead>\n",
       "    <tr style=\"text-align: right;\">\n",
       "      <th></th>\n",
       "      <th>revenue</th>\n",
       "      <th>uid</th>\n",
       "    </tr>\n",
       "  </thead>\n",
       "  <tbody>\n",
       "    <tr>\n",
       "      <td>count</td>\n",
       "      <td>50415.000000</td>\n",
       "      <td>5.041500e+04</td>\n",
       "    </tr>\n",
       "    <tr>\n",
       "      <td>mean</td>\n",
       "      <td>4.999647</td>\n",
       "      <td>9.098161e+18</td>\n",
       "    </tr>\n",
       "    <tr>\n",
       "      <td>std</td>\n",
       "      <td>21.818359</td>\n",
       "      <td>5.285742e+18</td>\n",
       "    </tr>\n",
       "    <tr>\n",
       "      <td>min</td>\n",
       "      <td>0.000000</td>\n",
       "      <td>3.135781e+14</td>\n",
       "    </tr>\n",
       "    <tr>\n",
       "      <td>25%</td>\n",
       "      <td>1.220000</td>\n",
       "      <td>4.533567e+18</td>\n",
       "    </tr>\n",
       "    <tr>\n",
       "      <td>50%</td>\n",
       "      <td>2.500000</td>\n",
       "      <td>9.102274e+18</td>\n",
       "    </tr>\n",
       "    <tr>\n",
       "      <td>75%</td>\n",
       "      <td>4.890000</td>\n",
       "      <td>1.368290e+19</td>\n",
       "    </tr>\n",
       "    <tr>\n",
       "      <td>max</td>\n",
       "      <td>2633.280000</td>\n",
       "      <td>1.844617e+19</td>\n",
       "    </tr>\n",
       "  </tbody>\n",
       "</table>\n",
       "</div>"
      ],
      "text/plain": [
       "            revenue           uid\n",
       "count  50415.000000  5.041500e+04\n",
       "mean       4.999647  9.098161e+18\n",
       "std       21.818359  5.285742e+18\n",
       "min        0.000000  3.135781e+14\n",
       "25%        1.220000  4.533567e+18\n",
       "50%        2.500000  9.102274e+18\n",
       "75%        4.890000  1.368290e+19\n",
       "max     2633.280000  1.844617e+19"
      ]
     },
     "execution_count": 12,
     "metadata": {},
     "output_type": "execute_result"
    }
   ],
   "source": [
    "orders.describe()"
   ]
  },
  {
   "cell_type": "code",
   "execution_count": 13,
   "metadata": {},
   "outputs": [
    {
     "name": "stdout",
     "output_type": "stream",
     "text": [
      "Дубликатов в датесете orders:  0\n"
     ]
    }
   ],
   "source": [
    "print('Дубликатов в датесете orders: ', orders.duplicated().sum()) "
   ]
  },
  {
   "cell_type": "markdown",
   "metadata": {},
   "source": [
    "### Предобработка датафрейма costs"
   ]
  },
  {
   "cell_type": "code",
   "execution_count": 14,
   "metadata": {},
   "outputs": [
    {
     "name": "stdout",
     "output_type": "stream",
     "text": [
      "   source_id          dt  costs\n",
      "0          1  2017-06-01  75.20\n",
      "1          1  2017-06-02  62.25\n",
      "2          1  2017-06-03  36.53\n",
      "3          1  2017-06-04  55.00\n",
      "4          1  2017-06-05  57.08\n"
     ]
    }
   ],
   "source": [
    "print(costs.head())"
   ]
  },
  {
   "cell_type": "code",
   "execution_count": 15,
   "metadata": {},
   "outputs": [
    {
     "name": "stdout",
     "output_type": "stream",
     "text": [
      "<class 'pandas.core.frame.DataFrame'>\n",
      "RangeIndex: 2542 entries, 0 to 2541\n",
      "Data columns (total 3 columns):\n",
      "source_id    2542 non-null int64\n",
      "dt           2542 non-null object\n",
      "costs        2542 non-null float64\n",
      "dtypes: float64(1), int64(1), object(1)\n",
      "memory usage: 59.7+ KB\n"
     ]
    }
   ],
   "source": [
    "costs.info()"
   ]
  },
  {
   "cell_type": "markdown",
   "metadata": {},
   "source": [
    "Датафрейм заполнен полоностью, столбец dt имеет не корректный тип."
   ]
  },
  {
   "cell_type": "code",
   "execution_count": 16,
   "metadata": {},
   "outputs": [],
   "source": [
    "#изменение типа столбца dt\n",
    "costs['dt'] = pd.to_datetime(costs['dt'])"
   ]
  },
  {
   "cell_type": "code",
   "execution_count": 17,
   "metadata": {},
   "outputs": [
    {
     "data": {
      "text/plain": [
       "array([ 1,  2,  3,  4,  5,  9, 10])"
      ]
     },
     "execution_count": 17,
     "metadata": {},
     "output_type": "execute_result"
    }
   ],
   "source": [
    "#проверка столбца source_id \n",
    "costs['source_id'].unique()"
   ]
  },
  {
   "cell_type": "markdown",
   "metadata": {},
   "source": [
    "Столбец заполнен корректно"
   ]
  },
  {
   "cell_type": "code",
   "execution_count": 18,
   "metadata": {},
   "outputs": [
    {
     "name": "stdout",
     "output_type": "stream",
     "text": [
      "<class 'pandas.core.frame.DataFrame'>\n",
      "RangeIndex: 2542 entries, 0 to 2541\n",
      "Data columns (total 3 columns):\n",
      "source_id    2542 non-null int64\n",
      "dt           2542 non-null datetime64[ns]\n",
      "costs        2542 non-null float64\n",
      "dtypes: datetime64[ns](1), float64(1), int64(1)\n",
      "memory usage: 59.7 KB\n"
     ]
    }
   ],
   "source": [
    "costs.info()"
   ]
  },
  {
   "cell_type": "code",
   "execution_count": 19,
   "metadata": {},
   "outputs": [
    {
     "name": "stdout",
     "output_type": "stream",
     "text": [
      "Дубликатов в датесете costs:  0\n"
     ]
    }
   ],
   "source": [
    "print('Дубликатов в датесете costs: ', costs.duplicated().sum()) "
   ]
  },
  {
   "cell_type": "markdown",
   "metadata": {},
   "source": [
    "## Расчет метрик и построение графиков"
   ]
  },
  {
   "cell_type": "markdown",
   "metadata": {},
   "source": [
    "### Расчет продуктовых метрик"
   ]
  },
  {
   "cell_type": "markdown",
   "metadata": {},
   "source": [
    "#### Рассчет DAU, WAU и MAU. \n",
    "DAU  — количество уникальных пользователей в день;\n",
    "\n",
    "WAU  — количество уникальных пользователей в неделю;\n",
    "\n",
    "MAU  — количество уникальных пользователей в месяц.\n",
    "\n",
    "***Изучим данные в таблице visits***"
   ]
  },
  {
   "cell_type": "code",
   "execution_count": 20,
   "metadata": {},
   "outputs": [
    {
     "data": {
      "text/html": [
       "<div>\n",
       "<style scoped>\n",
       "    .dataframe tbody tr th:only-of-type {\n",
       "        vertical-align: middle;\n",
       "    }\n",
       "\n",
       "    .dataframe tbody tr th {\n",
       "        vertical-align: top;\n",
       "    }\n",
       "\n",
       "    .dataframe thead th {\n",
       "        text-align: right;\n",
       "    }\n",
       "</style>\n",
       "<table border=\"1\" class=\"dataframe\">\n",
       "  <thead>\n",
       "    <tr style=\"text-align: right;\">\n",
       "      <th></th>\n",
       "      <th>device</th>\n",
       "      <th>end_ts</th>\n",
       "      <th>source_id</th>\n",
       "      <th>start_ts</th>\n",
       "      <th>uid</th>\n",
       "    </tr>\n",
       "  </thead>\n",
       "  <tbody>\n",
       "    <tr>\n",
       "      <td>0</td>\n",
       "      <td>touch</td>\n",
       "      <td>2017-12-20 17:38:00</td>\n",
       "      <td>4</td>\n",
       "      <td>2017-12-20 17:20:00</td>\n",
       "      <td>16879256277535980062</td>\n",
       "    </tr>\n",
       "    <tr>\n",
       "      <td>1</td>\n",
       "      <td>desktop</td>\n",
       "      <td>2018-02-19 17:21:00</td>\n",
       "      <td>2</td>\n",
       "      <td>2018-02-19 16:53:00</td>\n",
       "      <td>104060357244891740</td>\n",
       "    </tr>\n",
       "    <tr>\n",
       "      <td>2</td>\n",
       "      <td>touch</td>\n",
       "      <td>2017-07-01 01:54:00</td>\n",
       "      <td>5</td>\n",
       "      <td>2017-07-01 01:54:00</td>\n",
       "      <td>7459035603376831527</td>\n",
       "    </tr>\n",
       "    <tr>\n",
       "      <td>3</td>\n",
       "      <td>desktop</td>\n",
       "      <td>2018-05-20 11:23:00</td>\n",
       "      <td>9</td>\n",
       "      <td>2018-05-20 10:59:00</td>\n",
       "      <td>16174680259334210214</td>\n",
       "    </tr>\n",
       "    <tr>\n",
       "      <td>4</td>\n",
       "      <td>desktop</td>\n",
       "      <td>2017-12-27 14:06:00</td>\n",
       "      <td>3</td>\n",
       "      <td>2017-12-27 14:06:00</td>\n",
       "      <td>9969694820036681168</td>\n",
       "    </tr>\n",
       "  </tbody>\n",
       "</table>\n",
       "</div>"
      ],
      "text/plain": [
       "    device              end_ts  source_id            start_ts  \\\n",
       "0    touch 2017-12-20 17:38:00          4 2017-12-20 17:20:00   \n",
       "1  desktop 2018-02-19 17:21:00          2 2018-02-19 16:53:00   \n",
       "2    touch 2017-07-01 01:54:00          5 2017-07-01 01:54:00   \n",
       "3  desktop 2018-05-20 11:23:00          9 2018-05-20 10:59:00   \n",
       "4  desktop 2017-12-27 14:06:00          3 2017-12-27 14:06:00   \n",
       "\n",
       "                    uid  \n",
       "0  16879256277535980062  \n",
       "1    104060357244891740  \n",
       "2   7459035603376831527  \n",
       "3  16174680259334210214  \n",
       "4   9969694820036681168  "
      ]
     },
     "execution_count": 20,
     "metadata": {},
     "output_type": "execute_result"
    }
   ],
   "source": [
    "visits.head()"
   ]
  },
  {
   "cell_type": "markdown",
   "metadata": {},
   "source": [
    "В таблице представлена информация об идентификаторе пользователя, времени начала и окончания сессии, id источника и название источника."
   ]
  },
  {
   "cell_type": "code",
   "execution_count": 21,
   "metadata": {},
   "outputs": [],
   "source": [
    "#чтобы рассчитать метрики \n",
    "#выделим год, месяц, неделю и полную дату в отдельный столбец\n",
    "visits['session_year']  = visits['start_ts'].dt.year\n",
    "visits['session_month'] = visits['start_ts'].dt.month\n",
    "visits['session_week']  = visits['start_ts'].dt.week\n",
    "visits['session_weekday'] = visits['start_ts'].dt.dayofweek\n",
    "visits['session_date'] = visits['start_ts'].dt.date"
   ]
  },
  {
   "cell_type": "code",
   "execution_count": 22,
   "metadata": {},
   "outputs": [
    {
     "data": {
      "text/html": [
       "<div>\n",
       "<style scoped>\n",
       "    .dataframe tbody tr th:only-of-type {\n",
       "        vertical-align: middle;\n",
       "    }\n",
       "\n",
       "    .dataframe tbody tr th {\n",
       "        vertical-align: top;\n",
       "    }\n",
       "\n",
       "    .dataframe thead th {\n",
       "        text-align: right;\n",
       "    }\n",
       "</style>\n",
       "<table border=\"1\" class=\"dataframe\">\n",
       "  <thead>\n",
       "    <tr style=\"text-align: right;\">\n",
       "      <th></th>\n",
       "      <th>device</th>\n",
       "      <th>end_ts</th>\n",
       "      <th>source_id</th>\n",
       "      <th>start_ts</th>\n",
       "      <th>uid</th>\n",
       "      <th>session_year</th>\n",
       "      <th>session_month</th>\n",
       "      <th>session_week</th>\n",
       "      <th>session_weekday</th>\n",
       "      <th>session_date</th>\n",
       "    </tr>\n",
       "  </thead>\n",
       "  <tbody>\n",
       "    <tr>\n",
       "      <td>0</td>\n",
       "      <td>touch</td>\n",
       "      <td>2017-12-20 17:38:00</td>\n",
       "      <td>4</td>\n",
       "      <td>2017-12-20 17:20:00</td>\n",
       "      <td>16879256277535980062</td>\n",
       "      <td>2017</td>\n",
       "      <td>12</td>\n",
       "      <td>51</td>\n",
       "      <td>2</td>\n",
       "      <td>2017-12-20</td>\n",
       "    </tr>\n",
       "    <tr>\n",
       "      <td>1</td>\n",
       "      <td>desktop</td>\n",
       "      <td>2018-02-19 17:21:00</td>\n",
       "      <td>2</td>\n",
       "      <td>2018-02-19 16:53:00</td>\n",
       "      <td>104060357244891740</td>\n",
       "      <td>2018</td>\n",
       "      <td>2</td>\n",
       "      <td>8</td>\n",
       "      <td>0</td>\n",
       "      <td>2018-02-19</td>\n",
       "    </tr>\n",
       "    <tr>\n",
       "      <td>2</td>\n",
       "      <td>touch</td>\n",
       "      <td>2017-07-01 01:54:00</td>\n",
       "      <td>5</td>\n",
       "      <td>2017-07-01 01:54:00</td>\n",
       "      <td>7459035603376831527</td>\n",
       "      <td>2017</td>\n",
       "      <td>7</td>\n",
       "      <td>26</td>\n",
       "      <td>5</td>\n",
       "      <td>2017-07-01</td>\n",
       "    </tr>\n",
       "    <tr>\n",
       "      <td>3</td>\n",
       "      <td>desktop</td>\n",
       "      <td>2018-05-20 11:23:00</td>\n",
       "      <td>9</td>\n",
       "      <td>2018-05-20 10:59:00</td>\n",
       "      <td>16174680259334210214</td>\n",
       "      <td>2018</td>\n",
       "      <td>5</td>\n",
       "      <td>20</td>\n",
       "      <td>6</td>\n",
       "      <td>2018-05-20</td>\n",
       "    </tr>\n",
       "    <tr>\n",
       "      <td>4</td>\n",
       "      <td>desktop</td>\n",
       "      <td>2017-12-27 14:06:00</td>\n",
       "      <td>3</td>\n",
       "      <td>2017-12-27 14:06:00</td>\n",
       "      <td>9969694820036681168</td>\n",
       "      <td>2017</td>\n",
       "      <td>12</td>\n",
       "      <td>52</td>\n",
       "      <td>2</td>\n",
       "      <td>2017-12-27</td>\n",
       "    </tr>\n",
       "  </tbody>\n",
       "</table>\n",
       "</div>"
      ],
      "text/plain": [
       "    device              end_ts  source_id            start_ts  \\\n",
       "0    touch 2017-12-20 17:38:00          4 2017-12-20 17:20:00   \n",
       "1  desktop 2018-02-19 17:21:00          2 2018-02-19 16:53:00   \n",
       "2    touch 2017-07-01 01:54:00          5 2017-07-01 01:54:00   \n",
       "3  desktop 2018-05-20 11:23:00          9 2018-05-20 10:59:00   \n",
       "4  desktop 2017-12-27 14:06:00          3 2017-12-27 14:06:00   \n",
       "\n",
       "                    uid  session_year  session_month  session_week  \\\n",
       "0  16879256277535980062          2017             12            51   \n",
       "1    104060357244891740          2018              2             8   \n",
       "2   7459035603376831527          2017              7            26   \n",
       "3  16174680259334210214          2018              5            20   \n",
       "4   9969694820036681168          2017             12            52   \n",
       "\n",
       "   session_weekday session_date  \n",
       "0                2   2017-12-20  \n",
       "1                0   2018-02-19  \n",
       "2                5   2017-07-01  \n",
       "3                6   2018-05-20  \n",
       "4                2   2017-12-27  "
      ]
     },
     "execution_count": 22,
     "metadata": {},
     "output_type": "execute_result"
    }
   ],
   "source": [
    "visits.head()"
   ]
  },
  {
   "cell_type": "markdown",
   "metadata": {},
   "source": [
    "##### Вычисление средних значений метрик за весь период."
   ]
  },
  {
   "cell_type": "code",
   "execution_count": 23,
   "metadata": {},
   "outputs": [
    {
     "name": "stdout",
     "output_type": "stream",
     "text": [
      "Среднее количество уникальных пользователей в день DAU: 907\n",
      "Среднее количество уникальных пользователей в неделю WAU: 5716\n",
      "Среднее количество уникальных пользователей в месяц MAU: 23228\n"
     ]
    }
   ],
   "source": [
    "#посчитаем средние значения метрик\n",
    "#Сгруппируем данные по уникальным пользователям и найдём среднее:\n",
    "dau_visits = visits.groupby('session_date').agg({'uid': 'nunique'}).mean()\n",
    "wau_visits = visits.groupby(['session_year', 'session_week']).agg({'uid': 'nunique'}).mean()\n",
    "mau_visits = visits.groupby(['session_year', 'session_month']).agg({'uid': 'nunique'}).mean()\n",
    "\n",
    "print('Среднее количество уникальных пользователей в день DAU:', int(dau_visits))\n",
    "print('Среднее количество уникальных пользователей в неделю WAU:', int(wau_visits))\n",
    "print('Среднее количество уникальных пользователей в месяц MAU:', int(mau_visits))"
   ]
  },
  {
   "cell_type": "markdown",
   "metadata": {},
   "source": [
    "##### График динамики метрик во времени"
   ]
  },
  {
   "cell_type": "code",
   "execution_count": 24,
   "metadata": {},
   "outputs": [
    {
     "data": {
      "image/png": "[encoded data removed]",
      "text/plain": [
       "<Figure size 2160x504 with 1 Axes>"
      ]
     },
     "metadata": {
      "needs_background": "light"
     },
     "output_type": "display_data"
    }
   ],
   "source": [
    "visits.groupby(['session_date']).agg({'uid': 'nunique'}).plot( figsize = (30,7))\n",
    "plt.title('Динамика метрики DAU')\n",
    "plt.ylabel('кол-во уникальных пользователей')\n",
    "plt.xlabel('день');"
   ]
  },
  {
   "cell_type": "markdown",
   "metadata": {},
   "source": [
    "На данном графике видна периодичность подъемов и спадов в зав-ти от дня. Так же мы видим резкий рост, это связано с маркетинговой акцией-распродажей \"черная пятница\". А падение до нуля в конце марта может быть связано с техническими неполадками на сайте. Рассмотрим эту периодичность от дня недели."
   ]
  },
  {
   "cell_type": "code",
   "execution_count": 25,
   "metadata": {},
   "outputs": [
    {
     "data": {
      "image/png": "[encoded data removed]",
      "text/plain": [
       "<Figure size 1080x504 with 1 Axes>"
      ]
     },
     "metadata": {
      "needs_background": "light"
     },
     "output_type": "display_data"
    }
   ],
   "source": [
    "visits.groupby(['session_weekday']).agg({'uid': 'nunique'}).plot(kind = 'bar', figsize = (15,7))\n",
    "plt.title('Динамика метрики DAU в зав-ти от дня недели')\n",
    "plt.ylabel('кол-во уникальных пользователей')\n",
    "plt.xlabel('день');"
   ]
  },
  {
   "cell_type": "markdown",
   "metadata": {},
   "source": [
    "Рост посещений сайта зафиксирован в начале недели, а максимальное число приходится на четверг. Далее кол-во посещений снижается и в воскресенье становится минимально."
   ]
  },
  {
   "cell_type": "code",
   "execution_count": 26,
   "metadata": {},
   "outputs": [
    {
     "data": {
      "image/png": "[encoded data removed]",
      "text/plain": [
       "<Figure size 1080x504 with 1 Axes>"
      ]
     },
     "metadata": {
      "needs_background": "light"
     },
     "output_type": "display_data"
    }
   ],
   "source": [
    "visits.groupby(['session_year', 'session_week']).agg({'uid': 'nunique'}).plot(kind = 'bar', figsize = (15,7))\n",
    "plt.title('Динамика метрики WAU')\n",
    "plt.ylabel('кол-во уникальных пользователей')\n",
    "plt.xlabel('неделя');"
   ]
  },
  {
   "cell_type": "markdown",
   "metadata": {},
   "source": [
    "Самый низкий уровень метрики приходится на 31 неделю 2017 года. Это август. Т.е. наблюдается корреляция с сезоном. В летний сезон многие театры уходят в отпуск, поэтому и спрос на Афишу становится ниже.\n",
    "максимальное значение метрики приходится на 47 неделю - это конец ноября. Затем распределение находится на стабильно высоком уровне, а к 1 неделе 2018 года - падает. Полоучается, что спрос есть перед новогодними празниками, а затем он снижается."
   ]
  },
  {
   "cell_type": "code",
   "execution_count": 27,
   "metadata": {},
   "outputs": [
    {
     "data": {
      "image/png": "[encoded data removed]",
      "text/plain": [
       "<Figure size 1080x504 with 1 Axes>"
      ]
     },
     "metadata": {
      "needs_background": "light"
     },
     "output_type": "display_data"
    }
   ],
   "source": [
    "visits.groupby(['session_year', 'session_month']).agg({'uid': 'nunique'}).sort_values(by = 'uid', ascending = False).plot(kind = 'bar', figsize = (15,7))\n",
    "plt.title('Динамика метрики MAU')\n",
    "plt.ylabel('кол-во уникальных пользователей')\n",
    "plt.xlabel('месяц');"
   ]
  },
  {
   "cell_type": "markdown",
   "metadata": {},
   "source": [
    "Наибольшее кол-во уникальных пользователей приходится на декабрь и январь и минимальное на август."
   ]
  },
  {
   "cell_type": "markdown",
   "metadata": {},
   "source": [
    "#### Количество посещений в день."
   ]
  },
  {
   "cell_type": "code",
   "execution_count": 28,
   "metadata": {},
   "outputs": [
    {
     "data": {
      "text/html": [
       "<div>\n",
       "<style scoped>\n",
       "    .dataframe tbody tr th:only-of-type {\n",
       "        vertical-align: middle;\n",
       "    }\n",
       "\n",
       "    .dataframe tbody tr th {\n",
       "        vertical-align: top;\n",
       "    }\n",
       "\n",
       "    .dataframe thead th {\n",
       "        text-align: right;\n",
       "    }\n",
       "</style>\n",
       "<table border=\"1\" class=\"dataframe\">\n",
       "  <thead>\n",
       "    <tr style=\"text-align: right;\">\n",
       "      <th></th>\n",
       "      <th></th>\n",
       "      <th>n_sessions</th>\n",
       "      <th>n_users</th>\n",
       "      <th>sessions_per_user</th>\n",
       "    </tr>\n",
       "    <tr>\n",
       "      <th>session_year</th>\n",
       "      <th>session_date</th>\n",
       "      <th></th>\n",
       "      <th></th>\n",
       "      <th></th>\n",
       "    </tr>\n",
       "  </thead>\n",
       "  <tbody>\n",
       "    <tr>\n",
       "      <td rowspan=\"10\" valign=\"top\">2017</td>\n",
       "      <td>2017-06-01</td>\n",
       "      <td>664</td>\n",
       "      <td>605</td>\n",
       "      <td>1.097521</td>\n",
       "    </tr>\n",
       "    <tr>\n",
       "      <td>2017-06-02</td>\n",
       "      <td>658</td>\n",
       "      <td>608</td>\n",
       "      <td>1.082237</td>\n",
       "    </tr>\n",
       "    <tr>\n",
       "      <td>2017-06-03</td>\n",
       "      <td>477</td>\n",
       "      <td>445</td>\n",
       "      <td>1.071910</td>\n",
       "    </tr>\n",
       "    <tr>\n",
       "      <td>2017-06-04</td>\n",
       "      <td>510</td>\n",
       "      <td>476</td>\n",
       "      <td>1.071429</td>\n",
       "    </tr>\n",
       "    <tr>\n",
       "      <td>2017-06-05</td>\n",
       "      <td>893</td>\n",
       "      <td>820</td>\n",
       "      <td>1.089024</td>\n",
       "    </tr>\n",
       "    <tr>\n",
       "      <td>2017-06-06</td>\n",
       "      <td>875</td>\n",
       "      <td>797</td>\n",
       "      <td>1.097867</td>\n",
       "    </tr>\n",
       "    <tr>\n",
       "      <td>2017-06-07</td>\n",
       "      <td>788</td>\n",
       "      <td>699</td>\n",
       "      <td>1.127325</td>\n",
       "    </tr>\n",
       "    <tr>\n",
       "      <td>2017-06-08</td>\n",
       "      <td>939</td>\n",
       "      <td>868</td>\n",
       "      <td>1.081797</td>\n",
       "    </tr>\n",
       "    <tr>\n",
       "      <td>2017-06-09</td>\n",
       "      <td>755</td>\n",
       "      <td>695</td>\n",
       "      <td>1.086331</td>\n",
       "    </tr>\n",
       "    <tr>\n",
       "      <td>2017-06-10</td>\n",
       "      <td>375</td>\n",
       "      <td>350</td>\n",
       "      <td>1.071429</td>\n",
       "    </tr>\n",
       "  </tbody>\n",
       "</table>\n",
       "</div>"
      ],
      "text/plain": [
       "                           n_sessions  n_users  sessions_per_user\n",
       "session_year session_date                                        \n",
       "2017         2017-06-01           664      605           1.097521\n",
       "             2017-06-02           658      608           1.082237\n",
       "             2017-06-03           477      445           1.071910\n",
       "             2017-06-04           510      476           1.071429\n",
       "             2017-06-05           893      820           1.089024\n",
       "             2017-06-06           875      797           1.097867\n",
       "             2017-06-07           788      699           1.127325\n",
       "             2017-06-08           939      868           1.081797\n",
       "             2017-06-09           755      695           1.086331\n",
       "             2017-06-10           375      350           1.071429"
      ]
     },
     "metadata": {},
     "output_type": "display_data"
    }
   ],
   "source": [
    "#чтобы найти эту метрику необходимо разделить число сессий на количество пользователей за период\n",
    "sessions_per_user = visits.groupby(['session_year', 'session_date']).agg({'uid': ['count', 'nunique']})\n",
    "sessions_per_user.columns = ['n_sessions', 'n_users']\n",
    "sessions_per_user['sessions_per_user'] = (sessions_per_user['n_sessions'] / sessions_per_user['n_users'])\n",
    "display(sessions_per_user.head(10)) "
   ]
  },
  {
   "cell_type": "code",
   "execution_count": 29,
   "metadata": {},
   "outputs": [
    {
     "data": {
      "image/png": "[encoded data removed]",
      "text/plain": [
       "<Figure size 720x504 with 1 Axes>"
      ]
     },
     "metadata": {
      "needs_background": "light"
     },
     "output_type": "display_data"
    }
   ],
   "source": [
    "sessions_per_user['sessions_per_user'].hist(bins = 10, figsize = (10,7) )\n",
    "plt.title('Динамика кол-ва сессий в день')\n",
    "plt.ylabel('кол-во посещений')\n",
    "plt.xlabel('кол-во посещений в день');"
   ]
  },
  {
   "cell_type": "markdown",
   "metadata": {},
   "source": [
    "По гистограмме видно, что чаще всего пользователи заходят на сайт чуть больше, чем 1 раз."
   ]
  },
  {
   "cell_type": "markdown",
   "metadata": {},
   "source": [
    "#### Исследование продолжительности сессии."
   ]
  },
  {
   "cell_type": "code",
   "execution_count": 30,
   "metadata": {},
   "outputs": [
    {
     "data": {
      "image/png": "[encoded data removed]",
      "text/plain": [
       "<Figure size 1080x360 with 1 Axes>"
      ]
     },
     "metadata": {
      "needs_background": "light"
     },
     "output_type": "display_data"
    }
   ],
   "source": [
    "#Рассмотрим распределение\n",
    "visits['session_duration_sec'] = (visits['end_ts'] - visits['start_ts']).dt.seconds\n",
    "visits['session_duration_sec'].hist(bins = 100,figsize = (15, 5), grid = True)\n",
    "plt.title('Гистограмма продолжительности сессии')\n",
    "plt.ylabel('Продолжительность');"
   ]
  },
  {
   "cell_type": "code",
   "execution_count": 31,
   "metadata": {
    "scrolled": true
   },
   "outputs": [
    {
     "data": {
      "text/plain": [
       "count    359400.000000\n",
       "mean        643.506489\n",
       "std        1016.334786\n",
       "min           0.000000\n",
       "25%         120.000000\n",
       "50%         300.000000\n",
       "75%         840.000000\n",
       "max       84480.000000\n",
       "Name: session_duration_sec, dtype: float64"
      ]
     },
     "execution_count": 31,
     "metadata": {},
     "output_type": "execute_result"
    }
   ],
   "source": [
    "visits['session_duration_sec'].describe()"
   ]
  },
  {
   "cell_type": "code",
   "execution_count": 32,
   "metadata": {},
   "outputs": [
    {
     "name": "stdout",
     "output_type": "stream",
     "text": [
      "Средняя продолжительность сессии: 643.506488592098\n"
     ]
    }
   ],
   "source": [
    "print('Средняя продолжительность сессии:', visits['session_duration_sec'].mean()) "
   ]
  },
  {
   "cell_type": "code",
   "execution_count": 33,
   "metadata": {},
   "outputs": [
    {
     "name": "stdout",
     "output_type": "stream",
     "text": [
      "Медианная продолжительность сессии: 300.0\n"
     ]
    }
   ],
   "source": [
    "print('Медианная продолжительность сессии:', visits['session_duration_sec'].median()) "
   ]
  },
  {
   "cell_type": "code",
   "execution_count": 34,
   "metadata": {},
   "outputs": [
    {
     "name": "stdout",
     "output_type": "stream",
     "text": [
      "Мода продолжительности сессии: 0    60\n",
      "dtype: int64\n"
     ]
    }
   ],
   "source": [
    "#Распределение не является нормальным, поэтому рассчитаем значение, которое встречается чаще всего - моду:\n",
    "print('Мода продолжительности сессии:', visits['session_duration_sec'].mode()) "
   ]
  },
  {
   "cell_type": "markdown",
   "metadata": {},
   "source": [
    "Чаще всего пользователи проводят на сайте 60 секунд."
   ]
  },
  {
   "cell_type": "markdown",
   "metadata": {},
   "source": [
    "#### Рассчиет Retention Rate при помощи когортного анализа."
   ]
  },
  {
   "cell_type": "code",
   "execution_count": 35,
   "metadata": {},
   "outputs": [
    {
     "name": "stdout",
     "output_type": "stream",
     "text": [
      "    device              end_ts  source_id            start_ts  \\\n",
      "0    touch 2017-12-20 17:38:00          4 2017-12-20 17:20:00   \n",
      "1  desktop 2018-02-19 17:21:00          2 2018-02-19 16:53:00   \n",
      "2    touch 2017-07-01 01:54:00          5 2017-07-01 01:54:00   \n",
      "3  desktop 2018-05-20 11:23:00          9 2018-05-20 10:59:00   \n",
      "4  desktop 2017-12-27 14:06:00          3 2017-12-27 14:06:00   \n",
      "\n",
      "                    uid  session_year  session_month  session_week  \\\n",
      "0  16879256277535980062          2017             12            51   \n",
      "1    104060357244891740          2018              2             8   \n",
      "2   7459035603376831527          2017              7            26   \n",
      "3  16174680259334210214          2018              5            20   \n",
      "4   9969694820036681168          2017             12            52   \n",
      "\n",
      "   session_weekday session_date  session_duration_sec first_activity_date  \n",
      "0                2   2017-12-20                  1080 2017-12-20 17:20:00  \n",
      "1                0   2018-02-19                  1680 2018-02-19 16:53:00  \n",
      "2                5   2017-07-01                     0 2017-07-01 01:54:00  \n",
      "3                6   2018-05-20                  1440 2018-03-09 20:05:00  \n",
      "4                2   2017-12-27                     0 2017-12-27 14:06:00  \n"
     ]
    }
   ],
   "source": [
    "#воспользуемся когортами, сформированными по месяцам первого использования сайта\n",
    "first_activity_date = visits.groupby(['uid'])['start_ts'].min()\n",
    "first_activity_date.name = 'first_activity_date'\n",
    "#объединим датасет с исходным visits\n",
    "visits = visits.join(first_activity_date,on='uid') \n",
    "print(visits.head())"
   ]
  },
  {
   "cell_type": "markdown",
   "metadata": {},
   "source": [
    "В исходном датасете появился столбец с датой первой активности пользователя"
   ]
  },
  {
   "cell_type": "code",
   "execution_count": 36,
   "metadata": {},
   "outputs": [],
   "source": [
    "#сфрмируем когорты по месяцу первой активности\n",
    "#добавим столбец с номером месяца первой активности, он станет идентификатом\n",
    "visits['first_visits_month'] = visits['first_activity_date'].astype('datetime64[M]')\n",
    "#добавим столбец с номером месяца активности\n",
    "visits['session_month'] = visits['session_date'].astype('datetime64[M]')"
   ]
  },
  {
   "cell_type": "code",
   "execution_count": 37,
   "metadata": {},
   "outputs": [
    {
     "name": "stdout",
     "output_type": "stream",
     "text": [
      "    device              end_ts  source_id            start_ts  \\\n",
      "0    touch 2017-12-20 17:38:00          4 2017-12-20 17:20:00   \n",
      "1  desktop 2018-02-19 17:21:00          2 2018-02-19 16:53:00   \n",
      "2    touch 2017-07-01 01:54:00          5 2017-07-01 01:54:00   \n",
      "3  desktop 2018-05-20 11:23:00          9 2018-05-20 10:59:00   \n",
      "4  desktop 2017-12-27 14:06:00          3 2017-12-27 14:06:00   \n",
      "\n",
      "                    uid  session_year session_month  session_week  \\\n",
      "0  16879256277535980062          2017    2017-12-01            51   \n",
      "1    104060357244891740          2018    2018-02-01             8   \n",
      "2   7459035603376831527          2017    2017-07-01            26   \n",
      "3  16174680259334210214          2018    2018-05-01            20   \n",
      "4   9969694820036681168          2017    2017-12-01            52   \n",
      "\n",
      "   session_weekday session_date  session_duration_sec first_activity_date  \\\n",
      "0                2   2017-12-20                  1080 2017-12-20 17:20:00   \n",
      "1                0   2018-02-19                  1680 2018-02-19 16:53:00   \n",
      "2                5   2017-07-01                     0 2017-07-01 01:54:00   \n",
      "3                6   2018-05-20                  1440 2018-03-09 20:05:00   \n",
      "4                2   2017-12-27                     0 2017-12-27 14:06:00   \n",
      "\n",
      "  first_visits_month  \n",
      "0         2017-12-01  \n",
      "1         2018-02-01  \n",
      "2         2017-07-01  \n",
      "3         2018-03-01  \n",
      "4         2017-12-01  \n"
     ]
    }
   ],
   "source": [
    "print(visits.head())"
   ]
  },
  {
   "cell_type": "code",
   "execution_count": 38,
   "metadata": {},
   "outputs": [
    {
     "name": "stdout",
     "output_type": "stream",
     "text": [
      "    device              end_ts  source_id            start_ts  \\\n",
      "0    touch 2017-12-20 17:38:00          4 2017-12-20 17:20:00   \n",
      "1  desktop 2018-02-19 17:21:00          2 2018-02-19 16:53:00   \n",
      "2    touch 2017-07-01 01:54:00          5 2017-07-01 01:54:00   \n",
      "3  desktop 2018-05-20 11:23:00          9 2018-05-20 10:59:00   \n",
      "4  desktop 2017-12-27 14:06:00          3 2017-12-27 14:06:00   \n",
      "\n",
      "                    uid  session_year session_month  session_week  \\\n",
      "0  16879256277535980062          2017    2017-12-01            51   \n",
      "1    104060357244891740          2018    2018-02-01             8   \n",
      "2   7459035603376831527          2017    2017-07-01            26   \n",
      "3  16174680259334210214          2018    2018-05-01            20   \n",
      "4   9969694820036681168          2017    2017-12-01            52   \n",
      "\n",
      "   session_weekday session_date  session_duration_sec first_activity_date  \\\n",
      "0                2   2017-12-20                  1080 2017-12-20 17:20:00   \n",
      "1                0   2018-02-19                  1680 2018-02-19 16:53:00   \n",
      "2                5   2017-07-01                     0 2017-07-01 01:54:00   \n",
      "3                6   2018-05-20                  1440 2018-03-09 20:05:00   \n",
      "4                2   2017-12-27                     0 2017-12-27 14:06:00   \n",
      "\n",
      "  first_visits_month  cohort_lifetime  \n",
      "0         2017-12-01                0  \n",
      "1         2018-02-01                0  \n",
      "2         2017-07-01                0  \n",
      "3         2018-03-01                2  \n",
      "4         2017-12-01                0  \n"
     ]
    }
   ],
   "source": [
    "#рассчитаем лайфтам когорты в месяцах\n",
    "visits['cohort_lifetime'] = (visits['session_month'] - visits['first_visits_month'])\n",
    "visits['cohort_lifetime'] = (visits['cohort_lifetime'] / np.timedelta64(1, 'M')).round().astype('int')\n",
    "\n",
    "print(visits.head())"
   ]
  },
  {
   "cell_type": "code",
   "execution_count": 39,
   "metadata": {},
   "outputs": [
    {
     "name": "stdout",
     "output_type": "stream",
     "text": [
      "  first_visits_month  cohort_lifetime    uid\n",
      "0         2017-06-01                0  13259\n",
      "1         2017-06-01                1   1043\n",
      "2         2017-06-01                2    713\n",
      "3         2017-06-01                3    814\n",
      "4         2017-06-01                4    909\n"
     ]
    }
   ],
   "source": [
    "#Сгруппируем данные по когорте и lifetime. \n",
    "#Посчитаем для каждой когорты количество активных пользователей на определённый «месяц жизни»\n",
    "cohorts = visits.groupby(['first_visits_month','cohort_lifetime']).agg({'uid':'nunique'}).reset_index() \n",
    "print(cohorts.head())"
   ]
  },
  {
   "cell_type": "code",
   "execution_count": 40,
   "metadata": {},
   "outputs": [
    {
     "name": "stdout",
     "output_type": "stream",
     "text": [
      "   first_visits_month    uid\n",
      "0          2017-06-01  13259\n",
      "12         2017-07-01  13140\n",
      "23         2017-08-01  10181\n",
      "33         2017-09-01  16704\n",
      "42         2017-10-01  25977\n",
      "50         2017-11-01  27248\n",
      "57         2017-12-01  25268\n",
      "63         2018-01-01  22624\n",
      "68         2018-02-01  22197\n",
      "72         2018-03-01  20589\n",
      "75         2018-04-01  15709\n",
      "77         2018-05-01  15273\n"
     ]
    }
   ],
   "source": [
    "#Найдём исходное количество пользователей в когорте. \n",
    "#Возьмём их число на нулевой месяц:\n",
    "initial_users_count = cohorts[cohorts['cohort_lifetime'] == 0][['first_visits_month', 'uid']]\n",
    "print(initial_users_count) "
   ]
  },
  {
   "cell_type": "code",
   "execution_count": 41,
   "metadata": {},
   "outputs": [
    {
     "name": "stdout",
     "output_type": "stream",
     "text": [
      "   first_visits_month  cohort_users\n",
      "0          2017-06-01         13259\n",
      "12         2017-07-01         13140\n",
      "23         2017-08-01         10181\n",
      "33         2017-09-01         16704\n",
      "42         2017-10-01         25977\n"
     ]
    }
   ],
   "source": [
    "#переименуем столбец 'uid'\n",
    "initial_users_count = initial_users_count.rename(columns={'uid':'cohort_users'}) \n",
    "print(initial_users_count.head())"
   ]
  },
  {
   "cell_type": "code",
   "execution_count": 42,
   "metadata": {},
   "outputs": [
    {
     "name": "stdout",
     "output_type": "stream",
     "text": [
      "  first_visits_month  cohort_lifetime    uid  cohort_users\n",
      "0         2017-06-01                0  13259         13259\n",
      "1         2017-06-01                1   1043         13259\n",
      "2         2017-06-01                2    713         13259\n",
      "3         2017-06-01                3    814         13259\n",
      "4         2017-06-01                4    909         13259\n"
     ]
    }
   ],
   "source": [
    "#Объединим данные по когортам с исходным количеством пользователей в когорте:\n",
    "cohorts = cohorts.merge(initial_users_count,on='first_visits_month') \n",
    "print(cohorts.head())"
   ]
  },
  {
   "cell_type": "code",
   "execution_count": 43,
   "metadata": {},
   "outputs": [],
   "source": [
    "#рассчитаем retention: \n",
    "cohorts['retention'] = cohorts['uid']/cohorts['cohort_users'] \n",
    "cohorts['first_visits_month'] = cohorts['first_visits_month'].astype('str')"
   ]
  },
  {
   "cell_type": "code",
   "execution_count": 44,
   "metadata": {},
   "outputs": [],
   "source": [
    "#построим сводную таблицу\n",
    "retention_pivot = cohorts.pivot_table(index='first_visits_month', columns='cohort_lifetime', values='retention', aggfunc='sum') "
   ]
  },
  {
   "cell_type": "code",
   "execution_count": 45,
   "metadata": {},
   "outputs": [
    {
     "name": "stdout",
     "output_type": "stream",
     "text": [
      "cohort_lifetime      0         1         2         3         4         5   \\\n",
      "first_visits_month                                                          \n",
      "2017-06-01          1.0  0.078664  0.053775  0.061392  0.068557  0.071423   \n",
      "2017-07-01          1.0  0.056088  0.051294  0.056164  0.058219  0.048174   \n",
      "2017-08-01          1.0  0.076908  0.062862  0.062764  0.050093  0.044004   \n",
      "2017-09-01          1.0  0.085489  0.069205  0.050706  0.039392  0.037835   \n",
      "2017-10-01          1.0  0.078608  0.052239  0.038958  0.034261  0.032221   \n",
      "2017-11-01          1.0  0.078281  0.044113  0.038682  0.033727  0.023415   \n",
      "2017-12-01          1.0  0.055802  0.037993  0.031107  0.020263  0.019036   \n",
      "2018-01-01          1.0  0.059715  0.039339  0.024973  0.020244       NaN   \n",
      "2018-02-01          1.0  0.057080  0.025454  0.020093       NaN       NaN   \n",
      "2018-03-01          1.0  0.041818  0.027053       NaN       NaN       NaN   \n",
      "2018-04-01          1.0  0.048380       NaN       NaN       NaN       NaN   \n",
      "2018-05-01          1.0       NaN       NaN       NaN       NaN       NaN   \n",
      "\n",
      "cohort_lifetime           6         7         8         9         10        11  \n",
      "first_visits_month                                                              \n",
      "2017-06-01          0.061015  0.057772  0.052342  0.050833  0.040652  0.044951  \n",
      "2017-07-01          0.045358  0.045738  0.038813  0.028615  0.027473       NaN  \n",
      "2017-08-01          0.036342  0.039485  0.027895  0.026029       NaN       NaN  \n",
      "2017-09-01          0.035860  0.024186  0.022809       NaN       NaN       NaN  \n",
      "2017-10-01          0.021365  0.020364       NaN       NaN       NaN       NaN  \n",
      "2017-11-01          0.021800       NaN       NaN       NaN       NaN       NaN  \n",
      "2017-12-01               NaN       NaN       NaN       NaN       NaN       NaN  \n",
      "2018-01-01               NaN       NaN       NaN       NaN       NaN       NaN  \n",
      "2018-02-01               NaN       NaN       NaN       NaN       NaN       NaN  \n",
      "2018-03-01               NaN       NaN       NaN       NaN       NaN       NaN  \n",
      "2018-04-01               NaN       NaN       NaN       NaN       NaN       NaN  \n",
      "2018-05-01               NaN       NaN       NaN       NaN       NaN       NaN  \n"
     ]
    }
   ],
   "source": [
    "print(retention_pivot)"
   ]
  },
  {
   "cell_type": "code",
   "execution_count": 46,
   "metadata": {},
   "outputs": [],
   "source": [
    "del retention_pivot[0]"
   ]
  },
  {
   "cell_type": "code",
   "execution_count": 47,
   "metadata": {},
   "outputs": [
    {
     "name": "stdout",
     "output_type": "stream",
     "text": [
      "cohort_lifetime           1         2         3         4         5   \\\n",
      "first_visits_month                                                     \n",
      "2017-06-01          0.078664  0.053775  0.061392  0.068557  0.071423   \n",
      "2017-07-01          0.056088  0.051294  0.056164  0.058219  0.048174   \n",
      "2017-08-01          0.076908  0.062862  0.062764  0.050093  0.044004   \n",
      "2017-09-01          0.085489  0.069205  0.050706  0.039392  0.037835   \n",
      "2017-10-01          0.078608  0.052239  0.038958  0.034261  0.032221   \n",
      "2017-11-01          0.078281  0.044113  0.038682  0.033727  0.023415   \n",
      "2017-12-01          0.055802  0.037993  0.031107  0.020263  0.019036   \n",
      "2018-01-01          0.059715  0.039339  0.024973  0.020244       NaN   \n",
      "2018-02-01          0.057080  0.025454  0.020093       NaN       NaN   \n",
      "2018-03-01          0.041818  0.027053       NaN       NaN       NaN   \n",
      "2018-04-01          0.048380       NaN       NaN       NaN       NaN   \n",
      "2018-05-01               NaN       NaN       NaN       NaN       NaN   \n",
      "\n",
      "cohort_lifetime           6         7         8         9         10        11  \n",
      "first_visits_month                                                              \n",
      "2017-06-01          0.061015  0.057772  0.052342  0.050833  0.040652  0.044951  \n",
      "2017-07-01          0.045358  0.045738  0.038813  0.028615  0.027473       NaN  \n",
      "2017-08-01          0.036342  0.039485  0.027895  0.026029       NaN       NaN  \n",
      "2017-09-01          0.035860  0.024186  0.022809       NaN       NaN       NaN  \n",
      "2017-10-01          0.021365  0.020364       NaN       NaN       NaN       NaN  \n",
      "2017-11-01          0.021800       NaN       NaN       NaN       NaN       NaN  \n",
      "2017-12-01               NaN       NaN       NaN       NaN       NaN       NaN  \n",
      "2018-01-01               NaN       NaN       NaN       NaN       NaN       NaN  \n",
      "2018-02-01               NaN       NaN       NaN       NaN       NaN       NaN  \n",
      "2018-03-01               NaN       NaN       NaN       NaN       NaN       NaN  \n",
      "2018-04-01               NaN       NaN       NaN       NaN       NaN       NaN  \n",
      "2018-05-01               NaN       NaN       NaN       NaN       NaN       NaN  \n"
     ]
    }
   ],
   "source": [
    "print(retention_pivot)"
   ]
  },
  {
   "cell_type": "code",
   "execution_count": 48,
   "metadata": {},
   "outputs": [
    {
     "data": {
      "image/png": "[encoded data removed]",
      "text/plain": [
       "<Figure size 936x648 with 2 Axes>"
      ]
     },
     "metadata": {},
     "output_type": "display_data"
    }
   ],
   "source": [
    "# построим тепловую карту\n",
    "sns.set(style='white')\n",
    "plt.figure(figsize=(13, 9))\n",
    "plt.title('Cohorts: User Retention')\n",
    "sns.heatmap(retention_pivot, annot=True, fmt='.1%', linewidths=1, linecolor='gray'); "
   ]
  },
  {
   "cell_type": "markdown",
   "metadata": {},
   "source": [
    "Коэффициент удержания очень низкий, тенденция к снижению численности с течением времени видна у всех когорт."
   ]
  },
  {
   "cell_type": "code",
   "execution_count": 49,
   "metadata": {},
   "outputs": [],
   "source": [
    "retention_pivot = retention_pivot.reset_index()"
   ]
  },
  {
   "cell_type": "code",
   "execution_count": 50,
   "metadata": {},
   "outputs": [
    {
     "data": {
      "text/html": [
       "<div>\n",
       "<style scoped>\n",
       "    .dataframe tbody tr th:only-of-type {\n",
       "        vertical-align: middle;\n",
       "    }\n",
       "\n",
       "    .dataframe tbody tr th {\n",
       "        vertical-align: top;\n",
       "    }\n",
       "\n",
       "    .dataframe thead th {\n",
       "        text-align: right;\n",
       "    }\n",
       "</style>\n",
       "<table border=\"1\" class=\"dataframe\">\n",
       "  <thead>\n",
       "    <tr style=\"text-align: right;\">\n",
       "      <th>cohort_lifetime</th>\n",
       "      <th>first_visits_month</th>\n",
       "      <th>1</th>\n",
       "      <th>2</th>\n",
       "      <th>3</th>\n",
       "      <th>4</th>\n",
       "      <th>5</th>\n",
       "      <th>6</th>\n",
       "      <th>7</th>\n",
       "      <th>8</th>\n",
       "      <th>9</th>\n",
       "      <th>10</th>\n",
       "      <th>11</th>\n",
       "    </tr>\n",
       "  </thead>\n",
       "  <tbody>\n",
       "    <tr>\n",
       "      <td>0</td>\n",
       "      <td>2017-06-01</td>\n",
       "      <td>0.078664</td>\n",
       "      <td>0.053775</td>\n",
       "      <td>0.061392</td>\n",
       "      <td>0.068557</td>\n",
       "      <td>0.071423</td>\n",
       "      <td>0.061015</td>\n",
       "      <td>0.057772</td>\n",
       "      <td>0.052342</td>\n",
       "      <td>0.050833</td>\n",
       "      <td>0.040652</td>\n",
       "      <td>0.044951</td>\n",
       "    </tr>\n",
       "    <tr>\n",
       "      <td>1</td>\n",
       "      <td>2017-07-01</td>\n",
       "      <td>0.056088</td>\n",
       "      <td>0.051294</td>\n",
       "      <td>0.056164</td>\n",
       "      <td>0.058219</td>\n",
       "      <td>0.048174</td>\n",
       "      <td>0.045358</td>\n",
       "      <td>0.045738</td>\n",
       "      <td>0.038813</td>\n",
       "      <td>0.028615</td>\n",
       "      <td>0.027473</td>\n",
       "      <td>NaN</td>\n",
       "    </tr>\n",
       "    <tr>\n",
       "      <td>2</td>\n",
       "      <td>2017-08-01</td>\n",
       "      <td>0.076908</td>\n",
       "      <td>0.062862</td>\n",
       "      <td>0.062764</td>\n",
       "      <td>0.050093</td>\n",
       "      <td>0.044004</td>\n",
       "      <td>0.036342</td>\n",
       "      <td>0.039485</td>\n",
       "      <td>0.027895</td>\n",
       "      <td>0.026029</td>\n",
       "      <td>NaN</td>\n",
       "      <td>NaN</td>\n",
       "    </tr>\n",
       "    <tr>\n",
       "      <td>3</td>\n",
       "      <td>2017-09-01</td>\n",
       "      <td>0.085489</td>\n",
       "      <td>0.069205</td>\n",
       "      <td>0.050706</td>\n",
       "      <td>0.039392</td>\n",
       "      <td>0.037835</td>\n",
       "      <td>0.035860</td>\n",
       "      <td>0.024186</td>\n",
       "      <td>0.022809</td>\n",
       "      <td>NaN</td>\n",
       "      <td>NaN</td>\n",
       "      <td>NaN</td>\n",
       "    </tr>\n",
       "    <tr>\n",
       "      <td>4</td>\n",
       "      <td>2017-10-01</td>\n",
       "      <td>0.078608</td>\n",
       "      <td>0.052239</td>\n",
       "      <td>0.038958</td>\n",
       "      <td>0.034261</td>\n",
       "      <td>0.032221</td>\n",
       "      <td>0.021365</td>\n",
       "      <td>0.020364</td>\n",
       "      <td>NaN</td>\n",
       "      <td>NaN</td>\n",
       "      <td>NaN</td>\n",
       "      <td>NaN</td>\n",
       "    </tr>\n",
       "    <tr>\n",
       "      <td>5</td>\n",
       "      <td>2017-11-01</td>\n",
       "      <td>0.078281</td>\n",
       "      <td>0.044113</td>\n",
       "      <td>0.038682</td>\n",
       "      <td>0.033727</td>\n",
       "      <td>0.023415</td>\n",
       "      <td>0.021800</td>\n",
       "      <td>NaN</td>\n",
       "      <td>NaN</td>\n",
       "      <td>NaN</td>\n",
       "      <td>NaN</td>\n",
       "      <td>NaN</td>\n",
       "    </tr>\n",
       "    <tr>\n",
       "      <td>6</td>\n",
       "      <td>2017-12-01</td>\n",
       "      <td>0.055802</td>\n",
       "      <td>0.037993</td>\n",
       "      <td>0.031107</td>\n",
       "      <td>0.020263</td>\n",
       "      <td>0.019036</td>\n",
       "      <td>NaN</td>\n",
       "      <td>NaN</td>\n",
       "      <td>NaN</td>\n",
       "      <td>NaN</td>\n",
       "      <td>NaN</td>\n",
       "      <td>NaN</td>\n",
       "    </tr>\n",
       "    <tr>\n",
       "      <td>7</td>\n",
       "      <td>2018-01-01</td>\n",
       "      <td>0.059715</td>\n",
       "      <td>0.039339</td>\n",
       "      <td>0.024973</td>\n",
       "      <td>0.020244</td>\n",
       "      <td>NaN</td>\n",
       "      <td>NaN</td>\n",
       "      <td>NaN</td>\n",
       "      <td>NaN</td>\n",
       "      <td>NaN</td>\n",
       "      <td>NaN</td>\n",
       "      <td>NaN</td>\n",
       "    </tr>\n",
       "    <tr>\n",
       "      <td>8</td>\n",
       "      <td>2018-02-01</td>\n",
       "      <td>0.057080</td>\n",
       "      <td>0.025454</td>\n",
       "      <td>0.020093</td>\n",
       "      <td>NaN</td>\n",
       "      <td>NaN</td>\n",
       "      <td>NaN</td>\n",
       "      <td>NaN</td>\n",
       "      <td>NaN</td>\n",
       "      <td>NaN</td>\n",
       "      <td>NaN</td>\n",
       "      <td>NaN</td>\n",
       "    </tr>\n",
       "    <tr>\n",
       "      <td>9</td>\n",
       "      <td>2018-03-01</td>\n",
       "      <td>0.041818</td>\n",
       "      <td>0.027053</td>\n",
       "      <td>NaN</td>\n",
       "      <td>NaN</td>\n",
       "      <td>NaN</td>\n",
       "      <td>NaN</td>\n",
       "      <td>NaN</td>\n",
       "      <td>NaN</td>\n",
       "      <td>NaN</td>\n",
       "      <td>NaN</td>\n",
       "      <td>NaN</td>\n",
       "    </tr>\n",
       "    <tr>\n",
       "      <td>10</td>\n",
       "      <td>2018-04-01</td>\n",
       "      <td>0.048380</td>\n",
       "      <td>NaN</td>\n",
       "      <td>NaN</td>\n",
       "      <td>NaN</td>\n",
       "      <td>NaN</td>\n",
       "      <td>NaN</td>\n",
       "      <td>NaN</td>\n",
       "      <td>NaN</td>\n",
       "      <td>NaN</td>\n",
       "      <td>NaN</td>\n",
       "      <td>NaN</td>\n",
       "    </tr>\n",
       "    <tr>\n",
       "      <td>11</td>\n",
       "      <td>2018-05-01</td>\n",
       "      <td>NaN</td>\n",
       "      <td>NaN</td>\n",
       "      <td>NaN</td>\n",
       "      <td>NaN</td>\n",
       "      <td>NaN</td>\n",
       "      <td>NaN</td>\n",
       "      <td>NaN</td>\n",
       "      <td>NaN</td>\n",
       "      <td>NaN</td>\n",
       "      <td>NaN</td>\n",
       "      <td>NaN</td>\n",
       "    </tr>\n",
       "  </tbody>\n",
       "</table>\n",
       "</div>"
      ],
      "text/plain": [
       "cohort_lifetime first_visits_month         1         2         3         4  \\\n",
       "0                       2017-06-01  0.078664  0.053775  0.061392  0.068557   \n",
       "1                       2017-07-01  0.056088  0.051294  0.056164  0.058219   \n",
       "2                       2017-08-01  0.076908  0.062862  0.062764  0.050093   \n",
       "3                       2017-09-01  0.085489  0.069205  0.050706  0.039392   \n",
       "4                       2017-10-01  0.078608  0.052239  0.038958  0.034261   \n",
       "5                       2017-11-01  0.078281  0.044113  0.038682  0.033727   \n",
       "6                       2017-12-01  0.055802  0.037993  0.031107  0.020263   \n",
       "7                       2018-01-01  0.059715  0.039339  0.024973  0.020244   \n",
       "8                       2018-02-01  0.057080  0.025454  0.020093       NaN   \n",
       "9                       2018-03-01  0.041818  0.027053       NaN       NaN   \n",
       "10                      2018-04-01  0.048380       NaN       NaN       NaN   \n",
       "11                      2018-05-01       NaN       NaN       NaN       NaN   \n",
       "\n",
       "cohort_lifetime         5         6         7         8         9        10  \\\n",
       "0                0.071423  0.061015  0.057772  0.052342  0.050833  0.040652   \n",
       "1                0.048174  0.045358  0.045738  0.038813  0.028615  0.027473   \n",
       "2                0.044004  0.036342  0.039485  0.027895  0.026029       NaN   \n",
       "3                0.037835  0.035860  0.024186  0.022809       NaN       NaN   \n",
       "4                0.032221  0.021365  0.020364       NaN       NaN       NaN   \n",
       "5                0.023415  0.021800       NaN       NaN       NaN       NaN   \n",
       "6                0.019036       NaN       NaN       NaN       NaN       NaN   \n",
       "7                     NaN       NaN       NaN       NaN       NaN       NaN   \n",
       "8                     NaN       NaN       NaN       NaN       NaN       NaN   \n",
       "9                     NaN       NaN       NaN       NaN       NaN       NaN   \n",
       "10                    NaN       NaN       NaN       NaN       NaN       NaN   \n",
       "11                    NaN       NaN       NaN       NaN       NaN       NaN   \n",
       "\n",
       "cohort_lifetime        11  \n",
       "0                0.044951  \n",
       "1                     NaN  \n",
       "2                     NaN  \n",
       "3                     NaN  \n",
       "4                     NaN  \n",
       "5                     NaN  \n",
       "6                     NaN  \n",
       "7                     NaN  \n",
       "8                     NaN  \n",
       "9                     NaN  \n",
       "10                    NaN  \n",
       "11                    NaN  "
      ]
     },
     "execution_count": 50,
     "metadata": {},
     "output_type": "execute_result"
    }
   ],
   "source": [
    "retention_pivot"
   ]
  },
  {
   "cell_type": "code",
   "execution_count": 51,
   "metadata": {},
   "outputs": [
    {
     "name": "stdout",
     "output_type": "stream",
     "text": [
      "Cредний Retention Rate на 2 месяц жизни когорт: 4.63 %\n"
     ]
    }
   ],
   "source": [
    "#расчет среднего Retention Rate на 2 месяц жизни когорт:\n",
    "r = (retention_pivot.loc[:, 2].mean() * 100).round(2)\n",
    "print('Cредний Retention Rate на 2 месяц жизни когорт:', r, '%')"
   ]
  },
  {
   "cell_type": "markdown",
   "metadata": {},
   "source": [
    "### Расчет метрик электронной коммерции"
   ]
  },
  {
   "cell_type": "markdown",
   "metadata": {},
   "source": [
    "#### Исследование среднего времени с момента первого посещения сайта до совершения покупки. "
   ]
  },
  {
   "cell_type": "code",
   "execution_count": 52,
   "metadata": {},
   "outputs": [
    {
     "data": {
      "text/html": [
       "<div>\n",
       "<style scoped>\n",
       "    .dataframe tbody tr th:only-of-type {\n",
       "        vertical-align: middle;\n",
       "    }\n",
       "\n",
       "    .dataframe tbody tr th {\n",
       "        vertical-align: top;\n",
       "    }\n",
       "\n",
       "    .dataframe thead th {\n",
       "        text-align: right;\n",
       "    }\n",
       "</style>\n",
       "<table border=\"1\" class=\"dataframe\">\n",
       "  <thead>\n",
       "    <tr style=\"text-align: right;\">\n",
       "      <th></th>\n",
       "      <th>device</th>\n",
       "      <th>end_ts</th>\n",
       "      <th>source_id</th>\n",
       "      <th>start_ts</th>\n",
       "      <th>uid</th>\n",
       "      <th>session_year</th>\n",
       "      <th>session_month</th>\n",
       "      <th>session_week</th>\n",
       "      <th>session_weekday</th>\n",
       "      <th>session_date</th>\n",
       "      <th>session_duration_sec</th>\n",
       "      <th>first_activity_date</th>\n",
       "      <th>first_visits_month</th>\n",
       "      <th>cohort_lifetime</th>\n",
       "    </tr>\n",
       "  </thead>\n",
       "  <tbody>\n",
       "    <tr>\n",
       "      <td>0</td>\n",
       "      <td>touch</td>\n",
       "      <td>2017-12-20 17:38:00</td>\n",
       "      <td>4</td>\n",
       "      <td>2017-12-20 17:20:00</td>\n",
       "      <td>16879256277535980062</td>\n",
       "      <td>2017</td>\n",
       "      <td>2017-12-01</td>\n",
       "      <td>51</td>\n",
       "      <td>2</td>\n",
       "      <td>2017-12-20</td>\n",
       "      <td>1080</td>\n",
       "      <td>2017-12-20 17:20:00</td>\n",
       "      <td>2017-12-01</td>\n",
       "      <td>0</td>\n",
       "    </tr>\n",
       "    <tr>\n",
       "      <td>1</td>\n",
       "      <td>desktop</td>\n",
       "      <td>2018-02-19 17:21:00</td>\n",
       "      <td>2</td>\n",
       "      <td>2018-02-19 16:53:00</td>\n",
       "      <td>104060357244891740</td>\n",
       "      <td>2018</td>\n",
       "      <td>2018-02-01</td>\n",
       "      <td>8</td>\n",
       "      <td>0</td>\n",
       "      <td>2018-02-19</td>\n",
       "      <td>1680</td>\n",
       "      <td>2018-02-19 16:53:00</td>\n",
       "      <td>2018-02-01</td>\n",
       "      <td>0</td>\n",
       "    </tr>\n",
       "    <tr>\n",
       "      <td>2</td>\n",
       "      <td>touch</td>\n",
       "      <td>2017-07-01 01:54:00</td>\n",
       "      <td>5</td>\n",
       "      <td>2017-07-01 01:54:00</td>\n",
       "      <td>7459035603376831527</td>\n",
       "      <td>2017</td>\n",
       "      <td>2017-07-01</td>\n",
       "      <td>26</td>\n",
       "      <td>5</td>\n",
       "      <td>2017-07-01</td>\n",
       "      <td>0</td>\n",
       "      <td>2017-07-01 01:54:00</td>\n",
       "      <td>2017-07-01</td>\n",
       "      <td>0</td>\n",
       "    </tr>\n",
       "    <tr>\n",
       "      <td>3</td>\n",
       "      <td>desktop</td>\n",
       "      <td>2018-05-20 11:23:00</td>\n",
       "      <td>9</td>\n",
       "      <td>2018-05-20 10:59:00</td>\n",
       "      <td>16174680259334210214</td>\n",
       "      <td>2018</td>\n",
       "      <td>2018-05-01</td>\n",
       "      <td>20</td>\n",
       "      <td>6</td>\n",
       "      <td>2018-05-20</td>\n",
       "      <td>1440</td>\n",
       "      <td>2018-03-09 20:05:00</td>\n",
       "      <td>2018-03-01</td>\n",
       "      <td>2</td>\n",
       "    </tr>\n",
       "    <tr>\n",
       "      <td>4</td>\n",
       "      <td>desktop</td>\n",
       "      <td>2017-12-27 14:06:00</td>\n",
       "      <td>3</td>\n",
       "      <td>2017-12-27 14:06:00</td>\n",
       "      <td>9969694820036681168</td>\n",
       "      <td>2017</td>\n",
       "      <td>2017-12-01</td>\n",
       "      <td>52</td>\n",
       "      <td>2</td>\n",
       "      <td>2017-12-27</td>\n",
       "      <td>0</td>\n",
       "      <td>2017-12-27 14:06:00</td>\n",
       "      <td>2017-12-01</td>\n",
       "      <td>0</td>\n",
       "    </tr>\n",
       "  </tbody>\n",
       "</table>\n",
       "</div>"
      ],
      "text/plain": [
       "    device              end_ts  source_id            start_ts  \\\n",
       "0    touch 2017-12-20 17:38:00          4 2017-12-20 17:20:00   \n",
       "1  desktop 2018-02-19 17:21:00          2 2018-02-19 16:53:00   \n",
       "2    touch 2017-07-01 01:54:00          5 2017-07-01 01:54:00   \n",
       "3  desktop 2018-05-20 11:23:00          9 2018-05-20 10:59:00   \n",
       "4  desktop 2017-12-27 14:06:00          3 2017-12-27 14:06:00   \n",
       "\n",
       "                    uid  session_year session_month  session_week  \\\n",
       "0  16879256277535980062          2017    2017-12-01            51   \n",
       "1    104060357244891740          2018    2018-02-01             8   \n",
       "2   7459035603376831527          2017    2017-07-01            26   \n",
       "3  16174680259334210214          2018    2018-05-01            20   \n",
       "4   9969694820036681168          2017    2017-12-01            52   \n",
       "\n",
       "   session_weekday session_date  session_duration_sec first_activity_date  \\\n",
       "0                2   2017-12-20                  1080 2017-12-20 17:20:00   \n",
       "1                0   2018-02-19                  1680 2018-02-19 16:53:00   \n",
       "2                5   2017-07-01                     0 2017-07-01 01:54:00   \n",
       "3                6   2018-05-20                  1440 2018-03-09 20:05:00   \n",
       "4                2   2017-12-27                     0 2017-12-27 14:06:00   \n",
       "\n",
       "  first_visits_month  cohort_lifetime  \n",
       "0         2017-12-01                0  \n",
       "1         2018-02-01                0  \n",
       "2         2017-07-01                0  \n",
       "3         2018-03-01                2  \n",
       "4         2017-12-01                0  "
      ]
     },
     "metadata": {},
     "output_type": "display_data"
    }
   ],
   "source": [
    "display(visits.head())"
   ]
  },
  {
   "cell_type": "code",
   "execution_count": 53,
   "metadata": {},
   "outputs": [
    {
     "name": "stdout",
     "output_type": "stream",
     "text": [
      "               uid        first_visits\n",
      "0   11863502262781 2018-03-01 17:27:00\n",
      "1   49537067089222 2018-02-06 15:55:00\n",
      "2  297729379853735 2017-06-07 18:47:00\n",
      "3  313578113262317 2017-09-18 22:49:00\n",
      "4  325320750514679 2017-09-30 14:29:00\n"
     ]
    }
   ],
   "source": [
    "#сгруппируем данные из датафрейма visits по уникальному номеру пользователя, выделим первое посещение сайта\n",
    "first_visits = visits.groupby('uid').agg({'start_ts': 'min'}).reset_index()\n",
    "first_visits.columns = ['uid', 'first_visits']\n",
    "print(first_visits.head()) "
   ]
  },
  {
   "cell_type": "code",
   "execution_count": 54,
   "metadata": {},
   "outputs": [],
   "source": [
    "#присоединим таблицу orders к first_visits по столбцу uid\n",
    "first_visits = first_visits.merge(orders, on = 'uid')"
   ]
  },
  {
   "cell_type": "code",
   "execution_count": 55,
   "metadata": {},
   "outputs": [
    {
     "name": "stdout",
     "output_type": "stream",
     "text": [
      "                uid        first_visits              buy_ts  revenue\n",
      "0   313578113262317 2017-09-18 22:49:00 2018-01-03 21:51:00     0.55\n",
      "1  1575281904278712 2017-06-03 10:13:00 2017-06-03 10:13:00     1.22\n",
      "2  1575281904278712 2017-06-03 10:13:00 2017-06-03 17:39:00     1.83\n",
      "3  2429014661409475 2017-10-11 17:14:00 2017-10-11 18:33:00    73.33\n",
      "4  2464366381792757 2018-01-27 20:10:00 2018-01-28 15:54:00     2.44\n"
     ]
    }
   ],
   "source": [
    "print(first_visits.head())"
   ]
  },
  {
   "cell_type": "code",
   "execution_count": 56,
   "metadata": {},
   "outputs": [],
   "source": [
    "#рассчитаем время от первого посещения сайта до совершения покупки\n",
    "first_visits['order_time'] = (first_visits['buy_ts'] - first_visits['first_visits']).dt.seconds"
   ]
  },
  {
   "cell_type": "code",
   "execution_count": 57,
   "metadata": {},
   "outputs": [
    {
     "name": "stdout",
     "output_type": "stream",
     "text": [
      "                uid        first_visits              buy_ts  revenue  \\\n",
      "0   313578113262317 2017-09-18 22:49:00 2018-01-03 21:51:00     0.55   \n",
      "1  1575281904278712 2017-06-03 10:13:00 2017-06-03 10:13:00     1.22   \n",
      "2  1575281904278712 2017-06-03 10:13:00 2017-06-03 17:39:00     1.83   \n",
      "3  2429014661409475 2017-10-11 17:14:00 2017-10-11 18:33:00    73.33   \n",
      "4  2464366381792757 2018-01-27 20:10:00 2018-01-28 15:54:00     2.44   \n",
      "\n",
      "   order_time  \n",
      "0       82920  \n",
      "1           0  \n",
      "2       26760  \n",
      "3        4740  \n",
      "4       71040  \n"
     ]
    }
   ],
   "source": [
    "print(first_visits.head())"
   ]
  },
  {
   "cell_type": "code",
   "execution_count": 58,
   "metadata": {},
   "outputs": [
    {
     "name": "stdout",
     "output_type": "stream",
     "text": [
      "<class 'pandas.core.frame.DataFrame'>\n",
      "Int64Index: 50415 entries, 0 to 50414\n",
      "Data columns (total 5 columns):\n",
      "uid             50415 non-null uint64\n",
      "first_visits    50415 non-null datetime64[ns]\n",
      "buy_ts          50415 non-null datetime64[ns]\n",
      "revenue         50415 non-null float64\n",
      "order_time      50415 non-null int64\n",
      "dtypes: datetime64[ns](2), float64(1), int64(1), uint64(1)\n",
      "memory usage: 2.3 MB\n"
     ]
    }
   ],
   "source": [
    "first_visits.info()"
   ]
  },
  {
   "cell_type": "code",
   "execution_count": 59,
   "metadata": {},
   "outputs": [
    {
     "data": {
      "text/plain": [
       "count    50415.000000\n",
       "mean     21482.556382\n",
       "std      29056.969172\n",
       "min          0.000000\n",
       "25%        360.000000\n",
       "50%       3840.000000\n",
       "75%      39000.000000\n",
       "max      86340.000000\n",
       "Name: order_time, dtype: float64"
      ]
     },
     "execution_count": 59,
     "metadata": {},
     "output_type": "execute_result"
    }
   ],
   "source": [
    "first_visits['order_time'].describe()"
   ]
  },
  {
   "cell_type": "code",
   "execution_count": 60,
   "metadata": {},
   "outputs": [
    {
     "name": "stdout",
     "output_type": "stream",
     "text": [
      "Строк с нулевым значением order_time =  2486\n"
     ]
    }
   ],
   "source": [
    "#посчитаю сколько строк, где order_time равен 0\n",
    "print('Строк с нулевым значением order_time = ', first_visits.query('order_time == 0')['order_time'].count())"
   ]
  },
  {
   "cell_type": "markdown",
   "metadata": {},
   "source": [
    "Т.к. всего в датафрейме 50415, для более корректного рассчета исключу стоки с order_time = 0"
   ]
  },
  {
   "cell_type": "code",
   "execution_count": 61,
   "metadata": {},
   "outputs": [
    {
     "data": {
      "text/plain": [
       "count    47929.000000\n",
       "mean     22596.821966\n",
       "std      29375.531522\n",
       "min         60.000000\n",
       "25%        480.000000\n",
       "50%       5160.000000\n",
       "75%      42960.000000\n",
       "max      86340.000000\n",
       "Name: order_time, dtype: float64"
      ]
     },
     "execution_count": 61,
     "metadata": {},
     "output_type": "execute_result"
    }
   ],
   "source": [
    "first_visits.query('order_time > 0')['order_time'].describe()"
   ]
  },
  {
   "cell_type": "markdown",
   "metadata": {},
   "source": [
    "Минимальное время, которое проходит с момента первохо входа на сайт до офомления заказа = 60 секунд."
   ]
  },
  {
   "cell_type": "code",
   "execution_count": 62,
   "metadata": {
    "scrolled": true
   },
   "outputs": [
    {
     "data": {
      "image/png": "[encoded data removed]",
      "text/plain": [
       "<Figure size 1080x360 with 1 Axes>"
      ]
     },
     "metadata": {},
     "output_type": "display_data"
    }
   ],
   "source": [
    "#посмотрим распределение на гистограмме\n",
    "first_visits.query('order_time > 0')['order_time'].hist(bins = 20, figsize = (15, 5), grid = True)\n",
    "plt.title('Гистограмма распределения времени от первого захода на сайт до покупки')\n",
    "plt.ylabel('Продолжительность');"
   ]
  },
  {
   "cell_type": "markdown",
   "metadata": {},
   "source": [
    "Т.к. распределение не похоже на нормальное, необходимо истользовать моду."
   ]
  },
  {
   "cell_type": "code",
   "execution_count": 63,
   "metadata": {},
   "outputs": [
    {
     "name": "stdout",
     "output_type": "stream",
     "text": [
      "Мода интервала времени с момента первого посещения сайта до совершения покупки (сек): 0    60\n",
      "dtype: int64\n"
     ]
    }
   ],
   "source": [
    "print('Мода интервала времени с момента первого посещения сайта до совершения покупки (сек):', \n",
    "    first_visits.query('order_time > 0')['order_time'].mode())"
   ]
  },
  {
   "cell_type": "code",
   "execution_count": 64,
   "metadata": {},
   "outputs": [
    {
     "name": "stdout",
     "output_type": "stream",
     "text": [
      "Кол-во значений, равных 60 сек: 2687\n"
     ]
    }
   ],
   "source": [
    "print('Кол-во значений, равных 60 сек:', \n",
    "    first_visits.query('order_time == 60')['order_time'].count())"
   ]
  },
  {
   "cell_type": "code",
   "execution_count": 65,
   "metadata": {},
   "outputs": [
    {
     "name": "stdout",
     "output_type": "stream",
     "text": [
      "Кол-во строк 47929\n"
     ]
    }
   ],
   "source": [
    "print('Кол-во строк', len(first_visits.query('order_time > 0')))"
   ]
  },
  {
   "cell_type": "markdown",
   "metadata": {},
   "source": [
    "#### Рассчитайте среднее количество покупок на одного покупателя"
   ]
  },
  {
   "cell_type": "code",
   "execution_count": 66,
   "metadata": {},
   "outputs": [],
   "source": [
    "#рассчитаю таким образом:\n",
    "#найду кол-во покупателей \n",
    "#найду кол-во уникальных покупателей\n",
    "#разделю первый параметр на второй"
   ]
  },
  {
   "cell_type": "code",
   "execution_count": 67,
   "metadata": {
    "scrolled": true
   },
   "outputs": [
    {
     "name": "stdout",
     "output_type": "stream",
     "text": [
      "               buy_ts  revenue                   uid\n",
      "0 2017-06-01 00:10:00    17.00  10329302124590727494\n",
      "1 2017-06-01 00:25:00     0.55  11627257723692907447\n",
      "2 2017-06-01 00:27:00     0.37  17903680561304213844\n",
      "3 2017-06-01 00:29:00     0.55  16109239769442553005\n",
      "4 2017-06-01 07:58:00     0.37  14200605875248379450\n"
     ]
    }
   ],
   "source": [
    "print(orders.head())"
   ]
  },
  {
   "cell_type": "code",
   "execution_count": 68,
   "metadata": {},
   "outputs": [
    {
     "name": "stdout",
     "output_type": "stream",
     "text": [
      "Кол-во покупок на одного пользователя: 1.38\n"
     ]
    }
   ],
   "source": [
    "bayers = orders['uid'].count()\n",
    "bayers_unique = orders['uid'].nunique()\n",
    "count_orders = bayers / bayers_unique\n",
    "print('Кол-во покупок на одного пользователя: {:.2f}'.format(count_orders))"
   ]
  },
  {
   "cell_type": "markdown",
   "metadata": {},
   "source": [
    "#### Рассчет среднего чека в зависимости от месяца совершения покупки."
   ]
  },
  {
   "cell_type": "code",
   "execution_count": 69,
   "metadata": {},
   "outputs": [
    {
     "data": {
      "text/html": [
       "<div>\n",
       "<style scoped>\n",
       "    .dataframe tbody tr th:only-of-type {\n",
       "        vertical-align: middle;\n",
       "    }\n",
       "\n",
       "    .dataframe tbody tr th {\n",
       "        vertical-align: top;\n",
       "    }\n",
       "\n",
       "    .dataframe thead th {\n",
       "        text-align: right;\n",
       "    }\n",
       "</style>\n",
       "<table border=\"1\" class=\"dataframe\">\n",
       "  <thead>\n",
       "    <tr style=\"text-align: right;\">\n",
       "      <th></th>\n",
       "      <th>buy_ts</th>\n",
       "      <th>revenue</th>\n",
       "      <th>uid</th>\n",
       "    </tr>\n",
       "  </thead>\n",
       "  <tbody>\n",
       "    <tr>\n",
       "      <td>0</td>\n",
       "      <td>2017-06-01 00:10:00</td>\n",
       "      <td>17.00</td>\n",
       "      <td>10329302124590727494</td>\n",
       "    </tr>\n",
       "    <tr>\n",
       "      <td>1</td>\n",
       "      <td>2017-06-01 00:25:00</td>\n",
       "      <td>0.55</td>\n",
       "      <td>11627257723692907447</td>\n",
       "    </tr>\n",
       "    <tr>\n",
       "      <td>2</td>\n",
       "      <td>2017-06-01 00:27:00</td>\n",
       "      <td>0.37</td>\n",
       "      <td>17903680561304213844</td>\n",
       "    </tr>\n",
       "    <tr>\n",
       "      <td>3</td>\n",
       "      <td>2017-06-01 00:29:00</td>\n",
       "      <td>0.55</td>\n",
       "      <td>16109239769442553005</td>\n",
       "    </tr>\n",
       "    <tr>\n",
       "      <td>4</td>\n",
       "      <td>2017-06-01 07:58:00</td>\n",
       "      <td>0.37</td>\n",
       "      <td>14200605875248379450</td>\n",
       "    </tr>\n",
       "  </tbody>\n",
       "</table>\n",
       "</div>"
      ],
      "text/plain": [
       "               buy_ts  revenue                   uid\n",
       "0 2017-06-01 00:10:00    17.00  10329302124590727494\n",
       "1 2017-06-01 00:25:00     0.55  11627257723692907447\n",
       "2 2017-06-01 00:27:00     0.37  17903680561304213844\n",
       "3 2017-06-01 00:29:00     0.55  16109239769442553005\n",
       "4 2017-06-01 07:58:00     0.37  14200605875248379450"
      ]
     },
     "metadata": {},
     "output_type": "display_data"
    }
   ],
   "source": [
    "display(orders.head())\n",
    "orders['order_month'] = orders['buy_ts'].astype('datetime64[M]')"
   ]
  },
  {
   "cell_type": "code",
   "execution_count": 70,
   "metadata": {},
   "outputs": [],
   "source": [
    "mean_receipt = orders.groupby(['order_month'])['revenue'].mean().reset_index()"
   ]
  },
  {
   "cell_type": "code",
   "execution_count": 71,
   "metadata": {},
   "outputs": [
    {
     "name": "stdout",
     "output_type": "stream",
     "text": [
      "   order_month   revenue\n",
      "0   2017-06-01  4.060106\n",
      "1   2017-07-01  5.306589\n",
      "2   2017-08-01  4.847139\n",
      "3   2017-09-01  5.416448\n",
      "4   2017-10-01  4.928280\n",
      "5   2017-11-01  4.783518\n",
      "6   2017-12-01  5.852139\n",
      "7   2018-01-01  4.112927\n",
      "8   2018-02-01  4.840095\n",
      "9   2018-03-01  5.413930\n",
      "10  2018-04-01  5.150645\n",
      "11  2018-05-01  4.771279\n",
      "12  2018-06-01  3.420000\n"
     ]
    }
   ],
   "source": [
    "print(mean_receipt)\n",
    "mean_receipt['order_month'] = mean_receipt['order_month'].astype('str')"
   ]
  },
  {
   "cell_type": "code",
   "execution_count": 72,
   "metadata": {},
   "outputs": [
    {
     "data": {
      "image/png": "[encoded data removed]",
      "text/plain": [
       "<Figure size 1080x360 with 1 Axes>"
      ]
     },
     "metadata": {},
     "output_type": "display_data"
    }
   ],
   "source": [
    "mean_receipt.sort_values(by = 'revenue', ascending = False).plot(kind = 'bar', x = 'order_month', y = 'revenue', figsize = (15, 5), grid = True)\n",
    "plt.title('Зависимость среднего чека от времени (по убыванию величины чека)')\n",
    "plt.ylabel('Величина среднего чека')\n",
    "plt.xlabel('месяц');"
   ]
  },
  {
   "cell_type": "code",
   "execution_count": 73,
   "metadata": {},
   "outputs": [
    {
     "data": {
      "image/png": "[encoded data removed]",
      "text/plain": [
       "<Figure size 1080x360 with 1 Axes>"
      ]
     },
     "metadata": {},
     "output_type": "display_data"
    }
   ],
   "source": [
    "mean_receipt.plot(kind = 'bar', x = 'order_month', y = 'revenue', figsize = (15, 5), grid = True)\n",
    "plt.title('Зависимость среднего чека месяца')\n",
    "plt.ylabel('Средний чек')\n",
    "plt.xlabel('месяц');"
   ]
  },
  {
   "cell_type": "markdown",
   "metadata": {},
   "source": [
    "Из графика видно, что самые маленькие средние чеки приходятся на июнь (4.06 у.е) , а самый большой - на декабрь 2017 (5.85 у.е.)."
   ]
  },
  {
   "cell_type": "markdown",
   "metadata": {},
   "source": [
    "#### Рассчет изменения LTV на покупателя по когортам при маржинальности = 100%."
   ]
  },
  {
   "cell_type": "code",
   "execution_count": 74,
   "metadata": {},
   "outputs": [
    {
     "name": "stdout",
     "output_type": "stream",
     "text": [
      "               buy_ts  revenue                   uid order_month\n",
      "0 2017-06-01 00:10:00    17.00  10329302124590727494  2017-06-01\n",
      "1 2017-06-01 00:25:00     0.55  11627257723692907447  2017-06-01\n",
      "2 2017-06-01 00:27:00     0.37  17903680561304213844  2017-06-01\n",
      "3 2017-06-01 00:29:00     0.55  16109239769442553005  2017-06-01\n",
      "4 2017-06-01 07:58:00     0.37  14200605875248379450  2017-06-01\n"
     ]
    }
   ],
   "source": [
    "print(orders.head())"
   ]
  },
  {
   "cell_type": "code",
   "execution_count": 75,
   "metadata": {},
   "outputs": [
    {
     "name": "stdout",
     "output_type": "stream",
     "text": [
      "   source_id         dt  costs      month\n",
      "0          1 2017-06-01  75.20 2017-06-01\n",
      "1          1 2017-06-02  62.25 2017-06-01\n",
      "2          1 2017-06-03  36.53 2017-06-01\n",
      "3          1 2017-06-04  55.00 2017-06-01\n",
      "4          1 2017-06-05  57.08 2017-06-01\n"
     ]
    }
   ],
   "source": [
    "#в таблицу расходов добавим столбец month\n",
    "costs['month'] = costs['dt'].astype('datetime64[M]') \n",
    "print(costs.head())"
   ]
  },
  {
   "cell_type": "code",
   "execution_count": 76,
   "metadata": {},
   "outputs": [
    {
     "name": "stdout",
     "output_type": "stream",
     "text": [
      "                uid first_order_month\n",
      "0   313578113262317        2018-01-01\n",
      "1  1575281904278712        2017-06-01\n",
      "2  2429014661409475        2017-10-01\n",
      "3  2464366381792757        2018-01-01\n",
      "4  2551852515556206        2017-11-01\n"
     ]
    }
   ],
   "source": [
    "#Получим месяц первой покупки каждого покупателя\n",
    "first_orders = orders.groupby('uid').agg({'order_month': 'min'}).reset_index()\n",
    "first_orders.columns = ['uid', 'first_order_month']\n",
    "print(first_orders.head()) \n"
   ]
  },
  {
   "cell_type": "code",
   "execution_count": 77,
   "metadata": {},
   "outputs": [
    {
     "name": "stdout",
     "output_type": "stream",
     "text": [
      "  first_order_month  n_buyers\n",
      "0        2017-06-01      2023\n",
      "1        2017-07-01      1923\n",
      "2        2017-08-01      1370\n",
      "3        2017-09-01      2581\n",
      "4        2017-10-01      4340\n"
     ]
    }
   ],
   "source": [
    "#Посчитаем количество новых покупателей (n_buyers) за каждый месяц\n",
    "cohort_sizes = (first_orders.groupby('first_order_month').agg(\n",
    "    {'uid': 'nunique'}).reset_index()\n",
    ")\n",
    "cohort_sizes.columns = ['first_order_month', 'n_buyers']\n",
    "print(cohort_sizes.head()) \n",
    "\n"
   ]
  },
  {
   "cell_type": "code",
   "execution_count": 78,
   "metadata": {},
   "outputs": [
    {
     "name": "stdout",
     "output_type": "stream",
     "text": [
      "               buy_ts  revenue                   uid order_month  \\\n",
      "0 2017-06-01 00:10:00    17.00  10329302124590727494  2017-06-01   \n",
      "1 2017-06-01 00:25:00     0.55  11627257723692907447  2017-06-01   \n",
      "2 2017-06-01 00:27:00     0.37  17903680561304213844  2017-06-01   \n",
      "3 2017-06-01 00:29:00     0.55  16109239769442553005  2017-06-01   \n",
      "4 2017-06-01 07:58:00     0.37  14200605875248379450  2017-06-01   \n",
      "\n",
      "  first_order_month  \n",
      "0        2017-06-01  \n",
      "1        2017-06-01  \n",
      "2        2017-06-01  \n",
      "3        2017-06-01  \n",
      "4        2017-06-01  \n"
     ]
    }
   ],
   "source": [
    "#Построим когорты.\n",
    "#Добавим месяц первой покупки каждого покупателя в таблицу с заказами\n",
    "orders_new = pd.merge(orders,first_orders, on='uid')\n",
    "print(orders_new.head()) \n"
   ]
  },
  {
   "cell_type": "code",
   "execution_count": 79,
   "metadata": {},
   "outputs": [
    {
     "name": "stdout",
     "output_type": "stream",
     "text": [
      "  first_order_month order_month  revenue\n",
      "0        2017-06-01  2017-06-01  9557.49\n",
      "1        2017-06-01  2017-07-01   981.82\n",
      "2        2017-06-01  2017-08-01   885.34\n",
      "3        2017-06-01  2017-09-01  1931.30\n",
      "4        2017-06-01  2017-10-01  2068.58\n"
     ]
    }
   ],
   "source": [
    "# Сгруппируем таблицу заказов по месяцу первой покупки и месяцу каждого заказа.\n",
    "#добавим столбец общей выручки revenue\n",
    "cohorts = orders_new.groupby(['first_order_month', 'order_month']).agg(\n",
    "    {'revenue': 'sum'}).reset_index()\n",
    "\n",
    "print(cohorts.head())"
   ]
  },
  {
   "cell_type": "markdown",
   "metadata": {},
   "source": [
    "Строка таблицы cohorts показывает, какую выручку принесла когорта."
   ]
  },
  {
   "cell_type": "code",
   "execution_count": 80,
   "metadata": {},
   "outputs": [
    {
     "name": "stdout",
     "output_type": "stream",
     "text": [
      "   first_order_month  n_buyers\n",
      "0         2017-06-01      2023\n",
      "1         2017-07-01      1923\n",
      "2         2017-08-01      1370\n",
      "3         2017-09-01      2581\n",
      "4         2017-10-01      4340\n",
      "5         2017-11-01      4081\n",
      "6         2017-12-01      4383\n",
      "7         2018-01-01      3373\n",
      "8         2018-02-01      3651\n",
      "9         2018-03-01      3533\n",
      "10        2018-04-01      2276\n",
      "11        2018-05-01      2988\n",
      "12        2018-06-01         1\n"
     ]
    }
   ],
   "source": [
    "print(cohort_sizes)"
   ]
  },
  {
   "cell_type": "code",
   "execution_count": 81,
   "metadata": {},
   "outputs": [
    {
     "name": "stdout",
     "output_type": "stream",
     "text": [
      "  first_order_month  n_buyers order_month  revenue\n",
      "0        2017-06-01      2023  2017-06-01  9557.49\n",
      "1        2017-06-01      2023  2017-07-01   981.82\n",
      "2        2017-06-01      2023  2017-08-01   885.34\n",
      "3        2017-06-01      2023  2017-09-01  1931.30\n",
      "4        2017-06-01      2023  2017-10-01  2068.58\n"
     ]
    }
   ],
   "source": [
    "#LTV — накопительная выручка когорты в пересчёте на количество людей. \n",
    "#Добавим в таблицу cohorts данные о том, сколько людей первый раз совершили покупку в каждый месяц\n",
    "\n",
    "report = pd.merge(cohort_sizes, cohorts, on='first_order_month')\n",
    "print(report.head()) \n"
   ]
  },
  {
   "cell_type": "code",
   "execution_count": 82,
   "metadata": {},
   "outputs": [
    {
     "name": "stdout",
     "output_type": "stream",
     "text": [
      "  first_order_month  n_buyers order_month  revenue       gp  age\n",
      "0        2017-06-01      2023  2017-06-01  9557.49  9557.49    0\n",
      "1        2017-06-01      2023  2017-07-01   981.82   981.82    1\n",
      "2        2017-06-01      2023  2017-08-01   885.34   885.34    2\n",
      "3        2017-06-01      2023  2017-09-01  1931.30  1931.30    3\n",
      "4        2017-06-01      2023  2017-10-01  2068.58  2068.58    4\n"
     ]
    }
   ],
   "source": [
    "#LTV считают не из выручки, а из валовой прибыли. Найдем найти валовую прибыль, умножив выручку на маржинальность (100%). \n",
    "#LTV — удобнее смотреть по «возрастным» когортам, где в столбцах — не месяц заказа, а возраст когорты.\n",
    "margin_rate = 1\n",
    "\n",
    "report['gp'] = report['revenue'] * margin_rate\n",
    "report['age'] = (report['order_month'] - report['first_order_month']) / np.timedelta64(1, 'M')\n",
    "report['age'] = report['age'].round().astype('int')\n",
    "print(report.head()) \n"
   ]
  },
  {
   "cell_type": "code",
   "execution_count": 83,
   "metadata": {},
   "outputs": [
    {
     "data": {
      "text/html": [
       "<div>\n",
       "<style scoped>\n",
       "    .dataframe tbody tr th:only-of-type {\n",
       "        vertical-align: middle;\n",
       "    }\n",
       "\n",
       "    .dataframe tbody tr th {\n",
       "        vertical-align: top;\n",
       "    }\n",
       "\n",
       "    .dataframe thead th {\n",
       "        text-align: right;\n",
       "    }\n",
       "</style>\n",
       "<table border=\"1\" class=\"dataframe\">\n",
       "  <thead>\n",
       "    <tr style=\"text-align: right;\">\n",
       "      <th></th>\n",
       "      <th>first_order_month</th>\n",
       "      <th>n_buyers</th>\n",
       "      <th>order_month</th>\n",
       "      <th>revenue</th>\n",
       "      <th>gp</th>\n",
       "      <th>age</th>\n",
       "      <th>ltv</th>\n",
       "    </tr>\n",
       "  </thead>\n",
       "  <tbody>\n",
       "    <tr>\n",
       "      <td>0</td>\n",
       "      <td>2017-06-01</td>\n",
       "      <td>2023</td>\n",
       "      <td>2017-06-01</td>\n",
       "      <td>9557.49</td>\n",
       "      <td>9557.49</td>\n",
       "      <td>0</td>\n",
       "      <td>4.724414</td>\n",
       "    </tr>\n",
       "    <tr>\n",
       "      <td>1</td>\n",
       "      <td>2017-06-01</td>\n",
       "      <td>2023</td>\n",
       "      <td>2017-07-01</td>\n",
       "      <td>981.82</td>\n",
       "      <td>981.82</td>\n",
       "      <td>1</td>\n",
       "      <td>0.485329</td>\n",
       "    </tr>\n",
       "    <tr>\n",
       "      <td>2</td>\n",
       "      <td>2017-06-01</td>\n",
       "      <td>2023</td>\n",
       "      <td>2017-08-01</td>\n",
       "      <td>885.34</td>\n",
       "      <td>885.34</td>\n",
       "      <td>2</td>\n",
       "      <td>0.437637</td>\n",
       "    </tr>\n",
       "    <tr>\n",
       "      <td>3</td>\n",
       "      <td>2017-06-01</td>\n",
       "      <td>2023</td>\n",
       "      <td>2017-09-01</td>\n",
       "      <td>1931.30</td>\n",
       "      <td>1931.30</td>\n",
       "      <td>3</td>\n",
       "      <td>0.954671</td>\n",
       "    </tr>\n",
       "    <tr>\n",
       "      <td>4</td>\n",
       "      <td>2017-06-01</td>\n",
       "      <td>2023</td>\n",
       "      <td>2017-10-01</td>\n",
       "      <td>2068.58</td>\n",
       "      <td>2068.58</td>\n",
       "      <td>4</td>\n",
       "      <td>1.022531</td>\n",
       "    </tr>\n",
       "  </tbody>\n",
       "</table>\n",
       "</div>"
      ],
      "text/plain": [
       "  first_order_month  n_buyers order_month  revenue       gp  age       ltv\n",
       "0        2017-06-01      2023  2017-06-01  9557.49  9557.49    0  4.724414\n",
       "1        2017-06-01      2023  2017-07-01   981.82   981.82    1  0.485329\n",
       "2        2017-06-01      2023  2017-08-01   885.34   885.34    2  0.437637\n",
       "3        2017-06-01      2023  2017-09-01  1931.30  1931.30    3  0.954671\n",
       "4        2017-06-01      2023  2017-10-01  2068.58  2068.58    4  1.022531"
      ]
     },
     "metadata": {},
     "output_type": "display_data"
    }
   ],
   "source": [
    "report['ltv'] = report['gp'] / report['n_buyers']\n",
    "display(report.head())"
   ]
  },
  {
   "cell_type": "code",
   "execution_count": 84,
   "metadata": {},
   "outputs": [],
   "source": [
    "output = report.pivot_table(\n",
    "    index='first_order_month', columns='age', values='ltv', aggfunc='mean'\n",
    ")\n",
    "output = output.cumsum(axis=1).round(2) \n"
   ]
  },
  {
   "cell_type": "code",
   "execution_count": 85,
   "metadata": {},
   "outputs": [
    {
     "data": {
      "text/html": [
       "<div>\n",
       "<style scoped>\n",
       "    .dataframe tbody tr th:only-of-type {\n",
       "        vertical-align: middle;\n",
       "    }\n",
       "\n",
       "    .dataframe tbody tr th {\n",
       "        vertical-align: top;\n",
       "    }\n",
       "\n",
       "    .dataframe thead th {\n",
       "        text-align: right;\n",
       "    }\n",
       "</style>\n",
       "<table border=\"1\" class=\"dataframe\">\n",
       "  <thead>\n",
       "    <tr style=\"text-align: right;\">\n",
       "      <th>age</th>\n",
       "      <th>0</th>\n",
       "      <th>1</th>\n",
       "      <th>2</th>\n",
       "      <th>3</th>\n",
       "      <th>4</th>\n",
       "      <th>5</th>\n",
       "      <th>6</th>\n",
       "      <th>7</th>\n",
       "      <th>8</th>\n",
       "      <th>9</th>\n",
       "      <th>10</th>\n",
       "      <th>11</th>\n",
       "    </tr>\n",
       "    <tr>\n",
       "      <th>first_order_month</th>\n",
       "      <th></th>\n",
       "      <th></th>\n",
       "      <th></th>\n",
       "      <th></th>\n",
       "      <th></th>\n",
       "      <th></th>\n",
       "      <th></th>\n",
       "      <th></th>\n",
       "      <th></th>\n",
       "      <th></th>\n",
       "      <th></th>\n",
       "      <th></th>\n",
       "    </tr>\n",
       "  </thead>\n",
       "  <tbody>\n",
       "    <tr>\n",
       "      <td>2017-06-01</td>\n",
       "      <td>4.72</td>\n",
       "      <td>5.21</td>\n",
       "      <td>5.65</td>\n",
       "      <td>6.60</td>\n",
       "      <td>7.62</td>\n",
       "      <td>8.36</td>\n",
       "      <td>9.31</td>\n",
       "      <td>9.89</td>\n",
       "      <td>10.45</td>\n",
       "      <td>11.05</td>\n",
       "      <td>11.62</td>\n",
       "      <td>11.88</td>\n",
       "    </tr>\n",
       "    <tr>\n",
       "      <td>2017-07-01</td>\n",
       "      <td>6.01</td>\n",
       "      <td>6.35</td>\n",
       "      <td>6.97</td>\n",
       "      <td>7.33</td>\n",
       "      <td>7.50</td>\n",
       "      <td>7.66</td>\n",
       "      <td>7.78</td>\n",
       "      <td>7.92</td>\n",
       "      <td>8.08</td>\n",
       "      <td>8.23</td>\n",
       "      <td>8.39</td>\n",
       "      <td>NaN</td>\n",
       "    </tr>\n",
       "    <tr>\n",
       "      <td>2017-08-01</td>\n",
       "      <td>5.28</td>\n",
       "      <td>5.75</td>\n",
       "      <td>6.21</td>\n",
       "      <td>6.60</td>\n",
       "      <td>7.09</td>\n",
       "      <td>7.38</td>\n",
       "      <td>7.59</td>\n",
       "      <td>7.99</td>\n",
       "      <td>8.28</td>\n",
       "      <td>8.47</td>\n",
       "      <td>NaN</td>\n",
       "      <td>NaN</td>\n",
       "    </tr>\n",
       "    <tr>\n",
       "      <td>2017-09-01</td>\n",
       "      <td>5.64</td>\n",
       "      <td>6.76</td>\n",
       "      <td>7.28</td>\n",
       "      <td>11.26</td>\n",
       "      <td>11.66</td>\n",
       "      <td>12.31</td>\n",
       "      <td>13.01</td>\n",
       "      <td>13.25</td>\n",
       "      <td>13.44</td>\n",
       "      <td>NaN</td>\n",
       "      <td>NaN</td>\n",
       "      <td>NaN</td>\n",
       "    </tr>\n",
       "    <tr>\n",
       "      <td>2017-10-01</td>\n",
       "      <td>5.00</td>\n",
       "      <td>5.54</td>\n",
       "      <td>5.73</td>\n",
       "      <td>5.89</td>\n",
       "      <td>6.04</td>\n",
       "      <td>6.16</td>\n",
       "      <td>6.24</td>\n",
       "      <td>6.36</td>\n",
       "      <td>NaN</td>\n",
       "      <td>NaN</td>\n",
       "      <td>NaN</td>\n",
       "      <td>NaN</td>\n",
       "    </tr>\n",
       "  </tbody>\n",
       "</table>\n",
       "</div>"
      ],
      "text/plain": [
       "age                  0     1     2      3      4      5      6      7      8   \\\n",
       "first_order_month                                                               \n",
       "2017-06-01         4.72  5.21  5.65   6.60   7.62   8.36   9.31   9.89  10.45   \n",
       "2017-07-01         6.01  6.35  6.97   7.33   7.50   7.66   7.78   7.92   8.08   \n",
       "2017-08-01         5.28  5.75  6.21   6.60   7.09   7.38   7.59   7.99   8.28   \n",
       "2017-09-01         5.64  6.76  7.28  11.26  11.66  12.31  13.01  13.25  13.44   \n",
       "2017-10-01         5.00  5.54  5.73   5.89   6.04   6.16   6.24   6.36    NaN   \n",
       "\n",
       "age                   9      10     11  \n",
       "first_order_month                       \n",
       "2017-06-01         11.05  11.62  11.88  \n",
       "2017-07-01          8.23   8.39    NaN  \n",
       "2017-08-01          8.47    NaN    NaN  \n",
       "2017-09-01           NaN    NaN    NaN  \n",
       "2017-10-01           NaN    NaN    NaN  "
      ]
     },
     "execution_count": 85,
     "metadata": {},
     "output_type": "execute_result"
    }
   ],
   "source": [
    "output.head()"
   ]
  },
  {
   "cell_type": "code",
   "execution_count": 86,
   "metadata": {},
   "outputs": [
    {
     "data": {
      "image/png": "[encoded data removed]",
      "text/plain": [
       "<Figure size 936x648 with 2 Axes>"
      ]
     },
     "metadata": {},
     "output_type": "display_data"
    }
   ],
   "source": [
    "# построим тепловую карту\n",
    "sns.set(style='white')\n",
    "plt.figure(figsize=(13, 9))\n",
    "plt.title('Cohorts: LTV cohorts')\n",
    "sns.heatmap(output, annot=True, fmt='.1f', linewidths=1, linecolor='black'); "
   ]
  },
  {
   "cell_type": "markdown",
   "metadata": {},
   "source": [
    "<div class=\"alert alert-block alert-warning\">\n",
    "<b>Комментарии от ревьюера:</b>\n",
    "\n",
    "LTV рассчитан верно и тепловая карта оформлена правильно. Добавь пожалуйста еще средний LTV за 6 месяцев, чтобы исключить влияние \"молодых\" когорт\n",
    "</div>"
   ]
  },
  {
   "cell_type": "markdown",
   "metadata": {},
   "source": [
    "Параметр LTV растет с течением времени, это говорит о том, что прибыль с каждой когорты увеличивается."
   ]
  },
  {
   "cell_type": "markdown",
   "metadata": {},
   "source": [
    "<div class=\"alert alert-info\"> \n",
    "<b>Комменатарий студента</b>\n",
    "Расчет среднего ltv приведен ниже\n",
    "</div>"
   ]
  },
  {
   "cell_type": "code",
   "execution_count": 87,
   "metadata": {},
   "outputs": [
    {
     "data": {
      "text/html": [
       "<div>\n",
       "<style scoped>\n",
       "    .dataframe tbody tr th:only-of-type {\n",
       "        vertical-align: middle;\n",
       "    }\n",
       "\n",
       "    .dataframe tbody tr th {\n",
       "        vertical-align: top;\n",
       "    }\n",
       "\n",
       "    .dataframe thead th {\n",
       "        text-align: right;\n",
       "    }\n",
       "</style>\n",
       "<table border=\"1\" class=\"dataframe\">\n",
       "  <thead>\n",
       "    <tr style=\"text-align: right;\">\n",
       "      <th>age</th>\n",
       "      <th>first_order_month</th>\n",
       "      <th>0</th>\n",
       "      <th>1</th>\n",
       "      <th>2</th>\n",
       "      <th>3</th>\n",
       "      <th>4</th>\n",
       "      <th>5</th>\n",
       "      <th>6</th>\n",
       "      <th>7</th>\n",
       "      <th>8</th>\n",
       "      <th>9</th>\n",
       "      <th>10</th>\n",
       "      <th>11</th>\n",
       "    </tr>\n",
       "  </thead>\n",
       "  <tbody>\n",
       "    <tr>\n",
       "      <td>0</td>\n",
       "      <td>2017-06-01</td>\n",
       "      <td>4.72</td>\n",
       "      <td>5.21</td>\n",
       "      <td>5.65</td>\n",
       "      <td>6.60</td>\n",
       "      <td>7.62</td>\n",
       "      <td>8.36</td>\n",
       "      <td>9.31</td>\n",
       "      <td>9.89</td>\n",
       "      <td>10.45</td>\n",
       "      <td>11.05</td>\n",
       "      <td>11.62</td>\n",
       "      <td>11.88</td>\n",
       "    </tr>\n",
       "    <tr>\n",
       "      <td>1</td>\n",
       "      <td>2017-07-01</td>\n",
       "      <td>6.01</td>\n",
       "      <td>6.35</td>\n",
       "      <td>6.97</td>\n",
       "      <td>7.33</td>\n",
       "      <td>7.50</td>\n",
       "      <td>7.66</td>\n",
       "      <td>7.78</td>\n",
       "      <td>7.92</td>\n",
       "      <td>8.08</td>\n",
       "      <td>8.23</td>\n",
       "      <td>8.39</td>\n",
       "      <td>NaN</td>\n",
       "    </tr>\n",
       "    <tr>\n",
       "      <td>2</td>\n",
       "      <td>2017-08-01</td>\n",
       "      <td>5.28</td>\n",
       "      <td>5.75</td>\n",
       "      <td>6.21</td>\n",
       "      <td>6.60</td>\n",
       "      <td>7.09</td>\n",
       "      <td>7.38</td>\n",
       "      <td>7.59</td>\n",
       "      <td>7.99</td>\n",
       "      <td>8.28</td>\n",
       "      <td>8.47</td>\n",
       "      <td>NaN</td>\n",
       "      <td>NaN</td>\n",
       "    </tr>\n",
       "    <tr>\n",
       "      <td>3</td>\n",
       "      <td>2017-09-01</td>\n",
       "      <td>5.64</td>\n",
       "      <td>6.76</td>\n",
       "      <td>7.28</td>\n",
       "      <td>11.26</td>\n",
       "      <td>11.66</td>\n",
       "      <td>12.31</td>\n",
       "      <td>13.01</td>\n",
       "      <td>13.25</td>\n",
       "      <td>13.44</td>\n",
       "      <td>NaN</td>\n",
       "      <td>NaN</td>\n",
       "      <td>NaN</td>\n",
       "    </tr>\n",
       "    <tr>\n",
       "      <td>4</td>\n",
       "      <td>2017-10-01</td>\n",
       "      <td>5.00</td>\n",
       "      <td>5.54</td>\n",
       "      <td>5.73</td>\n",
       "      <td>5.89</td>\n",
       "      <td>6.04</td>\n",
       "      <td>6.16</td>\n",
       "      <td>6.24</td>\n",
       "      <td>6.36</td>\n",
       "      <td>NaN</td>\n",
       "      <td>NaN</td>\n",
       "      <td>NaN</td>\n",
       "      <td>NaN</td>\n",
       "    </tr>\n",
       "    <tr>\n",
       "      <td>5</td>\n",
       "      <td>2017-11-01</td>\n",
       "      <td>5.15</td>\n",
       "      <td>5.55</td>\n",
       "      <td>5.75</td>\n",
       "      <td>6.08</td>\n",
       "      <td>6.23</td>\n",
       "      <td>6.28</td>\n",
       "      <td>6.40</td>\n",
       "      <td>NaN</td>\n",
       "      <td>NaN</td>\n",
       "      <td>NaN</td>\n",
       "      <td>NaN</td>\n",
       "      <td>NaN</td>\n",
       "    </tr>\n",
       "    <tr>\n",
       "      <td>6</td>\n",
       "      <td>2017-12-01</td>\n",
       "      <td>4.74</td>\n",
       "      <td>5.00</td>\n",
       "      <td>5.92</td>\n",
       "      <td>6.99</td>\n",
       "      <td>7.30</td>\n",
       "      <td>7.64</td>\n",
       "      <td>NaN</td>\n",
       "      <td>NaN</td>\n",
       "      <td>NaN</td>\n",
       "      <td>NaN</td>\n",
       "      <td>NaN</td>\n",
       "      <td>NaN</td>\n",
       "    </tr>\n",
       "    <tr>\n",
       "      <td>7</td>\n",
       "      <td>2018-01-01</td>\n",
       "      <td>4.14</td>\n",
       "      <td>4.43</td>\n",
       "      <td>4.73</td>\n",
       "      <td>4.88</td>\n",
       "      <td>4.94</td>\n",
       "      <td>NaN</td>\n",
       "      <td>NaN</td>\n",
       "      <td>NaN</td>\n",
       "      <td>NaN</td>\n",
       "      <td>NaN</td>\n",
       "      <td>NaN</td>\n",
       "      <td>NaN</td>\n",
       "    </tr>\n",
       "    <tr>\n",
       "      <td>8</td>\n",
       "      <td>2018-02-01</td>\n",
       "      <td>4.16</td>\n",
       "      <td>4.44</td>\n",
       "      <td>4.51</td>\n",
       "      <td>4.59</td>\n",
       "      <td>NaN</td>\n",
       "      <td>NaN</td>\n",
       "      <td>NaN</td>\n",
       "      <td>NaN</td>\n",
       "      <td>NaN</td>\n",
       "      <td>NaN</td>\n",
       "      <td>NaN</td>\n",
       "      <td>NaN</td>\n",
       "    </tr>\n",
       "    <tr>\n",
       "      <td>9</td>\n",
       "      <td>2018-03-01</td>\n",
       "      <td>4.84</td>\n",
       "      <td>5.14</td>\n",
       "      <td>5.46</td>\n",
       "      <td>NaN</td>\n",
       "      <td>NaN</td>\n",
       "      <td>NaN</td>\n",
       "      <td>NaN</td>\n",
       "      <td>NaN</td>\n",
       "      <td>NaN</td>\n",
       "      <td>NaN</td>\n",
       "      <td>NaN</td>\n",
       "      <td>NaN</td>\n",
       "    </tr>\n",
       "    <tr>\n",
       "      <td>10</td>\n",
       "      <td>2018-04-01</td>\n",
       "      <td>4.66</td>\n",
       "      <td>5.19</td>\n",
       "      <td>NaN</td>\n",
       "      <td>NaN</td>\n",
       "      <td>NaN</td>\n",
       "      <td>NaN</td>\n",
       "      <td>NaN</td>\n",
       "      <td>NaN</td>\n",
       "      <td>NaN</td>\n",
       "      <td>NaN</td>\n",
       "      <td>NaN</td>\n",
       "      <td>NaN</td>\n",
       "    </tr>\n",
       "    <tr>\n",
       "      <td>11</td>\n",
       "      <td>2018-05-01</td>\n",
       "      <td>4.66</td>\n",
       "      <td>NaN</td>\n",
       "      <td>NaN</td>\n",
       "      <td>NaN</td>\n",
       "      <td>NaN</td>\n",
       "      <td>NaN</td>\n",
       "      <td>NaN</td>\n",
       "      <td>NaN</td>\n",
       "      <td>NaN</td>\n",
       "      <td>NaN</td>\n",
       "      <td>NaN</td>\n",
       "      <td>NaN</td>\n",
       "    </tr>\n",
       "    <tr>\n",
       "      <td>12</td>\n",
       "      <td>2018-06-01</td>\n",
       "      <td>3.42</td>\n",
       "      <td>NaN</td>\n",
       "      <td>NaN</td>\n",
       "      <td>NaN</td>\n",
       "      <td>NaN</td>\n",
       "      <td>NaN</td>\n",
       "      <td>NaN</td>\n",
       "      <td>NaN</td>\n",
       "      <td>NaN</td>\n",
       "      <td>NaN</td>\n",
       "      <td>NaN</td>\n",
       "      <td>NaN</td>\n",
       "    </tr>\n",
       "  </tbody>\n",
       "</table>\n",
       "</div>"
      ],
      "text/plain": [
       "age first_order_month     0     1     2      3      4      5      6      7  \\\n",
       "0          2017-06-01  4.72  5.21  5.65   6.60   7.62   8.36   9.31   9.89   \n",
       "1          2017-07-01  6.01  6.35  6.97   7.33   7.50   7.66   7.78   7.92   \n",
       "2          2017-08-01  5.28  5.75  6.21   6.60   7.09   7.38   7.59   7.99   \n",
       "3          2017-09-01  5.64  6.76  7.28  11.26  11.66  12.31  13.01  13.25   \n",
       "4          2017-10-01  5.00  5.54  5.73   5.89   6.04   6.16   6.24   6.36   \n",
       "5          2017-11-01  5.15  5.55  5.75   6.08   6.23   6.28   6.40    NaN   \n",
       "6          2017-12-01  4.74  5.00  5.92   6.99   7.30   7.64    NaN    NaN   \n",
       "7          2018-01-01  4.14  4.43  4.73   4.88   4.94    NaN    NaN    NaN   \n",
       "8          2018-02-01  4.16  4.44  4.51   4.59    NaN    NaN    NaN    NaN   \n",
       "9          2018-03-01  4.84  5.14  5.46    NaN    NaN    NaN    NaN    NaN   \n",
       "10         2018-04-01  4.66  5.19   NaN    NaN    NaN    NaN    NaN    NaN   \n",
       "11         2018-05-01  4.66   NaN   NaN    NaN    NaN    NaN    NaN    NaN   \n",
       "12         2018-06-01  3.42   NaN   NaN    NaN    NaN    NaN    NaN    NaN   \n",
       "\n",
       "age      8      9     10     11  \n",
       "0    10.45  11.05  11.62  11.88  \n",
       "1     8.08   8.23   8.39    NaN  \n",
       "2     8.28   8.47    NaN    NaN  \n",
       "3    13.44    NaN    NaN    NaN  \n",
       "4      NaN    NaN    NaN    NaN  \n",
       "5      NaN    NaN    NaN    NaN  \n",
       "6      NaN    NaN    NaN    NaN  \n",
       "7      NaN    NaN    NaN    NaN  \n",
       "8      NaN    NaN    NaN    NaN  \n",
       "9      NaN    NaN    NaN    NaN  \n",
       "10     NaN    NaN    NaN    NaN  \n",
       "11     NaN    NaN    NaN    NaN  \n",
       "12     NaN    NaN    NaN    NaN  "
      ]
     },
     "metadata": {},
     "output_type": "display_data"
    },
    {
     "name": "stdout",
     "output_type": "stream",
     "text": [
      "<class 'pandas.core.frame.DataFrame'>\n",
      "RangeIndex: 13 entries, 0 to 12\n",
      "Data columns (total 13 columns):\n",
      "first_order_month    13 non-null datetime64[ns]\n",
      "0                    13 non-null float64\n",
      "1                    11 non-null float64\n",
      "2                    10 non-null float64\n",
      "3                    9 non-null float64\n",
      "4                    8 non-null float64\n",
      "5                    7 non-null float64\n",
      "6                    6 non-null float64\n",
      "7                    5 non-null float64\n",
      "8                    4 non-null float64\n",
      "9                    3 non-null float64\n",
      "10                   2 non-null float64\n",
      "11                   1 non-null float64\n",
      "dtypes: datetime64[ns](1), float64(12)\n",
      "memory usage: 1.4 KB\n"
     ]
    }
   ],
   "source": [
    "output = output.reset_index()\n",
    "display(output)\n",
    "output.info()"
   ]
  },
  {
   "cell_type": "code",
   "execution_count": 88,
   "metadata": {},
   "outputs": [],
   "source": [
    "#выделим только те когорты, время жизни которых больше 6 месяцев\n",
    "cоhorts_6 = output.query('first_order_month < \"2018-01-01\"')"
   ]
  },
  {
   "cell_type": "code",
   "execution_count": 89,
   "metadata": {},
   "outputs": [
    {
     "data": {
      "text/html": [
       "<div>\n",
       "<style scoped>\n",
       "    .dataframe tbody tr th:only-of-type {\n",
       "        vertical-align: middle;\n",
       "    }\n",
       "\n",
       "    .dataframe tbody tr th {\n",
       "        vertical-align: top;\n",
       "    }\n",
       "\n",
       "    .dataframe thead th {\n",
       "        text-align: right;\n",
       "    }\n",
       "</style>\n",
       "<table border=\"1\" class=\"dataframe\">\n",
       "  <thead>\n",
       "    <tr style=\"text-align: right;\">\n",
       "      <th>age</th>\n",
       "      <th>first_order_month</th>\n",
       "      <th>0</th>\n",
       "      <th>1</th>\n",
       "      <th>2</th>\n",
       "      <th>3</th>\n",
       "      <th>4</th>\n",
       "      <th>5</th>\n",
       "      <th>6</th>\n",
       "      <th>7</th>\n",
       "      <th>8</th>\n",
       "      <th>9</th>\n",
       "      <th>10</th>\n",
       "      <th>11</th>\n",
       "    </tr>\n",
       "  </thead>\n",
       "  <tbody>\n",
       "    <tr>\n",
       "      <td>0</td>\n",
       "      <td>2017-06-01</td>\n",
       "      <td>4.72</td>\n",
       "      <td>5.21</td>\n",
       "      <td>5.65</td>\n",
       "      <td>6.60</td>\n",
       "      <td>7.62</td>\n",
       "      <td>8.36</td>\n",
       "      <td>9.31</td>\n",
       "      <td>9.89</td>\n",
       "      <td>10.45</td>\n",
       "      <td>11.05</td>\n",
       "      <td>11.62</td>\n",
       "      <td>11.88</td>\n",
       "    </tr>\n",
       "    <tr>\n",
       "      <td>1</td>\n",
       "      <td>2017-07-01</td>\n",
       "      <td>6.01</td>\n",
       "      <td>6.35</td>\n",
       "      <td>6.97</td>\n",
       "      <td>7.33</td>\n",
       "      <td>7.50</td>\n",
       "      <td>7.66</td>\n",
       "      <td>7.78</td>\n",
       "      <td>7.92</td>\n",
       "      <td>8.08</td>\n",
       "      <td>8.23</td>\n",
       "      <td>8.39</td>\n",
       "      <td>NaN</td>\n",
       "    </tr>\n",
       "    <tr>\n",
       "      <td>2</td>\n",
       "      <td>2017-08-01</td>\n",
       "      <td>5.28</td>\n",
       "      <td>5.75</td>\n",
       "      <td>6.21</td>\n",
       "      <td>6.60</td>\n",
       "      <td>7.09</td>\n",
       "      <td>7.38</td>\n",
       "      <td>7.59</td>\n",
       "      <td>7.99</td>\n",
       "      <td>8.28</td>\n",
       "      <td>8.47</td>\n",
       "      <td>NaN</td>\n",
       "      <td>NaN</td>\n",
       "    </tr>\n",
       "    <tr>\n",
       "      <td>3</td>\n",
       "      <td>2017-09-01</td>\n",
       "      <td>5.64</td>\n",
       "      <td>6.76</td>\n",
       "      <td>7.28</td>\n",
       "      <td>11.26</td>\n",
       "      <td>11.66</td>\n",
       "      <td>12.31</td>\n",
       "      <td>13.01</td>\n",
       "      <td>13.25</td>\n",
       "      <td>13.44</td>\n",
       "      <td>NaN</td>\n",
       "      <td>NaN</td>\n",
       "      <td>NaN</td>\n",
       "    </tr>\n",
       "    <tr>\n",
       "      <td>4</td>\n",
       "      <td>2017-10-01</td>\n",
       "      <td>5.00</td>\n",
       "      <td>5.54</td>\n",
       "      <td>5.73</td>\n",
       "      <td>5.89</td>\n",
       "      <td>6.04</td>\n",
       "      <td>6.16</td>\n",
       "      <td>6.24</td>\n",
       "      <td>6.36</td>\n",
       "      <td>NaN</td>\n",
       "      <td>NaN</td>\n",
       "      <td>NaN</td>\n",
       "      <td>NaN</td>\n",
       "    </tr>\n",
       "    <tr>\n",
       "      <td>5</td>\n",
       "      <td>2017-11-01</td>\n",
       "      <td>5.15</td>\n",
       "      <td>5.55</td>\n",
       "      <td>5.75</td>\n",
       "      <td>6.08</td>\n",
       "      <td>6.23</td>\n",
       "      <td>6.28</td>\n",
       "      <td>6.40</td>\n",
       "      <td>NaN</td>\n",
       "      <td>NaN</td>\n",
       "      <td>NaN</td>\n",
       "      <td>NaN</td>\n",
       "      <td>NaN</td>\n",
       "    </tr>\n",
       "    <tr>\n",
       "      <td>6</td>\n",
       "      <td>2017-12-01</td>\n",
       "      <td>4.74</td>\n",
       "      <td>5.00</td>\n",
       "      <td>5.92</td>\n",
       "      <td>6.99</td>\n",
       "      <td>7.30</td>\n",
       "      <td>7.64</td>\n",
       "      <td>NaN</td>\n",
       "      <td>NaN</td>\n",
       "      <td>NaN</td>\n",
       "      <td>NaN</td>\n",
       "      <td>NaN</td>\n",
       "      <td>NaN</td>\n",
       "    </tr>\n",
       "  </tbody>\n",
       "</table>\n",
       "</div>"
      ],
      "text/plain": [
       "age first_order_month     0     1     2      3      4      5      6      7  \\\n",
       "0          2017-06-01  4.72  5.21  5.65   6.60   7.62   8.36   9.31   9.89   \n",
       "1          2017-07-01  6.01  6.35  6.97   7.33   7.50   7.66   7.78   7.92   \n",
       "2          2017-08-01  5.28  5.75  6.21   6.60   7.09   7.38   7.59   7.99   \n",
       "3          2017-09-01  5.64  6.76  7.28  11.26  11.66  12.31  13.01  13.25   \n",
       "4          2017-10-01  5.00  5.54  5.73   5.89   6.04   6.16   6.24   6.36   \n",
       "5          2017-11-01  5.15  5.55  5.75   6.08   6.23   6.28   6.40    NaN   \n",
       "6          2017-12-01  4.74  5.00  5.92   6.99   7.30   7.64    NaN    NaN   \n",
       "\n",
       "age      8      9     10     11  \n",
       "0    10.45  11.05  11.62  11.88  \n",
       "1     8.08   8.23   8.39    NaN  \n",
       "2     8.28   8.47    NaN    NaN  \n",
       "3    13.44    NaN    NaN    NaN  \n",
       "4      NaN    NaN    NaN    NaN  \n",
       "5      NaN    NaN    NaN    NaN  \n",
       "6      NaN    NaN    NaN    NaN  "
      ]
     },
     "metadata": {},
     "output_type": "display_data"
    }
   ],
   "source": [
    "display(cоhorts_6)"
   ]
  },
  {
   "cell_type": "code",
   "execution_count": 90,
   "metadata": {},
   "outputs": [
    {
     "name": "stdout",
     "output_type": "stream",
     "text": [
      "Средний ltv когорт с lifetime более 6 месяцев age\n",
      "0      5.220000\n",
      "1      5.737143\n",
      "2      6.215714\n",
      "3      7.250000\n",
      "4      7.634286\n",
      "5      7.970000\n",
      "6      8.388333\n",
      "7      9.082000\n",
      "8     10.062500\n",
      "9      9.250000\n",
      "10    10.005000\n",
      "11    11.880000\n",
      "dtype: float64\n"
     ]
    }
   ],
   "source": [
    "print('Средний ltv когорт с lifetime более 6 месяцев', cоhorts_6.mean())"
   ]
  },
  {
   "cell_type": "code",
   "execution_count": 91,
   "metadata": {},
   "outputs": [
    {
     "data": {
      "text/html": [
       "<div>\n",
       "<style scoped>\n",
       "    .dataframe tbody tr th:only-of-type {\n",
       "        vertical-align: middle;\n",
       "    }\n",
       "\n",
       "    .dataframe tbody tr th {\n",
       "        vertical-align: top;\n",
       "    }\n",
       "\n",
       "    .dataframe thead th {\n",
       "        text-align: right;\n",
       "    }\n",
       "</style>\n",
       "<table border=\"1\" class=\"dataframe\">\n",
       "  <thead>\n",
       "    <tr style=\"text-align: right;\">\n",
       "      <th></th>\n",
       "      <th>source_id</th>\n",
       "      <th>dt</th>\n",
       "      <th>costs</th>\n",
       "      <th>month</th>\n",
       "    </tr>\n",
       "  </thead>\n",
       "  <tbody>\n",
       "    <tr>\n",
       "      <td>0</td>\n",
       "      <td>1</td>\n",
       "      <td>2017-06-01</td>\n",
       "      <td>75.20</td>\n",
       "      <td>2017-06-01</td>\n",
       "    </tr>\n",
       "    <tr>\n",
       "      <td>1</td>\n",
       "      <td>1</td>\n",
       "      <td>2017-06-02</td>\n",
       "      <td>62.25</td>\n",
       "      <td>2017-06-01</td>\n",
       "    </tr>\n",
       "    <tr>\n",
       "      <td>2</td>\n",
       "      <td>1</td>\n",
       "      <td>2017-06-03</td>\n",
       "      <td>36.53</td>\n",
       "      <td>2017-06-01</td>\n",
       "    </tr>\n",
       "    <tr>\n",
       "      <td>3</td>\n",
       "      <td>1</td>\n",
       "      <td>2017-06-04</td>\n",
       "      <td>55.00</td>\n",
       "      <td>2017-06-01</td>\n",
       "    </tr>\n",
       "    <tr>\n",
       "      <td>4</td>\n",
       "      <td>1</td>\n",
       "      <td>2017-06-05</td>\n",
       "      <td>57.08</td>\n",
       "      <td>2017-06-01</td>\n",
       "    </tr>\n",
       "  </tbody>\n",
       "</table>\n",
       "</div>"
      ],
      "text/plain": [
       "   source_id         dt  costs      month\n",
       "0          1 2017-06-01  75.20 2017-06-01\n",
       "1          1 2017-06-02  62.25 2017-06-01\n",
       "2          1 2017-06-03  36.53 2017-06-01\n",
       "3          1 2017-06-04  55.00 2017-06-01\n",
       "4          1 2017-06-05  57.08 2017-06-01"
      ]
     },
     "execution_count": 91,
     "metadata": {},
     "output_type": "execute_result"
    }
   ],
   "source": [
    "costs.head()"
   ]
  },
  {
   "cell_type": "code",
   "execution_count": 92,
   "metadata": {},
   "outputs": [
    {
     "data": {
      "text/html": [
       "<div>\n",
       "<style scoped>\n",
       "    .dataframe tbody tr th:only-of-type {\n",
       "        vertical-align: middle;\n",
       "    }\n",
       "\n",
       "    .dataframe tbody tr th {\n",
       "        vertical-align: top;\n",
       "    }\n",
       "\n",
       "    .dataframe thead th {\n",
       "        text-align: right;\n",
       "    }\n",
       "</style>\n",
       "<table border=\"1\" class=\"dataframe\">\n",
       "  <thead>\n",
       "    <tr style=\"text-align: right;\">\n",
       "      <th></th>\n",
       "      <th>source_id</th>\n",
       "      <th>costs</th>\n",
       "    </tr>\n",
       "    <tr>\n",
       "      <th>month</th>\n",
       "      <th></th>\n",
       "      <th></th>\n",
       "    </tr>\n",
       "  </thead>\n",
       "  <tbody>\n",
       "    <tr>\n",
       "      <td>2017-06-01</td>\n",
       "      <td>1020</td>\n",
       "      <td>18015.00</td>\n",
       "    </tr>\n",
       "    <tr>\n",
       "      <td>2017-07-01</td>\n",
       "      <td>1054</td>\n",
       "      <td>18240.59</td>\n",
       "    </tr>\n",
       "    <tr>\n",
       "      <td>2017-08-01</td>\n",
       "      <td>1054</td>\n",
       "      <td>14790.54</td>\n",
       "    </tr>\n",
       "    <tr>\n",
       "      <td>2017-09-01</td>\n",
       "      <td>1020</td>\n",
       "      <td>24368.91</td>\n",
       "    </tr>\n",
       "    <tr>\n",
       "      <td>2017-10-01</td>\n",
       "      <td>1054</td>\n",
       "      <td>36322.88</td>\n",
       "    </tr>\n",
       "  </tbody>\n",
       "</table>\n",
       "</div>"
      ],
      "text/plain": [
       "            source_id     costs\n",
       "month                          \n",
       "2017-06-01       1020  18015.00\n",
       "2017-07-01       1054  18240.59\n",
       "2017-08-01       1054  14790.54\n",
       "2017-09-01       1020  24368.91\n",
       "2017-10-01       1054  36322.88"
      ]
     },
     "execution_count": 92,
     "metadata": {},
     "output_type": "execute_result"
    }
   ],
   "source": [
    "#расчитаем CAC по когортам\n",
    "monthly_costs_cohorts = costs.groupby('month').sum()\n",
    "monthly_costs_cohorts.head() "
   ]
  },
  {
   "cell_type": "code",
   "execution_count": 93,
   "metadata": {},
   "outputs": [
    {
     "data": {
      "text/html": [
       "<div>\n",
       "<style scoped>\n",
       "    .dataframe tbody tr th:only-of-type {\n",
       "        vertical-align: middle;\n",
       "    }\n",
       "\n",
       "    .dataframe tbody tr th {\n",
       "        vertical-align: top;\n",
       "    }\n",
       "\n",
       "    .dataframe thead th {\n",
       "        text-align: right;\n",
       "    }\n",
       "</style>\n",
       "<table border=\"1\" class=\"dataframe\">\n",
       "  <thead>\n",
       "    <tr style=\"text-align: right;\">\n",
       "      <th></th>\n",
       "      <th>first_order_month</th>\n",
       "      <th>n_buyers</th>\n",
       "      <th>order_month</th>\n",
       "      <th>revenue</th>\n",
       "      <th>gp</th>\n",
       "      <th>age</th>\n",
       "      <th>ltv</th>\n",
       "      <th>source_id</th>\n",
       "      <th>costs</th>\n",
       "      <th>cac</th>\n",
       "    </tr>\n",
       "  </thead>\n",
       "  <tbody>\n",
       "    <tr>\n",
       "      <td>0</td>\n",
       "      <td>2017-06-01</td>\n",
       "      <td>2023</td>\n",
       "      <td>2017-06-01</td>\n",
       "      <td>9557.49</td>\n",
       "      <td>9557.49</td>\n",
       "      <td>0</td>\n",
       "      <td>4.724414</td>\n",
       "      <td>1020</td>\n",
       "      <td>18015.0</td>\n",
       "      <td>8.905091</td>\n",
       "    </tr>\n",
       "    <tr>\n",
       "      <td>1</td>\n",
       "      <td>2017-06-01</td>\n",
       "      <td>2023</td>\n",
       "      <td>2017-07-01</td>\n",
       "      <td>981.82</td>\n",
       "      <td>981.82</td>\n",
       "      <td>1</td>\n",
       "      <td>0.485329</td>\n",
       "      <td>1020</td>\n",
       "      <td>18015.0</td>\n",
       "      <td>8.905091</td>\n",
       "    </tr>\n",
       "    <tr>\n",
       "      <td>2</td>\n",
       "      <td>2017-06-01</td>\n",
       "      <td>2023</td>\n",
       "      <td>2017-08-01</td>\n",
       "      <td>885.34</td>\n",
       "      <td>885.34</td>\n",
       "      <td>2</td>\n",
       "      <td>0.437637</td>\n",
       "      <td>1020</td>\n",
       "      <td>18015.0</td>\n",
       "      <td>8.905091</td>\n",
       "    </tr>\n",
       "    <tr>\n",
       "      <td>3</td>\n",
       "      <td>2017-06-01</td>\n",
       "      <td>2023</td>\n",
       "      <td>2017-09-01</td>\n",
       "      <td>1931.30</td>\n",
       "      <td>1931.30</td>\n",
       "      <td>3</td>\n",
       "      <td>0.954671</td>\n",
       "      <td>1020</td>\n",
       "      <td>18015.0</td>\n",
       "      <td>8.905091</td>\n",
       "    </tr>\n",
       "    <tr>\n",
       "      <td>4</td>\n",
       "      <td>2017-06-01</td>\n",
       "      <td>2023</td>\n",
       "      <td>2017-10-01</td>\n",
       "      <td>2068.58</td>\n",
       "      <td>2068.58</td>\n",
       "      <td>4</td>\n",
       "      <td>1.022531</td>\n",
       "      <td>1020</td>\n",
       "      <td>18015.0</td>\n",
       "      <td>8.905091</td>\n",
       "    </tr>\n",
       "  </tbody>\n",
       "</table>\n",
       "</div>"
      ],
      "text/plain": [
       "  first_order_month  n_buyers order_month  revenue       gp  age       ltv  \\\n",
       "0        2017-06-01      2023  2017-06-01  9557.49  9557.49    0  4.724414   \n",
       "1        2017-06-01      2023  2017-07-01   981.82   981.82    1  0.485329   \n",
       "2        2017-06-01      2023  2017-08-01   885.34   885.34    2  0.437637   \n",
       "3        2017-06-01      2023  2017-09-01  1931.30  1931.30    3  0.954671   \n",
       "4        2017-06-01      2023  2017-10-01  2068.58  2068.58    4  1.022531   \n",
       "\n",
       "   source_id    costs       cac  \n",
       "0       1020  18015.0  8.905091  \n",
       "1       1020  18015.0  8.905091  \n",
       "2       1020  18015.0  8.905091  \n",
       "3       1020  18015.0  8.905091  \n",
       "4       1020  18015.0  8.905091  "
      ]
     },
     "execution_count": 93,
     "metadata": {},
     "output_type": "execute_result"
    }
   ],
   "source": [
    "#добавим данные о расходах в отчет и посчитаем CAC\n",
    "report_cohorts = pd.merge(\n",
    "    report, monthly_costs_cohorts, left_on='first_order_month', right_on='month'\n",
    ")\n",
    "report_cohorts['cac'] = report_cohorts['costs'] / report_cohorts['n_buyers']\n",
    "report_cohorts.head() "
   ]
  },
  {
   "cell_type": "code",
   "execution_count": 94,
   "metadata": {},
   "outputs": [
    {
     "data": {
      "text/html": [
       "<div>\n",
       "<style scoped>\n",
       "    .dataframe tbody tr th:only-of-type {\n",
       "        vertical-align: middle;\n",
       "    }\n",
       "\n",
       "    .dataframe tbody tr th {\n",
       "        vertical-align: top;\n",
       "    }\n",
       "\n",
       "    .dataframe thead th {\n",
       "        text-align: right;\n",
       "    }\n",
       "</style>\n",
       "<table border=\"1\" class=\"dataframe\">\n",
       "  <thead>\n",
       "    <tr style=\"text-align: right;\">\n",
       "      <th>age</th>\n",
       "      <th>0</th>\n",
       "      <th>1</th>\n",
       "      <th>2</th>\n",
       "      <th>3</th>\n",
       "      <th>4</th>\n",
       "      <th>5</th>\n",
       "      <th>6</th>\n",
       "      <th>7</th>\n",
       "      <th>8</th>\n",
       "      <th>9</th>\n",
       "      <th>10</th>\n",
       "      <th>11</th>\n",
       "    </tr>\n",
       "    <tr>\n",
       "      <th>first_order_month</th>\n",
       "      <th></th>\n",
       "      <th></th>\n",
       "      <th></th>\n",
       "      <th></th>\n",
       "      <th></th>\n",
       "      <th></th>\n",
       "      <th></th>\n",
       "      <th></th>\n",
       "      <th></th>\n",
       "      <th></th>\n",
       "      <th></th>\n",
       "      <th></th>\n",
       "    </tr>\n",
       "  </thead>\n",
       "  <tbody>\n",
       "    <tr>\n",
       "      <td>2017-06-01</td>\n",
       "      <td>0.53</td>\n",
       "      <td>0.59</td>\n",
       "      <td>0.63</td>\n",
       "      <td>0.74</td>\n",
       "      <td>0.86</td>\n",
       "      <td>0.94</td>\n",
       "      <td>1.05</td>\n",
       "      <td>1.11</td>\n",
       "      <td>1.17</td>\n",
       "      <td>1.24</td>\n",
       "      <td>1.31</td>\n",
       "      <td>1.33</td>\n",
       "    </tr>\n",
       "    <tr>\n",
       "      <td>2017-07-01</td>\n",
       "      <td>0.63</td>\n",
       "      <td>0.67</td>\n",
       "      <td>0.73</td>\n",
       "      <td>0.77</td>\n",
       "      <td>0.79</td>\n",
       "      <td>0.81</td>\n",
       "      <td>0.82</td>\n",
       "      <td>0.84</td>\n",
       "      <td>0.85</td>\n",
       "      <td>0.87</td>\n",
       "      <td>0.88</td>\n",
       "      <td>NaN</td>\n",
       "    </tr>\n",
       "    <tr>\n",
       "      <td>2017-08-01</td>\n",
       "      <td>0.49</td>\n",
       "      <td>0.53</td>\n",
       "      <td>0.57</td>\n",
       "      <td>0.61</td>\n",
       "      <td>0.66</td>\n",
       "      <td>0.68</td>\n",
       "      <td>0.70</td>\n",
       "      <td>0.74</td>\n",
       "      <td>0.77</td>\n",
       "      <td>0.78</td>\n",
       "      <td>NaN</td>\n",
       "      <td>NaN</td>\n",
       "    </tr>\n",
       "    <tr>\n",
       "      <td>2017-09-01</td>\n",
       "      <td>0.60</td>\n",
       "      <td>0.72</td>\n",
       "      <td>0.77</td>\n",
       "      <td>1.19</td>\n",
       "      <td>1.23</td>\n",
       "      <td>1.30</td>\n",
       "      <td>1.38</td>\n",
       "      <td>1.40</td>\n",
       "      <td>1.42</td>\n",
       "      <td>NaN</td>\n",
       "      <td>NaN</td>\n",
       "      <td>NaN</td>\n",
       "    </tr>\n",
       "    <tr>\n",
       "      <td>2017-10-01</td>\n",
       "      <td>0.60</td>\n",
       "      <td>0.66</td>\n",
       "      <td>0.68</td>\n",
       "      <td>0.70</td>\n",
       "      <td>0.72</td>\n",
       "      <td>0.74</td>\n",
       "      <td>0.75</td>\n",
       "      <td>0.76</td>\n",
       "      <td>NaN</td>\n",
       "      <td>NaN</td>\n",
       "      <td>NaN</td>\n",
       "      <td>NaN</td>\n",
       "    </tr>\n",
       "    <tr>\n",
       "      <td>2017-11-01</td>\n",
       "      <td>0.55</td>\n",
       "      <td>0.60</td>\n",
       "      <td>0.62</td>\n",
       "      <td>0.65</td>\n",
       "      <td>0.67</td>\n",
       "      <td>0.68</td>\n",
       "      <td>0.69</td>\n",
       "      <td>NaN</td>\n",
       "      <td>NaN</td>\n",
       "      <td>NaN</td>\n",
       "      <td>NaN</td>\n",
       "      <td>NaN</td>\n",
       "    </tr>\n",
       "    <tr>\n",
       "      <td>2017-12-01</td>\n",
       "      <td>0.54</td>\n",
       "      <td>0.57</td>\n",
       "      <td>0.68</td>\n",
       "      <td>0.80</td>\n",
       "      <td>0.84</td>\n",
       "      <td>0.87</td>\n",
       "      <td>NaN</td>\n",
       "      <td>NaN</td>\n",
       "      <td>NaN</td>\n",
       "      <td>NaN</td>\n",
       "      <td>NaN</td>\n",
       "      <td>NaN</td>\n",
       "    </tr>\n",
       "    <tr>\n",
       "      <td>2018-01-01</td>\n",
       "      <td>0.42</td>\n",
       "      <td>0.45</td>\n",
       "      <td>0.48</td>\n",
       "      <td>0.49</td>\n",
       "      <td>0.50</td>\n",
       "      <td>NaN</td>\n",
       "      <td>NaN</td>\n",
       "      <td>NaN</td>\n",
       "      <td>NaN</td>\n",
       "      <td>NaN</td>\n",
       "      <td>NaN</td>\n",
       "      <td>NaN</td>\n",
       "    </tr>\n",
       "    <tr>\n",
       "      <td>2018-02-01</td>\n",
       "      <td>0.46</td>\n",
       "      <td>0.49</td>\n",
       "      <td>0.50</td>\n",
       "      <td>0.51</td>\n",
       "      <td>NaN</td>\n",
       "      <td>NaN</td>\n",
       "      <td>NaN</td>\n",
       "      <td>NaN</td>\n",
       "      <td>NaN</td>\n",
       "      <td>NaN</td>\n",
       "      <td>NaN</td>\n",
       "      <td>NaN</td>\n",
       "    </tr>\n",
       "    <tr>\n",
       "      <td>2018-03-01</td>\n",
       "      <td>0.56</td>\n",
       "      <td>0.60</td>\n",
       "      <td>0.63</td>\n",
       "      <td>NaN</td>\n",
       "      <td>NaN</td>\n",
       "      <td>NaN</td>\n",
       "      <td>NaN</td>\n",
       "      <td>NaN</td>\n",
       "      <td>NaN</td>\n",
       "      <td>NaN</td>\n",
       "      <td>NaN</td>\n",
       "      <td>NaN</td>\n",
       "    </tr>\n",
       "    <tr>\n",
       "      <td>2018-04-01</td>\n",
       "      <td>0.48</td>\n",
       "      <td>0.53</td>\n",
       "      <td>NaN</td>\n",
       "      <td>NaN</td>\n",
       "      <td>NaN</td>\n",
       "      <td>NaN</td>\n",
       "      <td>NaN</td>\n",
       "      <td>NaN</td>\n",
       "      <td>NaN</td>\n",
       "      <td>NaN</td>\n",
       "      <td>NaN</td>\n",
       "      <td>NaN</td>\n",
       "    </tr>\n",
       "    <tr>\n",
       "      <td>2018-05-01</td>\n",
       "      <td>0.63</td>\n",
       "      <td>NaN</td>\n",
       "      <td>NaN</td>\n",
       "      <td>NaN</td>\n",
       "      <td>NaN</td>\n",
       "      <td>NaN</td>\n",
       "      <td>NaN</td>\n",
       "      <td>NaN</td>\n",
       "      <td>NaN</td>\n",
       "      <td>NaN</td>\n",
       "      <td>NaN</td>\n",
       "      <td>NaN</td>\n",
       "    </tr>\n",
       "  </tbody>\n",
       "</table>\n",
       "</div>"
      ],
      "text/plain": [
       "age                  0     1     2     3     4     5     6     7     8     9   \\\n",
       "first_order_month                                                               \n",
       "2017-06-01         0.53  0.59  0.63  0.74  0.86  0.94  1.05  1.11  1.17  1.24   \n",
       "2017-07-01         0.63  0.67  0.73  0.77  0.79  0.81  0.82  0.84  0.85  0.87   \n",
       "2017-08-01         0.49  0.53  0.57  0.61  0.66  0.68  0.70  0.74  0.77  0.78   \n",
       "2017-09-01         0.60  0.72  0.77  1.19  1.23  1.30  1.38  1.40  1.42   NaN   \n",
       "2017-10-01         0.60  0.66  0.68  0.70  0.72  0.74  0.75  0.76   NaN   NaN   \n",
       "2017-11-01         0.55  0.60  0.62  0.65  0.67  0.68  0.69   NaN   NaN   NaN   \n",
       "2017-12-01         0.54  0.57  0.68  0.80  0.84  0.87   NaN   NaN   NaN   NaN   \n",
       "2018-01-01         0.42  0.45  0.48  0.49  0.50   NaN   NaN   NaN   NaN   NaN   \n",
       "2018-02-01         0.46  0.49  0.50  0.51   NaN   NaN   NaN   NaN   NaN   NaN   \n",
       "2018-03-01         0.56  0.60  0.63   NaN   NaN   NaN   NaN   NaN   NaN   NaN   \n",
       "2018-04-01         0.48  0.53   NaN   NaN   NaN   NaN   NaN   NaN   NaN   NaN   \n",
       "2018-05-01         0.63   NaN   NaN   NaN   NaN   NaN   NaN   NaN   NaN   NaN   \n",
       "\n",
       "age                  10    11  \n",
       "first_order_month              \n",
       "2017-06-01         1.31  1.33  \n",
       "2017-07-01         0.88   NaN  \n",
       "2017-08-01          NaN   NaN  \n",
       "2017-09-01          NaN   NaN  \n",
       "2017-10-01          NaN   NaN  \n",
       "2017-11-01          NaN   NaN  \n",
       "2017-12-01          NaN   NaN  \n",
       "2018-01-01          NaN   NaN  \n",
       "2018-02-01          NaN   NaN  \n",
       "2018-03-01          NaN   NaN  \n",
       "2018-04-01          NaN   NaN  \n",
       "2018-05-01          NaN   NaN  "
      ]
     },
     "execution_count": 94,
     "metadata": {},
     "output_type": "execute_result"
    }
   ],
   "source": [
    "#рассчитаем ROMI\n",
    "report_cohorts['romi'] = report_cohorts['ltv'] / report_cohorts['cac']\n",
    "output_cohorts = report_cohorts.pivot_table(\n",
    "    index='first_order_month', columns='age', values='romi', aggfunc='mean'\n",
    ")\n",
    "\n",
    "output_cohorts.cumsum(axis=1).round(2) "
   ]
  },
  {
   "cell_type": "markdown",
   "metadata": {},
   "source": [
    "Из всех когорт окупились только первая (к 6 месяцу жизни) и четвертая (к третьему месяцу жизни)"
   ]
  },
  {
   "cell_type": "code",
   "execution_count": 95,
   "metadata": {},
   "outputs": [
    {
     "data": {
      "text/plain": [
       "age\n",
       "0     0.540816\n",
       "1     0.581985\n",
       "2     0.631069\n",
       "3     0.719740\n",
       "4     0.782946\n",
       "5     0.859876\n",
       "6     0.896819\n",
       "7     0.969951\n",
       "8     1.053871\n",
       "9     0.964488\n",
       "10    1.094658\n",
       "11    1.333982\n",
       "dtype: float64"
      ]
     },
     "execution_count": 95,
     "metadata": {},
     "output_type": "execute_result"
    }
   ],
   "source": [
    "#На практике считают среднюю когорту — усредняют ROMI или LTV всех когорт за каждый месяц их жизни. \n",
    "#Узнаем, как быстро в среднем когорты окупаются.\n",
    "output_cohorts.cumsum(axis=1).mean(axis=0) "
   ]
  },
  {
   "cell_type": "markdown",
   "metadata": {},
   "source": [
    "В среднем когорты окупаются к 8 месяцу жизни."
   ]
  },
  {
   "cell_type": "markdown",
   "metadata": {},
   "source": [
    "### Расчет маркетинговых метрик"
   ]
  },
  {
   "cell_type": "code",
   "execution_count": 96,
   "metadata": {},
   "outputs": [
    {
     "name": "stdout",
     "output_type": "stream",
     "text": [
      "   source_id         dt  costs      month\n",
      "0          1 2017-06-01  75.20 2017-06-01\n",
      "1          1 2017-06-02  62.25 2017-06-01\n",
      "2          1 2017-06-03  36.53 2017-06-01\n",
      "3          1 2017-06-04  55.00 2017-06-01\n",
      "4          1 2017-06-05  57.08 2017-06-01\n"
     ]
    }
   ],
   "source": [
    "print(costs.head())"
   ]
  },
  {
   "cell_type": "markdown",
   "metadata": {},
   "source": [
    "#### Рассчет общих расходов на маркетинг. "
   ]
  },
  {
   "cell_type": "code",
   "execution_count": 97,
   "metadata": {},
   "outputs": [
    {
     "name": "stdout",
     "output_type": "stream",
     "text": [
      "Общие расходы на маркетинг: 329131.62\n"
     ]
    }
   ],
   "source": [
    "#общие расходы\n",
    "costs_all = costs['costs'].sum()\n",
    "print('Общие расходы на маркетинг:', costs_all )\n"
   ]
  },
  {
   "cell_type": "code",
   "execution_count": 98,
   "metadata": {},
   "outputs": [
    {
     "name": "stdout",
     "output_type": "stream",
     "text": [
      "   source_id      costs\n",
      "0          1   20833.27\n",
      "1          2   42806.04\n",
      "2          3  141321.63\n",
      "3          4   61073.60\n",
      "4          5   51757.10\n",
      "5          9    5517.49\n",
      "6         10    5822.49\n"
     ]
    }
   ],
   "source": [
    "# расходы по источникам\n",
    "costs_source = costs.groupby('source_id')['costs'].sum().reset_index()\n",
    "print(costs_source)"
   ]
  },
  {
   "cell_type": "code",
   "execution_count": 99,
   "metadata": {},
   "outputs": [
    {
     "data": {
      "image/png": "[encoded data removed]",
      "text/plain": [
       "<Figure size 1080x360 with 1 Axes>"
      ]
     },
     "metadata": {},
     "output_type": "display_data"
    }
   ],
   "source": [
    "costs_source.sort_values(by = 'costs', ascending = False).plot(kind = 'bar', x = 'source_id', y = 'costs', figsize = (15, 5), grid = True)\n",
    "plt.title('График расходов в зависимости от источника')\n",
    "plt.ylabel('Сумма расходов')\n",
    "plt.xlabel('источник');"
   ]
  },
  {
   "cell_type": "markdown",
   "metadata": {},
   "source": [
    "Самые большие расходы на источник с ID = 3"
   ]
  },
  {
   "cell_type": "code",
   "execution_count": 100,
   "metadata": {},
   "outputs": [
    {
     "name": "stdout",
     "output_type": "stream",
     "text": [
      "        month     costs\n",
      "0  2017-06-01  18015.00\n",
      "1  2017-07-01  18240.59\n",
      "2  2017-08-01  14790.54\n",
      "3  2017-09-01  24368.91\n",
      "4  2017-10-01  36322.88\n",
      "5  2017-11-01  37907.88\n",
      "6  2017-12-01  38315.35\n",
      "7  2018-01-01  33518.52\n",
      "8  2018-02-01  32723.03\n",
      "9  2018-03-01  30415.27\n",
      "10 2018-04-01  22289.38\n",
      "11 2018-05-01  22224.27\n"
     ]
    }
   ],
   "source": [
    "# посчитаем расходы по месяцам, добавим столбец с номером месяца\n",
    "costs['month'] = costs['dt'].astype('datetime64[M]')\n",
    "monthly_costs = costs.groupby('month')['costs'].sum().reset_index()\n",
    "print(monthly_costs)"
   ]
  },
  {
   "cell_type": "code",
   "execution_count": 101,
   "metadata": {},
   "outputs": [
    {
     "data": {
      "image/png": "[encoded data removed]",
      "text/plain": [
       "<Figure size 1080x360 with 1 Axes>"
      ]
     },
     "metadata": {},
     "output_type": "display_data"
    }
   ],
   "source": [
    "monthly_costs.sort_values(by = 'costs', ascending = False).plot(kind = 'bar', x = 'month', y = 'costs', figsize = (15, 5), grid = True)\n",
    "plt.title('Зависимость расходов от месяца')\n",
    "plt.ylabel('Расходы')\n",
    "plt.xlabel('месяц');"
   ]
  },
  {
   "cell_type": "markdown",
   "metadata": {},
   "source": [
    "Самые большие расходы в декабре и ноябре."
   ]
  },
  {
   "cell_type": "markdown",
   "metadata": {},
   "source": [
    "<div class=\"alert alert-block alert-success\">\n",
    "<b>Комментарии от ревьюера:</b>\n",
    "\n",
    "Всё верно. Наглядные графики и корректный расчеты. Молодец)\n",
    "</div>"
   ]
  },
  {
   "cell_type": "markdown",
   "metadata": {},
   "source": [
    "#### Рассчет среднего CAC на одного покупателя для всего проекта и для каждого источника трафика. "
   ]
  },
  {
   "cell_type": "code",
   "execution_count": 102,
   "metadata": {},
   "outputs": [
    {
     "data": {
      "text/html": [
       "<div>\n",
       "<style scoped>\n",
       "    .dataframe tbody tr th:only-of-type {\n",
       "        vertical-align: middle;\n",
       "    }\n",
       "\n",
       "    .dataframe tbody tr th {\n",
       "        vertical-align: top;\n",
       "    }\n",
       "\n",
       "    .dataframe thead th {\n",
       "        text-align: right;\n",
       "    }\n",
       "</style>\n",
       "<table border=\"1\" class=\"dataframe\">\n",
       "  <thead>\n",
       "    <tr style=\"text-align: right;\">\n",
       "      <th></th>\n",
       "      <th>buy_ts</th>\n",
       "      <th>revenue</th>\n",
       "      <th>uid</th>\n",
       "      <th>order_month</th>\n",
       "    </tr>\n",
       "  </thead>\n",
       "  <tbody>\n",
       "    <tr>\n",
       "      <td>0</td>\n",
       "      <td>2017-06-01 00:10:00</td>\n",
       "      <td>17.00</td>\n",
       "      <td>10329302124590727494</td>\n",
       "      <td>2017-06-01</td>\n",
       "    </tr>\n",
       "    <tr>\n",
       "      <td>1</td>\n",
       "      <td>2017-06-01 00:25:00</td>\n",
       "      <td>0.55</td>\n",
       "      <td>11627257723692907447</td>\n",
       "      <td>2017-06-01</td>\n",
       "    </tr>\n",
       "    <tr>\n",
       "      <td>2</td>\n",
       "      <td>2017-06-01 00:27:00</td>\n",
       "      <td>0.37</td>\n",
       "      <td>17903680561304213844</td>\n",
       "      <td>2017-06-01</td>\n",
       "    </tr>\n",
       "    <tr>\n",
       "      <td>3</td>\n",
       "      <td>2017-06-01 00:29:00</td>\n",
       "      <td>0.55</td>\n",
       "      <td>16109239769442553005</td>\n",
       "      <td>2017-06-01</td>\n",
       "    </tr>\n",
       "    <tr>\n",
       "      <td>4</td>\n",
       "      <td>2017-06-01 07:58:00</td>\n",
       "      <td>0.37</td>\n",
       "      <td>14200605875248379450</td>\n",
       "      <td>2017-06-01</td>\n",
       "    </tr>\n",
       "  </tbody>\n",
       "</table>\n",
       "</div>"
      ],
      "text/plain": [
       "               buy_ts  revenue                   uid order_month\n",
       "0 2017-06-01 00:10:00    17.00  10329302124590727494  2017-06-01\n",
       "1 2017-06-01 00:25:00     0.55  11627257723692907447  2017-06-01\n",
       "2 2017-06-01 00:27:00     0.37  17903680561304213844  2017-06-01\n",
       "3 2017-06-01 00:29:00     0.55  16109239769442553005  2017-06-01\n",
       "4 2017-06-01 07:58:00     0.37  14200605875248379450  2017-06-01"
      ]
     },
     "execution_count": 102,
     "metadata": {},
     "output_type": "execute_result"
    }
   ],
   "source": [
    "orders.head()"
   ]
  },
  {
   "cell_type": "code",
   "execution_count": 103,
   "metadata": {},
   "outputs": [
    {
     "name": "stdout",
     "output_type": "stream",
     "text": [
      "               buy_ts  revenue                   uid order_month start_date\n",
      "0 2017-06-01 00:10:00    17.00  10329302124590727494  2017-06-01 2017-06-01\n",
      "1 2017-06-01 00:25:00     0.55  11627257723692907447  2017-06-01 2017-06-01\n",
      "2 2017-06-01 00:27:00     0.37  17903680561304213844  2017-06-01 2017-06-01\n",
      "3 2017-06-01 00:29:00     0.55  16109239769442553005  2017-06-01 2017-06-01\n",
      "4 2017-06-01 07:58:00     0.37  14200605875248379450  2017-06-01 2017-06-01\n"
     ]
    }
   ],
   "source": [
    "orders['start_date'] = orders['buy_ts'].astype('datetime64[D]')\n",
    "print(orders.head())"
   ]
  },
  {
   "cell_type": "code",
   "execution_count": 104,
   "metadata": {},
   "outputs": [
    {
     "name": "stdout",
     "output_type": "stream",
     "text": [
      "                uid first_order\n",
      "0   313578113262317  2018-01-03\n",
      "1  1575281904278712  2017-06-03\n",
      "2  2429014661409475  2017-10-11\n",
      "3  2464366381792757  2018-01-28\n",
      "4  2551852515556206  2017-11-24\n"
     ]
    }
   ],
   "source": [
    "#создам таблицу, где каждому пользователю будет соответвовать дата первого заказа\n",
    "first_order = orders.groupby('uid').agg({'start_date':'min'}).reset_index()\n",
    "first_order.columns = ['uid', 'first_order']\n",
    "print(first_order.head())"
   ]
  },
  {
   "cell_type": "code",
   "execution_count": 105,
   "metadata": {},
   "outputs": [
    {
     "data": {
      "text/html": [
       "<div>\n",
       "<style scoped>\n",
       "    .dataframe tbody tr th:only-of-type {\n",
       "        vertical-align: middle;\n",
       "    }\n",
       "\n",
       "    .dataframe tbody tr th {\n",
       "        vertical-align: top;\n",
       "    }\n",
       "\n",
       "    .dataframe thead th {\n",
       "        text-align: right;\n",
       "    }\n",
       "</style>\n",
       "<table border=\"1\" class=\"dataframe\">\n",
       "  <thead>\n",
       "    <tr style=\"text-align: right;\">\n",
       "      <th></th>\n",
       "      <th>device</th>\n",
       "      <th>end_ts</th>\n",
       "      <th>source_id</th>\n",
       "      <th>start_ts</th>\n",
       "      <th>uid</th>\n",
       "      <th>session_year</th>\n",
       "      <th>session_month</th>\n",
       "      <th>session_week</th>\n",
       "      <th>session_weekday</th>\n",
       "      <th>session_date</th>\n",
       "      <th>session_duration_sec</th>\n",
       "      <th>first_activity_date</th>\n",
       "      <th>first_visits_month</th>\n",
       "      <th>cohort_lifetime</th>\n",
       "    </tr>\n",
       "  </thead>\n",
       "  <tbody>\n",
       "    <tr>\n",
       "      <td>0</td>\n",
       "      <td>touch</td>\n",
       "      <td>2017-12-20 17:38:00</td>\n",
       "      <td>4</td>\n",
       "      <td>2017-12-20 17:20:00</td>\n",
       "      <td>16879256277535980062</td>\n",
       "      <td>2017</td>\n",
       "      <td>2017-12-01</td>\n",
       "      <td>51</td>\n",
       "      <td>2</td>\n",
       "      <td>2017-12-20</td>\n",
       "      <td>1080</td>\n",
       "      <td>2017-12-20 17:20:00</td>\n",
       "      <td>2017-12-01</td>\n",
       "      <td>0</td>\n",
       "    </tr>\n",
       "    <tr>\n",
       "      <td>1</td>\n",
       "      <td>desktop</td>\n",
       "      <td>2018-02-19 17:21:00</td>\n",
       "      <td>2</td>\n",
       "      <td>2018-02-19 16:53:00</td>\n",
       "      <td>104060357244891740</td>\n",
       "      <td>2018</td>\n",
       "      <td>2018-02-01</td>\n",
       "      <td>8</td>\n",
       "      <td>0</td>\n",
       "      <td>2018-02-19</td>\n",
       "      <td>1680</td>\n",
       "      <td>2018-02-19 16:53:00</td>\n",
       "      <td>2018-02-01</td>\n",
       "      <td>0</td>\n",
       "    </tr>\n",
       "    <tr>\n",
       "      <td>2</td>\n",
       "      <td>touch</td>\n",
       "      <td>2017-07-01 01:54:00</td>\n",
       "      <td>5</td>\n",
       "      <td>2017-07-01 01:54:00</td>\n",
       "      <td>7459035603376831527</td>\n",
       "      <td>2017</td>\n",
       "      <td>2017-07-01</td>\n",
       "      <td>26</td>\n",
       "      <td>5</td>\n",
       "      <td>2017-07-01</td>\n",
       "      <td>0</td>\n",
       "      <td>2017-07-01 01:54:00</td>\n",
       "      <td>2017-07-01</td>\n",
       "      <td>0</td>\n",
       "    </tr>\n",
       "    <tr>\n",
       "      <td>3</td>\n",
       "      <td>desktop</td>\n",
       "      <td>2018-05-20 11:23:00</td>\n",
       "      <td>9</td>\n",
       "      <td>2018-05-20 10:59:00</td>\n",
       "      <td>16174680259334210214</td>\n",
       "      <td>2018</td>\n",
       "      <td>2018-05-01</td>\n",
       "      <td>20</td>\n",
       "      <td>6</td>\n",
       "      <td>2018-05-20</td>\n",
       "      <td>1440</td>\n",
       "      <td>2018-03-09 20:05:00</td>\n",
       "      <td>2018-03-01</td>\n",
       "      <td>2</td>\n",
       "    </tr>\n",
       "    <tr>\n",
       "      <td>4</td>\n",
       "      <td>desktop</td>\n",
       "      <td>2017-12-27 14:06:00</td>\n",
       "      <td>3</td>\n",
       "      <td>2017-12-27 14:06:00</td>\n",
       "      <td>9969694820036681168</td>\n",
       "      <td>2017</td>\n",
       "      <td>2017-12-01</td>\n",
       "      <td>52</td>\n",
       "      <td>2</td>\n",
       "      <td>2017-12-27</td>\n",
       "      <td>0</td>\n",
       "      <td>2017-12-27 14:06:00</td>\n",
       "      <td>2017-12-01</td>\n",
       "      <td>0</td>\n",
       "    </tr>\n",
       "  </tbody>\n",
       "</table>\n",
       "</div>"
      ],
      "text/plain": [
       "    device              end_ts  source_id            start_ts  \\\n",
       "0    touch 2017-12-20 17:38:00          4 2017-12-20 17:20:00   \n",
       "1  desktop 2018-02-19 17:21:00          2 2018-02-19 16:53:00   \n",
       "2    touch 2017-07-01 01:54:00          5 2017-07-01 01:54:00   \n",
       "3  desktop 2018-05-20 11:23:00          9 2018-05-20 10:59:00   \n",
       "4  desktop 2017-12-27 14:06:00          3 2017-12-27 14:06:00   \n",
       "\n",
       "                    uid  session_year session_month  session_week  \\\n",
       "0  16879256277535980062          2017    2017-12-01            51   \n",
       "1    104060357244891740          2018    2018-02-01             8   \n",
       "2   7459035603376831527          2017    2017-07-01            26   \n",
       "3  16174680259334210214          2018    2018-05-01            20   \n",
       "4   9969694820036681168          2017    2017-12-01            52   \n",
       "\n",
       "   session_weekday session_date  session_duration_sec first_activity_date  \\\n",
       "0                2   2017-12-20                  1080 2017-12-20 17:20:00   \n",
       "1                0   2018-02-19                  1680 2018-02-19 16:53:00   \n",
       "2                5   2017-07-01                     0 2017-07-01 01:54:00   \n",
       "3                6   2018-05-20                  1440 2018-03-09 20:05:00   \n",
       "4                2   2017-12-27                     0 2017-12-27 14:06:00   \n",
       "\n",
       "  first_visits_month  cohort_lifetime  \n",
       "0         2017-12-01                0  \n",
       "1         2018-02-01                0  \n",
       "2         2017-07-01                0  \n",
       "3         2018-03-01                2  \n",
       "4         2017-12-01                0  "
      ]
     },
     "execution_count": 105,
     "metadata": {},
     "output_type": "execute_result"
    }
   ],
   "source": [
    "visits.head()"
   ]
  },
  {
   "cell_type": "code",
   "execution_count": 106,
   "metadata": {},
   "outputs": [
    {
     "name": "stdout",
     "output_type": "stream",
     "text": [
      "uid\n",
      "11863502262781     3\n",
      "49537067089222     2\n",
      "297729379853735    3\n",
      "313578113262317    2\n",
      "325320750514679    5\n",
      "Name: source_id, dtype: int64\n"
     ]
    }
   ],
   "source": [
    "#создам таблицу с первыми источниками (каждому uid соответвует номер источника)\n",
    "first_sources = visits.sort_values('start_ts').groupby('uid')['source_id'].first()\n",
    "print(first_sources.head())\n",
    "#print(len(first_sources))"
   ]
  },
  {
   "cell_type": "code",
   "execution_count": 107,
   "metadata": {},
   "outputs": [],
   "source": [
    "df = first_order.merge(first_sources, on = 'uid')"
   ]
  },
  {
   "cell_type": "code",
   "execution_count": 108,
   "metadata": {},
   "outputs": [
    {
     "name": "stdout",
     "output_type": "stream",
     "text": [
      "                uid first_order  source_id\n",
      "0   313578113262317  2018-01-03          2\n",
      "1  1575281904278712  2017-06-03         10\n",
      "2  2429014661409475  2017-10-11          3\n",
      "3  2464366381792757  2018-01-28          5\n",
      "4  2551852515556206  2017-11-24          5\n"
     ]
    }
   ],
   "source": [
    "print(df.head())\n",
    "#print(len(df))"
   ]
  },
  {
   "cell_type": "code",
   "execution_count": 109,
   "metadata": {},
   "outputs": [],
   "source": [
    "df['first_order_month'] = df['first_order'].astype('datetime64[M]')"
   ]
  },
  {
   "cell_type": "code",
   "execution_count": 110,
   "metadata": {},
   "outputs": [
    {
     "name": "stdout",
     "output_type": "stream",
     "text": [
      "   source_id first_order  bayers\n",
      "0          1  2017-06-01      14\n",
      "1          1  2017-06-02       7\n",
      "2          1  2017-06-03       7\n",
      "3          1  2017-06-04       3\n",
      "4          1  2017-06-05      18\n"
     ]
    }
   ],
   "source": [
    "#группировка по иcточнику и дате, подсчет кол-ва покупателей\n",
    "bayers = df.groupby(['source_id', 'first_order']).agg({'uid':'count'}).reset_index()\n",
    "bayers.columns = ['source_id', 'first_order', 'bayers']\n",
    "print(bayers.head())\n",
    "#print(len(bayers))"
   ]
  },
  {
   "cell_type": "code",
   "execution_count": 111,
   "metadata": {},
   "outputs": [
    {
     "data": {
      "text/html": [
       "<div>\n",
       "<style scoped>\n",
       "    .dataframe tbody tr th:only-of-type {\n",
       "        vertical-align: middle;\n",
       "    }\n",
       "\n",
       "    .dataframe tbody tr th {\n",
       "        vertical-align: top;\n",
       "    }\n",
       "\n",
       "    .dataframe thead th {\n",
       "        text-align: right;\n",
       "    }\n",
       "</style>\n",
       "<table border=\"1\" class=\"dataframe\">\n",
       "  <thead>\n",
       "    <tr style=\"text-align: right;\">\n",
       "      <th></th>\n",
       "      <th>source_id</th>\n",
       "      <th>dt</th>\n",
       "      <th>costs</th>\n",
       "      <th>month</th>\n",
       "    </tr>\n",
       "  </thead>\n",
       "  <tbody>\n",
       "    <tr>\n",
       "      <td>0</td>\n",
       "      <td>1</td>\n",
       "      <td>2017-06-01</td>\n",
       "      <td>75.20</td>\n",
       "      <td>2017-06-01</td>\n",
       "    </tr>\n",
       "    <tr>\n",
       "      <td>1</td>\n",
       "      <td>1</td>\n",
       "      <td>2017-06-02</td>\n",
       "      <td>62.25</td>\n",
       "      <td>2017-06-01</td>\n",
       "    </tr>\n",
       "    <tr>\n",
       "      <td>2</td>\n",
       "      <td>1</td>\n",
       "      <td>2017-06-03</td>\n",
       "      <td>36.53</td>\n",
       "      <td>2017-06-01</td>\n",
       "    </tr>\n",
       "    <tr>\n",
       "      <td>3</td>\n",
       "      <td>1</td>\n",
       "      <td>2017-06-04</td>\n",
       "      <td>55.00</td>\n",
       "      <td>2017-06-01</td>\n",
       "    </tr>\n",
       "    <tr>\n",
       "      <td>4</td>\n",
       "      <td>1</td>\n",
       "      <td>2017-06-05</td>\n",
       "      <td>57.08</td>\n",
       "      <td>2017-06-01</td>\n",
       "    </tr>\n",
       "  </tbody>\n",
       "</table>\n",
       "</div>"
      ],
      "text/plain": [
       "   source_id         dt  costs      month\n",
       "0          1 2017-06-01  75.20 2017-06-01\n",
       "1          1 2017-06-02  62.25 2017-06-01\n",
       "2          1 2017-06-03  36.53 2017-06-01\n",
       "3          1 2017-06-04  55.00 2017-06-01\n",
       "4          1 2017-06-05  57.08 2017-06-01"
      ]
     },
     "metadata": {},
     "output_type": "display_data"
    }
   ],
   "source": [
    "display(costs.head())\n",
    "#print(len(costs))"
   ]
  },
  {
   "cell_type": "code",
   "execution_count": 112,
   "metadata": {},
   "outputs": [],
   "source": [
    "df_2 = pd.merge(bayers, costs, right_on = ['source_id', 'dt'], left_on = ['source_id', 'first_order'] )"
   ]
  },
  {
   "cell_type": "code",
   "execution_count": 113,
   "metadata": {},
   "outputs": [
    {
     "name": "stdout",
     "output_type": "stream",
     "text": [
      "   source_id first_order  bayers         dt  costs      month\n",
      "0          1  2017-06-01      14 2017-06-01  75.20 2017-06-01\n",
      "1          1  2017-06-02       7 2017-06-02  62.25 2017-06-01\n",
      "2          1  2017-06-03       7 2017-06-03  36.53 2017-06-01\n",
      "3          1  2017-06-04       3 2017-06-04  55.00 2017-06-01\n",
      "4          1  2017-06-05      18 2017-06-05  57.08 2017-06-01\n"
     ]
    }
   ],
   "source": [
    "print(df_2.head())\n",
    "#print(len(df_2))"
   ]
  },
  {
   "cell_type": "code",
   "execution_count": 114,
   "metadata": {},
   "outputs": [],
   "source": [
    "#CAC на одного покупателя = все расходы / на общее число пользователей\n",
    "df_2['CAC'] = df_2['costs'] / df_2['bayers']"
   ]
  },
  {
   "cell_type": "code",
   "execution_count": 115,
   "metadata": {},
   "outputs": [
    {
     "name": "stdout",
     "output_type": "stream",
     "text": [
      "   source_id first_order  bayers         dt  costs      month        CAC\n",
      "0          1  2017-06-01      14 2017-06-01  75.20 2017-06-01   5.371429\n",
      "1          1  2017-06-02       7 2017-06-02  62.25 2017-06-01   8.892857\n",
      "2          1  2017-06-03       7 2017-06-03  36.53 2017-06-01   5.218571\n",
      "3          1  2017-06-04       3 2017-06-04  55.00 2017-06-01  18.333333\n",
      "4          1  2017-06-05      18 2017-06-05  57.08 2017-06-01   3.171111\n"
     ]
    }
   ],
   "source": [
    "print(df_2.head())\n",
    "#print(len(df_2))"
   ]
  },
  {
   "cell_type": "code",
   "execution_count": 116,
   "metadata": {
    "scrolled": false
   },
   "outputs": [
    {
     "name": "stdout",
     "output_type": "stream",
     "text": [
      "   source_id        CAC\n",
      "0          1   9.489732\n",
      "1          2  16.287024\n",
      "2          3  15.580474\n",
      "3          4   7.271743\n",
      "4          5   8.336731\n",
      "5          9   6.842532\n",
      "6         10   6.555415\n"
     ]
    }
   ],
   "source": [
    "#costs для каждого источника трафика\n",
    "costs_source = df_2.groupby('source_id')['CAC'].mean().reset_index()\n",
    "print(costs_source)"
   ]
  },
  {
   "cell_type": "code",
   "execution_count": 117,
   "metadata": {},
   "outputs": [
    {
     "data": {
      "image/png": "[encoded data removed]",
      "text/plain": [
       "<Figure size 1080x504 with 1 Axes>"
      ]
     },
     "metadata": {},
     "output_type": "display_data"
    }
   ],
   "source": [
    "costs_source.sort_values(by = 'CAC', ascending = False).plot(\n",
    "    kind = 'bar', x = 'source_id', grid = True, figsize = (15, 7))\n",
    "plt.title('Зависимость CAC от истоника')\n",
    "plt.ylabel('CAC')\n",
    "plt.xlabel('id источника');"
   ]
  },
  {
   "cell_type": "markdown",
   "metadata": {},
   "source": [
    "Наибольшая стоимость привлечения клиента у источника 2. "
   ]
  },
  {
   "cell_type": "markdown",
   "metadata": {},
   "source": [
    "#### Рассчет ROMI по когортам в разрезе источников."
   ]
  },
  {
   "cell_type": "code",
   "execution_count": 118,
   "metadata": {},
   "outputs": [
    {
     "data": {
      "text/html": [
       "<div>\n",
       "<style scoped>\n",
       "    .dataframe tbody tr th:only-of-type {\n",
       "        vertical-align: middle;\n",
       "    }\n",
       "\n",
       "    .dataframe tbody tr th {\n",
       "        vertical-align: top;\n",
       "    }\n",
       "\n",
       "    .dataframe thead th {\n",
       "        text-align: right;\n",
       "    }\n",
       "</style>\n",
       "<table border=\"1\" class=\"dataframe\">\n",
       "  <thead>\n",
       "    <tr style=\"text-align: right;\">\n",
       "      <th></th>\n",
       "      <th>device</th>\n",
       "      <th>end_ts</th>\n",
       "      <th>source_id</th>\n",
       "      <th>start_ts</th>\n",
       "      <th>uid</th>\n",
       "      <th>session_year</th>\n",
       "      <th>session_month</th>\n",
       "      <th>session_week</th>\n",
       "      <th>session_weekday</th>\n",
       "      <th>session_date</th>\n",
       "      <th>session_duration_sec</th>\n",
       "      <th>first_activity_date</th>\n",
       "      <th>first_visits_month</th>\n",
       "      <th>cohort_lifetime</th>\n",
       "    </tr>\n",
       "  </thead>\n",
       "  <tbody>\n",
       "    <tr>\n",
       "      <td>0</td>\n",
       "      <td>touch</td>\n",
       "      <td>2017-12-20 17:38:00</td>\n",
       "      <td>4</td>\n",
       "      <td>2017-12-20 17:20:00</td>\n",
       "      <td>16879256277535980062</td>\n",
       "      <td>2017</td>\n",
       "      <td>2017-12-01</td>\n",
       "      <td>51</td>\n",
       "      <td>2</td>\n",
       "      <td>2017-12-20</td>\n",
       "      <td>1080</td>\n",
       "      <td>2017-12-20 17:20:00</td>\n",
       "      <td>2017-12-01</td>\n",
       "      <td>0</td>\n",
       "    </tr>\n",
       "    <tr>\n",
       "      <td>1</td>\n",
       "      <td>desktop</td>\n",
       "      <td>2018-02-19 17:21:00</td>\n",
       "      <td>2</td>\n",
       "      <td>2018-02-19 16:53:00</td>\n",
       "      <td>104060357244891740</td>\n",
       "      <td>2018</td>\n",
       "      <td>2018-02-01</td>\n",
       "      <td>8</td>\n",
       "      <td>0</td>\n",
       "      <td>2018-02-19</td>\n",
       "      <td>1680</td>\n",
       "      <td>2018-02-19 16:53:00</td>\n",
       "      <td>2018-02-01</td>\n",
       "      <td>0</td>\n",
       "    </tr>\n",
       "    <tr>\n",
       "      <td>2</td>\n",
       "      <td>touch</td>\n",
       "      <td>2017-07-01 01:54:00</td>\n",
       "      <td>5</td>\n",
       "      <td>2017-07-01 01:54:00</td>\n",
       "      <td>7459035603376831527</td>\n",
       "      <td>2017</td>\n",
       "      <td>2017-07-01</td>\n",
       "      <td>26</td>\n",
       "      <td>5</td>\n",
       "      <td>2017-07-01</td>\n",
       "      <td>0</td>\n",
       "      <td>2017-07-01 01:54:00</td>\n",
       "      <td>2017-07-01</td>\n",
       "      <td>0</td>\n",
       "    </tr>\n",
       "    <tr>\n",
       "      <td>3</td>\n",
       "      <td>desktop</td>\n",
       "      <td>2018-05-20 11:23:00</td>\n",
       "      <td>9</td>\n",
       "      <td>2018-05-20 10:59:00</td>\n",
       "      <td>16174680259334210214</td>\n",
       "      <td>2018</td>\n",
       "      <td>2018-05-01</td>\n",
       "      <td>20</td>\n",
       "      <td>6</td>\n",
       "      <td>2018-05-20</td>\n",
       "      <td>1440</td>\n",
       "      <td>2018-03-09 20:05:00</td>\n",
       "      <td>2018-03-01</td>\n",
       "      <td>2</td>\n",
       "    </tr>\n",
       "    <tr>\n",
       "      <td>4</td>\n",
       "      <td>desktop</td>\n",
       "      <td>2017-12-27 14:06:00</td>\n",
       "      <td>3</td>\n",
       "      <td>2017-12-27 14:06:00</td>\n",
       "      <td>9969694820036681168</td>\n",
       "      <td>2017</td>\n",
       "      <td>2017-12-01</td>\n",
       "      <td>52</td>\n",
       "      <td>2</td>\n",
       "      <td>2017-12-27</td>\n",
       "      <td>0</td>\n",
       "      <td>2017-12-27 14:06:00</td>\n",
       "      <td>2017-12-01</td>\n",
       "      <td>0</td>\n",
       "    </tr>\n",
       "  </tbody>\n",
       "</table>\n",
       "</div>"
      ],
      "text/plain": [
       "    device              end_ts  source_id            start_ts  \\\n",
       "0    touch 2017-12-20 17:38:00          4 2017-12-20 17:20:00   \n",
       "1  desktop 2018-02-19 17:21:00          2 2018-02-19 16:53:00   \n",
       "2    touch 2017-07-01 01:54:00          5 2017-07-01 01:54:00   \n",
       "3  desktop 2018-05-20 11:23:00          9 2018-05-20 10:59:00   \n",
       "4  desktop 2017-12-27 14:06:00          3 2017-12-27 14:06:00   \n",
       "\n",
       "                    uid  session_year session_month  session_week  \\\n",
       "0  16879256277535980062          2017    2017-12-01            51   \n",
       "1    104060357244891740          2018    2018-02-01             8   \n",
       "2   7459035603376831527          2017    2017-07-01            26   \n",
       "3  16174680259334210214          2018    2018-05-01            20   \n",
       "4   9969694820036681168          2017    2017-12-01            52   \n",
       "\n",
       "   session_weekday session_date  session_duration_sec first_activity_date  \\\n",
       "0                2   2017-12-20                  1080 2017-12-20 17:20:00   \n",
       "1                0   2018-02-19                  1680 2018-02-19 16:53:00   \n",
       "2                5   2017-07-01                     0 2017-07-01 01:54:00   \n",
       "3                6   2018-05-20                  1440 2018-03-09 20:05:00   \n",
       "4                2   2017-12-27                     0 2017-12-27 14:06:00   \n",
       "\n",
       "  first_visits_month  cohort_lifetime  \n",
       "0         2017-12-01                0  \n",
       "1         2018-02-01                0  \n",
       "2         2017-07-01                0  \n",
       "3         2018-03-01                2  \n",
       "4         2017-12-01                0  "
      ]
     },
     "execution_count": 118,
     "metadata": {},
     "output_type": "execute_result"
    }
   ],
   "source": [
    "visits.head()"
   ]
  },
  {
   "cell_type": "code",
   "execution_count": 119,
   "metadata": {},
   "outputs": [],
   "source": [
    "#выделим номер первого источника для каждого uid\n",
    "#чтобы кажому пользователю присвоить номер источника необходимо\n",
    "#отсортировать визиты по start_ts, сгруппировать по uid, взять first\n",
    "first_sources_1 = visits.sort_values(by = 'start_ts').groupby(\n",
    "    'uid')['source_id'].first().reset_index()"
   ]
  },
  {
   "cell_type": "code",
   "execution_count": 120,
   "metadata": {},
   "outputs": [
    {
     "name": "stdout",
     "output_type": "stream",
     "text": [
      "               uid  source_id\n",
      "0   11863502262781          3\n",
      "1   49537067089222          2\n",
      "2  297729379853735          3\n",
      "3  313578113262317          2\n",
      "4  325320750514679          5\n"
     ]
    }
   ],
   "source": [
    "print(first_sources_1.head())\n",
    "#Получили таблицу, где каждому пользователю соответсвует номер источника"
   ]
  },
  {
   "cell_type": "code",
   "execution_count": 121,
   "metadata": {},
   "outputs": [
    {
     "data": {
      "text/html": [
       "<div>\n",
       "<style scoped>\n",
       "    .dataframe tbody tr th:only-of-type {\n",
       "        vertical-align: middle;\n",
       "    }\n",
       "\n",
       "    .dataframe tbody tr th {\n",
       "        vertical-align: top;\n",
       "    }\n",
       "\n",
       "    .dataframe thead th {\n",
       "        text-align: right;\n",
       "    }\n",
       "</style>\n",
       "<table border=\"1\" class=\"dataframe\">\n",
       "  <thead>\n",
       "    <tr style=\"text-align: right;\">\n",
       "      <th></th>\n",
       "      <th>buy_ts</th>\n",
       "      <th>revenue</th>\n",
       "      <th>uid</th>\n",
       "      <th>order_month</th>\n",
       "      <th>start_date</th>\n",
       "    </tr>\n",
       "  </thead>\n",
       "  <tbody>\n",
       "    <tr>\n",
       "      <td>0</td>\n",
       "      <td>2017-06-01 00:10:00</td>\n",
       "      <td>17.00</td>\n",
       "      <td>10329302124590727494</td>\n",
       "      <td>2017-06-01</td>\n",
       "      <td>2017-06-01</td>\n",
       "    </tr>\n",
       "    <tr>\n",
       "      <td>1</td>\n",
       "      <td>2017-06-01 00:25:00</td>\n",
       "      <td>0.55</td>\n",
       "      <td>11627257723692907447</td>\n",
       "      <td>2017-06-01</td>\n",
       "      <td>2017-06-01</td>\n",
       "    </tr>\n",
       "    <tr>\n",
       "      <td>2</td>\n",
       "      <td>2017-06-01 00:27:00</td>\n",
       "      <td>0.37</td>\n",
       "      <td>17903680561304213844</td>\n",
       "      <td>2017-06-01</td>\n",
       "      <td>2017-06-01</td>\n",
       "    </tr>\n",
       "    <tr>\n",
       "      <td>3</td>\n",
       "      <td>2017-06-01 00:29:00</td>\n",
       "      <td>0.55</td>\n",
       "      <td>16109239769442553005</td>\n",
       "      <td>2017-06-01</td>\n",
       "      <td>2017-06-01</td>\n",
       "    </tr>\n",
       "    <tr>\n",
       "      <td>4</td>\n",
       "      <td>2017-06-01 07:58:00</td>\n",
       "      <td>0.37</td>\n",
       "      <td>14200605875248379450</td>\n",
       "      <td>2017-06-01</td>\n",
       "      <td>2017-06-01</td>\n",
       "    </tr>\n",
       "  </tbody>\n",
       "</table>\n",
       "</div>"
      ],
      "text/plain": [
       "               buy_ts  revenue                   uid order_month start_date\n",
       "0 2017-06-01 00:10:00    17.00  10329302124590727494  2017-06-01 2017-06-01\n",
       "1 2017-06-01 00:25:00     0.55  11627257723692907447  2017-06-01 2017-06-01\n",
       "2 2017-06-01 00:27:00     0.37  17903680561304213844  2017-06-01 2017-06-01\n",
       "3 2017-06-01 00:29:00     0.55  16109239769442553005  2017-06-01 2017-06-01\n",
       "4 2017-06-01 07:58:00     0.37  14200605875248379450  2017-06-01 2017-06-01"
      ]
     },
     "execution_count": 121,
     "metadata": {},
     "output_type": "execute_result"
    }
   ],
   "source": [
    "orders.head()"
   ]
  },
  {
   "cell_type": "code",
   "execution_count": 122,
   "metadata": {},
   "outputs": [],
   "source": [
    "#объединю таблицу first_sources_1 с таблицей orders\n",
    "df_1 =  first_sources_1.merge(orders, on = 'uid')"
   ]
  },
  {
   "cell_type": "code",
   "execution_count": 123,
   "metadata": {},
   "outputs": [
    {
     "name": "stdout",
     "output_type": "stream",
     "text": [
      "                uid  source_id              buy_ts  revenue order_month  \\\n",
      "0   313578113262317          2 2018-01-03 21:51:00     0.55  2018-01-01   \n",
      "1  1575281904278712         10 2017-06-03 10:13:00     1.22  2017-06-01   \n",
      "2  1575281904278712         10 2017-06-03 17:39:00     1.83  2017-06-01   \n",
      "3  2429014661409475          3 2017-10-11 18:33:00    73.33  2017-10-01   \n",
      "4  2464366381792757          5 2018-01-28 15:54:00     2.44  2018-01-01   \n",
      "\n",
      "  start_date  \n",
      "0 2018-01-03  \n",
      "1 2017-06-03  \n",
      "2 2017-06-03  \n",
      "3 2017-10-11  \n",
      "4 2018-01-28  \n"
     ]
    }
   ],
   "source": [
    "print(df_1.head())\n",
    "#в данной таблице кажому пользователю соответвуют: id источника, таймкод покупки,\n",
    "#выручка, месяц заказа и дата первого заказа"
   ]
  },
  {
   "cell_type": "code",
   "execution_count": 124,
   "metadata": {},
   "outputs": [],
   "source": [
    "bayers_1 = df_1.groupby(['order_month', 'source_id']).agg({'uid':'count'}).reset_index()\n",
    "bayers_1.columns = ['month', 'source_id', 'bayers']"
   ]
  },
  {
   "cell_type": "code",
   "execution_count": 125,
   "metadata": {},
   "outputs": [
    {
     "name": "stdout",
     "output_type": "stream",
     "text": [
      "       month  source_id  bayers\n",
      "0 2017-06-01          1     268\n",
      "1 2017-06-01          2     281\n",
      "2 2017-06-01          3     704\n",
      "3 2017-06-01          4     467\n",
      "4 2017-06-01          5     447\n"
     ]
    }
   ],
   "source": [
    "print(bayers_1.head())\n",
    "#таблица, где каждому источнику соответвует кол-во уникальных покупателей в каждом месяце"
   ]
  },
  {
   "cell_type": "code",
   "execution_count": 126,
   "metadata": {},
   "outputs": [],
   "source": [
    "revenue = df_1.groupby(['source_id', 'order_month']).agg({'revenue':'sum'}).reset_index()\n",
    "revenue.columns = ['source_id', 'month', 'revenue']"
   ]
  },
  {
   "cell_type": "code",
   "execution_count": 127,
   "metadata": {},
   "outputs": [
    {
     "data": {
      "text/html": [
       "<div>\n",
       "<style scoped>\n",
       "    .dataframe tbody tr th:only-of-type {\n",
       "        vertical-align: middle;\n",
       "    }\n",
       "\n",
       "    .dataframe tbody tr th {\n",
       "        vertical-align: top;\n",
       "    }\n",
       "\n",
       "    .dataframe thead th {\n",
       "        text-align: right;\n",
       "    }\n",
       "</style>\n",
       "<table border=\"1\" class=\"dataframe\">\n",
       "  <thead>\n",
       "    <tr style=\"text-align: right;\">\n",
       "      <th></th>\n",
       "      <th>source_id</th>\n",
       "      <th>month</th>\n",
       "      <th>revenue</th>\n",
       "    </tr>\n",
       "  </thead>\n",
       "  <tbody>\n",
       "    <tr>\n",
       "      <td>0</td>\n",
       "      <td>1</td>\n",
       "      <td>2017-06-01</td>\n",
       "      <td>1378.70</td>\n",
       "    </tr>\n",
       "    <tr>\n",
       "      <td>1</td>\n",
       "      <td>1</td>\n",
       "      <td>2017-07-01</td>\n",
       "      <td>1581.68</td>\n",
       "    </tr>\n",
       "    <tr>\n",
       "      <td>2</td>\n",
       "      <td>1</td>\n",
       "      <td>2017-08-01</td>\n",
       "      <td>1441.49</td>\n",
       "    </tr>\n",
       "    <tr>\n",
       "      <td>3</td>\n",
       "      <td>1</td>\n",
       "      <td>2017-09-01</td>\n",
       "      <td>3071.61</td>\n",
       "    </tr>\n",
       "    <tr>\n",
       "      <td>4</td>\n",
       "      <td>1</td>\n",
       "      <td>2017-10-01</td>\n",
       "      <td>3621.82</td>\n",
       "    </tr>\n",
       "  </tbody>\n",
       "</table>\n",
       "</div>"
      ],
      "text/plain": [
       "   source_id      month  revenue\n",
       "0          1 2017-06-01  1378.70\n",
       "1          1 2017-07-01  1581.68\n",
       "2          1 2017-08-01  1441.49\n",
       "3          1 2017-09-01  3071.61\n",
       "4          1 2017-10-01  3621.82"
      ]
     },
     "execution_count": 127,
     "metadata": {},
     "output_type": "execute_result"
    }
   ],
   "source": [
    "revenue.head()"
   ]
  },
  {
   "cell_type": "code",
   "execution_count": 128,
   "metadata": {
    "scrolled": true
   },
   "outputs": [
    {
     "data": {
      "text/html": [
       "<div>\n",
       "<style scoped>\n",
       "    .dataframe tbody tr th:only-of-type {\n",
       "        vertical-align: middle;\n",
       "    }\n",
       "\n",
       "    .dataframe tbody tr th {\n",
       "        vertical-align: top;\n",
       "    }\n",
       "\n",
       "    .dataframe thead th {\n",
       "        text-align: right;\n",
       "    }\n",
       "</style>\n",
       "<table border=\"1\" class=\"dataframe\">\n",
       "  <thead>\n",
       "    <tr style=\"text-align: right;\">\n",
       "      <th></th>\n",
       "      <th>source_id</th>\n",
       "      <th>dt</th>\n",
       "      <th>costs</th>\n",
       "      <th>month</th>\n",
       "    </tr>\n",
       "  </thead>\n",
       "  <tbody>\n",
       "    <tr>\n",
       "      <td>0</td>\n",
       "      <td>1</td>\n",
       "      <td>2017-06-01</td>\n",
       "      <td>75.20</td>\n",
       "      <td>2017-06-01</td>\n",
       "    </tr>\n",
       "    <tr>\n",
       "      <td>1</td>\n",
       "      <td>1</td>\n",
       "      <td>2017-06-02</td>\n",
       "      <td>62.25</td>\n",
       "      <td>2017-06-01</td>\n",
       "    </tr>\n",
       "    <tr>\n",
       "      <td>2</td>\n",
       "      <td>1</td>\n",
       "      <td>2017-06-03</td>\n",
       "      <td>36.53</td>\n",
       "      <td>2017-06-01</td>\n",
       "    </tr>\n",
       "    <tr>\n",
       "      <td>3</td>\n",
       "      <td>1</td>\n",
       "      <td>2017-06-04</td>\n",
       "      <td>55.00</td>\n",
       "      <td>2017-06-01</td>\n",
       "    </tr>\n",
       "    <tr>\n",
       "      <td>4</td>\n",
       "      <td>1</td>\n",
       "      <td>2017-06-05</td>\n",
       "      <td>57.08</td>\n",
       "      <td>2017-06-01</td>\n",
       "    </tr>\n",
       "  </tbody>\n",
       "</table>\n",
       "</div>"
      ],
      "text/plain": [
       "   source_id         dt  costs      month\n",
       "0          1 2017-06-01  75.20 2017-06-01\n",
       "1          1 2017-06-02  62.25 2017-06-01\n",
       "2          1 2017-06-03  36.53 2017-06-01\n",
       "3          1 2017-06-04  55.00 2017-06-01\n",
       "4          1 2017-06-05  57.08 2017-06-01"
      ]
     },
     "execution_count": 128,
     "metadata": {},
     "output_type": "execute_result"
    }
   ],
   "source": [
    "costs.head()"
   ]
  },
  {
   "cell_type": "code",
   "execution_count": 129,
   "metadata": {},
   "outputs": [],
   "source": [
    "costs_1 = costs.groupby(['source_id', 'month'])['costs'].sum().reset_index()"
   ]
  },
  {
   "cell_type": "code",
   "execution_count": 130,
   "metadata": {},
   "outputs": [
    {
     "data": {
      "text/html": [
       "<div>\n",
       "<style scoped>\n",
       "    .dataframe tbody tr th:only-of-type {\n",
       "        vertical-align: middle;\n",
       "    }\n",
       "\n",
       "    .dataframe tbody tr th {\n",
       "        vertical-align: top;\n",
       "    }\n",
       "\n",
       "    .dataframe thead th {\n",
       "        text-align: right;\n",
       "    }\n",
       "</style>\n",
       "<table border=\"1\" class=\"dataframe\">\n",
       "  <thead>\n",
       "    <tr style=\"text-align: right;\">\n",
       "      <th></th>\n",
       "      <th>source_id</th>\n",
       "      <th>month</th>\n",
       "      <th>costs</th>\n",
       "    </tr>\n",
       "  </thead>\n",
       "  <tbody>\n",
       "    <tr>\n",
       "      <td>0</td>\n",
       "      <td>1</td>\n",
       "      <td>2017-06-01</td>\n",
       "      <td>1125.61</td>\n",
       "    </tr>\n",
       "    <tr>\n",
       "      <td>1</td>\n",
       "      <td>1</td>\n",
       "      <td>2017-07-01</td>\n",
       "      <td>1072.88</td>\n",
       "    </tr>\n",
       "    <tr>\n",
       "      <td>2</td>\n",
       "      <td>1</td>\n",
       "      <td>2017-08-01</td>\n",
       "      <td>951.81</td>\n",
       "    </tr>\n",
       "    <tr>\n",
       "      <td>3</td>\n",
       "      <td>1</td>\n",
       "      <td>2017-09-01</td>\n",
       "      <td>1502.01</td>\n",
       "    </tr>\n",
       "    <tr>\n",
       "      <td>4</td>\n",
       "      <td>1</td>\n",
       "      <td>2017-10-01</td>\n",
       "      <td>2315.75</td>\n",
       "    </tr>\n",
       "  </tbody>\n",
       "</table>\n",
       "</div>"
      ],
      "text/plain": [
       "   source_id      month    costs\n",
       "0          1 2017-06-01  1125.61\n",
       "1          1 2017-07-01  1072.88\n",
       "2          1 2017-08-01   951.81\n",
       "3          1 2017-09-01  1502.01\n",
       "4          1 2017-10-01  2315.75"
      ]
     },
     "execution_count": 130,
     "metadata": {},
     "output_type": "execute_result"
    }
   ],
   "source": [
    "costs_1.head()"
   ]
  },
  {
   "cell_type": "code",
   "execution_count": 131,
   "metadata": {},
   "outputs": [],
   "source": [
    "df_romi = pd.merge(costs_1, bayers_1, on = ['source_id', 'month'])"
   ]
  },
  {
   "cell_type": "code",
   "execution_count": 132,
   "metadata": {},
   "outputs": [
    {
     "name": "stdout",
     "output_type": "stream",
     "text": [
      "   source_id      month    costs  bayers\n",
      "0          1 2017-06-01  1125.61     268\n",
      "1          1 2017-07-01  1072.88     261\n",
      "2          1 2017-08-01   951.81     243\n",
      "3          1 2017-09-01  1502.01     449\n",
      "4          1 2017-10-01  2315.75     587\n"
     ]
    }
   ],
   "source": [
    "print(df_romi.head())"
   ]
  },
  {
   "cell_type": "code",
   "execution_count": 133,
   "metadata": {},
   "outputs": [],
   "source": [
    "df_romi = df_romi.merge(revenue, on = ['source_id', 'month'])"
   ]
  },
  {
   "cell_type": "code",
   "execution_count": 134,
   "metadata": {},
   "outputs": [
    {
     "name": "stdout",
     "output_type": "stream",
     "text": [
      "   source_id      month    costs  bayers  revenue\n",
      "0          1 2017-06-01  1125.61     268  1378.70\n",
      "1          1 2017-07-01  1072.88     261  1581.68\n",
      "2          1 2017-08-01   951.81     243  1441.49\n",
      "3          1 2017-09-01  1502.01     449  3071.61\n",
      "4          1 2017-10-01  2315.75     587  3621.82\n"
     ]
    }
   ],
   "source": [
    "print(df_romi.head())"
   ]
  },
  {
   "cell_type": "code",
   "execution_count": 135,
   "metadata": {},
   "outputs": [],
   "source": [
    "df_romi['CAC'] = df_romi['costs'] / df_romi['bayers']"
   ]
  },
  {
   "cell_type": "code",
   "execution_count": 136,
   "metadata": {},
   "outputs": [
    {
     "data": {
      "text/html": [
       "<div>\n",
       "<style scoped>\n",
       "    .dataframe tbody tr th:only-of-type {\n",
       "        vertical-align: middle;\n",
       "    }\n",
       "\n",
       "    .dataframe tbody tr th {\n",
       "        vertical-align: top;\n",
       "    }\n",
       "\n",
       "    .dataframe thead th {\n",
       "        text-align: right;\n",
       "    }\n",
       "</style>\n",
       "<table border=\"1\" class=\"dataframe\">\n",
       "  <thead>\n",
       "    <tr style=\"text-align: right;\">\n",
       "      <th></th>\n",
       "      <th>source_id</th>\n",
       "      <th>month</th>\n",
       "      <th>costs</th>\n",
       "      <th>bayers</th>\n",
       "      <th>revenue</th>\n",
       "      <th>CAC</th>\n",
       "    </tr>\n",
       "  </thead>\n",
       "  <tbody>\n",
       "    <tr>\n",
       "      <td>0</td>\n",
       "      <td>1</td>\n",
       "      <td>2017-06-01</td>\n",
       "      <td>1125.61</td>\n",
       "      <td>268</td>\n",
       "      <td>1378.70</td>\n",
       "      <td>4.200037</td>\n",
       "    </tr>\n",
       "    <tr>\n",
       "      <td>1</td>\n",
       "      <td>1</td>\n",
       "      <td>2017-07-01</td>\n",
       "      <td>1072.88</td>\n",
       "      <td>261</td>\n",
       "      <td>1581.68</td>\n",
       "      <td>4.110651</td>\n",
       "    </tr>\n",
       "    <tr>\n",
       "      <td>2</td>\n",
       "      <td>1</td>\n",
       "      <td>2017-08-01</td>\n",
       "      <td>951.81</td>\n",
       "      <td>243</td>\n",
       "      <td>1441.49</td>\n",
       "      <td>3.916914</td>\n",
       "    </tr>\n",
       "    <tr>\n",
       "      <td>3</td>\n",
       "      <td>1</td>\n",
       "      <td>2017-09-01</td>\n",
       "      <td>1502.01</td>\n",
       "      <td>449</td>\n",
       "      <td>3071.61</td>\n",
       "      <td>3.345234</td>\n",
       "    </tr>\n",
       "    <tr>\n",
       "      <td>4</td>\n",
       "      <td>1</td>\n",
       "      <td>2017-10-01</td>\n",
       "      <td>2315.75</td>\n",
       "      <td>587</td>\n",
       "      <td>3621.82</td>\n",
       "      <td>3.945060</td>\n",
       "    </tr>\n",
       "  </tbody>\n",
       "</table>\n",
       "</div>"
      ],
      "text/plain": [
       "   source_id      month    costs  bayers  revenue       CAC\n",
       "0          1 2017-06-01  1125.61     268  1378.70  4.200037\n",
       "1          1 2017-07-01  1072.88     261  1581.68  4.110651\n",
       "2          1 2017-08-01   951.81     243  1441.49  3.916914\n",
       "3          1 2017-09-01  1502.01     449  3071.61  3.345234\n",
       "4          1 2017-10-01  2315.75     587  3621.82  3.945060"
      ]
     },
     "execution_count": 136,
     "metadata": {},
     "output_type": "execute_result"
    }
   ],
   "source": [
    "df_romi.head()"
   ]
  },
  {
   "cell_type": "code",
   "execution_count": 137,
   "metadata": {},
   "outputs": [],
   "source": [
    "margin_rate = 1\n",
    "df_romi['gp'] = df_romi['revenue'] * margin_rate"
   ]
  },
  {
   "cell_type": "code",
   "execution_count": 138,
   "metadata": {},
   "outputs": [],
   "source": [
    "df_romi['ltv'] = df_romi['gp'] / df_romi['bayers']"
   ]
  },
  {
   "cell_type": "code",
   "execution_count": 139,
   "metadata": {},
   "outputs": [],
   "source": [
    "df_romi['romi'] = df_romi['ltv'] / df_romi['CAC']"
   ]
  },
  {
   "cell_type": "code",
   "execution_count": 144,
   "metadata": {},
   "outputs": [
    {
     "data": {
      "text/html": [
       "<div>\n",
       "<style scoped>\n",
       "    .dataframe tbody tr th:only-of-type {\n",
       "        vertical-align: middle;\n",
       "    }\n",
       "\n",
       "    .dataframe tbody tr th {\n",
       "        vertical-align: top;\n",
       "    }\n",
       "\n",
       "    .dataframe thead th {\n",
       "        text-align: right;\n",
       "    }\n",
       "</style>\n",
       "<table border=\"1\" class=\"dataframe\">\n",
       "  <thead>\n",
       "    <tr style=\"text-align: right;\">\n",
       "      <th></th>\n",
       "      <th>source_id</th>\n",
       "      <th>month</th>\n",
       "      <th>costs</th>\n",
       "      <th>bayers</th>\n",
       "      <th>revenue</th>\n",
       "      <th>CAC</th>\n",
       "      <th>gp</th>\n",
       "      <th>ltv</th>\n",
       "      <th>romi</th>\n",
       "    </tr>\n",
       "  </thead>\n",
       "  <tbody>\n",
       "    <tr>\n",
       "      <td>0</td>\n",
       "      <td>1</td>\n",
       "      <td>2017-06-01</td>\n",
       "      <td>1125.61</td>\n",
       "      <td>268</td>\n",
       "      <td>1378.70</td>\n",
       "      <td>4.200037</td>\n",
       "      <td>1378.70</td>\n",
       "      <td>5.144403</td>\n",
       "      <td>1.224847</td>\n",
       "    </tr>\n",
       "    <tr>\n",
       "      <td>1</td>\n",
       "      <td>1</td>\n",
       "      <td>2017-07-01</td>\n",
       "      <td>1072.88</td>\n",
       "      <td>261</td>\n",
       "      <td>1581.68</td>\n",
       "      <td>4.110651</td>\n",
       "      <td>1581.68</td>\n",
       "      <td>6.060077</td>\n",
       "      <td>1.474238</td>\n",
       "    </tr>\n",
       "    <tr>\n",
       "      <td>2</td>\n",
       "      <td>1</td>\n",
       "      <td>2017-08-01</td>\n",
       "      <td>951.81</td>\n",
       "      <td>243</td>\n",
       "      <td>1441.49</td>\n",
       "      <td>3.916914</td>\n",
       "      <td>1441.49</td>\n",
       "      <td>5.932058</td>\n",
       "      <td>1.514472</td>\n",
       "    </tr>\n",
       "    <tr>\n",
       "      <td>3</td>\n",
       "      <td>1</td>\n",
       "      <td>2017-09-01</td>\n",
       "      <td>1502.01</td>\n",
       "      <td>449</td>\n",
       "      <td>3071.61</td>\n",
       "      <td>3.345234</td>\n",
       "      <td>3071.61</td>\n",
       "      <td>6.841002</td>\n",
       "      <td>2.045000</td>\n",
       "    </tr>\n",
       "    <tr>\n",
       "      <td>4</td>\n",
       "      <td>1</td>\n",
       "      <td>2017-10-01</td>\n",
       "      <td>2315.75</td>\n",
       "      <td>587</td>\n",
       "      <td>3621.82</td>\n",
       "      <td>3.945060</td>\n",
       "      <td>3621.82</td>\n",
       "      <td>6.170051</td>\n",
       "      <td>1.563994</td>\n",
       "    </tr>\n",
       "  </tbody>\n",
       "</table>\n",
       "</div>"
      ],
      "text/plain": [
       "   source_id      month    costs  bayers  revenue       CAC       gp  \\\n",
       "0          1 2017-06-01  1125.61     268  1378.70  4.200037  1378.70   \n",
       "1          1 2017-07-01  1072.88     261  1581.68  4.110651  1581.68   \n",
       "2          1 2017-08-01   951.81     243  1441.49  3.916914  1441.49   \n",
       "3          1 2017-09-01  1502.01     449  3071.61  3.345234  3071.61   \n",
       "4          1 2017-10-01  2315.75     587  3621.82  3.945060  3621.82   \n",
       "\n",
       "        ltv      romi  \n",
       "0  5.144403  1.224847  \n",
       "1  6.060077  1.474238  \n",
       "2  5.932058  1.514472  \n",
       "3  6.841002  2.045000  \n",
       "4  6.170051  1.563994  "
      ]
     },
     "execution_count": 144,
     "metadata": {},
     "output_type": "execute_result"
    }
   ],
   "source": [
    "df_romi.head()"
   ]
  },
  {
   "cell_type": "code",
   "execution_count": 141,
   "metadata": {},
   "outputs": [
    {
     "data": {
      "text/html": [
       "<div>\n",
       "<style scoped>\n",
       "    .dataframe tbody tr th:only-of-type {\n",
       "        vertical-align: middle;\n",
       "    }\n",
       "\n",
       "    .dataframe tbody tr th {\n",
       "        vertical-align: top;\n",
       "    }\n",
       "\n",
       "    .dataframe thead th {\n",
       "        text-align: right;\n",
       "    }\n",
       "</style>\n",
       "<table border=\"1\" class=\"dataframe\">\n",
       "  <thead>\n",
       "    <tr style=\"text-align: right;\">\n",
       "      <th>month</th>\n",
       "      <th>2017-06-01</th>\n",
       "      <th>2017-07-01</th>\n",
       "      <th>2017-08-01</th>\n",
       "      <th>2017-09-01</th>\n",
       "      <th>2017-10-01</th>\n",
       "      <th>2017-11-01</th>\n",
       "      <th>2017-12-01</th>\n",
       "      <th>2018-01-01</th>\n",
       "      <th>2018-02-01</th>\n",
       "      <th>2018-03-01</th>\n",
       "      <th>2018-04-01</th>\n",
       "      <th>2018-05-01</th>\n",
       "    </tr>\n",
       "    <tr>\n",
       "      <th>source_id</th>\n",
       "      <th></th>\n",
       "      <th></th>\n",
       "      <th></th>\n",
       "      <th></th>\n",
       "      <th></th>\n",
       "      <th></th>\n",
       "      <th></th>\n",
       "      <th></th>\n",
       "      <th></th>\n",
       "      <th></th>\n",
       "      <th></th>\n",
       "      <th></th>\n",
       "    </tr>\n",
       "  </thead>\n",
       "  <tbody>\n",
       "    <tr>\n",
       "      <td>1</td>\n",
       "      <td>1.22</td>\n",
       "      <td>2.70</td>\n",
       "      <td>4.21</td>\n",
       "      <td>6.26</td>\n",
       "      <td>7.82</td>\n",
       "      <td>9.26</td>\n",
       "      <td>10.44</td>\n",
       "      <td>11.60</td>\n",
       "      <td>12.67</td>\n",
       "      <td>14.72</td>\n",
       "      <td>16.56</td>\n",
       "      <td>18.26</td>\n",
       "    </tr>\n",
       "    <tr>\n",
       "      <td>2</td>\n",
       "      <td>0.43</td>\n",
       "      <td>1.23</td>\n",
       "      <td>1.74</td>\n",
       "      <td>2.55</td>\n",
       "      <td>3.65</td>\n",
       "      <td>4.53</td>\n",
       "      <td>5.48</td>\n",
       "      <td>6.19</td>\n",
       "      <td>7.66</td>\n",
       "      <td>9.67</td>\n",
       "      <td>10.81</td>\n",
       "      <td>12.75</td>\n",
       "    </tr>\n",
       "    <tr>\n",
       "      <td>3</td>\n",
       "      <td>0.36</td>\n",
       "      <td>0.78</td>\n",
       "      <td>1.10</td>\n",
       "      <td>1.57</td>\n",
       "      <td>1.96</td>\n",
       "      <td>2.34</td>\n",
       "      <td>2.71</td>\n",
       "      <td>3.03</td>\n",
       "      <td>3.38</td>\n",
       "      <td>3.77</td>\n",
       "      <td>4.14</td>\n",
       "      <td>4.67</td>\n",
       "    </tr>\n",
       "    <tr>\n",
       "      <td>4</td>\n",
       "      <td>0.56</td>\n",
       "      <td>1.37</td>\n",
       "      <td>1.94</td>\n",
       "      <td>2.54</td>\n",
       "      <td>3.47</td>\n",
       "      <td>4.80</td>\n",
       "      <td>5.78</td>\n",
       "      <td>6.55</td>\n",
       "      <td>7.55</td>\n",
       "      <td>8.68</td>\n",
       "      <td>9.73</td>\n",
       "      <td>10.84</td>\n",
       "    </tr>\n",
       "    <tr>\n",
       "      <td>5</td>\n",
       "      <td>0.73</td>\n",
       "      <td>1.59</td>\n",
       "      <td>2.56</td>\n",
       "      <td>3.72</td>\n",
       "      <td>4.68</td>\n",
       "      <td>5.30</td>\n",
       "      <td>7.76</td>\n",
       "      <td>8.50</td>\n",
       "      <td>9.49</td>\n",
       "      <td>10.32</td>\n",
       "      <td>10.99</td>\n",
       "      <td>11.68</td>\n",
       "    </tr>\n",
       "    <tr>\n",
       "      <td>9</td>\n",
       "      <td>0.85</td>\n",
       "      <td>1.64</td>\n",
       "      <td>2.83</td>\n",
       "      <td>3.93</td>\n",
       "      <td>5.26</td>\n",
       "      <td>6.33</td>\n",
       "      <td>7.32</td>\n",
       "      <td>8.02</td>\n",
       "      <td>9.06</td>\n",
       "      <td>10.48</td>\n",
       "      <td>11.33</td>\n",
       "      <td>12.37</td>\n",
       "    </tr>\n",
       "    <tr>\n",
       "      <td>10</td>\n",
       "      <td>0.73</td>\n",
       "      <td>1.30</td>\n",
       "      <td>2.10</td>\n",
       "      <td>2.53</td>\n",
       "      <td>3.44</td>\n",
       "      <td>4.22</td>\n",
       "      <td>4.76</td>\n",
       "      <td>5.25</td>\n",
       "      <td>5.95</td>\n",
       "      <td>7.25</td>\n",
       "      <td>7.98</td>\n",
       "      <td>9.22</td>\n",
       "    </tr>\n",
       "  </tbody>\n",
       "</table>\n",
       "</div>"
      ],
      "text/plain": [
       "month      2017-06-01  2017-07-01  2017-08-01  2017-09-01  2017-10-01  \\\n",
       "source_id                                                               \n",
       "1                1.22        2.70        4.21        6.26        7.82   \n",
       "2                0.43        1.23        1.74        2.55        3.65   \n",
       "3                0.36        0.78        1.10        1.57        1.96   \n",
       "4                0.56        1.37        1.94        2.54        3.47   \n",
       "5                0.73        1.59        2.56        3.72        4.68   \n",
       "9                0.85        1.64        2.83        3.93        5.26   \n",
       "10               0.73        1.30        2.10        2.53        3.44   \n",
       "\n",
       "month      2017-11-01  2017-12-01  2018-01-01  2018-02-01  2018-03-01  \\\n",
       "source_id                                                               \n",
       "1                9.26       10.44       11.60       12.67       14.72   \n",
       "2                4.53        5.48        6.19        7.66        9.67   \n",
       "3                2.34        2.71        3.03        3.38        3.77   \n",
       "4                4.80        5.78        6.55        7.55        8.68   \n",
       "5                5.30        7.76        8.50        9.49       10.32   \n",
       "9                6.33        7.32        8.02        9.06       10.48   \n",
       "10               4.22        4.76        5.25        5.95        7.25   \n",
       "\n",
       "month      2018-04-01  2018-05-01  \n",
       "source_id                          \n",
       "1               16.56       18.26  \n",
       "2               10.81       12.75  \n",
       "3                4.14        4.67  \n",
       "4                9.73       10.84  \n",
       "5               10.99       11.68  \n",
       "9               11.33       12.37  \n",
       "10               7.98        9.22  "
      ]
     },
     "metadata": {},
     "output_type": "display_data"
    }
   ],
   "source": [
    "output_1 = df_romi.pivot_table(\n",
    "    index='source_id', columns='month', values='romi', aggfunc='sum')\n",
    "display(output_1.cumsum(axis=1).round(2))\n",
    "# усредним ROMI всех когорт за каждый месяц их жизни.\n",
    "# print('Усредненный ROMI всех когорт за каждый месяц их жизни')\n",
    "# display(output_1.cumsum(axis=1).mean(axis=0))"
   ]
  },
  {
   "cell_type": "markdown",
   "metadata": {},
   "source": [
    "Источник 1 окупился в первый месяц, все остальные источники, кроме 3, окупились к 2 месяцу"
   ]
  },
  {
   "cell_type": "markdown",
   "metadata": {},
   "source": [
    "## ВЫВОД"
   ]
  },
  {
   "cell_type": "markdown",
   "metadata": {},
   "source": [
    "**Расчет продуктовых метрик показал, что:**\n",
    "\n",
    "<li> Среднее количество уникальных пользователей в день DAU = 907\n",
    "Рост посещений сайта зафиксирован в начале недели, а максимальное число приходится на четверг. Далее кол-во посещений снижается и в воскресенье становится минимально.\n",
    "<li> Среднее количество уникальных пользователей в неделю WAU = 5716\n",
    "Самый низкий уровень метрики приходится на 31 неделю 2017 года. Это август. Т.е. наблюдается корреляция с сезоном. В летний сезон многие театры уходят в отпуск, поэтому и спрос на афишу становится ниже.\n",
    "максимальное значение метрики приходится на 47 неделю - это конец ноября. Затем распределение находится на стабильно высоком уровне, а к 1 неделе 2018 года - падает. Полоучается, что спрос есть перед новогодними празниками, а затем он снижается.\n",
    "<li> Среднее количество уникальных пользователей в месяц MAU = 23228\n",
    "Наибоольшее кол-во уникальных пользователей приходится на декабрь и январь и минимальное на август.\n",
    "    \n",
    "Коэффициент удержания в когортах, сформированных по месяцам, очень низкий и падает с lifetime когорты . Это говорит о низкой возвращаемости пользователей сайта. Cредний Retention Rate на 2 месяц жизни когорт: 4.63 %\n",
    "    \n",
    "**Расчет метрик электронной коммерции:**\n",
    "    \n",
    "Чаще всего у пользователя в день 1 сессия продолжительностью 60 секунд, \n",
    "\n",
    "Минимальное время, которое проходит с момента первоuо входа на сайт до офомления заказа = 60 секунд. Это же значение является наиболее частым.\n",
    "    \n",
    "Медианное время, которое проходит с момента первого входа до момента покупки - 86 мин.\n",
    "    \n",
    "Кол-во покупок на одного пользователя: 1.38.\n",
    "\n",
    "Самое маленькое значение средний чек принимает в на июне, а самое большое - на декабрь.\n",
    "\n",
    "Итоговая сумма денег, которую один клиент приносит в среднем со всех своих покупок (LTV) растет с течением времени.\n",
    "\n",
    "Из всех когорт окупились только первая (к 6 месяцу жизни) и четвертая (к третьему месяцу жизни), в среднем же когорта окупается к 8 месяцу жизни.\n",
    "    \n",
    "**Расчет маркетинговых метрик:**\n",
    "    \n",
    "Общая сумма расходов на маркетинг за весь период составила 329131.62, при этом расходы на одного покупателя в среднем составили 9.01 у.е. В разбивке по месяцам самые большие расходы на меркетинг были в ноябре и декабре 2017."
   ]
  }
 ],
 "metadata": {
  "ExecuteTimeLog": [
   {
    "duration": 1896,
    "start_time": "2021-09-14T12:17:49.726Z"
   },
   {
    "duration": 764,
    "start_time": "2021-09-14T12:17:51.625Z"
   },
   {
    "duration": 70,
    "start_time": "2021-09-14T12:17:52.392Z"
   },
   {
    "duration": 6,
    "start_time": "2021-09-14T12:17:52.465Z"
   },
   {
    "duration": 290,
    "start_time": "2021-09-14T12:17:52.474Z"
   },
   {
    "duration": 21,
    "start_time": "2021-09-14T12:17:52.766Z"
   },
   {
    "duration": 149,
    "start_time": "2021-09-14T12:17:52.789Z"
   },
   {
    "duration": 23,
    "start_time": "2021-09-14T12:17:52.943Z"
   },
   {
    "duration": 13,
    "start_time": "2021-09-14T12:17:52.969Z"
   },
   {
    "duration": 39,
    "start_time": "2021-09-14T12:17:52.984Z"
   },
   {
    "duration": 22,
    "start_time": "2021-09-14T12:17:53.025Z"
   },
   {
    "duration": 37,
    "start_time": "2021-09-14T12:17:53.050Z"
   },
   {
    "duration": 16,
    "start_time": "2021-09-14T12:17:53.089Z"
   },
   {
    "duration": 13,
    "start_time": "2021-09-14T12:17:53.108Z"
   },
   {
    "duration": 36,
    "start_time": "2021-09-14T12:17:53.123Z"
   },
   {
    "duration": 9,
    "start_time": "2021-09-14T12:17:53.161Z"
   },
   {
    "duration": 22,
    "start_time": "2021-09-14T12:17:53.173Z"
   },
   {
    "duration": 22,
    "start_time": "2021-09-14T12:17:53.198Z"
   },
   {
    "duration": 26,
    "start_time": "2021-09-14T12:17:53.222Z"
   },
   {
    "duration": 22,
    "start_time": "2021-09-14T12:17:53.251Z"
   },
   {
    "duration": 406,
    "start_time": "2021-09-14T12:17:53.276Z"
   },
   {
    "duration": 18,
    "start_time": "2021-09-14T12:17:53.684Z"
   },
   {
    "duration": 385,
    "start_time": "2021-09-14T12:17:53.708Z"
   },
   {
    "duration": 871,
    "start_time": "2021-09-14T12:17:54.099Z"
   },
   {
    "duration": 503,
    "start_time": "2021-09-14T12:17:54.973Z"
   },
   {
    "duration": 2113,
    "start_time": "2021-09-14T12:17:55.479Z"
   },
   {
    "duration": 812,
    "start_time": "2021-09-14T12:17:57.596Z"
   },
   {
    "duration": 256,
    "start_time": "2021-09-14T12:17:58.411Z"
   },
   {
    "duration": 599,
    "start_time": "2021-09-14T12:17:58.670Z"
   },
   {
    "duration": 1171,
    "start_time": "2021-09-14T12:17:59.272Z"
   },
   {
    "duration": 33,
    "start_time": "2021-09-14T12:18:00.455Z"
   },
   {
    "duration": 6,
    "start_time": "2021-09-14T12:18:00.490Z"
   },
   {
    "duration": 38,
    "start_time": "2021-09-14T12:18:00.499Z"
   },
   {
    "duration": 20,
    "start_time": "2021-09-14T12:18:00.540Z"
   },
   {
    "duration": 281,
    "start_time": "2021-09-14T12:18:00.563Z"
   },
   {
    "duration": 200,
    "start_time": "2021-09-14T12:18:00.846Z"
   },
   {
    "duration": 16,
    "start_time": "2021-09-14T12:18:01.048Z"
   },
   {
    "duration": 50,
    "start_time": "2021-09-14T12:18:01.066Z"
   },
   {
    "duration": 179,
    "start_time": "2021-09-14T12:18:01.120Z"
   },
   {
    "duration": 12,
    "start_time": "2021-09-14T12:18:01.302Z"
   },
   {
    "duration": 56,
    "start_time": "2021-09-14T12:18:01.316Z"
   },
   {
    "duration": 43,
    "start_time": "2021-09-14T12:18:01.374Z"
   },
   {
    "duration": 24,
    "start_time": "2021-09-14T12:18:01.420Z"
   },
   {
    "duration": 45,
    "start_time": "2021-09-14T12:18:01.446Z"
   },
   {
    "duration": 24,
    "start_time": "2021-09-14T12:18:01.494Z"
   },
   {
    "duration": 27,
    "start_time": "2021-09-14T12:18:01.520Z"
   },
   {
    "duration": 42,
    "start_time": "2021-09-14T12:18:01.549Z"
   },
   {
    "duration": 1116,
    "start_time": "2021-09-14T12:18:01.593Z"
   },
   {
    "duration": 5,
    "start_time": "2021-09-14T12:18:02.712Z"
   },
   {
    "duration": 49,
    "start_time": "2021-09-14T12:18:02.719Z"
   },
   {
    "duration": 9,
    "start_time": "2021-09-14T12:18:02.771Z"
   },
   {
    "duration": 26,
    "start_time": "2021-09-14T12:18:02.783Z"
   },
   {
    "duration": 143,
    "start_time": "2021-09-14T12:18:02.812Z"
   },
   {
    "duration": 117,
    "start_time": "2021-09-14T12:18:02.957Z"
   },
   {
    "duration": 9,
    "start_time": "2021-09-14T12:18:03.076Z"
   },
   {
    "duration": 16,
    "start_time": "2021-09-14T12:18:03.088Z"
   },
   {
    "duration": 13,
    "start_time": "2021-09-14T12:18:03.106Z"
   },
   {
    "duration": 40,
    "start_time": "2021-09-14T12:18:03.121Z"
   },
   {
    "duration": 11,
    "start_time": "2021-09-14T12:18:03.164Z"
   },
   {
    "duration": 11,
    "start_time": "2021-09-14T12:18:03.178Z"
   },
   {
    "duration": 19,
    "start_time": "2021-09-14T12:18:03.192Z"
   },
   {
    "duration": 562,
    "start_time": "2021-09-14T12:18:03.214Z"
   },
   {
    "duration": 13,
    "start_time": "2021-09-14T12:18:03.778Z"
   },
   {
    "duration": 10,
    "start_time": "2021-09-14T12:18:03.793Z"
   },
   {
    "duration": 14,
    "start_time": "2021-09-14T12:18:03.805Z"
   },
   {
    "duration": 3,
    "start_time": "2021-09-14T12:18:03.855Z"
   },
   {
    "duration": 19,
    "start_time": "2021-09-14T12:18:03.860Z"
   },
   {
    "duration": 11,
    "start_time": "2021-09-14T12:18:03.889Z"
   },
   {
    "duration": 54,
    "start_time": "2021-09-14T12:18:03.905Z"
   },
   {
    "duration": 11,
    "start_time": "2021-09-14T12:18:03.962Z"
   },
   {
    "duration": 22,
    "start_time": "2021-09-14T12:18:03.976Z"
   },
   {
    "duration": 544,
    "start_time": "2021-09-14T12:18:04.001Z"
   },
   {
    "duration": 531,
    "start_time": "2021-09-14T12:18:04.555Z"
   },
   {
    "duration": 8,
    "start_time": "2021-09-14T12:18:05.089Z"
   },
   {
    "duration": 15,
    "start_time": "2021-09-14T12:18:05.100Z"
   },
   {
    "duration": 57,
    "start_time": "2021-09-14T12:18:05.118Z"
   },
   {
    "duration": 20,
    "start_time": "2021-09-14T12:18:05.178Z"
   },
   {
    "duration": 62,
    "start_time": "2021-09-14T12:18:05.201Z"
   },
   {
    "duration": 24,
    "start_time": "2021-09-14T12:18:05.266Z"
   },
   {
    "duration": 7,
    "start_time": "2021-09-14T12:18:05.293Z"
   },
   {
    "duration": 52,
    "start_time": "2021-09-14T12:18:05.303Z"
   },
   {
    "duration": 22,
    "start_time": "2021-09-14T12:18:05.358Z"
   },
   {
    "duration": 34,
    "start_time": "2021-09-14T12:18:05.383Z"
   },
   {
    "duration": 55,
    "start_time": "2021-09-14T12:18:05.420Z"
   },
   {
    "duration": 21,
    "start_time": "2021-09-14T12:18:05.478Z"
   },
   {
    "duration": 1734,
    "start_time": "2021-09-14T12:18:05.502Z"
   },
   {
    "duration": 61,
    "start_time": "2021-09-14T12:18:07.239Z"
   },
   {
    "duration": 8,
    "start_time": "2021-09-14T12:18:07.304Z"
   },
   {
    "duration": 60,
    "start_time": "2021-09-14T12:18:07.315Z"
   },
   {
    "duration": 16,
    "start_time": "2021-09-14T12:18:07.378Z"
   },
   {
    "duration": 19,
    "start_time": "2021-09-14T12:18:07.396Z"
   },
   {
    "duration": 43,
    "start_time": "2021-09-14T12:18:07.418Z"
   },
   {
    "duration": 28,
    "start_time": "2021-09-14T12:18:07.463Z"
   },
   {
    "duration": 83,
    "start_time": "2021-09-14T12:18:07.493Z"
   },
   {
    "duration": 8,
    "start_time": "2021-09-14T12:18:07.579Z"
   },
   {
    "duration": 26,
    "start_time": "2021-09-14T12:18:07.589Z"
   },
   {
    "duration": 22,
    "start_time": "2021-09-14T12:18:07.617Z"
   },
   {
    "duration": 19,
    "start_time": "2021-09-14T12:18:07.653Z"
   },
   {
    "duration": 592,
    "start_time": "2021-09-14T12:18:07.675Z"
   },
   {
    "duration": 22,
    "start_time": "2021-09-14T12:18:08.271Z"
   },
   {
    "duration": 550,
    "start_time": "2021-09-14T12:18:08.295Z"
   },
   {
    "duration": 23,
    "start_time": "2021-09-14T12:18:08.848Z"
   },
   {
    "duration": 20,
    "start_time": "2021-09-14T12:18:08.874Z"
   },
   {
    "duration": 25,
    "start_time": "2021-09-14T12:18:08.896Z"
   },
   {
    "duration": 21,
    "start_time": "2021-09-14T12:18:08.955Z"
   },
   {
    "duration": 326,
    "start_time": "2021-09-14T12:18:08.979Z"
   },
   {
    "duration": 98,
    "start_time": "2021-09-14T12:18:09.308Z"
   },
   {
    "duration": 8,
    "start_time": "2021-09-14T12:18:09.409Z"
   },
   {
    "duration": 11,
    "start_time": "2021-09-14T12:18:09.419Z"
   },
   {
    "duration": 42,
    "start_time": "2021-09-14T12:18:09.433Z"
   },
   {
    "duration": 12,
    "start_time": "2021-09-14T12:18:09.478Z"
   },
   {
    "duration": 20,
    "start_time": "2021-09-14T12:18:09.492Z"
   },
   {
    "duration": 39,
    "start_time": "2021-09-14T12:18:09.516Z"
   },
   {
    "duration": 9,
    "start_time": "2021-09-14T12:18:09.559Z"
   },
   {
    "duration": 20,
    "start_time": "2021-09-14T12:18:09.572Z"
   },
   {
    "duration": 25,
    "start_time": "2021-09-14T12:18:09.596Z"
   },
   {
    "duration": 513,
    "start_time": "2021-09-14T12:18:09.624Z"
   },
   {
    "duration": 39,
    "start_time": "2021-09-14T12:18:10.139Z"
   },
   {
    "duration": 254,
    "start_time": "2021-09-14T12:18:10.181Z"
   },
   {
    "duration": 6,
    "start_time": "2021-09-14T12:18:10.438Z"
   },
   {
    "duration": 28,
    "start_time": "2021-09-14T12:18:10.455Z"
   },
   {
    "duration": 122,
    "start_time": "2021-09-14T12:18:10.486Z"
   },
   {
    "duration": 9,
    "start_time": "2021-09-14T12:18:10.611Z"
   },
   {
    "duration": 44,
    "start_time": "2021-09-14T12:18:10.622Z"
   },
   {
    "duration": 127,
    "start_time": "2021-09-14T12:18:10.669Z"
   },
   {
    "duration": 31,
    "start_time": "2021-09-14T12:18:10.799Z"
   },
   {
    "duration": 21,
    "start_time": "2021-09-14T12:18:10.833Z"
   },
   {
    "duration": 26,
    "start_time": "2021-09-14T12:18:10.856Z"
   },
   {
    "duration": 19,
    "start_time": "2021-09-14T12:18:10.885Z"
   },
   {
    "duration": 18,
    "start_time": "2021-09-14T12:18:10.907Z"
   },
   {
    "duration": 18,
    "start_time": "2021-09-14T12:18:10.927Z"
   },
   {
    "duration": 28,
    "start_time": "2021-09-14T12:18:10.948Z"
   },
   {
    "duration": 27,
    "start_time": "2021-09-14T12:18:10.979Z"
   },
   {
    "duration": 26,
    "start_time": "2021-09-14T12:18:11.008Z"
   },
   {
    "duration": 13,
    "start_time": "2021-09-14T12:18:11.037Z"
   },
   {
    "duration": 16,
    "start_time": "2021-09-14T12:18:11.053Z"
   },
   {
    "duration": 14,
    "start_time": "2021-09-14T12:18:11.072Z"
   },
   {
    "duration": 10,
    "start_time": "2021-09-14T12:18:11.089Z"
   },
   {
    "duration": 14,
    "start_time": "2021-09-14T12:18:11.102Z"
   },
   {
    "duration": 53,
    "start_time": "2021-09-14T12:18:11.119Z"
   },
   {
    "duration": 84,
    "start_time": "2021-09-14T12:18:11.175Z"
   },
   {
    "duration": 66,
    "start_time": "2021-09-14T12:18:11.262Z"
   },
   {
    "duration": 10,
    "start_time": "2021-09-14T12:33:41.626Z"
   },
   {
    "duration": 16,
    "start_time": "2021-09-14T12:33:47.193Z"
   }
  ],
  "kernelspec": {
   "display_name": "Python 3",
   "language": "python",
   "name": "python3"
  },
  "language_info": {
   "codemirror_mode": {
    "name": "ipython",
    "version": 3
   },
   "file_extension": ".py",
   "mimetype": "text/x-python",
   "name": "python",
   "nbconvert_exporter": "python",
   "pygments_lexer": "ipython3",
   "version": "3.7.8"
  },
  "toc": {
   "base_numbering": 1,
   "nav_menu": {},
   "number_sections": true,
   "sideBar": true,
   "skip_h1_title": true,
   "title_cell": "Table of Contents",
   "title_sidebar": "Contents",
   "toc_cell": false,
   "toc_position": {
    "height": "calc(100% - 180px)",
    "left": "10px",
    "top": "150px",
    "width": "323.891px"
   },
   "toc_section_display": true,
   "toc_window_display": true
  }
 },
 "nbformat": 4,
 "nbformat_minor": 2
}
