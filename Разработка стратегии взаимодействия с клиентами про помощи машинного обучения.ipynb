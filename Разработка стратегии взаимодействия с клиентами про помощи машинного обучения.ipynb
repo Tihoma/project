{
 "cells": [
  {
   "cell_type": "markdown",
   "metadata": {},
   "source": [
    "# Разработка стратегии взаимодействия с клиентами на основе аналитических данных.\n",
    "\n",
    "\n",
    "**Заказчик:** \n",
    "Сеть фитнес-центров «Культурист-датасаентист»\n",
    "\n",
    "**Цель проекта:**\n",
    "Изучить и спрогнозировать отток клиентов. \n",
    "\n",
    "**Задачи проекта:** \n",
    "<li> сформировать типичные портреты клиентов: выделить несколько наиболее ярких групп и охарактеризовать их основные свойства  \n",
    "<li> проанализировать основные признаки, наиболее сильно влияющие на отток;\n",
    "<li> разработать рекомендации по повышению качества работы с клиентами \n",
    "       \n",
    "**Описание данных:**\n",
    "Данные содержат информацию на месяц до оттока и факт оттока на определённый месяц. Набор данных включает следующие поля: \n",
    "    \n",
    "<li> 'Churn' — факт оттока в текущем месяце (1 - отток, 0 - не было оттока);\n",
    "<li> 'gender' — пол;\n",
    "<li> 'Near_Location' — проживание или работа в районе, где находится фитнес-центр;\n",
    "<li> 'Partner' — сотрудник компании-партнёра клуба (сотрудничество с компаниями, чьи сотрудники могут получать скидки на абонемент — в таком случае фитнес-центр хранит информацию о работодателе клиента);\n",
    "<li> Promo_friends — факт первоначальной записи в рамках акции «приведи друга» (использовал промо-код от знакомого при оплате первого абонемента);\n",
    "<li> 'Phone' — наличие контактного телефона;\n",
    "<li> 'Age' — возраст;\n",
    "<li> 'Lifetime' — время с момента первого обращения в фитнес-центр (в месяцах)\n",
    "<li> 'Contract_period' — длительность текущего действующего абонемента (месяц, 3 месяца, 6 месяцев, год);\n",
    "<li> 'Month_to_end_contract' — срок до окончания текущего действующего абонемента (в месяцах);\n",
    "<li> 'Group_visits' — факт посещения групповых занятий;\n",
    "<li> 'Avg_class_frequency_total' — средняя частота посещений в неделю за все время с начала действия абонемента;\n",
    "<li> 'Avg_class_frequency_current_month' — средняя частота посещений в неделю за предыдущий месяц;\n",
    "<li> 'Avg_additional_charges_total' — суммарная выручка от других услуг фитнес-центра: кафе, спорт-товары, косметический и массажный салон."
   ]
  },
  {
   "cell_type": "code",
   "execution_count": 1,
   "metadata": {},
   "outputs": [],
   "source": [
    "import pandas as pd\n",
    "import numpy as np\n",
    "import re\n",
    "pd.options.display.max_columns = 200\n",
    "pd.options.display.max_colwidth = -1\n",
    "import matplotlib.pyplot as plt\n",
    "import scipy.stats as st\n",
    "import datetime as dt\n",
    "import plotly.express as px\n",
    "import seaborn as sns\n",
    "from plotly import graph_objects as go\n",
    "import math as mth\n",
    "from sklearn.preprocessing import StandardScaler\n",
    "from sklearn.model_selection import train_test_split\n",
    "from sklearn.linear_model import LogisticRegression\n",
    "from sklearn.ensemble import RandomForestRegressor\n",
    "from sklearn.tree import DecisionTreeRegressor\n",
    "from sklearn.ensemble import RandomForestClassifier, GradientBoostingClassifier\n",
    "from sklearn.metrics import accuracy_score, precision_score, recall_score\n",
    "from sklearn.preprocessing import StandardScaler\n",
    "from sklearn.cluster import KMeans\n",
    "from scipy.cluster.hierarchy import dendrogram, linkage \n",
    "\n",
    "import warnings  \n",
    "warnings.filterwarnings(\"ignore\")  \n"
   ]
  },
  {
   "cell_type": "markdown",
   "metadata": {},
   "source": [
    "## Подготовка данных "
   ]
  },
  {
   "cell_type": "code",
   "execution_count": 2,
   "metadata": {},
   "outputs": [],
   "source": [
    "path = '/datasets/'\n",
    "data = pd.read_csv(path + 'gym_churn.csv') "
   ]
  },
  {
   "cell_type": "code",
   "execution_count": 3,
   "metadata": {},
   "outputs": [
    {
     "data": {
      "text/html": [
       "<div>\n",
       "<style scoped>\n",
       "    .dataframe tbody tr th:only-of-type {\n",
       "        vertical-align: middle;\n",
       "    }\n",
       "\n",
       "    .dataframe tbody tr th {\n",
       "        vertical-align: top;\n",
       "    }\n",
       "\n",
       "    .dataframe thead th {\n",
       "        text-align: right;\n",
       "    }\n",
       "</style>\n",
       "<table border=\"1\" class=\"dataframe\">\n",
       "  <thead>\n",
       "    <tr style=\"text-align: right;\">\n",
       "      <th></th>\n",
       "      <th>gender</th>\n",
       "      <th>Near_Location</th>\n",
       "      <th>Partner</th>\n",
       "      <th>Promo_friends</th>\n",
       "      <th>Phone</th>\n",
       "      <th>Contract_period</th>\n",
       "      <th>Group_visits</th>\n",
       "      <th>Age</th>\n",
       "      <th>Avg_additional_charges_total</th>\n",
       "      <th>Month_to_end_contract</th>\n",
       "      <th>Lifetime</th>\n",
       "      <th>Avg_class_frequency_total</th>\n",
       "      <th>Avg_class_frequency_current_month</th>\n",
       "      <th>Churn</th>\n",
       "    </tr>\n",
       "  </thead>\n",
       "  <tbody>\n",
       "    <tr>\n",
       "      <td>0</td>\n",
       "      <td>1</td>\n",
       "      <td>1</td>\n",
       "      <td>1</td>\n",
       "      <td>1</td>\n",
       "      <td>0</td>\n",
       "      <td>6</td>\n",
       "      <td>1</td>\n",
       "      <td>29</td>\n",
       "      <td>14.227470</td>\n",
       "      <td>5.0</td>\n",
       "      <td>3</td>\n",
       "      <td>0.020398</td>\n",
       "      <td>0.000000</td>\n",
       "      <td>0</td>\n",
       "    </tr>\n",
       "    <tr>\n",
       "      <td>1</td>\n",
       "      <td>0</td>\n",
       "      <td>1</td>\n",
       "      <td>0</td>\n",
       "      <td>0</td>\n",
       "      <td>1</td>\n",
       "      <td>12</td>\n",
       "      <td>1</td>\n",
       "      <td>31</td>\n",
       "      <td>113.202938</td>\n",
       "      <td>12.0</td>\n",
       "      <td>7</td>\n",
       "      <td>1.922936</td>\n",
       "      <td>1.910244</td>\n",
       "      <td>0</td>\n",
       "    </tr>\n",
       "    <tr>\n",
       "      <td>2</td>\n",
       "      <td>0</td>\n",
       "      <td>1</td>\n",
       "      <td>1</td>\n",
       "      <td>0</td>\n",
       "      <td>1</td>\n",
       "      <td>1</td>\n",
       "      <td>0</td>\n",
       "      <td>28</td>\n",
       "      <td>129.448479</td>\n",
       "      <td>1.0</td>\n",
       "      <td>2</td>\n",
       "      <td>1.859098</td>\n",
       "      <td>1.736502</td>\n",
       "      <td>0</td>\n",
       "    </tr>\n",
       "    <tr>\n",
       "      <td>3</td>\n",
       "      <td>0</td>\n",
       "      <td>1</td>\n",
       "      <td>1</td>\n",
       "      <td>1</td>\n",
       "      <td>1</td>\n",
       "      <td>12</td>\n",
       "      <td>1</td>\n",
       "      <td>33</td>\n",
       "      <td>62.669863</td>\n",
       "      <td>12.0</td>\n",
       "      <td>2</td>\n",
       "      <td>3.205633</td>\n",
       "      <td>3.357215</td>\n",
       "      <td>0</td>\n",
       "    </tr>\n",
       "    <tr>\n",
       "      <td>4</td>\n",
       "      <td>1</td>\n",
       "      <td>1</td>\n",
       "      <td>1</td>\n",
       "      <td>1</td>\n",
       "      <td>1</td>\n",
       "      <td>1</td>\n",
       "      <td>0</td>\n",
       "      <td>26</td>\n",
       "      <td>198.362265</td>\n",
       "      <td>1.0</td>\n",
       "      <td>3</td>\n",
       "      <td>1.113884</td>\n",
       "      <td>1.120078</td>\n",
       "      <td>0</td>\n",
       "    </tr>\n",
       "  </tbody>\n",
       "</table>\n",
       "</div>"
      ],
      "text/plain": [
       "   gender  Near_Location  Partner  Promo_friends  Phone  Contract_period  \\\n",
       "0  1       1              1        1              0      6                 \n",
       "1  0       1              0        0              1      12                \n",
       "2  0       1              1        0              1      1                 \n",
       "3  0       1              1        1              1      12                \n",
       "4  1       1              1        1              1      1                 \n",
       "\n",
       "   Group_visits  Age  Avg_additional_charges_total  Month_to_end_contract  \\\n",
       "0  1             29   14.227470                     5.0                     \n",
       "1  1             31   113.202938                    12.0                    \n",
       "2  0             28   129.448479                    1.0                     \n",
       "3  1             33   62.669863                     12.0                    \n",
       "4  0             26   198.362265                    1.0                     \n",
       "\n",
       "   Lifetime  Avg_class_frequency_total  Avg_class_frequency_current_month  \\\n",
       "0  3         0.020398                   0.000000                            \n",
       "1  7         1.922936                   1.910244                            \n",
       "2  2         1.859098                   1.736502                            \n",
       "3  2         3.205633                   3.357215                            \n",
       "4  3         1.113884                   1.120078                            \n",
       "\n",
       "   Churn  \n",
       "0  0      \n",
       "1  0      \n",
       "2  0      \n",
       "3  0      \n",
       "4  0      "
      ]
     },
     "metadata": {},
     "output_type": "display_data"
    },
    {
     "name": "stdout",
     "output_type": "stream",
     "text": [
      "<class 'pandas.core.frame.DataFrame'>\n",
      "RangeIndex: 4000 entries, 0 to 3999\n",
      "Data columns (total 14 columns):\n",
      "gender                               4000 non-null int64\n",
      "Near_Location                        4000 non-null int64\n",
      "Partner                              4000 non-null int64\n",
      "Promo_friends                        4000 non-null int64\n",
      "Phone                                4000 non-null int64\n",
      "Contract_period                      4000 non-null int64\n",
      "Group_visits                         4000 non-null int64\n",
      "Age                                  4000 non-null int64\n",
      "Avg_additional_charges_total         4000 non-null float64\n",
      "Month_to_end_contract                4000 non-null float64\n",
      "Lifetime                             4000 non-null int64\n",
      "Avg_class_frequency_total            4000 non-null float64\n",
      "Avg_class_frequency_current_month    4000 non-null float64\n",
      "Churn                                4000 non-null int64\n",
      "dtypes: float64(4), int64(10)\n",
      "memory usage: 437.6 KB\n"
     ]
    }
   ],
   "source": [
    "display(data.head())\n",
    "data.info()"
   ]
  },
  {
   "cell_type": "markdown",
   "metadata": {},
   "source": [
    "\n",
    "<li> Датасет заполнен полностью, всключает в себя 4000 строк.\n",
    "<li> Датасет не имеет категориальных столцов, все столбцы имеют численный формат.\n",
    "<li> Для удобства переименую столбцы (приведу к нижнему регистру)\n",
    "<li> Проверю датасет на дубликаты\n",
    "<li> Проверю столбцы на корректность данных"
   ]
  },
  {
   "cell_type": "markdown",
   "metadata": {},
   "source": [
    "## Исследовательский анализ данных (EDA)"
   ]
  },
  {
   "cell_type": "markdown",
   "metadata": {},
   "source": [
    "### Переименование столбцов"
   ]
  },
  {
   "cell_type": "code",
   "execution_count": 4,
   "metadata": {},
   "outputs": [],
   "source": [
    "data = data.rename(columns={\n",
    "    'Near_Location': 'near_location', \n",
    "    'Partner': 'partner', \n",
    "    'Promo_friends': 'promo_friends', \n",
    "    'Phone': 'phone', \n",
    "    'Contract_period': 'contract_period',\n",
    "    'Group_visits': 'group_visits',\n",
    "    'Age': 'age',\n",
    "    'Avg_additional_charges_total': 'avg_additional_charges_total',\n",
    "    'Month_to_end_contract': 'month_to_end_contract',\n",
    "    'Lifetime': 'lifetime',\n",
    "    'Avg_class_frequency_total': 'avg_class_frequency_total',\n",
    "    'Avg_class_frequency_current_month': 'avg_class_frequency_current_month',\n",
    "    'Churn': 'churn'})"
   ]
  },
  {
   "cell_type": "markdown",
   "metadata": {},
   "source": [
    "### Обработка дубликатов"
   ]
  },
  {
   "cell_type": "code",
   "execution_count": 5,
   "metadata": {},
   "outputs": [
    {
     "name": "stdout",
     "output_type": "stream",
     "text": [
      "Дубликатов в датесете:  0\n"
     ]
    }
   ],
   "source": [
    "print('Дубликатов в датесете: ', data.duplicated().sum()) "
   ]
  },
  {
   "cell_type": "markdown",
   "metadata": {},
   "source": [
    "### Проверка значений столбцов"
   ]
  },
  {
   "cell_type": "code",
   "execution_count": 6,
   "metadata": {},
   "outputs": [
    {
     "name": "stdout",
     "output_type": "stream",
     "text": [
      "Уникальные значения столбца gender : [1 0]\n",
      "Уникальные значения столбца near_location : [1 0]\n",
      "Уникальные значения столбца partner : [1 0]\n",
      "Уникальные значения столбца promo_friends : [1 0]\n",
      "Уникальные значения столбца phone : [0 1]\n",
      "Уникальные значения столбца contract_period : [ 6 12  1]\n",
      "Уникальные значения столбца group_visits : [1 0]\n",
      "Уникальные значения столбца age : [29 31 28 33 26 34 32 30 23 27 35 25 36 24 21 37 22 19 20 38 39 18 41]\n",
      "Уникальные значения столбца avg_additional_charges_total : [ 14.22747042 113.20293765 129.44847933 ...  78.25054157  61.91265691\n",
      " 178.86181361]\n",
      "Уникальные значения столбца month_to_end_contract : [ 5. 12.  1.  6.  3. 10. 11.  9.  4.  7.  8.  2.]\n",
      "Уникальные значения столбца lifetime : [ 3  7  2  0  1 11  4  8 14  6  5 15 12 21 10 20  9 13 17 16 24 22 31 26\n",
      " 23 18 19 27 29]\n",
      "Уникальные значения столбца avg_class_frequency_total : [0.02039795 1.92293606 1.85909835 ... 2.78614636 1.63010814 1.10183221]\n",
      "Уникальные значения столбца avg_class_frequency_current_month : [0.         1.91024352 1.73650189 ... 2.8314395  1.59623664 1.03526976]\n",
      "Уникальные значения столбца churn : [0 1]\n"
     ]
    }
   ],
   "source": [
    "for col in data.columns:\n",
    "    print('Уникальные значения столбца', col, ':', data[col].unique())"
   ]
  },
  {
   "cell_type": "markdown",
   "metadata": {},
   "source": [
    "\n",
    "<li> Столбцы заполнены корректно, все бинарные признаки имеют значения только 0 и 1, затычек нет.\n",
    "<li> Столбец month_to_end_contract заполнен целыми числами, но в инфо его тип float, изменю тип данного столбца."
   ]
  },
  {
   "cell_type": "code",
   "execution_count": 7,
   "metadata": {},
   "outputs": [],
   "source": [
    "data['month_to_end_contract'] = data['month_to_end_contract'].astype(int)"
   ]
  },
  {
   "cell_type": "code",
   "execution_count": 8,
   "metadata": {},
   "outputs": [
    {
     "data": {
      "text/html": [
       "<div>\n",
       "<style scoped>\n",
       "    .dataframe tbody tr th:only-of-type {\n",
       "        vertical-align: middle;\n",
       "    }\n",
       "\n",
       "    .dataframe tbody tr th {\n",
       "        vertical-align: top;\n",
       "    }\n",
       "\n",
       "    .dataframe thead th {\n",
       "        text-align: right;\n",
       "    }\n",
       "</style>\n",
       "<table border=\"1\" class=\"dataframe\">\n",
       "  <thead>\n",
       "    <tr style=\"text-align: right;\">\n",
       "      <th></th>\n",
       "      <th>gender</th>\n",
       "      <th>near_location</th>\n",
       "      <th>partner</th>\n",
       "      <th>promo_friends</th>\n",
       "      <th>phone</th>\n",
       "      <th>contract_period</th>\n",
       "      <th>group_visits</th>\n",
       "      <th>age</th>\n",
       "      <th>avg_additional_charges_total</th>\n",
       "      <th>month_to_end_contract</th>\n",
       "      <th>lifetime</th>\n",
       "      <th>avg_class_frequency_total</th>\n",
       "      <th>avg_class_frequency_current_month</th>\n",
       "      <th>churn</th>\n",
       "    </tr>\n",
       "  </thead>\n",
       "  <tbody>\n",
       "    <tr>\n",
       "      <td>count</td>\n",
       "      <td>4000.000000</td>\n",
       "      <td>4000.000000</td>\n",
       "      <td>4000.000000</td>\n",
       "      <td>4000.000000</td>\n",
       "      <td>4000.000000</td>\n",
       "      <td>4000.000000</td>\n",
       "      <td>4000.000000</td>\n",
       "      <td>4000.000000</td>\n",
       "      <td>4000.000000</td>\n",
       "      <td>4000.000000</td>\n",
       "      <td>4000.000000</td>\n",
       "      <td>4000.000000</td>\n",
       "      <td>4000.000000</td>\n",
       "      <td>4000.000000</td>\n",
       "    </tr>\n",
       "    <tr>\n",
       "      <td>mean</td>\n",
       "      <td>0.510250</td>\n",
       "      <td>0.845250</td>\n",
       "      <td>0.486750</td>\n",
       "      <td>0.308500</td>\n",
       "      <td>0.903500</td>\n",
       "      <td>4.681250</td>\n",
       "      <td>0.412250</td>\n",
       "      <td>29.184250</td>\n",
       "      <td>146.943728</td>\n",
       "      <td>4.322750</td>\n",
       "      <td>3.724750</td>\n",
       "      <td>1.879020</td>\n",
       "      <td>1.767052</td>\n",
       "      <td>0.265250</td>\n",
       "    </tr>\n",
       "    <tr>\n",
       "      <td>std</td>\n",
       "      <td>0.499957</td>\n",
       "      <td>0.361711</td>\n",
       "      <td>0.499887</td>\n",
       "      <td>0.461932</td>\n",
       "      <td>0.295313</td>\n",
       "      <td>4.549706</td>\n",
       "      <td>0.492301</td>\n",
       "      <td>3.258367</td>\n",
       "      <td>96.355602</td>\n",
       "      <td>4.191297</td>\n",
       "      <td>3.749267</td>\n",
       "      <td>0.972245</td>\n",
       "      <td>1.052906</td>\n",
       "      <td>0.441521</td>\n",
       "    </tr>\n",
       "    <tr>\n",
       "      <td>min</td>\n",
       "      <td>0.000000</td>\n",
       "      <td>0.000000</td>\n",
       "      <td>0.000000</td>\n",
       "      <td>0.000000</td>\n",
       "      <td>0.000000</td>\n",
       "      <td>1.000000</td>\n",
       "      <td>0.000000</td>\n",
       "      <td>18.000000</td>\n",
       "      <td>0.148205</td>\n",
       "      <td>1.000000</td>\n",
       "      <td>0.000000</td>\n",
       "      <td>0.000000</td>\n",
       "      <td>0.000000</td>\n",
       "      <td>0.000000</td>\n",
       "    </tr>\n",
       "    <tr>\n",
       "      <td>25%</td>\n",
       "      <td>0.000000</td>\n",
       "      <td>1.000000</td>\n",
       "      <td>0.000000</td>\n",
       "      <td>0.000000</td>\n",
       "      <td>1.000000</td>\n",
       "      <td>1.000000</td>\n",
       "      <td>0.000000</td>\n",
       "      <td>27.000000</td>\n",
       "      <td>68.868830</td>\n",
       "      <td>1.000000</td>\n",
       "      <td>1.000000</td>\n",
       "      <td>1.180875</td>\n",
       "      <td>0.963003</td>\n",
       "      <td>0.000000</td>\n",
       "    </tr>\n",
       "    <tr>\n",
       "      <td>50%</td>\n",
       "      <td>1.000000</td>\n",
       "      <td>1.000000</td>\n",
       "      <td>0.000000</td>\n",
       "      <td>0.000000</td>\n",
       "      <td>1.000000</td>\n",
       "      <td>1.000000</td>\n",
       "      <td>0.000000</td>\n",
       "      <td>29.000000</td>\n",
       "      <td>136.220159</td>\n",
       "      <td>1.000000</td>\n",
       "      <td>3.000000</td>\n",
       "      <td>1.832768</td>\n",
       "      <td>1.719574</td>\n",
       "      <td>0.000000</td>\n",
       "    </tr>\n",
       "    <tr>\n",
       "      <td>75%</td>\n",
       "      <td>1.000000</td>\n",
       "      <td>1.000000</td>\n",
       "      <td>1.000000</td>\n",
       "      <td>1.000000</td>\n",
       "      <td>1.000000</td>\n",
       "      <td>6.000000</td>\n",
       "      <td>1.000000</td>\n",
       "      <td>31.000000</td>\n",
       "      <td>210.949625</td>\n",
       "      <td>6.000000</td>\n",
       "      <td>5.000000</td>\n",
       "      <td>2.536078</td>\n",
       "      <td>2.510336</td>\n",
       "      <td>1.000000</td>\n",
       "    </tr>\n",
       "    <tr>\n",
       "      <td>max</td>\n",
       "      <td>1.000000</td>\n",
       "      <td>1.000000</td>\n",
       "      <td>1.000000</td>\n",
       "      <td>1.000000</td>\n",
       "      <td>1.000000</td>\n",
       "      <td>12.000000</td>\n",
       "      <td>1.000000</td>\n",
       "      <td>41.000000</td>\n",
       "      <td>552.590740</td>\n",
       "      <td>12.000000</td>\n",
       "      <td>31.000000</td>\n",
       "      <td>6.023668</td>\n",
       "      <td>6.146783</td>\n",
       "      <td>1.000000</td>\n",
       "    </tr>\n",
       "  </tbody>\n",
       "</table>\n",
       "</div>"
      ],
      "text/plain": [
       "            gender  near_location      partner  promo_friends        phone  \\\n",
       "count  4000.000000  4000.000000    4000.000000  4000.000000    4000.000000   \n",
       "mean   0.510250     0.845250       0.486750     0.308500       0.903500      \n",
       "std    0.499957     0.361711       0.499887     0.461932       0.295313      \n",
       "min    0.000000     0.000000       0.000000     0.000000       0.000000      \n",
       "25%    0.000000     1.000000       0.000000     0.000000       1.000000      \n",
       "50%    1.000000     1.000000       0.000000     0.000000       1.000000      \n",
       "75%    1.000000     1.000000       1.000000     1.000000       1.000000      \n",
       "max    1.000000     1.000000       1.000000     1.000000       1.000000      \n",
       "\n",
       "       contract_period  group_visits          age  \\\n",
       "count  4000.000000      4000.000000   4000.000000   \n",
       "mean   4.681250         0.412250      29.184250     \n",
       "std    4.549706         0.492301      3.258367      \n",
       "min    1.000000         0.000000      18.000000     \n",
       "25%    1.000000         0.000000      27.000000     \n",
       "50%    1.000000         0.000000      29.000000     \n",
       "75%    6.000000         1.000000      31.000000     \n",
       "max    12.000000        1.000000      41.000000     \n",
       "\n",
       "       avg_additional_charges_total  month_to_end_contract     lifetime  \\\n",
       "count  4000.000000                   4000.000000            4000.000000   \n",
       "mean   146.943728                    4.322750               3.724750      \n",
       "std    96.355602                     4.191297               3.749267      \n",
       "min    0.148205                      1.000000               0.000000      \n",
       "25%    68.868830                     1.000000               1.000000      \n",
       "50%    136.220159                    1.000000               3.000000      \n",
       "75%    210.949625                    6.000000               5.000000      \n",
       "max    552.590740                    12.000000              31.000000     \n",
       "\n",
       "       avg_class_frequency_total  avg_class_frequency_current_month  \\\n",
       "count  4000.000000                4000.000000                         \n",
       "mean   1.879020                   1.767052                            \n",
       "std    0.972245                   1.052906                            \n",
       "min    0.000000                   0.000000                            \n",
       "25%    1.180875                   0.963003                            \n",
       "50%    1.832768                   1.719574                            \n",
       "75%    2.536078                   2.510336                            \n",
       "max    6.023668                   6.146783                            \n",
       "\n",
       "             churn  \n",
       "count  4000.000000  \n",
       "mean   0.265250     \n",
       "std    0.441521     \n",
       "min    0.000000     \n",
       "25%    0.000000     \n",
       "50%    0.000000     \n",
       "75%    1.000000     \n",
       "max    1.000000     "
      ]
     },
     "execution_count": 8,
     "metadata": {},
     "output_type": "execute_result"
    }
   ],
   "source": [
    "data.describe()"
   ]
  },
  {
   "cell_type": "markdown",
   "metadata": {},
   "source": [
    "\n",
    "В таких признаках как avg_additional_charges_total, lifetime, avg_class_frequency_total, avg_class_frequency_current_month могут присутсвовать выбросы."
   ]
  },
  {
   "cell_type": "markdown",
   "metadata": {},
   "source": [
    "### Обработка выбросов"
   ]
  },
  {
   "cell_type": "markdown",
   "metadata": {},
   "source": [
    "#### Найду 95 перцентиль для столбцов"
   ]
  },
  {
   "cell_type": "code",
   "execution_count": 9,
   "metadata": {},
   "outputs": [],
   "source": [
    "def percentile_95(data, col):\n",
    "    print('95 перцентиль в столбце', col, ':',np.percentile(data[col], [95]))\n",
    "    "
   ]
  },
  {
   "cell_type": "code",
   "execution_count": 10,
   "metadata": {},
   "outputs": [
    {
     "name": "stdout",
     "output_type": "stream",
     "text": [
      "95 перцентиль в столбце avg_additional_charges_total : [323.44087589]\n",
      "95 перцентиль в столбце lifetime : [11.]\n",
      "95 перцентиль в столбце avg_class_frequency_total : [3.53564837]\n",
      "95 перцентиль в столбце avg_class_frequency_current_month : [3.54906154]\n"
     ]
    }
   ],
   "source": [
    "percentile_95(data, 'avg_additional_charges_total')\n",
    "percentile_95(data, 'lifetime')\n",
    "percentile_95(data, 'avg_class_frequency_total')\n",
    "percentile_95(data, 'avg_class_frequency_current_month')"
   ]
  },
  {
   "cell_type": "markdown",
   "metadata": {},
   "source": [
    "Отбросим выбросы и посмотрим насколько сократился датасет."
   ]
  },
  {
   "cell_type": "code",
   "execution_count": 11,
   "metadata": {},
   "outputs": [],
   "source": [
    "data_new = data.query(\n",
    "    'avg_additional_charges_total <= 324 & lifetime <= 11 & avg_class_frequency_total <= 4 & avg_class_frequency_current_month <= 4').reset_index()"
   ]
  },
  {
   "cell_type": "code",
   "execution_count": 12,
   "metadata": {
    "scrolled": true
   },
   "outputs": [
    {
     "name": "stdout",
     "output_type": "stream",
     "text": [
      "<class 'pandas.core.frame.DataFrame'>\n",
      "RangeIndex: 3547 entries, 0 to 3546\n",
      "Data columns (total 15 columns):\n",
      "index                                3547 non-null int64\n",
      "gender                               3547 non-null int64\n",
      "near_location                        3547 non-null int64\n",
      "partner                              3547 non-null int64\n",
      "promo_friends                        3547 non-null int64\n",
      "phone                                3547 non-null int64\n",
      "contract_period                      3547 non-null int64\n",
      "group_visits                         3547 non-null int64\n",
      "age                                  3547 non-null int64\n",
      "avg_additional_charges_total         3547 non-null float64\n",
      "month_to_end_contract                3547 non-null int64\n",
      "lifetime                             3547 non-null int64\n",
      "avg_class_frequency_total            3547 non-null float64\n",
      "avg_class_frequency_current_month    3547 non-null float64\n",
      "churn                                3547 non-null int64\n",
      "dtypes: float64(3), int64(12)\n",
      "memory usage: 415.8 KB\n"
     ]
    },
    {
     "data": {
      "text/html": [
       "<div>\n",
       "<style scoped>\n",
       "    .dataframe tbody tr th:only-of-type {\n",
       "        vertical-align: middle;\n",
       "    }\n",
       "\n",
       "    .dataframe tbody tr th {\n",
       "        vertical-align: top;\n",
       "    }\n",
       "\n",
       "    .dataframe thead th {\n",
       "        text-align: right;\n",
       "    }\n",
       "</style>\n",
       "<table border=\"1\" class=\"dataframe\">\n",
       "  <thead>\n",
       "    <tr style=\"text-align: right;\">\n",
       "      <th></th>\n",
       "      <th>index</th>\n",
       "      <th>gender</th>\n",
       "      <th>near_location</th>\n",
       "      <th>partner</th>\n",
       "      <th>promo_friends</th>\n",
       "      <th>phone</th>\n",
       "      <th>contract_period</th>\n",
       "      <th>group_visits</th>\n",
       "      <th>age</th>\n",
       "      <th>avg_additional_charges_total</th>\n",
       "      <th>month_to_end_contract</th>\n",
       "      <th>lifetime</th>\n",
       "      <th>avg_class_frequency_total</th>\n",
       "      <th>avg_class_frequency_current_month</th>\n",
       "      <th>churn</th>\n",
       "    </tr>\n",
       "  </thead>\n",
       "  <tbody>\n",
       "    <tr>\n",
       "      <td>count</td>\n",
       "      <td>3547.000000</td>\n",
       "      <td>3547.000000</td>\n",
       "      <td>3547.000000</td>\n",
       "      <td>3547.000000</td>\n",
       "      <td>3547.00000</td>\n",
       "      <td>3547.000000</td>\n",
       "      <td>3547.000000</td>\n",
       "      <td>3547.000000</td>\n",
       "      <td>3547.000000</td>\n",
       "      <td>3547.000000</td>\n",
       "      <td>3547.000000</td>\n",
       "      <td>3547.000000</td>\n",
       "      <td>3547.000000</td>\n",
       "      <td>3547.000000</td>\n",
       "      <td>3547.000000</td>\n",
       "    </tr>\n",
       "    <tr>\n",
       "      <td>mean</td>\n",
       "      <td>2000.024246</td>\n",
       "      <td>0.510290</td>\n",
       "      <td>0.839583</td>\n",
       "      <td>0.483507</td>\n",
       "      <td>0.30561</td>\n",
       "      <td>0.904144</td>\n",
       "      <td>4.555681</td>\n",
       "      <td>0.403440</td>\n",
       "      <td>29.090499</td>\n",
       "      <td>134.076915</td>\n",
       "      <td>4.214829</td>\n",
       "      <td>3.094728</td>\n",
       "      <td>1.818888</td>\n",
       "      <td>1.692169</td>\n",
       "      <td>0.297153</td>\n",
       "    </tr>\n",
       "    <tr>\n",
       "      <td>std</td>\n",
       "      <td>1157.798810</td>\n",
       "      <td>0.499965</td>\n",
       "      <td>0.367044</td>\n",
       "      <td>0.499798</td>\n",
       "      <td>0.46073</td>\n",
       "      <td>0.294435</td>\n",
       "      <td>4.510368</td>\n",
       "      <td>0.490657</td>\n",
       "      <td>3.274521</td>\n",
       "      <td>82.417436</td>\n",
       "      <td>4.159208</td>\n",
       "      <td>2.684383</td>\n",
       "      <td>0.905713</td>\n",
       "      <td>0.992411</td>\n",
       "      <td>0.457069</td>\n",
       "    </tr>\n",
       "    <tr>\n",
       "      <td>min</td>\n",
       "      <td>0.000000</td>\n",
       "      <td>0.000000</td>\n",
       "      <td>0.000000</td>\n",
       "      <td>0.000000</td>\n",
       "      <td>0.00000</td>\n",
       "      <td>0.000000</td>\n",
       "      <td>1.000000</td>\n",
       "      <td>0.000000</td>\n",
       "      <td>18.000000</td>\n",
       "      <td>0.148205</td>\n",
       "      <td>1.000000</td>\n",
       "      <td>0.000000</td>\n",
       "      <td>0.000000</td>\n",
       "      <td>0.000000</td>\n",
       "      <td>0.000000</td>\n",
       "    </tr>\n",
       "    <tr>\n",
       "      <td>25%</td>\n",
       "      <td>985.500000</td>\n",
       "      <td>0.000000</td>\n",
       "      <td>1.000000</td>\n",
       "      <td>0.000000</td>\n",
       "      <td>0.00000</td>\n",
       "      <td>1.000000</td>\n",
       "      <td>1.000000</td>\n",
       "      <td>0.000000</td>\n",
       "      <td>27.000000</td>\n",
       "      <td>64.669028</td>\n",
       "      <td>1.000000</td>\n",
       "      <td>1.000000</td>\n",
       "      <td>1.165041</td>\n",
       "      <td>0.930272</td>\n",
       "      <td>0.000000</td>\n",
       "    </tr>\n",
       "    <tr>\n",
       "      <td>50%</td>\n",
       "      <td>1999.000000</td>\n",
       "      <td>1.000000</td>\n",
       "      <td>1.000000</td>\n",
       "      <td>0.000000</td>\n",
       "      <td>0.00000</td>\n",
       "      <td>1.000000</td>\n",
       "      <td>1.000000</td>\n",
       "      <td>0.000000</td>\n",
       "      <td>29.000000</td>\n",
       "      <td>127.859156</td>\n",
       "      <td>1.000000</td>\n",
       "      <td>2.000000</td>\n",
       "      <td>1.794838</td>\n",
       "      <td>1.658196</td>\n",
       "      <td>0.000000</td>\n",
       "    </tr>\n",
       "    <tr>\n",
       "      <td>75%</td>\n",
       "      <td>3006.500000</td>\n",
       "      <td>1.000000</td>\n",
       "      <td>1.000000</td>\n",
       "      <td>1.000000</td>\n",
       "      <td>1.00000</td>\n",
       "      <td>1.000000</td>\n",
       "      <td>6.000000</td>\n",
       "      <td>1.000000</td>\n",
       "      <td>31.000000</td>\n",
       "      <td>196.627630</td>\n",
       "      <td>6.000000</td>\n",
       "      <td>5.000000</td>\n",
       "      <td>2.461356</td>\n",
       "      <td>2.428146</td>\n",
       "      <td>1.000000</td>\n",
       "    </tr>\n",
       "    <tr>\n",
       "      <td>max</td>\n",
       "      <td>3999.000000</td>\n",
       "      <td>1.000000</td>\n",
       "      <td>1.000000</td>\n",
       "      <td>1.000000</td>\n",
       "      <td>1.00000</td>\n",
       "      <td>1.000000</td>\n",
       "      <td>12.000000</td>\n",
       "      <td>1.000000</td>\n",
       "      <td>41.000000</td>\n",
       "      <td>323.533715</td>\n",
       "      <td>12.000000</td>\n",
       "      <td>11.000000</td>\n",
       "      <td>3.984524</td>\n",
       "      <td>3.968041</td>\n",
       "      <td>1.000000</td>\n",
       "    </tr>\n",
       "  </tbody>\n",
       "</table>\n",
       "</div>"
      ],
      "text/plain": [
       "             index       gender  near_location      partner  promo_friends  \\\n",
       "count  3547.000000  3547.000000  3547.000000    3547.000000  3547.00000      \n",
       "mean   2000.024246  0.510290     0.839583       0.483507     0.30561         \n",
       "std    1157.798810  0.499965     0.367044       0.499798     0.46073         \n",
       "min    0.000000     0.000000     0.000000       0.000000     0.00000         \n",
       "25%    985.500000   0.000000     1.000000       0.000000     0.00000         \n",
       "50%    1999.000000  1.000000     1.000000       0.000000     0.00000         \n",
       "75%    3006.500000  1.000000     1.000000       1.000000     1.00000         \n",
       "max    3999.000000  1.000000     1.000000       1.000000     1.00000         \n",
       "\n",
       "             phone  contract_period  group_visits          age  \\\n",
       "count  3547.000000  3547.000000      3547.000000   3547.000000   \n",
       "mean   0.904144     4.555681         0.403440      29.090499     \n",
       "std    0.294435     4.510368         0.490657      3.274521      \n",
       "min    0.000000     1.000000         0.000000      18.000000     \n",
       "25%    1.000000     1.000000         0.000000      27.000000     \n",
       "50%    1.000000     1.000000         0.000000      29.000000     \n",
       "75%    1.000000     6.000000         1.000000      31.000000     \n",
       "max    1.000000     12.000000        1.000000      41.000000     \n",
       "\n",
       "       avg_additional_charges_total  month_to_end_contract     lifetime  \\\n",
       "count  3547.000000                   3547.000000            3547.000000   \n",
       "mean   134.076915                    4.214829               3.094728      \n",
       "std    82.417436                     4.159208               2.684383      \n",
       "min    0.148205                      1.000000               0.000000      \n",
       "25%    64.669028                     1.000000               1.000000      \n",
       "50%    127.859156                    1.000000               2.000000      \n",
       "75%    196.627630                    6.000000               5.000000      \n",
       "max    323.533715                    12.000000              11.000000     \n",
       "\n",
       "       avg_class_frequency_total  avg_class_frequency_current_month  \\\n",
       "count  3547.000000                3547.000000                         \n",
       "mean   1.818888                   1.692169                            \n",
       "std    0.905713                   0.992411                            \n",
       "min    0.000000                   0.000000                            \n",
       "25%    1.165041                   0.930272                            \n",
       "50%    1.794838                   1.658196                            \n",
       "75%    2.461356                   2.428146                            \n",
       "max    3.984524                   3.968041                            \n",
       "\n",
       "             churn  \n",
       "count  3547.000000  \n",
       "mean   0.297153     \n",
       "std    0.457069     \n",
       "min    0.000000     \n",
       "25%    0.000000     \n",
       "50%    0.000000     \n",
       "75%    1.000000     \n",
       "max    1.000000     "
      ]
     },
     "execution_count": 12,
     "metadata": {},
     "output_type": "execute_result"
    }
   ],
   "source": [
    "data_new.info()\n",
    "data_new.describe()"
   ]
  },
  {
   "cell_type": "markdown",
   "metadata": {},
   "source": [
    "После удаления выбросов, мы потеряли 11% данных. Что достаточно много. Рассмотрю 99 персентиль"
   ]
  },
  {
   "cell_type": "markdown",
   "metadata": {},
   "source": [
    "#### Найду 99 перцентиль для столбцов"
   ]
  },
  {
   "cell_type": "code",
   "execution_count": 13,
   "metadata": {},
   "outputs": [],
   "source": [
    "def percentile_99(data, col):\n",
    "    print('99 перцентиль в столбце', col, ':',np.percentile(data[col], [99]))"
   ]
  },
  {
   "cell_type": "code",
   "execution_count": 14,
   "metadata": {},
   "outputs": [
    {
     "name": "stdout",
     "output_type": "stream",
     "text": [
      "99 перцентиль в столбце avg_additional_charges_total : [400.99612505]\n",
      "99 перцентиль в столбце lifetime : [17.]\n",
      "99 перцентиль в столбце avg_class_frequency_total : [4.19757925]\n",
      "99 перцентиль в столбце avg_class_frequency_current_month : [4.18575779]\n"
     ]
    }
   ],
   "source": [
    "percentile_99(data, 'avg_additional_charges_total')\n",
    "percentile_99(data, 'lifetime')\n",
    "percentile_99(data, 'avg_class_frequency_total')\n",
    "percentile_99(data, 'avg_class_frequency_current_month')"
   ]
  },
  {
   "cell_type": "code",
   "execution_count": 15,
   "metadata": {},
   "outputs": [],
   "source": [
    "data_new_1 = data.query('avg_additional_charges_total <= 400 & lifetime < 17 & avg_class_frequency_total <= 4 & avg_class_frequency_current_month <= 4')"
   ]
  },
  {
   "cell_type": "code",
   "execution_count": 16,
   "metadata": {},
   "outputs": [
    {
     "name": "stdout",
     "output_type": "stream",
     "text": [
      "<class 'pandas.core.frame.DataFrame'>\n",
      "Int64Index: 3830 entries, 0 to 3999\n",
      "Data columns (total 14 columns):\n",
      "gender                               3830 non-null int64\n",
      "near_location                        3830 non-null int64\n",
      "partner                              3830 non-null int64\n",
      "promo_friends                        3830 non-null int64\n",
      "phone                                3830 non-null int64\n",
      "contract_period                      3830 non-null int64\n",
      "group_visits                         3830 non-null int64\n",
      "age                                  3830 non-null int64\n",
      "avg_additional_charges_total         3830 non-null float64\n",
      "month_to_end_contract                3830 non-null int64\n",
      "lifetime                             3830 non-null int64\n",
      "avg_class_frequency_total            3830 non-null float64\n",
      "avg_class_frequency_current_month    3830 non-null float64\n",
      "churn                                3830 non-null int64\n",
      "dtypes: float64(3), int64(11)\n",
      "memory usage: 448.8 KB\n"
     ]
    },
    {
     "data": {
      "text/html": [
       "<div>\n",
       "<style scoped>\n",
       "    .dataframe tbody tr th:only-of-type {\n",
       "        vertical-align: middle;\n",
       "    }\n",
       "\n",
       "    .dataframe tbody tr th {\n",
       "        vertical-align: top;\n",
       "    }\n",
       "\n",
       "    .dataframe thead th {\n",
       "        text-align: right;\n",
       "    }\n",
       "</style>\n",
       "<table border=\"1\" class=\"dataframe\">\n",
       "  <thead>\n",
       "    <tr style=\"text-align: right;\">\n",
       "      <th></th>\n",
       "      <th>gender</th>\n",
       "      <th>near_location</th>\n",
       "      <th>partner</th>\n",
       "      <th>promo_friends</th>\n",
       "      <th>phone</th>\n",
       "      <th>contract_period</th>\n",
       "      <th>group_visits</th>\n",
       "      <th>age</th>\n",
       "      <th>avg_additional_charges_total</th>\n",
       "      <th>month_to_end_contract</th>\n",
       "      <th>lifetime</th>\n",
       "      <th>avg_class_frequency_total</th>\n",
       "      <th>avg_class_frequency_current_month</th>\n",
       "      <th>churn</th>\n",
       "    </tr>\n",
       "  </thead>\n",
       "  <tbody>\n",
       "    <tr>\n",
       "      <td>count</td>\n",
       "      <td>3830.000000</td>\n",
       "      <td>3830.000000</td>\n",
       "      <td>3830.000000</td>\n",
       "      <td>3830.000000</td>\n",
       "      <td>3830.000000</td>\n",
       "      <td>3830.000000</td>\n",
       "      <td>3830.000000</td>\n",
       "      <td>3830.000000</td>\n",
       "      <td>3830.000000</td>\n",
       "      <td>3830.000000</td>\n",
       "      <td>3830.000000</td>\n",
       "      <td>3830.000000</td>\n",
       "      <td>3830.000000</td>\n",
       "      <td>3830.000000</td>\n",
       "    </tr>\n",
       "    <tr>\n",
       "      <td>mean</td>\n",
       "      <td>0.511749</td>\n",
       "      <td>0.843081</td>\n",
       "      <td>0.487728</td>\n",
       "      <td>0.309138</td>\n",
       "      <td>0.903133</td>\n",
       "      <td>4.648564</td>\n",
       "      <td>0.404961</td>\n",
       "      <td>29.152742</td>\n",
       "      <td>143.121337</td>\n",
       "      <td>4.296084</td>\n",
       "      <td>3.508616</td>\n",
       "      <td>1.828731</td>\n",
       "      <td>1.711320</td>\n",
       "      <td>0.276762</td>\n",
       "    </tr>\n",
       "    <tr>\n",
       "      <td>std</td>\n",
       "      <td>0.499927</td>\n",
       "      <td>0.363772</td>\n",
       "      <td>0.499915</td>\n",
       "      <td>0.462199</td>\n",
       "      <td>0.295815</td>\n",
       "      <td>4.548252</td>\n",
       "      <td>0.490949</td>\n",
       "      <td>3.266345</td>\n",
       "      <td>91.362808</td>\n",
       "      <td>4.195791</td>\n",
       "      <td>3.288799</td>\n",
       "      <td>0.912018</td>\n",
       "      <td>0.993922</td>\n",
       "      <td>0.447456</td>\n",
       "    </tr>\n",
       "    <tr>\n",
       "      <td>min</td>\n",
       "      <td>0.000000</td>\n",
       "      <td>0.000000</td>\n",
       "      <td>0.000000</td>\n",
       "      <td>0.000000</td>\n",
       "      <td>0.000000</td>\n",
       "      <td>1.000000</td>\n",
       "      <td>0.000000</td>\n",
       "      <td>18.000000</td>\n",
       "      <td>0.148205</td>\n",
       "      <td>1.000000</td>\n",
       "      <td>0.000000</td>\n",
       "      <td>0.000000</td>\n",
       "      <td>0.000000</td>\n",
       "      <td>0.000000</td>\n",
       "    </tr>\n",
       "    <tr>\n",
       "      <td>25%</td>\n",
       "      <td>0.000000</td>\n",
       "      <td>1.000000</td>\n",
       "      <td>0.000000</td>\n",
       "      <td>0.000000</td>\n",
       "      <td>1.000000</td>\n",
       "      <td>1.000000</td>\n",
       "      <td>0.000000</td>\n",
       "      <td>27.000000</td>\n",
       "      <td>67.630122</td>\n",
       "      <td>1.000000</td>\n",
       "      <td>1.000000</td>\n",
       "      <td>1.168895</td>\n",
       "      <td>0.946555</td>\n",
       "      <td>0.000000</td>\n",
       "    </tr>\n",
       "    <tr>\n",
       "      <td>50%</td>\n",
       "      <td>1.000000</td>\n",
       "      <td>1.000000</td>\n",
       "      <td>0.000000</td>\n",
       "      <td>0.000000</td>\n",
       "      <td>1.000000</td>\n",
       "      <td>1.000000</td>\n",
       "      <td>0.000000</td>\n",
       "      <td>29.000000</td>\n",
       "      <td>134.112717</td>\n",
       "      <td>1.000000</td>\n",
       "      <td>3.000000</td>\n",
       "      <td>1.809321</td>\n",
       "      <td>1.686521</td>\n",
       "      <td>0.000000</td>\n",
       "    </tr>\n",
       "    <tr>\n",
       "      <td>75%</td>\n",
       "      <td>1.000000</td>\n",
       "      <td>1.000000</td>\n",
       "      <td>1.000000</td>\n",
       "      <td>1.000000</td>\n",
       "      <td>1.000000</td>\n",
       "      <td>6.000000</td>\n",
       "      <td>1.000000</td>\n",
       "      <td>31.000000</td>\n",
       "      <td>207.674948</td>\n",
       "      <td>6.000000</td>\n",
       "      <td>5.000000</td>\n",
       "      <td>2.480254</td>\n",
       "      <td>2.450450</td>\n",
       "      <td>1.000000</td>\n",
       "    </tr>\n",
       "    <tr>\n",
       "      <td>max</td>\n",
       "      <td>1.000000</td>\n",
       "      <td>1.000000</td>\n",
       "      <td>1.000000</td>\n",
       "      <td>1.000000</td>\n",
       "      <td>1.000000</td>\n",
       "      <td>12.000000</td>\n",
       "      <td>1.000000</td>\n",
       "      <td>41.000000</td>\n",
       "      <td>398.395150</td>\n",
       "      <td>12.000000</td>\n",
       "      <td>16.000000</td>\n",
       "      <td>3.991598</td>\n",
       "      <td>3.968041</td>\n",
       "      <td>1.000000</td>\n",
       "    </tr>\n",
       "  </tbody>\n",
       "</table>\n",
       "</div>"
      ],
      "text/plain": [
       "            gender  near_location      partner  promo_friends        phone  \\\n",
       "count  3830.000000  3830.000000    3830.000000  3830.000000    3830.000000   \n",
       "mean   0.511749     0.843081       0.487728     0.309138       0.903133      \n",
       "std    0.499927     0.363772       0.499915     0.462199       0.295815      \n",
       "min    0.000000     0.000000       0.000000     0.000000       0.000000      \n",
       "25%    0.000000     1.000000       0.000000     0.000000       1.000000      \n",
       "50%    1.000000     1.000000       0.000000     0.000000       1.000000      \n",
       "75%    1.000000     1.000000       1.000000     1.000000       1.000000      \n",
       "max    1.000000     1.000000       1.000000     1.000000       1.000000      \n",
       "\n",
       "       contract_period  group_visits          age  \\\n",
       "count  3830.000000      3830.000000   3830.000000   \n",
       "mean   4.648564         0.404961      29.152742     \n",
       "std    4.548252         0.490949      3.266345      \n",
       "min    1.000000         0.000000      18.000000     \n",
       "25%    1.000000         0.000000      27.000000     \n",
       "50%    1.000000         0.000000      29.000000     \n",
       "75%    6.000000         1.000000      31.000000     \n",
       "max    12.000000        1.000000      41.000000     \n",
       "\n",
       "       avg_additional_charges_total  month_to_end_contract     lifetime  \\\n",
       "count  3830.000000                   3830.000000            3830.000000   \n",
       "mean   143.121337                    4.296084               3.508616      \n",
       "std    91.362808                     4.195791               3.288799      \n",
       "min    0.148205                      1.000000               0.000000      \n",
       "25%    67.630122                     1.000000               1.000000      \n",
       "50%    134.112717                    1.000000               3.000000      \n",
       "75%    207.674948                    6.000000               5.000000      \n",
       "max    398.395150                    12.000000              16.000000     \n",
       "\n",
       "       avg_class_frequency_total  avg_class_frequency_current_month  \\\n",
       "count  3830.000000                3830.000000                         \n",
       "mean   1.828731                   1.711320                            \n",
       "std    0.912018                   0.993922                            \n",
       "min    0.000000                   0.000000                            \n",
       "25%    1.168895                   0.946555                            \n",
       "50%    1.809321                   1.686521                            \n",
       "75%    2.480254                   2.450450                            \n",
       "max    3.991598                   3.968041                            \n",
       "\n",
       "             churn  \n",
       "count  3830.000000  \n",
       "mean   0.276762     \n",
       "std    0.447456     \n",
       "min    0.000000     \n",
       "25%    0.000000     \n",
       "50%    0.000000     \n",
       "75%    1.000000     \n",
       "max    1.000000     "
      ]
     },
     "execution_count": 16,
     "metadata": {},
     "output_type": "execute_result"
    }
   ],
   "source": [
    "data_new_1.info()\n",
    "data_new_1.describe()"
   ]
  },
  {
   "cell_type": "markdown",
   "metadata": {},
   "source": [
    "Для дальнейшего исследоватния остаялю датасет data_new_1, в котором удалены выбросы согласно 99 перцентилю."
   ]
  },
  {
   "cell_type": "markdown",
   "metadata": {},
   "source": [
    "\n",
    "Портрет среднего пользователя фитнес-центра:\n",
    "    \n",
    "    1. пол не имеет значения\n",
    "    \n",
    "    2. Посетитель живет/работает рядом с фитнес-клубом\n",
    "    \n",
    "    3. Длительность абонемента от 1 месяц или 6 месяцев\n",
    "    \n",
    "    4. Возраст: 29 лет\n",
    "    \n",
    "    5. Посещает клуб 1 - 2 раза в неделю."
   ]
  },
  {
   "cell_type": "markdown",
   "metadata": {},
   "source": [
    "### Cредние значения признаков в группах: группа, ушедших в отток (1) и группа оставшихся (0)."
   ]
  },
  {
   "cell_type": "code",
   "execution_count": 17,
   "metadata": {},
   "outputs": [],
   "source": [
    "data_churn = data_new_1.groupby('churn').agg('mean')"
   ]
  },
  {
   "cell_type": "code",
   "execution_count": 18,
   "metadata": {
    "scrolled": true
   },
   "outputs": [
    {
     "data": {
      "text/html": [
       "<div>\n",
       "<style scoped>\n",
       "    .dataframe tbody tr th:only-of-type {\n",
       "        vertical-align: middle;\n",
       "    }\n",
       "\n",
       "    .dataframe tbody tr th {\n",
       "        vertical-align: top;\n",
       "    }\n",
       "\n",
       "    .dataframe thead th {\n",
       "        text-align: right;\n",
       "    }\n",
       "</style>\n",
       "<table border=\"1\" class=\"dataframe\">\n",
       "  <thead>\n",
       "    <tr style=\"text-align: right;\">\n",
       "      <th></th>\n",
       "      <th>gender</th>\n",
       "      <th>near_location</th>\n",
       "      <th>partner</th>\n",
       "      <th>promo_friends</th>\n",
       "      <th>phone</th>\n",
       "      <th>contract_period</th>\n",
       "      <th>group_visits</th>\n",
       "      <th>age</th>\n",
       "      <th>avg_additional_charges_total</th>\n",
       "      <th>month_to_end_contract</th>\n",
       "      <th>lifetime</th>\n",
       "      <th>avg_class_frequency_total</th>\n",
       "      <th>avg_class_frequency_current_month</th>\n",
       "    </tr>\n",
       "    <tr>\n",
       "      <th>churn</th>\n",
       "      <th></th>\n",
       "      <th></th>\n",
       "      <th></th>\n",
       "      <th></th>\n",
       "      <th></th>\n",
       "      <th></th>\n",
       "      <th></th>\n",
       "      <th></th>\n",
       "      <th></th>\n",
       "      <th></th>\n",
       "      <th></th>\n",
       "      <th></th>\n",
       "      <th></th>\n",
       "    </tr>\n",
       "  </thead>\n",
       "  <tbody>\n",
       "    <tr>\n",
       "      <td>0</td>\n",
       "      <td>0.512274</td>\n",
       "      <td>0.871841</td>\n",
       "      <td>0.538267</td>\n",
       "      <td>0.357040</td>\n",
       "      <td>0.903249</td>\n",
       "      <td>5.765704</td>\n",
       "      <td>0.457040</td>\n",
       "      <td>29.981588</td>\n",
       "      <td>153.962924</td>\n",
       "      <td>5.303610</td>\n",
       "      <td>4.473646</td>\n",
       "      <td>1.963928</td>\n",
       "      <td>1.966154</td>\n",
       "    </tr>\n",
       "    <tr>\n",
       "      <td>1</td>\n",
       "      <td>0.510377</td>\n",
       "      <td>0.767925</td>\n",
       "      <td>0.355660</td>\n",
       "      <td>0.183962</td>\n",
       "      <td>0.902830</td>\n",
       "      <td>1.729245</td>\n",
       "      <td>0.268868</td>\n",
       "      <td>26.986792</td>\n",
       "      <td>114.790019</td>\n",
       "      <td>1.663208</td>\n",
       "      <td>0.986792</td>\n",
       "      <td>1.475433</td>\n",
       "      <td>1.045386</td>\n",
       "    </tr>\n",
       "  </tbody>\n",
       "</table>\n",
       "</div>"
      ],
      "text/plain": [
       "         gender  near_location   partner  promo_friends     phone  \\\n",
       "churn                                                               \n",
       "0      0.512274  0.871841       0.538267  0.357040       0.903249   \n",
       "1      0.510377  0.767925       0.355660  0.183962       0.902830   \n",
       "\n",
       "       contract_period  group_visits        age  avg_additional_charges_total  \\\n",
       "churn                                                                           \n",
       "0      5.765704         0.457040      29.981588  153.962924                     \n",
       "1      1.729245         0.268868      26.986792  114.790019                     \n",
       "\n",
       "       month_to_end_contract  lifetime  avg_class_frequency_total  \\\n",
       "churn                                                               \n",
       "0      5.303610               4.473646  1.963928                    \n",
       "1      1.663208               0.986792  1.475433                    \n",
       "\n",
       "       avg_class_frequency_current_month  \n",
       "churn                                     \n",
       "0      1.966154                           \n",
       "1      1.045386                           "
      ]
     },
     "metadata": {},
     "output_type": "display_data"
    }
   ],
   "source": [
    "display(data_churn)"
   ]
  },
  {
   "cell_type": "markdown",
   "metadata": {},
   "source": [
    "<div style=\"border:solid blue 2px; padding: 20px\">\n",
    "<li> В обеих группах примерно одинаковое кол-во мужчин и женщин.\n",
    "<li> В группе, которая ушла в отток, длительность контракта в среднем 2 месяца, а у тех, кто остался - 6 месяцев. Соответвенно, и разница в показателе \"кол-во месяцев до окончания контракта\" тоже значительно отличается.\n",
    "<li> В группах нет разницы в возрасте и гендере.\n",
    "<li> Группа, ушежшая в отток, принесла меньше суммарной выручки за другие услуги. \n",
    "<li> Ушедшие в отток в среднем посещали фитнес-клуб реже, чем те, кто остались (1 раз в неделю)"
   ]
  },
  {
   "cell_type": "markdown",
   "metadata": {},
   "source": [
    "### Гистограммы распределения признаков для групп:  ушедших в отток (1) и оставшихся (0)."
   ]
  },
  {
   "cell_type": "code",
   "execution_count": 19,
   "metadata": {},
   "outputs": [],
   "source": [
    "data_churn_0 = data_new_1.query('churn == 0')\n",
    "data_churn_1 = data_new_1.query('churn == 1')"
   ]
  },
  {
   "cell_type": "code",
   "execution_count": 20,
   "metadata": {
    "scrolled": true
   },
   "outputs": [
    {
     "data": {
      "image/png": "[encoded data removed]",
      "text/plain": [
       "<Figure size 720x432 with 1 Axes>"
      ]
     },
     "metadata": {
      "needs_background": "light"
     },
     "output_type": "display_data"
    },
    {
     "data": {
      "image/png": "[encoded data removed]",
      "text/plain": [
       "<Figure size 720x432 with 1 Axes>"
      ]
     },
     "metadata": {
      "needs_background": "light"
     },
     "output_type": "display_data"
    },
    {
     "data": {
      "image/png": "[encoded data removed]",
      "text/plain": [
       "<Figure size 720x432 with 1 Axes>"
      ]
     },
     "metadata": {
      "needs_background": "light"
     },
     "output_type": "display_data"
    },
    {
     "data": {
      "image/png": "[encoded data removed]",
      "text/plain": [
       "<Figure size 720x432 with 1 Axes>"
      ]
     },
     "metadata": {
      "needs_background": "light"
     },
     "output_type": "display_data"
    },
    {
     "data": {
      "image/png": "[encoded data removed]",
      "text/plain": [
       "<Figure size 720x432 with 1 Axes>"
      ]
     },
     "metadata": {
      "needs_background": "light"
     },
     "output_type": "display_data"
    },
    {
     "data": {
      "image/png": "[encoded data removed]",
      "text/plain": [
       "<Figure size 720x432 with 1 Axes>"
      ]
     },
     "metadata": {
      "needs_background": "light"
     },
     "output_type": "display_data"
    },
    {
     "data": {
      "image/png": "[encoded data removed]",
      "text/plain": [
       "<Figure size 720x432 with 1 Axes>"
      ]
     },
     "metadata": {
      "needs_background": "light"
     },
     "output_type": "display_data"
    },
    {
     "data": {
      "image/png": "[encoded data removed]",
      "text/plain": [
       "<Figure size 720x432 with 1 Axes>"
      ]
     },
     "metadata": {
      "needs_background": "light"
     },
     "output_type": "display_data"
    },
    {
     "data": {
      "image/png": "[encoded data removed]",
      "text/plain": [
       "<Figure size 720x432 with 1 Axes>"
      ]
     },
     "metadata": {
      "needs_background": "light"
     },
     "output_type": "display_data"
    },
    {
     "data": {
      "image/png": "[encoded data removed]",
      "text/plain": [
       "<Figure size 720x432 with 1 Axes>"
      ]
     },
     "metadata": {
      "needs_background": "light"
     },
     "output_type": "display_data"
    },
    {
     "data": {
      "image/png": "[encoded data removed]",
      "text/plain": [
       "<Figure size 720x432 with 1 Axes>"
      ]
     },
     "metadata": {
      "needs_background": "light"
     },
     "output_type": "display_data"
    },
    {
     "data": {
      "image/png": "[encoded data removed]",
      "text/plain": [
       "<Figure size 720x432 with 1 Axes>"
      ]
     },
     "metadata": {
      "needs_background": "light"
     },
     "output_type": "display_data"
    },
    {
     "data": {
      "image/png": "[encoded data removed]",
      "text/plain": [
       "<Figure size 720x432 with 1 Axes>"
      ]
     },
     "metadata": {
      "needs_background": "light"
     },
     "output_type": "display_data"
    },
    {
     "data": {
      "image/png": "[encoded data removed]",
      "text/plain": [
       "<Figure size 720x432 with 1 Axes>"
      ]
     },
     "metadata": {
      "needs_background": "light"
     },
     "output_type": "display_data"
    },
    {
     "data": {
      "text/html": [
       "<script>$('.output_scroll').removeClass('output_scroll')</script>"
      ],
      "text/plain": [
       "<IPython.core.display.HTML object>"
      ]
     },
     "metadata": {},
     "output_type": "display_data"
    }
   ],
   "source": [
    "for col in data.columns:\n",
    "    fig, ax1 = plt.subplots(figsize=(10,6))\n",
    "    colors = ['green','red']\n",
    "    ax1.hist([data_churn_0[col], data_churn_1[col]], color=colors, label=['остались', 'ушли в отток'])\n",
    "    plt.legend(loc='upper center')\n",
    "    ax1.set_ylabel(\"Count\")\n",
    "    ax1.set_xlabel(col)\n",
    "    plt.tight_layout()\n",
    "    title = 'Сравнение признака (' + col + ') для оттока и для тех, кто остался'\n",
    "    plt.title(title)\n",
    "    plt.show();\n",
    "\n",
    "from IPython.display import display, HTML\n",
    "js = \"<script>$('.output_scroll').removeClass('output_scroll')</script>\"\n",
    "display(HTML(js))"
   ]
  },
  {
   "cell_type": "code",
   "execution_count": 21,
   "metadata": {},
   "outputs": [
    {
     "name": "stdout",
     "output_type": "stream",
     "text": [
      "Процент ушедших в отток (относительно всех пользователей): 27.68%\n",
      "Процент оставшихся (относительно всех пользователей): 72.32%\n"
     ]
    }
   ],
   "source": [
    "print('Процент ушедших в отток (относительно всех пользователей): {:.2%}'.format(data_new_1.query('churn == 1')['churn'].count() / len(data_new_1)))\n",
    "print('Процент оставшихся (относительно всех пользователей): {:.2%}'.format(data_new_1.query('churn == 0')['churn'].count() / len(data_new_1)))"
   ]
  },
  {
   "cell_type": "markdown",
   "metadata": {},
   "source": [
    "\n",
    "<li> Среди ушедших в отток одинаковое количество мужчин и женщин.\n",
    "<li> Среди тех, кто ушед в отток, большая часть с длительностью абонемента 1 месяц и очень небольшая доля ушла с абонементом в 12 месяцев\n",
    "<li>  В среднем ушедшие в отток - моложе тех, кто остался.\n",
    "<li> Суммарная выручка ушедших в отток значительно ниже в сравнении с теми, кто остался. Отчасти из-за того, что продолжительность контракта ушедших в отток - 1 месяц, а среди тех кто остался в сумме контрактов на 6 и 12 месяцев значительно больше.\n",
    "<li> Лайфтайм тех кто остался выше, чем тех, кто ушел в отток.\n",
    "<li> Пользователи, попавшие в отток, посещаяли фитнес зал реже, чем те, кто остался.\n",
    "<li> В выборке 72 процента пользовталей остались, а 28 процентов ушли."
   ]
  },
  {
   "cell_type": "markdown",
   "metadata": {},
   "source": [
    "### Матрица корреляций."
   ]
  },
  {
   "cell_type": "code",
   "execution_count": 22,
   "metadata": {},
   "outputs": [
    {
     "data": {
      "image/png": "[encoded data removed]",
      "text/plain": [
       "<Figure size 1080x1080 with 2 Axes>"
      ]
     },
     "metadata": {
      "needs_background": "light"
     },
     "output_type": "display_data"
    }
   ],
   "source": [
    "cm = data_new_1.corr() #вычисляем матрицу корреляций\n",
    "#print(cm)\n",
    "fig, ax = plt.subplots(figsize=(15, 15))\n",
    "\n",
    "#нарисуем тепловую карту с подписями для матрицы корреляций\n",
    "sns.heatmap(cm, annot = True, square=True) \n",
    "plt.show()\n"
   ]
  },
  {
   "cell_type": "markdown",
   "metadata": {},
   "source": [
    "\n",
    "На матрице корреляции видно, что есть сильно коррелирующие признаки:\n",
    "    \n",
    "    1. Это зависимость avg_class_frequency_total (средняя частота посещений в неделю за все время с начала действия абонемента) и avg_class_frequency_current_month (средняя частота посещений в неделю за предыдущий месяц). По сути это одинаковые показатели. Думаю, что необходимо удалить признак avg_class_frequency_total (средняя частота посещений в неделю за все время с начала действия абонемента)\n",
    "    \n",
    "    2. Month_to_end_contract (срок до окончания текущего действующего абонемента (в месяцах) и Contract_period (длительность текущего действующего абонемента) Несмотря на то, что корреляция очень высокая, в данном случае нет необходимости удалять этот признак. Если бы в данных была отметка о том, что все пользователи купили аобонементы в какой-то определенный месяц, тогда это были бы взаимозависимые признаки и один из них необходимо было бы удалить. Но таких данных нет.\n",
    "    \n"
   ]
  },
  {
   "cell_type": "code",
   "execution_count": 23,
   "metadata": {
    "scrolled": true
   },
   "outputs": [],
   "source": [
    "data_new_1 = data_new_1.drop(['avg_class_frequency_total'], axis = 1)"
   ]
  },
  {
   "cell_type": "markdown",
   "metadata": {},
   "source": [
    "## Модель прогнозирования оттока клиентов\n",
    "Целевой признак — факт оттока клиента в следующем месяце: data['churn']"
   ]
  },
  {
   "cell_type": "code",
   "execution_count": 24,
   "metadata": {},
   "outputs": [],
   "source": [
    "#разделим наши данные на признаки (матрица X) и целевую переменную (y)\n",
    "X = data_new_1.drop(['churn'], axis = 1)\n",
    "y = data_new_1['churn']"
   ]
  },
  {
   "cell_type": "code",
   "execution_count": 25,
   "metadata": {},
   "outputs": [],
   "source": [
    "#разделяем модель на обучающую и валидационную выборки\n",
    "X_train, X_test, y_train, y_test = train_test_split(X, y, test_size=0.2, random_state = 0)"
   ]
  },
  {
   "cell_type": "code",
   "execution_count": 26,
   "metadata": {},
   "outputs": [],
   "source": [
    "scaler = StandardScaler()\n",
    "# обучаем scaler и одновременно трансформируем матрицу для обучающей выборки\n",
    "X_train_st = scaler.fit_transform(X_train) \n",
    "# применяем стандартизацию к матрице признаков для тестовой выборки\n",
    "X_test_st = scaler.transform(X_test)"
   ]
  },
  {
   "cell_type": "markdown",
   "metadata": {},
   "source": [
    "### Обучение модели. Метод логистическая регрессия."
   ]
  },
  {
   "cell_type": "code",
   "execution_count": 27,
   "metadata": {},
   "outputs": [],
   "source": [
    "#логистическая регрессия\n",
    "lg_model = LogisticRegression(solver='liblinear', random_state=0)\n",
    "lg_model.fit(X_train_st, y_train)\n",
    "lg_y_pred = lg_model.predict(X_test_st)\n",
    "lg_y_probas = lg_model.predict_proba(X_test_st) "
   ]
  },
  {
   "cell_type": "code",
   "execution_count": 28,
   "metadata": {},
   "outputs": [
    {
     "name": "stdout",
     "output_type": "stream",
     "text": [
      "Массив вероятностей для тестовой выборки: 1 значение - вероятность принадлежности к классу 0 («событие не наступит»), второе значение - вероятность принадлежности к классу 1 («событие наступит»). \n",
      "[[0.94 0.06]\n",
      " [0.98 0.02]\n",
      " [0.97 0.03]\n",
      " [0.7  0.3 ]\n",
      " [1.   0.  ]\n",
      " [1.   0.  ]\n",
      " [1.   0.  ]\n",
      " [1.   0.  ]\n",
      " [0.44 0.56]\n",
      " [0.28 0.72]]\n"
     ]
    }
   ],
   "source": [
    "print('Массив вероятностей для тестовой выборки:', \n",
    "      '1 значение - вероятность принадлежности к классу 0 («событие не наступит»),', \n",
    "      'второе значение - вероятность принадлежности к классу 1 («событие наступит»). ')\n",
    "print(lg_y_probas[:10].round(2))"
   ]
  },
  {
   "cell_type": "code",
   "execution_count": 29,
   "metadata": {},
   "outputs": [
    {
     "name": "stdout",
     "output_type": "stream",
     "text": [
      "LogisticRegression Accuracy:0.90 Precision:0.79 Recall:0.85\n"
     ]
    }
   ],
   "source": [
    " print('LogisticRegression Accuracy:{:.2f} Precision:{:.2f} Recall:{:.2f}'.format(\n",
    "            accuracy_score(y_test, lg_y_pred),\n",
    "            precision_score(y_test, lg_y_pred),\n",
    "           recall_score(y_test, lg_y_pred),\n",
    "        ))"
   ]
  },
  {
   "cell_type": "markdown",
   "metadata": {},
   "source": [
    "### Обучение модели. Метод случайный лес."
   ]
  },
  {
   "cell_type": "code",
   "execution_count": 30,
   "metadata": {},
   "outputs": [],
   "source": [
    "#случайный лес\n",
    "rf_model = RandomForestClassifier(n_estimators = 100, random_state = 0)\n",
    "rf_model.fit(X_train_st, y_train)\n",
    "rf_y_pred = rf_model.predict(X_test_st)\n",
    "rf_y_probas = rf_model.predict_proba(X_test_st) "
   ]
  },
  {
   "cell_type": "code",
   "execution_count": 31,
   "metadata": {},
   "outputs": [
    {
     "name": "stdout",
     "output_type": "stream",
     "text": [
      "Массив вероятностей для тестовой выборки: 1 значение - вероятность принадлежности к классу 0 («событие не наступит»), второе значение - вероятность принадлежности к классу 1 («событие наступит»). \n",
      "[[0.96 0.04]\n",
      " [0.89 0.11]\n",
      " [0.99 0.01]\n",
      " [0.76 0.24]\n",
      " [1.   0.  ]\n",
      " [0.72 0.28]\n",
      " [0.99 0.01]\n",
      " [0.99 0.01]\n",
      " [0.65 0.35]\n",
      " [0.24 0.76]]\n"
     ]
    }
   ],
   "source": [
    "print('Массив вероятностей для тестовой выборки:', \n",
    "      '1 значение - вероятность принадлежности к классу 0 («событие не наступит»),', \n",
    "      'второе значение - вероятность принадлежности к классу 1 («событие наступит»). ')\n",
    "print(rf_y_probas[:10].round(2))"
   ]
  },
  {
   "cell_type": "code",
   "execution_count": 32,
   "metadata": {},
   "outputs": [
    {
     "name": "stdout",
     "output_type": "stream",
     "text": [
      "RandomForestClassifier Accuracy:0.90 Precision:0.80 Recall:0.81\n"
     ]
    }
   ],
   "source": [
    "print('RandomForestClassifier Accuracy:{:.2f} Precision:{:.2f} Recall:{:.2f}'.format(\n",
    "            accuracy_score(y_test, rf_y_pred),\n",
    "            precision_score(y_test, rf_y_pred),\n",
    "           recall_score(y_test, rf_y_pred),\n",
    "        ))"
   ]
  },
  {
   "cell_type": "markdown",
   "metadata": {},
   "source": [
    "\n",
    "    Т.к. в исходных данных не соблюдено условие баланса классов (когда объектов каждого класса примерно поровну), то метрика accuracy не является показательной. Необходим обратить внимание на две другие метрики.\n",
    "    В данном случае лучше, если пользователь попадет в группу оттока (хотя таковым не является), чем не попадет (и менеджеры пропустят этого клиента). Поэтому оценивать модель необходимо по метрике recall. Этот показатель выше у модели ленейной регрессии."
   ]
  },
  {
   "cell_type": "markdown",
   "metadata": {},
   "source": [
    "## Кластеризация клиентов"
   ]
  },
  {
   "cell_type": "markdown",
   "metadata": {},
   "source": [
    "### Матрица расстояний и дендрограмма на стандартизованной матрице признаков"
   ]
  },
  {
   "cell_type": "code",
   "execution_count": 33,
   "metadata": {},
   "outputs": [],
   "source": [
    "scaler = StandardScaler() # создаём объект класса scaler (нормализатор)\n",
    "x_sc = scaler.fit_transform(data_new_1.drop(columns = ['churn'])) # обучаем нормализатор и преобразуем набор данных "
   ]
  },
  {
   "cell_type": "code",
   "execution_count": 34,
   "metadata": {},
   "outputs": [],
   "source": [
    "linked = linkage(x_sc, method = 'ward')"
   ]
  },
  {
   "cell_type": "code",
   "execution_count": 35,
   "metadata": {},
   "outputs": [
    {
     "data": {
      "image/png": "[encoded data removed]",
      "text/plain": [
       "<Figure size 1080x720 with 1 Axes>"
      ]
     },
     "metadata": {
      "needs_background": "light"
     },
     "output_type": "display_data"
    }
   ],
   "source": [
    "plt.figure(figsize=(15, 10))  \n",
    "dendrogram(linked, orientation='top')\n",
    "plt.show() "
   ]
  },
  {
   "cell_type": "markdown",
   "metadata": {},
   "source": [
    "\n",
    "На основании дендограммы можно сделать вывод о том, что данные необходимо разбить на 5 кластеров."
   ]
  },
  {
   "cell_type": "markdown",
   "metadata": {},
   "source": [
    "### Модель кластеризации на основании алгоритма K-Means."
   ]
  },
  {
   "cell_type": "code",
   "execution_count": 36,
   "metadata": {},
   "outputs": [],
   "source": [
    "# задаём модель k_means с числом кластеров 5\n",
    "km = KMeans(n_clusters = 5, random_state = 0)"
   ]
  },
  {
   "cell_type": "code",
   "execution_count": 37,
   "metadata": {},
   "outputs": [
    {
     "name": "stdout",
     "output_type": "stream",
     "text": [
      "[[ 0.97677102  0.43142292  1.02485179  1.49492384 -3.05343252  0.29717188\n",
      "   1.21217763 -0.04676831 -1.41097564  0.1677892  -0.15467125 -1.72201002]\n",
      " [-1.02378139  0.43142292 -0.97575084 -0.6689304   0.32750028  1.61653233\n",
      "   1.21217763  0.56561677 -0.32751079  1.83634575  1.06173716  0.20016644]\n",
      " [-1.02378139  0.43142292  1.02485179 -0.6689304   0.32750028 -0.80229517\n",
      "  -0.82496161 -0.35296085 -0.14967406 -0.78567168 -0.45877336  0.02533948]\n",
      " [-1.02378139  0.43142292  1.02485179  1.49492384  0.32750028  1.61653233\n",
      "   1.21217763  1.17800185 -0.88068636  1.83634575 -0.45877336  1.65617639]\n",
      " [ 0.97677102  0.43142292  1.02485179  1.49492384  0.32750028 -0.80229517\n",
      "  -0.82496161 -0.96534593  0.60471151 -0.78567168 -0.15467125 -0.59493499]]\n"
     ]
    }
   ],
   "source": [
    "print(x_sc[:5])"
   ]
  },
  {
   "cell_type": "code",
   "execution_count": 38,
   "metadata": {},
   "outputs": [],
   "source": [
    "labels = km.fit_predict(x_sc)\n",
    "data_new_1['cluster'] = labels"
   ]
  },
  {
   "cell_type": "markdown",
   "metadata": {},
   "source": [
    "### Средние значения признаков для кластеров."
   ]
  },
  {
   "cell_type": "code",
   "execution_count": 39,
   "metadata": {},
   "outputs": [
    {
     "data": {
      "text/html": [
       "<div>\n",
       "<style scoped>\n",
       "    .dataframe tbody tr th:only-of-type {\n",
       "        vertical-align: middle;\n",
       "    }\n",
       "\n",
       "    .dataframe tbody tr th {\n",
       "        vertical-align: top;\n",
       "    }\n",
       "\n",
       "    .dataframe thead th {\n",
       "        text-align: right;\n",
       "    }\n",
       "</style>\n",
       "<table border=\"1\" class=\"dataframe\">\n",
       "  <thead>\n",
       "    <tr style=\"text-align: right;\">\n",
       "      <th></th>\n",
       "      <th>gender</th>\n",
       "      <th>near_location</th>\n",
       "      <th>partner</th>\n",
       "      <th>promo_friends</th>\n",
       "      <th>phone</th>\n",
       "      <th>contract_period</th>\n",
       "      <th>group_visits</th>\n",
       "      <th>age</th>\n",
       "      <th>avg_additional_charges_total</th>\n",
       "      <th>month_to_end_contract</th>\n",
       "      <th>lifetime</th>\n",
       "      <th>avg_class_frequency_current_month</th>\n",
       "      <th>churn</th>\n",
       "    </tr>\n",
       "    <tr>\n",
       "      <th>cluster</th>\n",
       "      <th></th>\n",
       "      <th></th>\n",
       "      <th></th>\n",
       "      <th></th>\n",
       "      <th></th>\n",
       "      <th></th>\n",
       "      <th></th>\n",
       "      <th></th>\n",
       "      <th></th>\n",
       "      <th></th>\n",
       "      <th></th>\n",
       "      <th></th>\n",
       "      <th></th>\n",
       "    </tr>\n",
       "  </thead>\n",
       "  <tbody>\n",
       "    <tr>\n",
       "      <td>0</td>\n",
       "      <td>0.528302</td>\n",
       "      <td>0.859838</td>\n",
       "      <td>0.469003</td>\n",
       "      <td>0.312668</td>\n",
       "      <td>0.0</td>\n",
       "      <td>4.770889</td>\n",
       "      <td>0.420485</td>\n",
       "      <td>29.293801</td>\n",
       "      <td>143.244510</td>\n",
       "      <td>4.471698</td>\n",
       "      <td>3.654987</td>\n",
       "      <td>1.659802</td>\n",
       "      <td>0.277628</td>\n",
       "    </tr>\n",
       "    <tr>\n",
       "      <td>1</td>\n",
       "      <td>0.503018</td>\n",
       "      <td>0.000000</td>\n",
       "      <td>0.464789</td>\n",
       "      <td>0.076459</td>\n",
       "      <td>1.0</td>\n",
       "      <td>2.187123</td>\n",
       "      <td>0.209256</td>\n",
       "      <td>28.539235</td>\n",
       "      <td>132.572389</td>\n",
       "      <td>2.062374</td>\n",
       "      <td>2.635815</td>\n",
       "      <td>1.517696</td>\n",
       "      <td>0.450704</td>\n",
       "    </tr>\n",
       "    <tr>\n",
       "      <td>2</td>\n",
       "      <td>0.488525</td>\n",
       "      <td>0.989071</td>\n",
       "      <td>0.937705</td>\n",
       "      <td>1.000000</td>\n",
       "      <td>1.0</td>\n",
       "      <td>7.121311</td>\n",
       "      <td>0.502732</td>\n",
       "      <td>29.462295</td>\n",
       "      <td>149.330881</td>\n",
       "      <td>6.515847</td>\n",
       "      <td>4.107104</td>\n",
       "      <td>1.816963</td>\n",
       "      <td>0.138798</td>\n",
       "    </tr>\n",
       "    <tr>\n",
       "      <td>3</td>\n",
       "      <td>0.522743</td>\n",
       "      <td>1.000000</td>\n",
       "      <td>0.190343</td>\n",
       "      <td>0.075577</td>\n",
       "      <td>1.0</td>\n",
       "      <td>1.545836</td>\n",
       "      <td>0.360392</td>\n",
       "      <td>28.715185</td>\n",
       "      <td>135.768044</td>\n",
       "      <td>1.489153</td>\n",
       "      <td>2.976207</td>\n",
       "      <td>1.563934</td>\n",
       "      <td>0.410777</td>\n",
       "    </tr>\n",
       "    <tr>\n",
       "      <td>4</td>\n",
       "      <td>0.517799</td>\n",
       "      <td>0.932039</td>\n",
       "      <td>0.538835</td>\n",
       "      <td>0.011327</td>\n",
       "      <td>1.0</td>\n",
       "      <td>10.067961</td>\n",
       "      <td>0.511327</td>\n",
       "      <td>30.114887</td>\n",
       "      <td>159.340189</td>\n",
       "      <td>9.190939</td>\n",
       "      <td>4.467638</td>\n",
       "      <td>2.082346</td>\n",
       "      <td>0.030744</td>\n",
       "    </tr>\n",
       "  </tbody>\n",
       "</table>\n",
       "</div>"
      ],
      "text/plain": [
       "           gender  near_location   partner  promo_friends  phone  \\\n",
       "cluster                                                            \n",
       "0        0.528302  0.859838       0.469003  0.312668       0.0     \n",
       "1        0.503018  0.000000       0.464789  0.076459       1.0     \n",
       "2        0.488525  0.989071       0.937705  1.000000       1.0     \n",
       "3        0.522743  1.000000       0.190343  0.075577       1.0     \n",
       "4        0.517799  0.932039       0.538835  0.011327       1.0     \n",
       "\n",
       "         contract_period  group_visits        age  \\\n",
       "cluster                                             \n",
       "0        4.770889         0.420485      29.293801   \n",
       "1        2.187123         0.209256      28.539235   \n",
       "2        7.121311         0.502732      29.462295   \n",
       "3        1.545836         0.360392      28.715185   \n",
       "4        10.067961        0.511327      30.114887   \n",
       "\n",
       "         avg_additional_charges_total  month_to_end_contract  lifetime  \\\n",
       "cluster                                                                  \n",
       "0        143.244510                    4.471698               3.654987   \n",
       "1        132.572389                    2.062374               2.635815   \n",
       "2        149.330881                    6.515847               4.107104   \n",
       "3        135.768044                    1.489153               2.976207   \n",
       "4        159.340189                    9.190939               4.467638   \n",
       "\n",
       "         avg_class_frequency_current_month     churn  \n",
       "cluster                                               \n",
       "0        1.659802                           0.277628  \n",
       "1        1.517696                           0.450704  \n",
       "2        1.816963                           0.138798  \n",
       "3        1.563934                           0.410777  \n",
       "4        2.082346                           0.030744  "
      ]
     },
     "metadata": {},
     "output_type": "display_data"
    }
   ],
   "source": [
    "display(data_new_1.groupby('cluster').agg('mean'))"
   ]
  },
  {
   "cell_type": "markdown",
   "metadata": {},
   "source": [
    "\n",
    "В каждом кластере практически поровну мужчин и женщин, а так же средний возраст не сильно зависит от кластера. Для каждого кластера можно выделить некоторые особенности.\n",
    "    \n",
    "    Нулевой кластер: это кластер, где практически всепользователи находятся рядом с фитнес-центром, но не указали номер телефона для связи. Отток 27,7 %\n",
    "    \n",
    "    Первый кластер: это кластер, в котором пользователи находятся далеко от локации от фитнес-центра. Отток 45%\n",
    "    \n",
    "    Второй кластер: это кластер, пользователи в котором пришли по промоации \"Приведи друга\" и по партнерской программе, а так же рядом с локацией. Отток 14 %\n",
    "    \n",
    "    Третий кластер: это кластер, пользователи находятся рядом с фитнесом, но не пришли по промоации \"Приведи друга\" и по партнерской программе. Период контракта 1 - 2 месяца. Отток 41 %\n",
    "    \n",
    "    Четвертый кластер: это пользователи, которые находятся рядом с фитнес-центром, но период контракта 6 - 12 месяцев. Отток 3%\n",
    "    \n",
    "    "
   ]
  },
  {
   "cell_type": "markdown",
   "metadata": {},
   "source": [
    "### Распределения признаков для кластеров"
   ]
  },
  {
   "cell_type": "code",
   "execution_count": 40,
   "metadata": {},
   "outputs": [],
   "source": [
    "cl_0 = data_new_1.query('cluster == 0')\n",
    "cl_1 = data_new_1.query('cluster == 1')\n",
    "cl_2 = data_new_1.query('cluster == 2')\n",
    "cl_3 = data_new_1.query('cluster == 3')\n",
    "cl_4 = data_new_1.query('cluster == 4')"
   ]
  },
  {
   "cell_type": "code",
   "execution_count": 41,
   "metadata": {
    "scrolled": true
   },
   "outputs": [
    {
     "data": {
      "image/png": "[encoded data removed]",
      "text/plain": [
       "<Figure size 720x504 with 1 Axes>"
      ]
     },
     "metadata": {
      "needs_background": "light"
     },
     "output_type": "display_data"
    },
    {
     "data": {
      "image/png": "[encoded data removed]",
      "text/plain": [
       "<Figure size 720x504 with 1 Axes>"
      ]
     },
     "metadata": {
      "needs_background": "light"
     },
     "output_type": "display_data"
    },
    {
     "data": {
      "image/png": "[encoded data removed]",
      "text/plain": [
       "<Figure size 720x504 with 1 Axes>"
      ]
     },
     "metadata": {
      "needs_background": "light"
     },
     "output_type": "display_data"
    },
    {
     "data": {
      "image/png": "[encoded data removed]",
      "text/plain": [
       "<Figure size 720x504 with 1 Axes>"
      ]
     },
     "metadata": {
      "needs_background": "light"
     },
     "output_type": "display_data"
    },
    {
     "data": {
      "image/png": "[encoded data removed]",
      "text/plain": [
       "<Figure size 720x504 with 1 Axes>"
      ]
     },
     "metadata": {
      "needs_background": "light"
     },
     "output_type": "display_data"
    },
    {
     "data": {
      "image/png": "[encoded data removed]",
      "text/plain": [
       "<Figure size 720x504 with 1 Axes>"
      ]
     },
     "metadata": {
      "needs_background": "light"
     },
     "output_type": "display_data"
    },
    {
     "data": {
      "image/png": "[encoded data removed]",
      "text/plain": [
       "<Figure size 720x504 with 1 Axes>"
      ]
     },
     "metadata": {
      "needs_background": "light"
     },
     "output_type": "display_data"
    },
    {
     "data": {
      "image/png": "[encoded data removed]",
      "text/plain": [
       "<Figure size 720x504 with 1 Axes>"
      ]
     },
     "metadata": {
      "needs_background": "light"
     },
     "output_type": "display_data"
    },
    {
     "data": {
      "image/png": "[encoded data removed]",
      "text/plain": [
       "<Figure size 720x504 with 1 Axes>"
      ]
     },
     "metadata": {
      "needs_background": "light"
     },
     "output_type": "display_data"
    },
    {
     "data": {
      "image/png": "[encoded data removed]",
      "text/plain": [
       "<Figure size 720x504 with 1 Axes>"
      ]
     },
     "metadata": {
      "needs_background": "light"
     },
     "output_type": "display_data"
    },
    {
     "data": {
      "image/png": "[encoded data removed]",
      "text/plain": [
       "<Figure size 720x504 with 1 Axes>"
      ]
     },
     "metadata": {
      "needs_background": "light"
     },
     "output_type": "display_data"
    },
    {
     "data": {
      "image/png": "[encoded data removed]",
      "text/plain": [
       "<Figure size 720x504 with 1 Axes>"
      ]
     },
     "metadata": {
      "needs_background": "light"
     },
     "output_type": "display_data"
    },
    {
     "data": {
      "image/png": "[encoded data removed]",
      "text/plain": [
       "<Figure size 720x504 with 1 Axes>"
      ]
     },
     "metadata": {
      "needs_background": "light"
     },
     "output_type": "display_data"
    },
    {
     "data": {
      "image/png": "[encoded data removed]",
      "text/plain": [
       "<Figure size 720x504 with 1 Axes>"
      ]
     },
     "metadata": {
      "needs_background": "light"
     },
     "output_type": "display_data"
    },
    {
     "data": {
      "text/html": [
       "<script>$('.output_scroll').removeClass('output_scroll')</script>"
      ],
      "text/plain": [
       "<IPython.core.display.HTML object>"
      ]
     },
     "metadata": {},
     "output_type": "display_data"
    }
   ],
   "source": [
    "for col in data_new_1.columns:        \n",
    "    fig, ax2 = plt.subplots(figsize=(10,7))\n",
    "    colors = ['blue','red', 'green', 'pink', 'purple']\n",
    "    ax2.hist([cl_0[col], cl_1[col], cl_2[col], cl_3[col], cl_4[col]], color=colors, label=['0', '1', '2', '3', '4'])\n",
    "    plt.legend(loc='upper right')\n",
    "    ax2.set_ylabel(\"Count\")\n",
    "    ax2.set_xlabel(col)\n",
    "    plt.tight_layout()\n",
    "    title = 'Признаки (' + col + ') для кластеров'\n",
    "    plt.title(title)\n",
    "    plt.show();\n",
    "    \n",
    "from IPython.display import display, HTML\n",
    "js = \"<script>$('.output_scroll').removeClass('output_scroll')</script>\"\n",
    "display(HTML(js))"
   ]
  },
  {
   "cell_type": "markdown",
   "metadata": {},
   "source": [
    "\n",
    "    Графики подтвердили выводы, сделанные ранее."
   ]
  },
  {
   "cell_type": "markdown",
   "metadata": {},
   "source": [
    "### Доля оттока для каждого кластера."
   ]
  },
  {
   "cell_type": "code",
   "execution_count": 42,
   "metadata": {},
   "outputs": [],
   "source": [
    "claster_churn = data_new_1.groupby('cluster')['churn'].agg(['sum', 'count']).reset_index()\n",
    "claster_churn['churn_%'] = (claster_churn['sum'] / claster_churn['count'] *100).round(2)"
   ]
  },
  {
   "cell_type": "code",
   "execution_count": 43,
   "metadata": {},
   "outputs": [
    {
     "data": {
      "text/html": [
       "<div>\n",
       "<style scoped>\n",
       "    .dataframe tbody tr th:only-of-type {\n",
       "        vertical-align: middle;\n",
       "    }\n",
       "\n",
       "    .dataframe tbody tr th {\n",
       "        vertical-align: top;\n",
       "    }\n",
       "\n",
       "    .dataframe thead th {\n",
       "        text-align: right;\n",
       "    }\n",
       "</style>\n",
       "<table border=\"1\" class=\"dataframe\">\n",
       "  <thead>\n",
       "    <tr style=\"text-align: right;\">\n",
       "      <th></th>\n",
       "      <th>cluster</th>\n",
       "      <th>sum</th>\n",
       "      <th>count</th>\n",
       "      <th>churn_%</th>\n",
       "    </tr>\n",
       "  </thead>\n",
       "  <tbody>\n",
       "    <tr>\n",
       "      <td>0</td>\n",
       "      <td>0</td>\n",
       "      <td>103</td>\n",
       "      <td>371</td>\n",
       "      <td>27.76</td>\n",
       "    </tr>\n",
       "    <tr>\n",
       "      <td>1</td>\n",
       "      <td>1</td>\n",
       "      <td>224</td>\n",
       "      <td>497</td>\n",
       "      <td>45.07</td>\n",
       "    </tr>\n",
       "    <tr>\n",
       "      <td>2</td>\n",
       "      <td>2</td>\n",
       "      <td>127</td>\n",
       "      <td>915</td>\n",
       "      <td>13.88</td>\n",
       "    </tr>\n",
       "    <tr>\n",
       "      <td>3</td>\n",
       "      <td>3</td>\n",
       "      <td>587</td>\n",
       "      <td>1429</td>\n",
       "      <td>41.08</td>\n",
       "    </tr>\n",
       "    <tr>\n",
       "      <td>4</td>\n",
       "      <td>4</td>\n",
       "      <td>19</td>\n",
       "      <td>618</td>\n",
       "      <td>3.07</td>\n",
       "    </tr>\n",
       "  </tbody>\n",
       "</table>\n",
       "</div>"
      ],
      "text/plain": [
       "   cluster  sum  count  churn_%\n",
       "0  0        103  371    27.76  \n",
       "1  1        224  497    45.07  \n",
       "2  2        127  915    13.88  \n",
       "3  3        587  1429   41.08  \n",
       "4  4        19   618    3.07   "
      ]
     },
     "metadata": {},
     "output_type": "display_data"
    }
   ],
   "source": [
    "display(claster_churn)"
   ]
  },
  {
   "cell_type": "markdown",
   "metadata": {},
   "source": [
    "\n",
    "Кластер номер 4 показал наибольшую долю оттока. Можно сделать вывод, что такие показатели как месторасположение очень сильно влияют на отток: если пользователь не живет (или не работает) рядом с финес-центром, то с вероятностью 45 процентов он уйдет в отток. Так же плохой показатель у 1 кластера: чем меньше срок контракта, тем выше вероятность, что пользователь попадет в отток. Кластер 0, наоборот, показал очень низкий процент оттока."
   ]
  },
  {
   "cell_type": "markdown",
   "metadata": {},
   "source": [
    "## Общий вывод"
   ]
  },
  {
   "cell_type": "markdown",
   "metadata": {},
   "source": [
    "**Средний посетитель фитнес клуба:** Портрет среднего пользователя фитнес-центра: пол не имеет значения, посетитель живет/работает рядом с фитнес-клубом, длительность абонемента от 1 месяц или 6 месяцев, возраст: 29 лет, посещает клуб 1 - 2 раза в неделю.\n",
    "\n",
    "**На основании данных об оттоке, можно сделать следующие выводы:**\n",
    "<li> Пол не влияет на отток: в обеих группах примерно одинаковое кол-во мужчин и женщин.\n",
    "<li> В группе, которая ушла в отток, длительность контракта в среднем 2 месяца, а у тех, кто остался - 6 месяцев. \n",
    "<li> Средний возраст клиентов в обеих группах 29 - 30 лет\n",
    "<li> Ушедшие в отток в среднем посещали фитнес-клуб реже (1 раз в неделю)\n",
    "<li> Пользователи, попавшие в отток, посещали фитнес-зал реже, чем те, кто остался.\n",
    "<li> Месторасположение очень сильно влияют на отток: если пользователь не живет (или не работает) рядом с фитнес-центром, то с большой вероятностью он уйдет в отток. \n",
    "<li> Чем меньше срок контракта, тем выше вероятность, что пользователь попадет в отток."
   ]
  },
  {
   "cell_type": "markdown",
   "metadata": {},
   "source": [
    "## Рекомендации"
   ]
  },
  {
   "cell_type": "markdown",
   "metadata": {},
   "source": [
    "На основании проведенного исследования, могу предложить следующие стратегии взаимодействия с клиентами:\n",
    "1. ***Большой отток наблюдается среди пользователей, которым необходимо добираться до фитнес-центра:*** таким пользователям можно предложить скидку при покупке абонемента в более удобный по месторасположению фитнес-центр сети\n",
    "\n",
    "2.  ***Большой отток наблюдается среди пользователей, длительность контракта у которых составляет 1 месяц:*** таким пользователям можно предложить скидку  на продление абонемента.\n",
    "\n",
    "3. ***Продумать систему мотивации за посещения клуба,*** т.к. если пользователь редко ходит, то вероятность попадания в отток увеличивается.\n",
    "\n",
    "4. ***Доля ушедших в отток клиентов, не указавших мобильный телефон для связи, так же велика.*** Поэтому необходимо продумать мотивацию за оставленный контактный телефон (напрмер, гарантией скидки на абонемент)"
   ]
  }
 ],
 "metadata": {
  "ExecuteTimeLog": [
   {
    "duration": 1908,
    "start_time": "2021-07-28T13:13:07.966Z"
   },
   {
    "duration": 22,
    "start_time": "2021-07-28T13:29:29.318Z"
   },
   {
    "duration": 17,
    "start_time": "2021-07-28T13:29:47.343Z"
   },
   {
    "duration": 28,
    "start_time": "2021-07-28T13:29:57.023Z"
   },
   {
    "duration": 24,
    "start_time": "2021-07-28T13:29:57.951Z"
   },
   {
    "duration": 6,
    "start_time": "2021-07-28T13:39:16.399Z"
   },
   {
    "duration": 11,
    "start_time": "2021-07-28T13:39:23.441Z"
   },
   {
    "duration": 5,
    "start_time": "2021-07-28T13:40:04.769Z"
   },
   {
    "duration": 5,
    "start_time": "2021-07-28T13:41:22.289Z"
   },
   {
    "duration": 6,
    "start_time": "2021-07-28T13:42:39.185Z"
   },
   {
    "duration": 5,
    "start_time": "2021-07-28T13:42:41.411Z"
   },
   {
    "duration": 5,
    "start_time": "2021-07-28T13:43:23.122Z"
   },
   {
    "duration": 7132,
    "start_time": "2021-07-28T13:45:40.393Z"
   },
   {
    "duration": 6731,
    "start_time": "2021-07-28T13:47:06.427Z"
   },
   {
    "duration": 7390,
    "start_time": "2021-07-28T13:47:14.371Z"
   },
   {
    "duration": 28,
    "start_time": "2021-07-28T13:47:36.467Z"
   },
   {
    "duration": 6960,
    "start_time": "2021-07-28T14:01:43.820Z"
   },
   {
    "duration": 7,
    "start_time": "2021-07-28T14:02:03.253Z"
   },
   {
    "duration": 22,
    "start_time": "2021-07-28T14:02:04.229Z"
   },
   {
    "duration": 6759,
    "start_time": "2021-07-28T14:02:05.894Z"
   },
   {
    "duration": 1908,
    "start_time": "2021-07-28T14:02:29.247Z"
   },
   {
    "duration": 24,
    "start_time": "2021-07-28T14:02:31.158Z"
   },
   {
    "duration": 30,
    "start_time": "2021-07-28T14:02:31.185Z"
   },
   {
    "duration": 7,
    "start_time": "2021-07-28T14:02:31.218Z"
   },
   {
    "duration": 70,
    "start_time": "2021-07-28T14:02:31.227Z"
   },
   {
    "duration": 5,
    "start_time": "2021-07-28T14:02:31.299Z"
   },
   {
    "duration": 72,
    "start_time": "2021-07-28T14:02:45.883Z"
   },
   {
    "duration": 4,
    "start_time": "2021-07-28T14:40:27.105Z"
   },
   {
    "duration": 528,
    "start_time": "2021-07-28T14:40:42.513Z"
   },
   {
    "duration": 216,
    "start_time": "2021-07-28T14:41:15.153Z"
   },
   {
    "duration": 4759,
    "start_time": "2021-07-28T14:43:18.344Z"
   },
   {
    "duration": 5055,
    "start_time": "2021-07-28T14:43:29.175Z"
   },
   {
    "duration": 814,
    "start_time": "2021-07-28T14:44:16.962Z"
   },
   {
    "duration": 784,
    "start_time": "2021-07-28T14:44:41.059Z"
   },
   {
    "duration": 734,
    "start_time": "2021-07-28T14:45:50.674Z"
   },
   {
    "duration": 4271,
    "start_time": "2021-07-28T14:46:30.290Z"
   },
   {
    "duration": 6450,
    "start_time": "2021-07-28T14:46:49.459Z"
   },
   {
    "duration": 7835,
    "start_time": "2021-07-28T14:46:56.419Z"
   },
   {
    "duration": 9343,
    "start_time": "2021-07-28T14:47:15.524Z"
   },
   {
    "duration": 2256,
    "start_time": "2021-07-28T14:50:12.979Z"
   },
   {
    "duration": 2166,
    "start_time": "2021-07-28T14:50:39.027Z"
   },
   {
    "duration": 3481,
    "start_time": "2021-07-28T14:51:02.243Z"
   },
   {
    "duration": 295,
    "start_time": "2021-07-28T14:52:01.923Z"
   },
   {
    "duration": 287,
    "start_time": "2021-07-28T14:52:14.770Z"
   },
   {
    "duration": 268,
    "start_time": "2021-07-28T14:52:25.635Z"
   },
   {
    "duration": 369,
    "start_time": "2021-07-28T14:52:40.005Z"
   },
   {
    "duration": 301,
    "start_time": "2021-07-28T14:52:40.851Z"
   },
   {
    "duration": 280,
    "start_time": "2021-07-28T14:52:46.612Z"
   },
   {
    "duration": 8,
    "start_time": "2021-07-28T14:52:54.692Z"
   },
   {
    "duration": 2223,
    "start_time": "2021-07-28T14:52:56.787Z"
   },
   {
    "duration": 2131,
    "start_time": "2021-07-28T14:53:28.707Z"
   },
   {
    "duration": 2357,
    "start_time": "2021-07-28T14:53:39.187Z"
   },
   {
    "duration": 2205,
    "start_time": "2021-07-28T14:54:14.723Z"
   },
   {
    "duration": 2115,
    "start_time": "2021-07-28T14:54:58.916Z"
   },
   {
    "duration": 2154,
    "start_time": "2021-07-28T15:01:05.252Z"
   },
   {
    "duration": 297,
    "start_time": "2021-07-28T15:12:43.243Z"
   },
   {
    "duration": 313,
    "start_time": "2021-07-28T15:13:25.142Z"
   },
   {
    "duration": 283,
    "start_time": "2021-07-28T15:13:52.823Z"
   },
   {
    "duration": 2043,
    "start_time": "2021-07-29T10:48:58.463Z"
   },
   {
    "duration": 24,
    "start_time": "2021-07-29T10:49:00.509Z"
   },
   {
    "duration": 36,
    "start_time": "2021-07-29T10:49:00.536Z"
   },
   {
    "duration": 6,
    "start_time": "2021-07-29T10:49:00.575Z"
   },
   {
    "duration": 29,
    "start_time": "2021-07-29T10:49:00.583Z"
   },
   {
    "duration": 5,
    "start_time": "2021-07-29T10:49:00.614Z"
   },
   {
    "duration": 103,
    "start_time": "2021-07-29T10:49:00.622Z"
   },
   {
    "duration": 4,
    "start_time": "2021-07-29T10:49:00.729Z"
   },
   {
    "duration": 231,
    "start_time": "2021-07-29T10:49:00.735Z"
   },
   {
    "duration": 116454,
    "start_time": "2021-07-29T10:49:00.969Z"
   },
   {
    "duration": 12074,
    "start_time": "2021-07-29T10:50:57.425Z"
   },
   {
    "duration": 2505,
    "start_time": "2021-07-29T10:51:09.502Z"
   },
   {
    "duration": 2370,
    "start_time": "2021-07-29T10:51:14.685Z"
   },
   {
    "duration": 3,
    "start_time": "2021-07-29T10:55:07.361Z"
   },
   {
    "duration": 8,
    "start_time": "2021-07-29T10:56:15.026Z"
   },
   {
    "duration": 7,
    "start_time": "2021-07-29T10:56:30.624Z"
   },
   {
    "duration": 9,
    "start_time": "2021-07-29T10:56:43.265Z"
   },
   {
    "duration": 306,
    "start_time": "2021-07-29T10:58:57.129Z"
   },
   {
    "duration": 323,
    "start_time": "2021-07-29T10:59:02.206Z"
   },
   {
    "duration": 188,
    "start_time": "2021-07-29T11:02:18.104Z"
   },
   {
    "duration": 333,
    "start_time": "2021-07-29T11:02:22.249Z"
   },
   {
    "duration": 10,
    "start_time": "2021-07-29T11:02:28.824Z"
   },
   {
    "duration": 20,
    "start_time": "2021-07-29T11:02:31.436Z"
   },
   {
    "duration": 9,
    "start_time": "2021-07-29T11:04:52.726Z"
   },
   {
    "duration": 19,
    "start_time": "2021-07-29T11:04:53.384Z"
   },
   {
    "duration": 15,
    "start_time": "2021-07-29T11:09:20.256Z"
   },
   {
    "duration": 132405,
    "start_time": "2021-07-29T11:09:20.275Z"
   },
   {
    "duration": 21102,
    "start_time": "2021-07-29T11:11:32.683Z"
   },
   {
    "duration": 356,
    "start_time": "2021-07-29T11:15:06.437Z"
   },
   {
    "duration": 12,
    "start_time": "2021-07-29T11:15:19.196Z"
   },
   {
    "duration": 845,
    "start_time": "2021-07-29T11:16:29.165Z"
   },
   {
    "duration": 854,
    "start_time": "2021-07-29T11:17:27.825Z"
   },
   {
    "duration": 1440,
    "start_time": "2021-07-29T11:17:55.583Z"
   },
   {
    "duration": 774,
    "start_time": "2021-07-29T11:19:17.577Z"
   },
   {
    "duration": 132,
    "start_time": "2021-07-29T11:20:02.987Z"
   },
   {
    "duration": 844,
    "start_time": "2021-07-29T11:20:18.946Z"
   },
   {
    "duration": 26,
    "start_time": "2021-07-29T11:20:55.953Z"
   },
   {
    "duration": 206156,
    "start_time": "2021-07-29T11:23:56.925Z"
   },
   {
    "duration": -1608,
    "start_time": "2021-07-29T11:27:25.047Z"
   },
   {
    "duration": -1608,
    "start_time": "2021-07-29T11:27:25.049Z"
   },
   {
    "duration": 7616,
    "start_time": "2021-07-29T11:28:43.905Z"
   },
   {
    "duration": 110,
    "start_time": "2021-07-29T11:28:55.805Z"
   },
   {
    "duration": 2814,
    "start_time": "2021-07-29T11:29:00.586Z"
   },
   {
    "duration": 3303,
    "start_time": "2021-07-29T11:30:18.425Z"
   },
   {
    "duration": 5960,
    "start_time": "2021-07-29T11:30:24.825Z"
   },
   {
    "duration": 634,
    "start_time": "2021-07-29T11:31:25.087Z"
   },
   {
    "duration": 607,
    "start_time": "2021-07-29T11:31:42.285Z"
   },
   {
    "duration": 1311,
    "start_time": "2021-07-29T11:31:55.845Z"
   },
   {
    "duration": 15,
    "start_time": "2021-07-29T11:33:29.049Z"
   },
   {
    "duration": 1175,
    "start_time": "2021-07-29T11:33:30.257Z"
   },
   {
    "duration": 154,
    "start_time": "2021-07-29T11:34:04.929Z"
   },
   {
    "duration": 503,
    "start_time": "2021-07-29T11:34:09.864Z"
   },
   {
    "duration": 461,
    "start_time": "2021-07-29T11:34:18.003Z"
   },
   {
    "duration": 498,
    "start_time": "2021-07-29T11:37:45.343Z"
   },
   {
    "duration": 785,
    "start_time": "2021-07-29T11:38:09.063Z"
   },
   {
    "duration": 780,
    "start_time": "2021-07-29T11:38:52.855Z"
   },
   {
    "duration": 723,
    "start_time": "2021-07-29T11:39:00.943Z"
   },
   {
    "duration": 596,
    "start_time": "2021-07-29T11:39:15.682Z"
   },
   {
    "duration": 553,
    "start_time": "2021-07-29T11:39:23.942Z"
   },
   {
    "duration": 527,
    "start_time": "2021-07-29T11:39:34.043Z"
   },
   {
    "duration": 507,
    "start_time": "2021-07-29T11:41:14.942Z"
   },
   {
    "duration": 735,
    "start_time": "2021-07-29T11:41:37.822Z"
   },
   {
    "duration": 484,
    "start_time": "2021-07-29T11:42:06.803Z"
   },
   {
    "duration": 640,
    "start_time": "2021-07-29T11:42:56.602Z"
   },
   {
    "duration": 656,
    "start_time": "2021-07-29T11:43:08.004Z"
   },
   {
    "duration": 1073,
    "start_time": "2021-07-29T11:44:42.802Z"
   },
   {
    "duration": 337,
    "start_time": "2021-07-29T11:44:54.383Z"
   },
   {
    "duration": 893,
    "start_time": "2021-07-29T11:45:12.988Z"
   },
   {
    "duration": 343,
    "start_time": "2021-07-29T11:45:26.503Z"
   },
   {
    "duration": 344,
    "start_time": "2021-07-29T11:45:34.323Z"
   },
   {
    "duration": 349,
    "start_time": "2021-07-29T11:45:41.642Z"
   },
   {
    "duration": 651,
    "start_time": "2021-07-29T11:45:58.102Z"
   },
   {
    "duration": 342,
    "start_time": "2021-07-29T11:47:18.303Z"
   },
   {
    "duration": 786,
    "start_time": "2021-07-29T11:47:28.123Z"
   },
   {
    "duration": 691,
    "start_time": "2021-07-29T11:47:47.861Z"
   },
   {
    "duration": 890,
    "start_time": "2021-07-29T11:47:52.843Z"
   },
   {
    "duration": 900,
    "start_time": "2021-07-29T11:48:13.843Z"
   },
   {
    "duration": 606,
    "start_time": "2021-07-29T11:48:20.144Z"
   },
   {
    "duration": 529,
    "start_time": "2021-07-29T11:48:28.405Z"
   },
   {
    "duration": 539,
    "start_time": "2021-07-29T11:48:36.103Z"
   },
   {
    "duration": 665,
    "start_time": "2021-07-29T11:49:04.183Z"
   },
   {
    "duration": 549,
    "start_time": "2021-07-29T11:49:19.229Z"
   },
   {
    "duration": 719,
    "start_time": "2021-07-29T11:49:35.500Z"
   },
   {
    "duration": 575,
    "start_time": "2021-07-29T11:49:54.183Z"
   },
   {
    "duration": 532,
    "start_time": "2021-07-29T11:49:58.203Z"
   },
   {
    "duration": 619,
    "start_time": "2021-07-29T11:50:12.062Z"
   },
   {
    "duration": 672,
    "start_time": "2021-07-29T11:50:16.343Z"
   },
   {
    "duration": 580,
    "start_time": "2021-07-29T11:50:49.982Z"
   },
   {
    "duration": 548,
    "start_time": "2021-07-29T11:50:56.172Z"
   },
   {
    "duration": 650,
    "start_time": "2021-07-29T11:51:11.566Z"
   },
   {
    "duration": 761,
    "start_time": "2021-07-29T11:51:17.863Z"
   },
   {
    "duration": 523,
    "start_time": "2021-07-29T11:51:42.001Z"
   },
   {
    "duration": 7768,
    "start_time": "2021-07-29T11:58:15.266Z"
   },
   {
    "duration": 8352,
    "start_time": "2021-07-29T11:58:36.078Z"
   },
   {
    "duration": 7747,
    "start_time": "2021-07-29T11:59:01.630Z"
   },
   {
    "duration": 8392,
    "start_time": "2021-07-29T11:59:23.781Z"
   },
   {
    "duration": 9332,
    "start_time": "2021-07-29T12:00:28.982Z"
   },
   {
    "duration": 8949,
    "start_time": "2021-07-29T12:01:53.167Z"
   },
   {
    "duration": 9065,
    "start_time": "2021-07-29T12:02:04.690Z"
   },
   {
    "duration": 8619,
    "start_time": "2021-07-29T12:04:22.274Z"
   },
   {
    "duration": 127,
    "start_time": "2021-07-29T12:05:08.343Z"
   },
   {
    "duration": 8941,
    "start_time": "2021-07-29T12:05:45.742Z"
   },
   {
    "duration": 113,
    "start_time": "2021-07-29T12:05:54.686Z"
   },
   {
    "duration": 155,
    "start_time": "2021-07-29T12:06:13.606Z"
   },
   {
    "duration": 2152,
    "start_time": "2021-07-29T12:06:20.409Z"
   },
   {
    "duration": 25,
    "start_time": "2021-07-29T12:06:22.564Z"
   },
   {
    "duration": 26,
    "start_time": "2021-07-29T12:06:22.591Z"
   },
   {
    "duration": 6,
    "start_time": "2021-07-29T12:06:22.620Z"
   },
   {
    "duration": 55,
    "start_time": "2021-07-29T12:06:22.628Z"
   },
   {
    "duration": 5,
    "start_time": "2021-07-29T12:06:22.686Z"
   },
   {
    "duration": 108,
    "start_time": "2021-07-29T12:06:22.693Z"
   },
   {
    "duration": 10,
    "start_time": "2021-07-29T12:06:22.805Z"
   },
   {
    "duration": 22,
    "start_time": "2021-07-29T12:06:22.818Z"
   },
   {
    "duration": 32,
    "start_time": "2021-07-29T12:06:22.843Z"
   },
   {
    "duration": 8940,
    "start_time": "2021-07-29T12:06:22.878Z"
   },
   {
    "duration": 1147,
    "start_time": "2021-07-29T12:06:31.822Z"
   },
   {
    "duration": 126,
    "start_time": "2021-07-29T12:08:04.450Z"
   },
   {
    "duration": 8834,
    "start_time": "2021-07-29T13:34:01.921Z"
   },
   {
    "duration": 121,
    "start_time": "2021-07-29T13:34:10.757Z"
   },
   {
    "duration": 1148,
    "start_time": "2021-07-29T13:49:06.437Z"
   },
   {
    "duration": 1418,
    "start_time": "2021-07-29T13:49:36.058Z"
   },
   {
    "duration": 1632,
    "start_time": "2021-07-29T13:49:52.118Z"
   },
   {
    "duration": 1562,
    "start_time": "2021-07-29T13:50:03.658Z"
   },
   {
    "duration": 1871,
    "start_time": "2021-07-29T13:50:10.837Z"
   },
   {
    "duration": 1827,
    "start_time": "2021-07-29T13:50:27.589Z"
   },
   {
    "duration": 2026,
    "start_time": "2021-07-29T13:50:44.858Z"
   },
   {
    "duration": 2037,
    "start_time": "2021-07-29T13:51:09.518Z"
   },
   {
    "duration": 3,
    "start_time": "2021-07-29T14:59:58.340Z"
   },
   {
    "duration": 11,
    "start_time": "2021-07-29T15:02:18.278Z"
   },
   {
    "duration": 15,
    "start_time": "2021-07-29T15:02:39.678Z"
   },
   {
    "duration": 2066,
    "start_time": "2021-07-29T15:03:09.696Z"
   },
   {
    "duration": 26,
    "start_time": "2021-07-29T15:03:11.765Z"
   },
   {
    "duration": 35,
    "start_time": "2021-07-29T15:03:11.794Z"
   },
   {
    "duration": 7,
    "start_time": "2021-07-29T15:03:11.832Z"
   },
   {
    "duration": 40,
    "start_time": "2021-07-29T15:03:11.841Z"
   },
   {
    "duration": 22,
    "start_time": "2021-07-29T15:03:11.884Z"
   },
   {
    "duration": 5,
    "start_time": "2021-07-29T15:03:11.909Z"
   },
   {
    "duration": 113,
    "start_time": "2021-07-29T15:03:11.917Z"
   },
   {
    "duration": 3,
    "start_time": "2021-07-29T15:03:12.035Z"
   },
   {
    "duration": 30,
    "start_time": "2021-07-29T15:03:12.042Z"
   },
   {
    "duration": 22,
    "start_time": "2021-07-29T15:03:12.075Z"
   },
   {
    "duration": 18,
    "start_time": "2021-07-29T15:03:12.100Z"
   },
   {
    "duration": 9201,
    "start_time": "2021-07-29T15:03:12.120Z"
   },
   {
    "duration": 99,
    "start_time": "2021-07-29T15:03:21.324Z"
   },
   {
    "duration": 2221,
    "start_time": "2021-07-29T15:03:21.426Z"
   },
   {
    "duration": 4,
    "start_time": "2021-07-29T15:03:23.649Z"
   },
   {
    "duration": 534,
    "start_time": "2021-07-29T15:08:00.879Z"
   },
   {
    "duration": 344,
    "start_time": "2021-07-29T15:08:14.977Z"
   },
   {
    "duration": 124,
    "start_time": "2021-07-29T15:08:26.216Z"
   },
   {
    "duration": 120,
    "start_time": "2021-07-29T15:08:28.297Z"
   },
   {
    "duration": 365,
    "start_time": "2021-07-29T15:08:31.758Z"
   },
   {
    "duration": 7,
    "start_time": "2021-07-29T15:10:55.847Z"
   },
   {
    "duration": 4,
    "start_time": "2021-07-29T15:14:45.558Z"
   },
   {
    "duration": 838,
    "start_time": "2021-07-29T15:15:14.657Z"
   },
   {
    "duration": 5,
    "start_time": "2021-07-29T15:15:48.172Z"
   },
   {
    "duration": 4,
    "start_time": "2021-07-29T15:16:06.237Z"
   },
   {
    "duration": 6,
    "start_time": "2021-07-29T15:16:07.437Z"
   },
   {
    "duration": 5,
    "start_time": "2021-07-29T15:16:19.697Z"
   },
   {
    "duration": 8,
    "start_time": "2021-07-29T15:16:21.017Z"
   },
   {
    "duration": 5,
    "start_time": "2021-07-29T15:17:25.665Z"
   },
   {
    "duration": 546,
    "start_time": "2021-07-29T15:17:26.805Z"
   },
   {
    "duration": 5,
    "start_time": "2021-07-29T15:17:39.025Z"
   },
   {
    "duration": 380,
    "start_time": "2021-07-29T15:17:40.377Z"
   },
   {
    "duration": 9,
    "start_time": "2021-07-29T15:17:52.678Z"
   },
   {
    "duration": 146,
    "start_time": "2021-07-29T15:17:55.978Z"
   },
   {
    "duration": 4,
    "start_time": "2021-07-29T15:18:03.678Z"
   },
   {
    "duration": 6,
    "start_time": "2021-07-29T15:18:04.597Z"
   },
   {
    "duration": 4,
    "start_time": "2021-07-29T15:18:25.913Z"
   },
   {
    "duration": 6,
    "start_time": "2021-07-29T15:18:27.237Z"
   },
   {
    "duration": 12,
    "start_time": "2021-07-29T15:19:35.237Z"
   },
   {
    "duration": 106,
    "start_time": "2021-07-29T15:25:11.698Z"
   },
   {
    "duration": 137,
    "start_time": "2021-07-29T15:33:36.057Z"
   },
   {
    "duration": 12,
    "start_time": "2021-07-29T15:33:53.537Z"
   },
   {
    "duration": 11,
    "start_time": "2021-07-29T15:34:06.578Z"
   },
   {
    "duration": 507,
    "start_time": "2021-07-29T15:34:43.057Z"
   },
   {
    "duration": 465,
    "start_time": "2021-07-29T15:34:53.398Z"
   },
   {
    "duration": 287,
    "start_time": "2021-07-29T15:35:13.937Z"
   },
   {
    "duration": 11,
    "start_time": "2021-07-29T15:35:21.017Z"
   },
   {
    "duration": 94,
    "start_time": "2021-07-29T15:35:38.687Z"
   },
   {
    "duration": 12,
    "start_time": "2021-07-29T15:36:27.607Z"
   },
   {
    "duration": 78,
    "start_time": "2021-07-29T15:36:28.377Z"
   },
   {
    "duration": 121,
    "start_time": "2021-07-29T15:38:31.098Z"
   },
   {
    "duration": 4,
    "start_time": "2021-07-29T15:38:35.578Z"
   },
   {
    "duration": 13,
    "start_time": "2021-07-29T15:38:52.309Z"
   },
   {
    "duration": 12,
    "start_time": "2021-07-29T15:39:52.337Z"
   },
   {
    "duration": 90,
    "start_time": "2021-07-29T15:40:09.938Z"
   },
   {
    "duration": 81,
    "start_time": "2021-07-29T15:40:59.417Z"
   },
   {
    "duration": 9,
    "start_time": "2021-07-29T15:43:45.197Z"
   },
   {
    "duration": 19,
    "start_time": "2021-07-29T15:43:46.021Z"
   },
   {
    "duration": 2634,
    "start_time": "2021-07-29T15:44:03.450Z"
   },
   {
    "duration": 25,
    "start_time": "2021-07-29T15:44:06.088Z"
   },
   {
    "duration": 29,
    "start_time": "2021-07-29T15:44:06.116Z"
   },
   {
    "duration": 26,
    "start_time": "2021-07-29T15:44:06.148Z"
   },
   {
    "duration": 19,
    "start_time": "2021-07-29T15:44:06.177Z"
   },
   {
    "duration": 21,
    "start_time": "2021-07-29T15:44:06.199Z"
   },
   {
    "duration": 5,
    "start_time": "2021-07-29T15:44:06.223Z"
   },
   {
    "duration": 147,
    "start_time": "2021-07-29T15:44:06.230Z"
   },
   {
    "duration": 5,
    "start_time": "2021-07-29T15:44:06.384Z"
   },
   {
    "duration": 17,
    "start_time": "2021-07-29T15:44:06.392Z"
   },
   {
    "duration": 12,
    "start_time": "2021-07-29T15:44:06.414Z"
   },
   {
    "duration": 117,
    "start_time": "2021-07-29T15:44:06.428Z"
   },
   {
    "duration": 4,
    "start_time": "2021-07-29T15:44:06.547Z"
   },
   {
    "duration": 20,
    "start_time": "2021-07-29T15:44:06.567Z"
   },
   {
    "duration": 15,
    "start_time": "2021-07-29T15:44:06.591Z"
   },
   {
    "duration": 108,
    "start_time": "2021-07-29T15:44:06.609Z"
   },
   {
    "duration": 87,
    "start_time": "2021-07-29T15:44:06.720Z"
   },
   {
    "duration": 8,
    "start_time": "2021-07-29T15:44:06.809Z"
   },
   {
    "duration": 21,
    "start_time": "2021-07-29T15:44:06.820Z"
   },
   {
    "duration": 235,
    "start_time": "2021-07-29T15:44:06.843Z"
   },
   {
    "duration": 47,
    "start_time": "2021-07-29T15:44:07.033Z"
   },
   {
    "duration": 47,
    "start_time": "2021-07-29T15:44:07.035Z"
   },
   {
    "duration": 46,
    "start_time": "2021-07-29T15:44:07.037Z"
   },
   {
    "duration": 46,
    "start_time": "2021-07-29T15:44:07.039Z"
   },
   {
    "duration": 45,
    "start_time": "2021-07-29T15:44:07.041Z"
   },
   {
    "duration": 10,
    "start_time": "2021-07-29T15:45:31.321Z"
   },
   {
    "duration": 9250,
    "start_time": "2021-07-29T15:45:31.978Z"
   },
   {
    "duration": 174,
    "start_time": "2021-07-29T15:45:41.425Z"
   },
   {
    "duration": 2137,
    "start_time": "2021-07-29T15:46:01.403Z"
   },
   {
    "duration": 495,
    "start_time": "2021-07-29T15:47:58.758Z"
   },
   {
    "duration": 356,
    "start_time": "2021-07-29T15:48:09.137Z"
   },
   {
    "duration": 997,
    "start_time": "2021-07-29T15:49:02.469Z"
   },
   {
    "duration": 1380,
    "start_time": "2021-07-29T15:49:46.783Z"
   },
   {
    "duration": 534,
    "start_time": "2021-07-29T15:50:54.983Z"
   },
   {
    "duration": 640,
    "start_time": "2021-07-29T15:51:03.138Z"
   },
   {
    "duration": 16,
    "start_time": "2021-07-29T15:51:50.718Z"
   },
   {
    "duration": 24,
    "start_time": "2021-07-29T15:52:25.258Z"
   },
   {
    "duration": 2256,
    "start_time": "2021-07-29T15:52:53.643Z"
   },
   {
    "duration": 31,
    "start_time": "2021-07-29T15:52:55.903Z"
   },
   {
    "duration": 54,
    "start_time": "2021-07-29T15:52:55.937Z"
   },
   {
    "duration": 9,
    "start_time": "2021-07-29T15:52:55.994Z"
   },
   {
    "duration": 18,
    "start_time": "2021-07-29T15:52:56.006Z"
   },
   {
    "duration": 67,
    "start_time": "2021-07-29T15:52:56.027Z"
   },
   {
    "duration": 5,
    "start_time": "2021-07-29T15:52:56.097Z"
   },
   {
    "duration": 107,
    "start_time": "2021-07-29T15:52:56.106Z"
   },
   {
    "duration": 4,
    "start_time": "2021-07-29T15:52:56.216Z"
   },
   {
    "duration": 18,
    "start_time": "2021-07-29T15:52:56.223Z"
   },
   {
    "duration": 29,
    "start_time": "2021-07-29T15:52:56.244Z"
   },
   {
    "duration": 102,
    "start_time": "2021-07-29T15:52:56.276Z"
   },
   {
    "duration": 3,
    "start_time": "2021-07-29T15:52:56.382Z"
   },
   {
    "duration": 14,
    "start_time": "2021-07-29T15:52:56.388Z"
   },
   {
    "duration": 15,
    "start_time": "2021-07-29T15:52:56.405Z"
   },
   {
    "duration": 127,
    "start_time": "2021-07-29T15:52:56.423Z"
   },
   {
    "duration": 93,
    "start_time": "2021-07-29T15:52:56.552Z"
   },
   {
    "duration": 22,
    "start_time": "2021-07-29T15:52:56.648Z"
   },
   {
    "duration": 27,
    "start_time": "2021-07-29T15:52:56.673Z"
   },
   {
    "duration": 23,
    "start_time": "2021-07-29T15:52:56.703Z"
   },
   {
    "duration": 9713,
    "start_time": "2021-07-29T15:52:56.728Z"
   },
   {
    "duration": 219,
    "start_time": "2021-07-29T15:53:06.443Z"
   },
   {
    "duration": 2204,
    "start_time": "2021-07-29T15:53:06.664Z"
   },
   {
    "duration": 22,
    "start_time": "2021-07-29T15:53:08.871Z"
   },
   {
    "duration": 12,
    "start_time": "2021-07-29T15:53:08.895Z"
   },
   {
    "duration": 5,
    "start_time": "2021-07-29T15:53:08.911Z"
   },
   {
    "duration": 7,
    "start_time": "2021-07-29T15:58:53.275Z"
   },
   {
    "duration": 629,
    "start_time": "2021-07-29T16:19:30.431Z"
   },
   {
    "duration": 310,
    "start_time": "2021-07-29T16:19:43.215Z"
   },
   {
    "duration": 154,
    "start_time": "2021-07-29T16:20:25.011Z"
   },
   {
    "duration": 7,
    "start_time": "2021-07-29T16:20:31.523Z"
   },
   {
    "duration": 354,
    "start_time": "2021-07-29T16:21:56.771Z"
   },
   {
    "duration": 25,
    "start_time": "2021-07-29T16:22:30.671Z"
   },
   {
    "duration": 3,
    "start_time": "2021-07-29T16:22:36.452Z"
   },
   {
    "duration": 103,
    "start_time": "2021-07-29T16:23:35.567Z"
   },
   {
    "duration": 17,
    "start_time": "2021-07-29T16:23:36.471Z"
   },
   {
    "duration": 60,
    "start_time": "2021-07-29T16:31:43.773Z"
   },
   {
    "duration": 401,
    "start_time": "2021-07-29T16:34:19.619Z"
   },
   {
    "duration": 362,
    "start_time": "2021-07-29T16:34:24.311Z"
   },
   {
    "duration": 33,
    "start_time": "2021-07-29T16:34:49.132Z"
   },
   {
    "duration": 57,
    "start_time": "2021-07-29T16:34:54.225Z"
   },
   {
    "duration": 2197,
    "start_time": "2021-07-29T16:35:01.838Z"
   },
   {
    "duration": 27,
    "start_time": "2021-07-29T16:35:04.037Z"
   },
   {
    "duration": 35,
    "start_time": "2021-07-29T16:35:04.069Z"
   },
   {
    "duration": 6,
    "start_time": "2021-07-29T16:35:04.107Z"
   },
   {
    "duration": 14,
    "start_time": "2021-07-29T16:35:04.115Z"
   },
   {
    "duration": 55,
    "start_time": "2021-07-29T16:35:04.132Z"
   },
   {
    "duration": 5,
    "start_time": "2021-07-29T16:35:04.190Z"
   },
   {
    "duration": 103,
    "start_time": "2021-07-29T16:35:04.197Z"
   },
   {
    "duration": 5,
    "start_time": "2021-07-29T16:35:04.307Z"
   },
   {
    "duration": 14,
    "start_time": "2021-07-29T16:35:04.315Z"
   },
   {
    "duration": 40,
    "start_time": "2021-07-29T16:35:04.331Z"
   },
   {
    "duration": 75,
    "start_time": "2021-07-29T16:35:04.373Z"
   },
   {
    "duration": 17,
    "start_time": "2021-07-29T16:35:04.450Z"
   },
   {
    "duration": 14,
    "start_time": "2021-07-29T16:35:04.470Z"
   },
   {
    "duration": 10,
    "start_time": "2021-07-29T16:35:04.486Z"
   },
   {
    "duration": 121,
    "start_time": "2021-07-29T16:35:04.498Z"
   },
   {
    "duration": 87,
    "start_time": "2021-07-29T16:35:04.621Z"
   },
   {
    "duration": 11,
    "start_time": "2021-07-29T16:35:04.711Z"
   },
   {
    "duration": 43,
    "start_time": "2021-07-29T16:35:04.724Z"
   },
   {
    "duration": 10,
    "start_time": "2021-07-29T16:35:04.769Z"
   },
   {
    "duration": 8643,
    "start_time": "2021-07-29T16:35:04.781Z"
   },
   {
    "duration": 96,
    "start_time": "2021-07-29T16:35:13.426Z"
   },
   {
    "duration": 2163,
    "start_time": "2021-07-29T16:35:13.524Z"
   },
   {
    "duration": 17,
    "start_time": "2021-07-29T16:35:15.689Z"
   },
   {
    "duration": 7,
    "start_time": "2021-07-29T16:35:15.708Z"
   },
   {
    "duration": 10,
    "start_time": "2021-07-29T16:35:15.717Z"
   },
   {
    "duration": 39,
    "start_time": "2021-07-29T16:35:15.731Z"
   },
   {
    "duration": 3,
    "start_time": "2021-07-29T16:35:15.773Z"
   },
   {
    "duration": 61,
    "start_time": "2021-07-29T16:35:15.778Z"
   },
   {
    "duration": 117,
    "start_time": "2021-07-29T16:35:15.841Z"
   },
   {
    "duration": 5,
    "start_time": "2021-07-29T16:48:48.462Z"
   },
   {
    "duration": 1007,
    "start_time": "2021-07-29T16:48:54.161Z"
   },
   {
    "duration": 9,
    "start_time": "2021-07-29T16:49:31.601Z"
   },
   {
    "duration": 1064,
    "start_time": "2021-07-29T16:49:35.783Z"
   },
   {
    "duration": 8,
    "start_time": "2021-07-29T16:50:58.562Z"
   },
   {
    "duration": 11,
    "start_time": "2021-07-29T16:51:01.196Z"
   },
   {
    "duration": 6,
    "start_time": "2021-07-29T16:51:01.902Z"
   },
   {
    "duration": 1181,
    "start_time": "2021-07-29T16:51:02.706Z"
   },
   {
    "duration": 2719,
    "start_time": "2021-07-29T16:51:17.821Z"
   },
   {
    "duration": 26,
    "start_time": "2021-07-29T16:51:20.543Z"
   },
   {
    "duration": 31,
    "start_time": "2021-07-29T16:51:20.572Z"
   },
   {
    "duration": 7,
    "start_time": "2021-07-29T16:51:20.605Z"
   },
   {
    "duration": 16,
    "start_time": "2021-07-29T16:51:20.616Z"
   },
   {
    "duration": 32,
    "start_time": "2021-07-29T16:51:20.667Z"
   },
   {
    "duration": 4,
    "start_time": "2021-07-29T16:51:20.701Z"
   },
   {
    "duration": 111,
    "start_time": "2021-07-29T16:51:20.707Z"
   },
   {
    "duration": 4,
    "start_time": "2021-07-29T16:51:20.822Z"
   },
   {
    "duration": 15,
    "start_time": "2021-07-29T16:51:20.829Z"
   },
   {
    "duration": 28,
    "start_time": "2021-07-29T16:51:20.846Z"
   },
   {
    "duration": 94,
    "start_time": "2021-07-29T16:51:20.876Z"
   },
   {
    "duration": 4,
    "start_time": "2021-07-29T16:51:20.972Z"
   },
   {
    "duration": 14,
    "start_time": "2021-07-29T16:51:20.978Z"
   },
   {
    "duration": 10,
    "start_time": "2021-07-29T16:51:20.994Z"
   },
   {
    "duration": 111,
    "start_time": "2021-07-29T16:51:21.006Z"
   },
   {
    "duration": 81,
    "start_time": "2021-07-29T16:51:21.119Z"
   },
   {
    "duration": 8,
    "start_time": "2021-07-29T16:51:21.203Z"
   },
   {
    "duration": 27,
    "start_time": "2021-07-29T16:51:21.213Z"
   },
   {
    "duration": 33,
    "start_time": "2021-07-29T16:51:21.243Z"
   },
   {
    "duration": 8671,
    "start_time": "2021-07-29T16:51:21.279Z"
   },
   {
    "duration": 128,
    "start_time": "2021-07-29T16:51:29.953Z"
   },
   {
    "duration": 2199,
    "start_time": "2021-07-29T16:51:30.084Z"
   },
   {
    "duration": 16,
    "start_time": "2021-07-29T16:51:32.285Z"
   },
   {
    "duration": 7,
    "start_time": "2021-07-29T16:51:32.304Z"
   },
   {
    "duration": 11,
    "start_time": "2021-07-29T16:51:32.313Z"
   },
   {
    "duration": 45,
    "start_time": "2021-07-29T16:51:32.329Z"
   },
   {
    "duration": 10,
    "start_time": "2021-07-29T16:51:32.376Z"
   },
   {
    "duration": 6,
    "start_time": "2021-07-29T16:51:32.388Z"
   },
   {
    "duration": 1197,
    "start_time": "2021-07-29T16:51:32.397Z"
   },
   {
    "duration": 1996,
    "start_time": "2021-07-29T19:12:16.192Z"
   },
   {
    "duration": 22,
    "start_time": "2021-07-29T19:12:18.191Z"
   },
   {
    "duration": 27,
    "start_time": "2021-07-29T19:12:18.216Z"
   },
   {
    "duration": 22,
    "start_time": "2021-07-29T19:12:18.246Z"
   },
   {
    "duration": 12,
    "start_time": "2021-07-29T19:12:18.271Z"
   },
   {
    "duration": 22,
    "start_time": "2021-07-29T19:12:18.285Z"
   },
   {
    "duration": 5,
    "start_time": "2021-07-29T19:12:18.309Z"
   },
   {
    "duration": 114,
    "start_time": "2021-07-29T19:12:18.318Z"
   },
   {
    "duration": 4,
    "start_time": "2021-07-29T19:12:18.435Z"
   },
   {
    "duration": 29,
    "start_time": "2021-07-29T19:12:18.441Z"
   },
   {
    "duration": 12,
    "start_time": "2021-07-29T19:12:18.473Z"
   },
   {
    "duration": 94,
    "start_time": "2021-07-29T19:12:18.487Z"
   },
   {
    "duration": 4,
    "start_time": "2021-07-29T19:12:18.584Z"
   },
   {
    "duration": 15,
    "start_time": "2021-07-29T19:12:18.590Z"
   },
   {
    "duration": 11,
    "start_time": "2021-07-29T19:12:18.607Z"
   },
   {
    "duration": 109,
    "start_time": "2021-07-29T19:12:18.620Z"
   },
   {
    "duration": 84,
    "start_time": "2021-07-29T19:12:18.732Z"
   },
   {
    "duration": 8,
    "start_time": "2021-07-29T19:12:18.819Z"
   },
   {
    "duration": 39,
    "start_time": "2021-07-29T19:12:18.830Z"
   },
   {
    "duration": 10,
    "start_time": "2021-07-29T19:12:18.871Z"
   },
   {
    "duration": 8544,
    "start_time": "2021-07-29T19:12:18.883Z"
   },
   {
    "duration": 145,
    "start_time": "2021-07-29T19:12:27.429Z"
   },
   {
    "duration": 2030,
    "start_time": "2021-07-29T19:12:27.579Z"
   },
   {
    "duration": 17,
    "start_time": "2021-07-29T19:12:29.612Z"
   },
   {
    "duration": 6,
    "start_time": "2021-07-29T19:12:29.632Z"
   },
   {
    "duration": 29,
    "start_time": "2021-07-29T19:12:29.640Z"
   },
   {
    "duration": 10,
    "start_time": "2021-07-29T19:12:29.672Z"
   },
   {
    "duration": 90,
    "start_time": "2021-07-29T19:12:29.685Z"
   },
   {
    "duration": 89,
    "start_time": "2021-07-29T19:12:29.689Z"
   },
   {
    "duration": 52,
    "start_time": "2021-07-29T19:12:29.727Z"
   },
   {
    "duration": 47,
    "start_time": "2021-07-29T19:12:29.735Z"
   },
   {
    "duration": 44,
    "start_time": "2021-07-29T19:12:29.740Z"
   },
   {
    "duration": 9,
    "start_time": "2021-07-29T19:15:51.818Z"
   },
   {
    "duration": 23,
    "start_time": "2021-07-29T19:15:52.850Z"
   },
   {
    "duration": 94,
    "start_time": "2021-07-29T19:16:25.297Z"
   },
   {
    "duration": 10,
    "start_time": "2021-07-29T19:16:33.170Z"
   },
   {
    "duration": 24,
    "start_time": "2021-07-29T19:19:19.499Z"
   },
   {
    "duration": 11,
    "start_time": "2021-07-29T19:19:20.920Z"
   },
   {
    "duration": 10,
    "start_time": "2021-07-29T19:20:20.777Z"
   },
   {
    "duration": 458,
    "start_time": "2021-07-29T19:23:37.497Z"
   },
   {
    "duration": 25,
    "start_time": "2021-07-29T19:23:40.871Z"
   },
   {
    "duration": 13,
    "start_time": "2021-07-29T19:23:41.569Z"
   },
   {
    "duration": 348,
    "start_time": "2021-07-29T19:24:12.727Z"
   },
   {
    "duration": 6,
    "start_time": "2021-07-29T19:25:12.909Z"
   },
   {
    "duration": 5,
    "start_time": "2021-07-29T19:25:18.325Z"
   },
   {
    "duration": 319,
    "start_time": "2021-07-29T19:25:24.129Z"
   },
   {
    "duration": 7,
    "start_time": "2021-07-29T19:26:17.138Z"
   },
   {
    "duration": 735,
    "start_time": "2021-07-29T19:26:25.110Z"
   },
   {
    "duration": 464,
    "start_time": "2021-07-29T19:26:36.970Z"
   },
   {
    "duration": 380,
    "start_time": "2021-07-29T19:27:29.358Z"
   },
   {
    "duration": 10,
    "start_time": "2021-07-29T19:28:08.409Z"
   },
   {
    "duration": 10,
    "start_time": "2021-07-29T19:28:36.798Z"
   },
   {
    "duration": 12,
    "start_time": "2021-07-29T19:29:15.498Z"
   },
   {
    "duration": 134,
    "start_time": "2021-07-29T19:43:16.233Z"
   },
   {
    "duration": 7,
    "start_time": "2021-07-29T19:43:20.181Z"
   },
   {
    "duration": 9,
    "start_time": "2021-07-29T19:44:24.465Z"
   },
   {
    "duration": 6,
    "start_time": "2021-07-29T19:44:45.684Z"
   },
   {
    "duration": 5,
    "start_time": "2021-07-29T19:55:22.648Z"
   },
   {
    "duration": 28,
    "start_time": "2021-07-29T20:00:23.996Z"
   },
   {
    "duration": 1692,
    "start_time": "2021-07-29T20:01:40.495Z"
   },
   {
    "duration": 8,
    "start_time": "2021-07-29T20:03:46.185Z"
   },
   {
    "duration": 788,
    "start_time": "2021-07-29T20:04:39.837Z"
   },
   {
    "duration": 139735,
    "start_time": "2021-07-29T20:04:57.929Z"
   },
   {
    "duration": 2354,
    "start_time": "2021-07-30T12:13:38.137Z"
   },
   {
    "duration": 22,
    "start_time": "2021-07-30T12:13:40.494Z"
   },
   {
    "duration": 29,
    "start_time": "2021-07-30T12:13:40.519Z"
   },
   {
    "duration": 6,
    "start_time": "2021-07-30T12:13:40.566Z"
   },
   {
    "duration": 12,
    "start_time": "2021-07-30T12:13:40.574Z"
   },
   {
    "duration": 20,
    "start_time": "2021-07-30T12:13:40.588Z"
   },
   {
    "duration": 4,
    "start_time": "2021-07-30T12:13:40.610Z"
   },
   {
    "duration": 116,
    "start_time": "2021-07-30T12:13:40.618Z"
   },
   {
    "duration": 4,
    "start_time": "2021-07-30T12:13:40.737Z"
   },
   {
    "duration": 28,
    "start_time": "2021-07-30T12:13:40.744Z"
   },
   {
    "duration": 11,
    "start_time": "2021-07-30T12:13:40.774Z"
   },
   {
    "duration": 93,
    "start_time": "2021-07-30T12:13:40.787Z"
   },
   {
    "duration": 4,
    "start_time": "2021-07-30T12:13:40.882Z"
   },
   {
    "duration": 18,
    "start_time": "2021-07-30T12:13:40.888Z"
   },
   {
    "duration": 12,
    "start_time": "2021-07-30T12:13:40.908Z"
   },
   {
    "duration": 107,
    "start_time": "2021-07-30T12:13:40.922Z"
   },
   {
    "duration": 86,
    "start_time": "2021-07-30T12:13:41.031Z"
   },
   {
    "duration": 8,
    "start_time": "2021-07-30T12:13:41.119Z"
   },
   {
    "duration": 39,
    "start_time": "2021-07-30T12:13:41.129Z"
   },
   {
    "duration": 12,
    "start_time": "2021-07-30T12:13:41.171Z"
   },
   {
    "duration": 8642,
    "start_time": "2021-07-30T12:13:41.186Z"
   },
   {
    "duration": 114,
    "start_time": "2021-07-30T12:13:49.830Z"
   },
   {
    "duration": 2031,
    "start_time": "2021-07-30T12:13:49.949Z"
   },
   {
    "duration": 18,
    "start_time": "2021-07-30T12:13:51.983Z"
   },
   {
    "duration": 8,
    "start_time": "2021-07-30T12:13:52.003Z"
   },
   {
    "duration": 11,
    "start_time": "2021-07-30T12:13:52.013Z"
   },
   {
    "duration": 44,
    "start_time": "2021-07-30T12:13:52.026Z"
   },
   {
    "duration": 9,
    "start_time": "2021-07-30T12:13:52.072Z"
   },
   {
    "duration": 508,
    "start_time": "2021-07-30T12:13:52.083Z"
   },
   {
    "duration": -136,
    "start_time": "2021-07-30T12:13:52.729Z"
   },
   {
    "duration": -138,
    "start_time": "2021-07-30T12:13:52.733Z"
   },
   {
    "duration": -141,
    "start_time": "2021-07-30T12:13:52.737Z"
   },
   {
    "duration": -144,
    "start_time": "2021-07-30T12:13:52.741Z"
   },
   {
    "duration": -146,
    "start_time": "2021-07-30T12:13:52.745Z"
   },
   {
    "duration": -148,
    "start_time": "2021-07-30T12:13:52.748Z"
   },
   {
    "duration": -149,
    "start_time": "2021-07-30T12:13:52.750Z"
   },
   {
    "duration": -150,
    "start_time": "2021-07-30T12:13:52.752Z"
   },
   {
    "duration": 27,
    "start_time": "2021-07-30T12:16:27.877Z"
   },
   {
    "duration": 9,
    "start_time": "2021-07-30T12:16:30.725Z"
   },
   {
    "duration": 446,
    "start_time": "2021-07-30T12:16:32.165Z"
   },
   {
    "duration": 10,
    "start_time": "2021-07-30T12:16:34.453Z"
   },
   {
    "duration": 9,
    "start_time": "2021-07-30T12:17:26.661Z"
   },
   {
    "duration": 6,
    "start_time": "2021-07-30T12:17:27.689Z"
   },
   {
    "duration": 688,
    "start_time": "2021-07-30T12:17:32.869Z"
   },
   {
    "duration": 135515,
    "start_time": "2021-07-30T12:17:37.478Z"
   },
   {
    "duration": 1453,
    "start_time": "2021-07-30T12:37:02.314Z"
   },
   {
    "duration": 6,
    "start_time": "2021-07-30T13:09:36.286Z"
   },
   {
    "duration": 376,
    "start_time": "2021-07-30T13:10:03.519Z"
   },
   {
    "duration": 106580,
    "start_time": "2021-07-30T13:10:04.879Z"
   },
   {
    "duration": 1671,
    "start_time": "2021-07-30T13:14:39.296Z"
   },
   {
    "duration": 348,
    "start_time": "2021-07-30T13:18:36.753Z"
   },
   {
    "duration": 341,
    "start_time": "2021-07-30T13:19:50.193Z"
   },
   {
    "duration": 1435,
    "start_time": "2021-07-30T13:22:17.058Z"
   },
   {
    "duration": 12,
    "start_time": "2021-07-30T13:22:46.497Z"
   },
   {
    "duration": 1513,
    "start_time": "2021-07-30T13:22:48.791Z"
   },
   {
    "duration": 1451,
    "start_time": "2021-07-30T13:24:06.146Z"
   },
   {
    "duration": 8,
    "start_time": "2021-07-30T13:26:33.955Z"
   },
   {
    "duration": 1159,
    "start_time": "2021-07-30T13:26:35.330Z"
   },
   {
    "duration": 11,
    "start_time": "2021-07-30T13:27:59.858Z"
   },
   {
    "duration": 22,
    "start_time": "2021-07-30T13:28:36.930Z"
   },
   {
    "duration": 1667,
    "start_time": "2021-07-30T13:28:50.611Z"
   },
   {
    "duration": 10,
    "start_time": "2021-07-30T13:28:58.659Z"
   },
   {
    "duration": 320,
    "start_time": "2021-07-30T13:35:24.196Z"
   },
   {
    "duration": 5,
    "start_time": "2021-07-30T13:35:29.203Z"
   },
   {
    "duration": 4,
    "start_time": "2021-07-30T13:35:36.227Z"
   },
   {
    "duration": 1044,
    "start_time": "2021-07-30T13:36:21.268Z"
   },
   {
    "duration": 1199,
    "start_time": "2021-07-30T13:36:26.292Z"
   },
   {
    "duration": 4,
    "start_time": "2021-07-30T13:36:34.644Z"
   },
   {
    "duration": 6,
    "start_time": "2021-07-30T13:36:43.220Z"
   },
   {
    "duration": 9,
    "start_time": "2021-07-30T13:37:33.204Z"
   },
   {
    "duration": 26,
    "start_time": "2021-07-30T13:37:40.261Z"
   },
   {
    "duration": 132,
    "start_time": "2021-07-30T13:47:09.254Z"
   },
   {
    "duration": 779,
    "start_time": "2021-07-30T13:47:51.494Z"
   },
   {
    "duration": 121,
    "start_time": "2021-07-30T13:48:46.502Z"
   },
   {
    "duration": 119,
    "start_time": "2021-07-30T13:49:17.942Z"
   },
   {
    "duration": 90,
    "start_time": "2021-07-30T13:49:29.030Z"
   },
   {
    "duration": 107,
    "start_time": "2021-07-30T13:49:52.726Z"
   },
   {
    "duration": 651,
    "start_time": "2021-07-30T13:51:08.951Z"
   },
   {
    "duration": 41498,
    "start_time": "2021-07-30T13:51:28.951Z"
   },
   {
    "duration": 733,
    "start_time": "2021-07-30T13:52:34.395Z"
   },
   {
    "duration": 700,
    "start_time": "2021-07-30T13:58:03.111Z"
   },
   {
    "duration": 18,
    "start_time": "2021-07-30T13:58:07.000Z"
   },
   {
    "duration": 687,
    "start_time": "2021-07-30T13:58:10.136Z"
   },
   {
    "duration": 121,
    "start_time": "2021-07-30T13:59:31.560Z"
   },
   {
    "duration": 685,
    "start_time": "2021-07-30T14:00:09.065Z"
   },
   {
    "duration": 11052,
    "start_time": "2021-07-30T14:00:38.344Z"
   },
   {
    "duration": 135,
    "start_time": "2021-07-30T14:01:00.552Z"
   },
   {
    "duration": 11863,
    "start_time": "2021-07-30T14:08:20.138Z"
   },
   {
    "duration": 116,
    "start_time": "2021-07-30T14:08:32.004Z"
   },
   {
    "duration": 353,
    "start_time": "2021-07-30T14:08:47.786Z"
   },
   {
    "duration": 10,
    "start_time": "2021-07-30T14:08:55.226Z"
   },
   {
    "duration": 12,
    "start_time": "2021-07-30T14:09:30.474Z"
   },
   {
    "duration": 224,
    "start_time": "2021-07-30T14:09:32.506Z"
   },
   {
    "duration": 141,
    "start_time": "2021-07-30T14:10:03.066Z"
   },
   {
    "duration": 111,
    "start_time": "2021-07-30T14:10:12.233Z"
   },
   {
    "duration": 113,
    "start_time": "2021-07-30T14:10:37.548Z"
   },
   {
    "duration": 11,
    "start_time": "2021-07-30T14:10:51.002Z"
   },
   {
    "duration": 2580,
    "start_time": "2021-07-30T14:10:58.612Z"
   },
   {
    "duration": 22,
    "start_time": "2021-07-30T14:11:01.195Z"
   },
   {
    "duration": 30,
    "start_time": "2021-07-30T14:11:01.220Z"
   },
   {
    "duration": 23,
    "start_time": "2021-07-30T14:11:01.252Z"
   },
   {
    "duration": 30,
    "start_time": "2021-07-30T14:11:01.279Z"
   },
   {
    "duration": 25,
    "start_time": "2021-07-30T14:11:01.312Z"
   },
   {
    "duration": 7,
    "start_time": "2021-07-30T14:11:01.367Z"
   },
   {
    "duration": 90,
    "start_time": "2021-07-30T14:11:01.381Z"
   },
   {
    "duration": 4,
    "start_time": "2021-07-30T14:11:01.474Z"
   },
   {
    "duration": 26,
    "start_time": "2021-07-30T14:11:01.480Z"
   },
   {
    "duration": 35,
    "start_time": "2021-07-30T14:11:01.510Z"
   },
   {
    "duration": 154,
    "start_time": "2021-07-30T14:11:01.547Z"
   },
   {
    "duration": 5,
    "start_time": "2021-07-30T14:11:01.707Z"
   },
   {
    "duration": 24,
    "start_time": "2021-07-30T14:11:01.716Z"
   },
   {
    "duration": 25,
    "start_time": "2021-07-30T14:11:01.744Z"
   },
   {
    "duration": 112,
    "start_time": "2021-07-30T14:11:01.772Z"
   },
   {
    "duration": 84,
    "start_time": "2021-07-30T14:11:01.887Z"
   },
   {
    "duration": 9,
    "start_time": "2021-07-30T14:11:01.973Z"
   },
   {
    "duration": 44,
    "start_time": "2021-07-30T14:11:01.986Z"
   },
   {
    "duration": 18,
    "start_time": "2021-07-30T14:11:02.033Z"
   },
   {
    "duration": 9385,
    "start_time": "2021-07-30T14:11:02.054Z"
   },
   {
    "duration": 206,
    "start_time": "2021-07-30T14:11:11.441Z"
   },
   {
    "duration": 2685,
    "start_time": "2021-07-30T14:11:11.656Z"
   },
   {
    "duration": 29,
    "start_time": "2021-07-30T14:11:14.344Z"
   },
   {
    "duration": 9,
    "start_time": "2021-07-30T14:11:14.376Z"
   },
   {
    "duration": 8,
    "start_time": "2021-07-30T14:11:14.389Z"
   },
   {
    "duration": 11,
    "start_time": "2021-07-30T14:11:14.400Z"
   },
   {
    "duration": 53,
    "start_time": "2021-07-30T14:11:14.414Z"
   },
   {
    "duration": 100,
    "start_time": "2021-07-30T14:11:14.471Z"
   },
   {
    "duration": 101,
    "start_time": "2021-07-30T14:11:14.575Z"
   },
   {
    "duration": 542,
    "start_time": "2021-07-30T14:11:14.679Z"
   },
   {
    "duration": 12,
    "start_time": "2021-07-30T14:11:15.224Z"
   },
   {
    "duration": 672,
    "start_time": "2021-07-30T14:11:15.240Z"
   },
   {
    "duration": 115574,
    "start_time": "2021-07-30T14:11:15.915Z"
   },
   {
    "duration": 12,
    "start_time": "2021-07-30T14:13:11.492Z"
   },
   {
    "duration": 1787,
    "start_time": "2021-07-30T14:13:11.507Z"
   },
   {
    "duration": 24,
    "start_time": "2021-07-30T14:13:13.297Z"
   },
   {
    "duration": 15,
    "start_time": "2021-07-30T14:13:13.323Z"
   },
   {
    "duration": 25,
    "start_time": "2021-07-30T14:13:13.368Z"
   },
   {
    "duration": 12460,
    "start_time": "2021-07-30T14:13:13.396Z"
   },
   {
    "duration": 111,
    "start_time": "2021-07-30T14:13:25.858Z"
   },
   {
    "duration": 21,
    "start_time": "2021-07-30T14:13:25.972Z"
   },
   {
    "duration": 815,
    "start_time": "2021-07-30T14:34:19.133Z"
   },
   {
    "duration": 10185,
    "start_time": "2021-07-30T14:35:12.060Z"
   },
   {
    "duration": 104,
    "start_time": "2021-07-30T14:35:22.248Z"
   },
   {
    "duration": 870,
    "start_time": "2021-07-30T14:36:28.044Z"
   },
   {
    "duration": 10458,
    "start_time": "2021-07-30T14:37:08.589Z"
   },
   {
    "duration": 644,
    "start_time": "2021-07-30T14:38:13.261Z"
   },
   {
    "duration": 117,
    "start_time": "2021-07-30T14:39:03.437Z"
   },
   {
    "duration": 653,
    "start_time": "2021-07-30T14:39:13.740Z"
   },
   {
    "duration": 293,
    "start_time": "2021-07-30T14:39:36.589Z"
   },
   {
    "duration": 313,
    "start_time": "2021-07-30T14:39:56.717Z"
   },
   {
    "duration": 332,
    "start_time": "2021-07-30T14:40:09.198Z"
   },
   {
    "duration": 324,
    "start_time": "2021-07-30T14:40:13.933Z"
   },
   {
    "duration": 338,
    "start_time": "2021-07-30T14:40:36.268Z"
   },
   {
    "duration": 280,
    "start_time": "2021-07-30T14:40:48.221Z"
   },
   {
    "duration": 311,
    "start_time": "2021-07-30T14:40:52.239Z"
   },
   {
    "duration": 201,
    "start_time": "2021-07-30T14:43:28.764Z"
   },
   {
    "duration": 751,
    "start_time": "2021-07-30T14:43:49.981Z"
   },
   {
    "duration": 791,
    "start_time": "2021-07-30T14:44:41.662Z"
   },
   {
    "duration": 914,
    "start_time": "2021-07-30T14:44:51.166Z"
   },
   {
    "duration": 862,
    "start_time": "2021-07-30T14:45:00.255Z"
   },
   {
    "duration": 8195,
    "start_time": "2021-07-30T14:50:19.855Z"
   },
   {
    "duration": 8039,
    "start_time": "2021-07-30T14:50:38.863Z"
   },
   {
    "duration": 90,
    "start_time": "2021-07-30T14:51:00.735Z"
   },
   {
    "duration": 3927,
    "start_time": "2021-07-30T14:51:26.735Z"
   },
   {
    "duration": 4015,
    "start_time": "2021-07-30T14:51:35.968Z"
   },
   {
    "duration": 4539,
    "start_time": "2021-07-30T14:51:43.631Z"
   },
   {
    "duration": 5370,
    "start_time": "2021-07-30T14:51:49.423Z"
   },
   {
    "duration": 5590,
    "start_time": "2021-07-30T14:52:05.903Z"
   },
   {
    "duration": 14195,
    "start_time": "2021-07-30T14:53:53.487Z"
   },
   {
    "duration": 13713,
    "start_time": "2021-07-30T14:54:42.127Z"
   },
   {
    "duration": 101,
    "start_time": "2021-07-30T14:54:55.842Z"
   },
   {
    "duration": 1128,
    "start_time": "2021-07-30T14:55:21.439Z"
   },
   {
    "duration": 13618,
    "start_time": "2021-07-30T14:55:54.593Z"
   },
   {
    "duration": 119,
    "start_time": "2021-07-30T14:56:08.213Z"
   },
   {
    "duration": 9767,
    "start_time": "2021-07-30T14:57:07.537Z"
   },
   {
    "duration": 2217,
    "start_time": "2021-07-31T08:11:56.714Z"
   },
   {
    "duration": 25,
    "start_time": "2021-07-31T08:11:58.933Z"
   },
   {
    "duration": 28,
    "start_time": "2021-07-31T08:11:58.961Z"
   },
   {
    "duration": 11,
    "start_time": "2021-07-31T08:11:59.002Z"
   },
   {
    "duration": 13,
    "start_time": "2021-07-31T08:11:59.017Z"
   },
   {
    "duration": 22,
    "start_time": "2021-07-31T08:11:59.032Z"
   },
   {
    "duration": 44,
    "start_time": "2021-07-31T08:11:59.056Z"
   },
   {
    "duration": 75,
    "start_time": "2021-07-31T08:11:59.104Z"
   },
   {
    "duration": 27,
    "start_time": "2021-07-31T08:11:59.181Z"
   },
   {
    "duration": 19,
    "start_time": "2021-07-31T08:11:59.212Z"
   },
   {
    "duration": 14,
    "start_time": "2021-07-31T08:11:59.234Z"
   },
   {
    "duration": 116,
    "start_time": "2021-07-31T08:11:59.250Z"
   },
   {
    "duration": 5,
    "start_time": "2021-07-31T08:11:59.369Z"
   },
   {
    "duration": 37,
    "start_time": "2021-07-31T08:11:59.377Z"
   },
   {
    "duration": 10,
    "start_time": "2021-07-31T08:11:59.417Z"
   },
   {
    "duration": 106,
    "start_time": "2021-07-31T08:11:59.430Z"
   },
   {
    "duration": 91,
    "start_time": "2021-07-31T08:11:59.539Z"
   },
   {
    "duration": 8,
    "start_time": "2021-07-31T08:11:59.633Z"
   },
   {
    "duration": 23,
    "start_time": "2021-07-31T08:11:59.643Z"
   },
   {
    "duration": 31,
    "start_time": "2021-07-31T08:11:59.669Z"
   },
   {
    "duration": 8630,
    "start_time": "2021-07-31T08:11:59.702Z"
   },
   {
    "duration": 204,
    "start_time": "2021-07-31T08:12:08.334Z"
   },
   {
    "duration": 2306,
    "start_time": "2021-07-31T08:12:08.542Z"
   },
   {
    "duration": 17,
    "start_time": "2021-07-31T08:12:10.851Z"
   },
   {
    "duration": 29,
    "start_time": "2021-07-31T08:12:10.871Z"
   },
   {
    "duration": 8,
    "start_time": "2021-07-31T08:12:10.904Z"
   },
   {
    "duration": 11,
    "start_time": "2021-07-31T08:12:10.915Z"
   },
   {
    "duration": 10,
    "start_time": "2021-07-31T08:12:10.929Z"
   },
   {
    "duration": 66,
    "start_time": "2021-07-31T08:12:10.942Z"
   },
   {
    "duration": 100,
    "start_time": "2021-07-31T08:12:11.012Z"
   },
   {
    "duration": 484,
    "start_time": "2021-07-31T08:12:11.116Z"
   },
   {
    "duration": 11,
    "start_time": "2021-07-31T08:12:11.602Z"
   },
   {
    "duration": 514,
    "start_time": "2021-07-31T08:12:11.617Z"
   },
   {
    "duration": 106626,
    "start_time": "2021-07-31T08:12:12.134Z"
   },
   {
    "duration": 9,
    "start_time": "2021-07-31T08:13:58.762Z"
   },
   {
    "duration": 1346,
    "start_time": "2021-07-31T08:13:58.773Z"
   },
   {
    "duration": 20,
    "start_time": "2021-07-31T08:14:00.122Z"
   },
   {
    "duration": 18,
    "start_time": "2021-07-31T08:14:00.145Z"
   },
   {
    "duration": 52,
    "start_time": "2021-07-31T08:14:00.166Z"
   },
   {
    "duration": 10991,
    "start_time": "2021-07-31T08:14:00.221Z"
   },
   {
    "duration": 127,
    "start_time": "2021-07-31T08:14:11.215Z"
   },
   {
    "duration": 9281,
    "start_time": "2021-07-31T08:14:11.345Z"
   },
   {
    "duration": 124,
    "start_time": "2021-07-31T08:14:20.629Z"
   },
   {
    "duration": 9903,
    "start_time": "2021-07-31T08:16:31.836Z"
   },
   {
    "duration": 10860,
    "start_time": "2021-07-31T08:17:11.850Z"
   },
   {
    "duration": 905,
    "start_time": "2021-07-31T08:26:24.382Z"
   },
   {
    "duration": 10841,
    "start_time": "2021-07-31T08:26:32.083Z"
   },
   {
    "duration": 9635,
    "start_time": "2021-07-31T08:26:48.523Z"
   },
   {
    "duration": 124,
    "start_time": "2021-07-31T08:26:59.610Z"
   },
   {
    "duration": 9444,
    "start_time": "2021-07-31T08:27:11.482Z"
   },
   {
    "duration": 120,
    "start_time": "2021-07-31T08:27:20.929Z"
   },
   {
    "duration": 11,
    "start_time": "2021-07-31T08:33:38.068Z"
   },
   {
    "duration": 9,
    "start_time": "2021-07-31T08:33:49.258Z"
   },
   {
    "duration": 21,
    "start_time": "2021-07-31T08:34:05.513Z"
   },
   {
    "duration": 370,
    "start_time": "2021-07-31T08:34:32.262Z"
   },
   {
    "duration": 383,
    "start_time": "2021-07-31T08:34:38.407Z"
   },
   {
    "duration": 377,
    "start_time": "2021-07-31T08:34:51.666Z"
   },
   {
    "duration": 10,
    "start_time": "2021-07-31T08:34:55.005Z"
   },
   {
    "duration": 6,
    "start_time": "2021-07-31T08:34:56.444Z"
   },
   {
    "duration": 399,
    "start_time": "2021-07-31T08:35:44.341Z"
   },
   {
    "duration": 11,
    "start_time": "2021-07-31T08:36:27.126Z"
   },
   {
    "duration": 9,
    "start_time": "2021-07-31T08:36:28.485Z"
   },
   {
    "duration": 10,
    "start_time": "2021-07-31T08:36:51.673Z"
   },
   {
    "duration": 9,
    "start_time": "2021-07-31T08:36:52.585Z"
   },
   {
    "duration": 122,
    "start_time": "2021-07-31T08:38:10.505Z"
   },
   {
    "duration": 123,
    "start_time": "2021-07-31T08:38:16.606Z"
   },
   {
    "duration": 131,
    "start_time": "2021-07-31T08:38:23.825Z"
   },
   {
    "duration": 11,
    "start_time": "2021-07-31T08:38:33.973Z"
   },
   {
    "duration": 9,
    "start_time": "2021-07-31T08:38:35.353Z"
   },
   {
    "duration": 130,
    "start_time": "2021-07-31T09:38:22.013Z"
   },
   {
    "duration": 6,
    "start_time": "2021-07-31T09:39:05.273Z"
   },
   {
    "duration": 8,
    "start_time": "2021-07-31T09:39:31.279Z"
   },
   {
    "duration": 5,
    "start_time": "2021-07-31T09:39:42.873Z"
   },
   {
    "duration": 13,
    "start_time": "2021-07-31T10:09:13.910Z"
   },
   {
    "duration": 2174,
    "start_time": "2021-07-31T10:09:21.781Z"
   },
   {
    "duration": 24,
    "start_time": "2021-07-31T10:09:23.958Z"
   },
   {
    "duration": 41,
    "start_time": "2021-07-31T10:09:23.985Z"
   },
   {
    "duration": 6,
    "start_time": "2021-07-31T10:09:24.029Z"
   },
   {
    "duration": 13,
    "start_time": "2021-07-31T10:09:24.038Z"
   },
   {
    "duration": 59,
    "start_time": "2021-07-31T10:09:24.054Z"
   },
   {
    "duration": 5,
    "start_time": "2021-07-31T10:09:24.116Z"
   },
   {
    "duration": 110,
    "start_time": "2021-07-31T10:09:24.124Z"
   },
   {
    "duration": 4,
    "start_time": "2021-07-31T10:09:24.239Z"
   },
   {
    "duration": 18,
    "start_time": "2021-07-31T10:09:24.246Z"
   },
   {
    "duration": 36,
    "start_time": "2021-07-31T10:09:24.267Z"
   },
   {
    "duration": 107,
    "start_time": "2021-07-31T10:09:24.306Z"
   },
   {
    "duration": 4,
    "start_time": "2021-07-31T10:09:24.417Z"
   },
   {
    "duration": 14,
    "start_time": "2021-07-31T10:09:24.424Z"
   },
   {
    "duration": 12,
    "start_time": "2021-07-31T10:09:24.441Z"
   },
   {
    "duration": 119,
    "start_time": "2021-07-31T10:09:24.455Z"
   },
   {
    "duration": 101,
    "start_time": "2021-07-31T10:09:24.576Z"
   },
   {
    "duration": 148,
    "start_time": "2021-07-31T10:09:24.679Z"
   },
   {
    "duration": -629,
    "start_time": "2021-07-31T10:09:25.461Z"
   },
   {
    "duration": -635,
    "start_time": "2021-07-31T10:09:25.469Z"
   },
   {
    "duration": -640,
    "start_time": "2021-07-31T10:09:25.477Z"
   },
   {
    "duration": -668,
    "start_time": "2021-07-31T10:09:25.508Z"
   },
   {
    "duration": -675,
    "start_time": "2021-07-31T10:09:25.517Z"
   },
   {
    "duration": -679,
    "start_time": "2021-07-31T10:09:25.523Z"
   },
   {
    "duration": -682,
    "start_time": "2021-07-31T10:09:25.528Z"
   },
   {
    "duration": -686,
    "start_time": "2021-07-31T10:09:25.535Z"
   },
   {
    "duration": -691,
    "start_time": "2021-07-31T10:09:25.542Z"
   },
   {
    "duration": -697,
    "start_time": "2021-07-31T10:09:25.550Z"
   },
   {
    "duration": -707,
    "start_time": "2021-07-31T10:09:25.562Z"
   },
   {
    "duration": -713,
    "start_time": "2021-07-31T10:09:25.570Z"
   },
   {
    "duration": -719,
    "start_time": "2021-07-31T10:09:25.578Z"
   },
   {
    "duration": -723,
    "start_time": "2021-07-31T10:09:25.584Z"
   },
   {
    "duration": -727,
    "start_time": "2021-07-31T10:09:25.590Z"
   },
   {
    "duration": -729,
    "start_time": "2021-07-31T10:09:25.595Z"
   },
   {
    "duration": -732,
    "start_time": "2021-07-31T10:09:25.600Z"
   },
   {
    "duration": -717,
    "start_time": "2021-07-31T10:09:25.616Z"
   },
   {
    "duration": -720,
    "start_time": "2021-07-31T10:09:25.621Z"
   },
   {
    "duration": -723,
    "start_time": "2021-07-31T10:09:25.626Z"
   },
   {
    "duration": -726,
    "start_time": "2021-07-31T10:09:25.631Z"
   },
   {
    "duration": -731,
    "start_time": "2021-07-31T10:09:25.639Z"
   },
   {
    "duration": -737,
    "start_time": "2021-07-31T10:09:25.647Z"
   },
   {
    "duration": -742,
    "start_time": "2021-07-31T10:09:25.654Z"
   },
   {
    "duration": -747,
    "start_time": "2021-07-31T10:09:25.660Z"
   },
   {
    "duration": -750,
    "start_time": "2021-07-31T10:09:25.665Z"
   },
   {
    "duration": -754,
    "start_time": "2021-07-31T10:09:25.670Z"
   },
   {
    "duration": 10,
    "start_time": "2021-07-31T10:10:33.977Z"
   },
   {
    "duration": 20,
    "start_time": "2021-07-31T10:10:35.697Z"
   },
   {
    "duration": 11,
    "start_time": "2021-07-31T10:41:43.450Z"
   },
   {
    "duration": 9131,
    "start_time": "2021-07-31T10:41:44.709Z"
   },
   {
    "duration": 237,
    "start_time": "2021-07-31T10:41:53.842Z"
   },
   {
    "duration": 8369,
    "start_time": "2021-07-31T10:43:01.886Z"
   },
   {
    "duration": 138,
    "start_time": "2021-07-31T10:43:10.257Z"
   },
   {
    "duration": 8325,
    "start_time": "2021-07-31T10:43:58.859Z"
   },
   {
    "duration": 280,
    "start_time": "2021-07-31T10:44:07.187Z"
   },
   {
    "duration": 125,
    "start_time": "2021-07-31T10:47:39.651Z"
   },
   {
    "duration": 976,
    "start_time": "2021-07-31T10:47:43.063Z"
   },
   {
    "duration": 8112,
    "start_time": "2021-07-31T10:47:52.355Z"
   },
   {
    "duration": 822,
    "start_time": "2021-07-31T10:48:25.836Z"
   },
   {
    "duration": 845,
    "start_time": "2021-07-31T10:48:49.618Z"
   },
   {
    "duration": 8506,
    "start_time": "2021-07-31T10:50:01.255Z"
   },
   {
    "duration": 8449,
    "start_time": "2021-07-31T10:50:22.955Z"
   },
   {
    "duration": 10013,
    "start_time": "2021-07-31T10:51:03.176Z"
   },
   {
    "duration": 8976,
    "start_time": "2021-07-31T10:51:21.063Z"
   },
   {
    "duration": 399,
    "start_time": "2021-07-31T10:54:45.739Z"
   },
   {
    "duration": 766,
    "start_time": "2021-07-31T10:55:01.015Z"
   },
   {
    "duration": 8913,
    "start_time": "2021-07-31T10:55:09.447Z"
   },
   {
    "duration": 9079,
    "start_time": "2021-07-31T10:55:40.663Z"
   },
   {
    "duration": 157,
    "start_time": "2021-07-31T11:32:23.151Z"
   },
   {
    "duration": 13,
    "start_time": "2021-07-31T11:42:42.456Z"
   },
   {
    "duration": 112,
    "start_time": "2021-07-31T11:43:20.551Z"
   },
   {
    "duration": 10,
    "start_time": "2021-07-31T11:43:27.535Z"
   },
   {
    "duration": 9,
    "start_time": "2021-07-31T11:43:54.451Z"
   },
   {
    "duration": 12,
    "start_time": "2021-07-31T11:44:13.328Z"
   },
   {
    "duration": 13,
    "start_time": "2021-07-31T11:44:29.293Z"
   },
   {
    "duration": 2022,
    "start_time": "2021-07-31T11:46:57.731Z"
   },
   {
    "duration": 19,
    "start_time": "2021-07-31T11:55:26.732Z"
   },
   {
    "duration": 5,
    "start_time": "2021-07-31T11:55:27.955Z"
   },
   {
    "duration": 6,
    "start_time": "2021-07-31T11:59:05.711Z"
   },
   {
    "duration": 10,
    "start_time": "2021-07-31T11:59:07.445Z"
   },
   {
    "duration": 9,
    "start_time": "2021-07-31T11:59:14.531Z"
   },
   {
    "duration": 21,
    "start_time": "2021-07-31T11:59:16.047Z"
   },
   {
    "duration": 12,
    "start_time": "2021-07-31T11:59:18.544Z"
   },
   {
    "duration": 438,
    "start_time": "2021-07-31T11:59:25.085Z"
   },
   {
    "duration": 10,
    "start_time": "2021-07-31T11:59:26.285Z"
   },
   {
    "duration": 22,
    "start_time": "2021-07-31T12:08:52.035Z"
   },
   {
    "duration": 5,
    "start_time": "2021-07-31T12:09:29.240Z"
   },
   {
    "duration": 5,
    "start_time": "2021-07-31T12:09:37.702Z"
   },
   {
    "duration": 5,
    "start_time": "2021-07-31T12:09:49.893Z"
   },
   {
    "duration": 5,
    "start_time": "2021-07-31T12:12:27.512Z"
   },
   {
    "duration": 128,
    "start_time": "2021-07-31T12:12:56.181Z"
   },
   {
    "duration": 350,
    "start_time": "2021-07-31T12:12:59.793Z"
   },
   {
    "duration": 357,
    "start_time": "2021-07-31T12:13:18.513Z"
   },
   {
    "duration": 362,
    "start_time": "2021-07-31T12:13:24.225Z"
   },
   {
    "duration": 6,
    "start_time": "2021-07-31T12:13:37.894Z"
   },
   {
    "duration": 5,
    "start_time": "2021-07-31T12:14:00.177Z"
   },
   {
    "duration": 6,
    "start_time": "2021-07-31T12:14:06.953Z"
   },
   {
    "duration": 6,
    "start_time": "2021-07-31T12:21:17.753Z"
   },
   {
    "duration": 113,
    "start_time": "2021-07-31T12:21:31.104Z"
   },
   {
    "duration": 113,
    "start_time": "2021-07-31T12:21:46.644Z"
   },
   {
    "duration": 122,
    "start_time": "2021-07-31T12:22:10.413Z"
   },
   {
    "duration": 6,
    "start_time": "2021-07-31T12:22:17.774Z"
   },
   {
    "duration": 11,
    "start_time": "2021-07-31T12:25:44.446Z"
   },
   {
    "duration": 458,
    "start_time": "2021-07-31T12:34:10.579Z"
   },
   {
    "duration": 7,
    "start_time": "2021-07-31T12:34:11.858Z"
   },
   {
    "duration": 2008,
    "start_time": "2021-07-31T12:38:16.272Z"
   },
   {
    "duration": 27,
    "start_time": "2021-07-31T12:38:18.284Z"
   },
   {
    "duration": 35,
    "start_time": "2021-07-31T12:38:18.314Z"
   },
   {
    "duration": 47,
    "start_time": "2021-07-31T12:38:18.353Z"
   },
   {
    "duration": 17,
    "start_time": "2021-07-31T12:38:18.403Z"
   },
   {
    "duration": 22,
    "start_time": "2021-07-31T12:38:18.423Z"
   },
   {
    "duration": 53,
    "start_time": "2021-07-31T12:38:18.448Z"
   },
   {
    "duration": 94,
    "start_time": "2021-07-31T12:38:18.508Z"
   },
   {
    "duration": 4,
    "start_time": "2021-07-31T12:38:18.605Z"
   },
   {
    "duration": 20,
    "start_time": "2021-07-31T12:38:18.612Z"
   },
   {
    "duration": 13,
    "start_time": "2021-07-31T12:38:18.635Z"
   },
   {
    "duration": 114,
    "start_time": "2021-07-31T12:38:18.651Z"
   },
   {
    "duration": 4,
    "start_time": "2021-07-31T12:38:18.768Z"
   },
   {
    "duration": 37,
    "start_time": "2021-07-31T12:38:18.775Z"
   },
   {
    "duration": 11,
    "start_time": "2021-07-31T12:38:18.814Z"
   },
   {
    "duration": 123,
    "start_time": "2021-07-31T12:38:18.828Z"
   },
   {
    "duration": 90,
    "start_time": "2021-07-31T12:38:18.953Z"
   },
   {
    "duration": 9,
    "start_time": "2021-07-31T12:38:19.045Z"
   },
   {
    "duration": 25,
    "start_time": "2021-07-31T12:38:19.057Z"
   },
   {
    "duration": 10,
    "start_time": "2021-07-31T12:38:19.101Z"
   },
   {
    "duration": 8758,
    "start_time": "2021-07-31T12:38:19.113Z"
   },
   {
    "duration": 13,
    "start_time": "2021-07-31T12:38:27.873Z"
   },
   {
    "duration": 2099,
    "start_time": "2021-07-31T12:38:27.891Z"
   },
   {
    "duration": 5,
    "start_time": "2021-07-31T12:38:30.001Z"
   },
   {
    "duration": 12,
    "start_time": "2021-07-31T12:38:30.008Z"
   },
   {
    "duration": 18,
    "start_time": "2021-07-31T12:38:30.023Z"
   },
   {
    "duration": 14,
    "start_time": "2021-07-31T12:38:30.044Z"
   },
   {
    "duration": 51,
    "start_time": "2021-07-31T12:38:30.060Z"
   },
   {
    "duration": 6,
    "start_time": "2021-07-31T12:38:30.114Z"
   },
   {
    "duration": 16,
    "start_time": "2021-07-31T12:38:30.122Z"
   },
   {
    "duration": 497,
    "start_time": "2021-07-31T12:38:30.140Z"
   },
   {
    "duration": 6,
    "start_time": "2021-07-31T12:38:30.640Z"
   },
   {
    "duration": 28,
    "start_time": "2021-07-31T12:38:30.648Z"
   },
   {
    "duration": 142,
    "start_time": "2021-07-31T12:38:30.679Z"
   },
   {
    "duration": 208,
    "start_time": "2021-07-31T12:38:30.616Z"
   },
   {
    "duration": 200,
    "start_time": "2021-07-31T12:38:30.625Z"
   },
   {
    "duration": 194,
    "start_time": "2021-07-31T12:38:30.633Z"
   },
   {
    "duration": 187,
    "start_time": "2021-07-31T12:38:30.642Z"
   },
   {
    "duration": 180,
    "start_time": "2021-07-31T12:38:30.650Z"
   },
   {
    "duration": 175,
    "start_time": "2021-07-31T12:38:30.657Z"
   },
   {
    "duration": 171,
    "start_time": "2021-07-31T12:38:30.662Z"
   },
   {
    "duration": 166,
    "start_time": "2021-07-31T12:38:30.669Z"
   },
   {
    "duration": 161,
    "start_time": "2021-07-31T12:38:30.675Z"
   },
   {
    "duration": 157,
    "start_time": "2021-07-31T12:38:30.680Z"
   },
   {
    "duration": 153,
    "start_time": "2021-07-31T12:38:30.686Z"
   },
   {
    "duration": 149,
    "start_time": "2021-07-31T12:38:30.691Z"
   },
   {
    "duration": 598,
    "start_time": "2021-07-31T12:51:47.349Z"
   },
   {
    "duration": 10,
    "start_time": "2021-07-31T12:57:28.246Z"
   },
   {
    "duration": 698,
    "start_time": "2021-07-31T12:57:50.798Z"
   },
   {
    "duration": 136952,
    "start_time": "2021-07-31T12:57:56.609Z"
   },
   {
    "duration": 4,
    "start_time": "2021-07-31T13:07:15.767Z"
   },
   {
    "duration": 5,
    "start_time": "2021-07-31T13:07:17.290Z"
   },
   {
    "duration": 1883,
    "start_time": "2021-07-31T13:07:46.429Z"
   },
   {
    "duration": 26,
    "start_time": "2021-07-31T13:07:55.089Z"
   },
   {
    "duration": 16,
    "start_time": "2021-07-31T13:12:21.558Z"
   },
   {
    "duration": 14,
    "start_time": "2021-07-31T13:12:22.310Z"
   },
   {
    "duration": 18,
    "start_time": "2021-07-31T13:12:41.837Z"
   },
   {
    "duration": 11179,
    "start_time": "2021-07-31T13:12:44.798Z"
   },
   {
    "duration": 125,
    "start_time": "2021-07-31T13:12:56.550Z"
   },
   {
    "duration": 10947,
    "start_time": "2021-07-31T13:13:33.518Z"
   },
   {
    "duration": 13,
    "start_time": "2021-07-31T13:16:57.837Z"
   },
   {
    "duration": 11,
    "start_time": "2021-07-31T13:17:04.529Z"
   },
   {
    "duration": 14,
    "start_time": "2021-07-31T13:45:13.257Z"
   },
   {
    "duration": 2078,
    "start_time": "2021-07-31T14:31:58.352Z"
   },
   {
    "duration": 25,
    "start_time": "2021-07-31T14:32:00.433Z"
   },
   {
    "duration": 40,
    "start_time": "2021-07-31T14:32:00.465Z"
   },
   {
    "duration": 7,
    "start_time": "2021-07-31T14:32:00.508Z"
   },
   {
    "duration": 25,
    "start_time": "2021-07-31T14:32:00.518Z"
   },
   {
    "duration": 65,
    "start_time": "2021-07-31T14:32:00.546Z"
   },
   {
    "duration": 5,
    "start_time": "2021-07-31T14:32:00.614Z"
   },
   {
    "duration": 102,
    "start_time": "2021-07-31T14:32:00.625Z"
   },
   {
    "duration": 4,
    "start_time": "2021-07-31T14:32:00.730Z"
   },
   {
    "duration": 31,
    "start_time": "2021-07-31T14:32:00.736Z"
   },
   {
    "duration": 17,
    "start_time": "2021-07-31T14:32:00.770Z"
   },
   {
    "duration": 98,
    "start_time": "2021-07-31T14:32:00.802Z"
   },
   {
    "duration": 5,
    "start_time": "2021-07-31T14:32:00.903Z"
   },
   {
    "duration": 26,
    "start_time": "2021-07-31T14:32:00.912Z"
   },
   {
    "duration": 18,
    "start_time": "2021-07-31T14:32:00.940Z"
   },
   {
    "duration": 108,
    "start_time": "2021-07-31T14:32:00.961Z"
   },
   {
    "duration": 9,
    "start_time": "2021-07-31T14:32:01.071Z"
   },
   {
    "duration": 39,
    "start_time": "2021-07-31T14:32:01.082Z"
   },
   {
    "duration": 21,
    "start_time": "2021-07-31T14:32:01.124Z"
   },
   {
    "duration": 9089,
    "start_time": "2021-07-31T14:32:01.147Z"
   },
   {
    "duration": 13,
    "start_time": "2021-07-31T14:32:10.239Z"
   },
   {
    "duration": 2241,
    "start_time": "2021-07-31T14:32:10.255Z"
   },
   {
    "duration": 7,
    "start_time": "2021-07-31T14:32:12.501Z"
   },
   {
    "duration": 11,
    "start_time": "2021-07-31T14:32:12.512Z"
   },
   {
    "duration": 10,
    "start_time": "2021-07-31T14:32:12.526Z"
   },
   {
    "duration": 9,
    "start_time": "2021-07-31T14:32:12.541Z"
   },
   {
    "duration": 73,
    "start_time": "2021-07-31T14:32:12.553Z"
   },
   {
    "duration": 7,
    "start_time": "2021-07-31T14:32:12.629Z"
   },
   {
    "duration": 14,
    "start_time": "2021-07-31T14:32:12.639Z"
   },
   {
    "duration": 610,
    "start_time": "2021-07-31T14:32:12.656Z"
   },
   {
    "duration": 6,
    "start_time": "2021-07-31T14:32:13.268Z"
   },
   {
    "duration": 34,
    "start_time": "2021-07-31T14:32:13.276Z"
   },
   {
    "duration": 12,
    "start_time": "2021-07-31T14:32:13.313Z"
   },
   {
    "duration": 805,
    "start_time": "2021-07-31T14:32:13.329Z"
   },
   {
    "duration": 137054,
    "start_time": "2021-07-31T14:32:14.136Z"
   },
   {
    "duration": 8,
    "start_time": "2021-07-31T14:34:31.193Z"
   },
   {
    "duration": 11,
    "start_time": "2021-07-31T14:34:31.204Z"
   },
   {
    "duration": 1290,
    "start_time": "2021-07-31T14:34:31.218Z"
   },
   {
    "duration": 27,
    "start_time": "2021-07-31T14:34:32.510Z"
   },
   {
    "duration": 18,
    "start_time": "2021-07-31T14:34:32.539Z"
   },
   {
    "duration": 11393,
    "start_time": "2021-07-31T14:34:32.560Z"
   },
   {
    "duration": 13,
    "start_time": "2021-07-31T14:34:43.956Z"
   },
   {
    "duration": 16,
    "start_time": "2021-07-31T14:34:43.972Z"
   },
   {
    "duration": 564,
    "start_time": "2021-07-31T14:37:38.675Z"
   },
   {
    "duration": 1757,
    "start_time": "2021-07-31T14:37:55.153Z"
   },
   {
    "duration": 1996,
    "start_time": "2021-07-31T14:38:38.121Z"
   },
   {
    "duration": 26,
    "start_time": "2021-07-31T14:38:40.120Z"
   },
   {
    "duration": 30,
    "start_time": "2021-07-31T14:38:40.148Z"
   },
   {
    "duration": 22,
    "start_time": "2021-07-31T14:38:40.181Z"
   },
   {
    "duration": 15,
    "start_time": "2021-07-31T14:38:40.206Z"
   },
   {
    "duration": 24,
    "start_time": "2021-07-31T14:38:40.223Z"
   },
   {
    "duration": 7,
    "start_time": "2021-07-31T14:38:40.301Z"
   },
   {
    "duration": 99,
    "start_time": "2021-07-31T14:38:40.313Z"
   },
   {
    "duration": 6,
    "start_time": "2021-07-31T14:38:40.416Z"
   },
   {
    "duration": 16,
    "start_time": "2021-07-31T14:38:40.425Z"
   },
   {
    "duration": 57,
    "start_time": "2021-07-31T14:38:40.444Z"
   },
   {
    "duration": 98,
    "start_time": "2021-07-31T14:38:40.504Z"
   },
   {
    "duration": 4,
    "start_time": "2021-07-31T14:38:40.610Z"
   },
   {
    "duration": 16,
    "start_time": "2021-07-31T14:38:40.617Z"
   },
   {
    "duration": 15,
    "start_time": "2021-07-31T14:38:40.637Z"
   },
   {
    "duration": 167,
    "start_time": "2021-07-31T14:38:40.655Z"
   },
   {
    "duration": 8,
    "start_time": "2021-07-31T14:38:40.825Z"
   },
   {
    "duration": 22,
    "start_time": "2021-07-31T14:38:40.835Z"
   },
   {
    "duration": 43,
    "start_time": "2021-07-31T14:38:40.860Z"
   },
   {
    "duration": 8800,
    "start_time": "2021-07-31T14:38:40.907Z"
   },
   {
    "duration": 15,
    "start_time": "2021-07-31T14:38:49.711Z"
   },
   {
    "duration": 2122,
    "start_time": "2021-07-31T14:38:49.729Z"
   },
   {
    "duration": 5,
    "start_time": "2021-07-31T14:38:51.856Z"
   },
   {
    "duration": 25,
    "start_time": "2021-07-31T14:38:51.864Z"
   },
   {
    "duration": 34,
    "start_time": "2021-07-31T14:38:51.901Z"
   },
   {
    "duration": 33,
    "start_time": "2021-07-31T14:38:51.937Z"
   },
   {
    "duration": 32,
    "start_time": "2021-07-31T14:38:51.973Z"
   },
   {
    "duration": 17,
    "start_time": "2021-07-31T14:38:52.007Z"
   },
   {
    "duration": 35,
    "start_time": "2021-07-31T14:38:52.027Z"
   },
   {
    "duration": 510,
    "start_time": "2021-07-31T14:38:52.064Z"
   },
   {
    "duration": 7,
    "start_time": "2021-07-31T14:38:52.577Z"
   },
   {
    "duration": 20,
    "start_time": "2021-07-31T14:38:52.586Z"
   },
   {
    "duration": 25,
    "start_time": "2021-07-31T14:38:52.610Z"
   },
   {
    "duration": 730,
    "start_time": "2021-07-31T14:38:52.637Z"
   },
   {
    "duration": 137397,
    "start_time": "2021-07-31T14:38:53.370Z"
   },
   {
    "duration": 3,
    "start_time": "2021-07-31T14:41:10.770Z"
   },
   {
    "duration": 46,
    "start_time": "2021-07-31T14:41:10.775Z"
   },
   {
    "duration": 1596,
    "start_time": "2021-07-31T14:41:10.824Z"
   },
   {
    "duration": 24,
    "start_time": "2021-07-31T14:41:12.423Z"
   },
   {
    "duration": 17,
    "start_time": "2021-07-31T14:41:12.450Z"
   },
   {
    "duration": 11254,
    "start_time": "2021-07-31T14:41:12.470Z"
   },
   {
    "duration": 15,
    "start_time": "2021-07-31T14:41:23.727Z"
   },
   {
    "duration": 15,
    "start_time": "2021-07-31T14:41:23.745Z"
   },
   {
    "duration": 2030,
    "start_time": "2021-07-31T14:42:19.988Z"
   },
   {
    "duration": 25,
    "start_time": "2021-07-31T14:42:22.021Z"
   },
   {
    "duration": 30,
    "start_time": "2021-07-31T14:42:22.049Z"
   },
   {
    "duration": 22,
    "start_time": "2021-07-31T14:42:22.081Z"
   },
   {
    "duration": 15,
    "start_time": "2021-07-31T14:42:22.108Z"
   },
   {
    "duration": 27,
    "start_time": "2021-07-31T14:42:22.126Z"
   },
   {
    "duration": 47,
    "start_time": "2021-07-31T14:42:22.157Z"
   },
   {
    "duration": 93,
    "start_time": "2021-07-31T14:42:22.209Z"
   },
   {
    "duration": 5,
    "start_time": "2021-07-31T14:42:22.306Z"
   },
   {
    "duration": 17,
    "start_time": "2021-07-31T14:42:22.315Z"
   },
   {
    "duration": 13,
    "start_time": "2021-07-31T14:42:22.334Z"
   },
   {
    "duration": 136,
    "start_time": "2021-07-31T14:42:22.349Z"
   },
   {
    "duration": 5,
    "start_time": "2021-07-31T14:42:22.502Z"
   },
   {
    "duration": 14,
    "start_time": "2021-07-31T14:42:22.512Z"
   },
   {
    "duration": 11,
    "start_time": "2021-07-31T14:42:22.529Z"
   },
   {
    "duration": 131,
    "start_time": "2021-07-31T14:42:22.542Z"
   },
   {
    "duration": 30,
    "start_time": "2021-07-31T14:42:22.676Z"
   },
   {
    "duration": 35,
    "start_time": "2021-07-31T14:42:22.709Z"
   },
   {
    "duration": 23,
    "start_time": "2021-07-31T14:42:22.747Z"
   },
   {
    "duration": 9291,
    "start_time": "2021-07-31T14:42:22.772Z"
   },
   {
    "duration": 17,
    "start_time": "2021-07-31T14:42:32.069Z"
   },
   {
    "duration": 2166,
    "start_time": "2021-07-31T14:42:32.095Z"
   },
   {
    "duration": 5,
    "start_time": "2021-07-31T14:42:34.264Z"
   },
   {
    "duration": 30,
    "start_time": "2021-07-31T14:42:34.272Z"
   },
   {
    "duration": 10,
    "start_time": "2021-07-31T14:42:34.305Z"
   },
   {
    "duration": 25,
    "start_time": "2021-07-31T14:42:34.317Z"
   },
   {
    "duration": 22,
    "start_time": "2021-07-31T14:42:34.345Z"
   },
   {
    "duration": 31,
    "start_time": "2021-07-31T14:42:34.369Z"
   },
   {
    "duration": 28,
    "start_time": "2021-07-31T14:42:34.403Z"
   },
   {
    "duration": 500,
    "start_time": "2021-07-31T14:42:34.433Z"
   },
   {
    "duration": 6,
    "start_time": "2021-07-31T14:42:34.935Z"
   },
   {
    "duration": 11,
    "start_time": "2021-07-31T14:42:34.943Z"
   },
   {
    "duration": 49,
    "start_time": "2021-07-31T14:42:34.958Z"
   },
   {
    "duration": 735,
    "start_time": "2021-07-31T14:42:35.009Z"
   },
   {
    "duration": 139554,
    "start_time": "2021-07-31T14:42:35.746Z"
   },
   {
    "duration": 4,
    "start_time": "2021-07-31T14:44:55.303Z"
   },
   {
    "duration": 15,
    "start_time": "2021-07-31T14:44:55.309Z"
   },
   {
    "duration": 1499,
    "start_time": "2021-07-31T14:44:55.328Z"
   },
   {
    "duration": 24,
    "start_time": "2021-07-31T14:44:56.829Z"
   },
   {
    "duration": 50,
    "start_time": "2021-07-31T14:44:56.856Z"
   },
   {
    "duration": 11482,
    "start_time": "2021-07-31T14:44:56.909Z"
   },
   {
    "duration": 13,
    "start_time": "2021-07-31T14:45:08.394Z"
   },
   {
    "duration": 14,
    "start_time": "2021-07-31T14:45:08.411Z"
   },
   {
    "duration": 1269,
    "start_time": "2021-07-31T21:10:34.477Z"
   },
   {
    "duration": 60,
    "start_time": "2021-07-31T21:10:35.748Z"
   },
   {
    "duration": 20,
    "start_time": "2021-07-31T21:10:35.810Z"
   },
   {
    "duration": 2848,
    "start_time": "2021-08-01T09:42:01.733Z"
   },
   {
    "duration": 23,
    "start_time": "2021-08-01T09:42:04.584Z"
   },
   {
    "duration": 31,
    "start_time": "2021-08-01T09:42:04.611Z"
   },
   {
    "duration": 7,
    "start_time": "2021-08-01T09:42:04.657Z"
   },
   {
    "duration": 22,
    "start_time": "2021-08-01T09:42:04.667Z"
   },
   {
    "duration": 26,
    "start_time": "2021-08-01T09:42:04.692Z"
   },
   {
    "duration": 5,
    "start_time": "2021-08-01T09:42:04.720Z"
   },
   {
    "duration": 68,
    "start_time": "2021-08-01T09:42:04.757Z"
   },
   {
    "duration": 4,
    "start_time": "2021-08-01T09:42:04.828Z"
   },
   {
    "duration": 31,
    "start_time": "2021-08-01T09:42:04.834Z"
   },
   {
    "duration": 12,
    "start_time": "2021-08-01T09:42:04.867Z"
   },
   {
    "duration": 109,
    "start_time": "2021-08-01T09:42:04.881Z"
   },
   {
    "duration": 4,
    "start_time": "2021-08-01T09:42:04.992Z"
   },
   {
    "duration": 15,
    "start_time": "2021-08-01T09:42:04.998Z"
   },
   {
    "duration": 10,
    "start_time": "2021-08-01T09:42:05.015Z"
   },
   {
    "duration": 99,
    "start_time": "2021-08-01T09:42:05.027Z"
   },
   {
    "duration": 27,
    "start_time": "2021-08-01T09:42:05.129Z"
   },
   {
    "duration": 19,
    "start_time": "2021-08-01T09:42:05.158Z"
   },
   {
    "duration": 13,
    "start_time": "2021-08-01T09:42:05.179Z"
   },
   {
    "duration": 8271,
    "start_time": "2021-08-01T09:42:05.194Z"
   },
   {
    "duration": 12,
    "start_time": "2021-08-01T09:42:13.467Z"
   },
   {
    "duration": 1943,
    "start_time": "2021-08-01T09:42:13.481Z"
   },
   {
    "duration": 5,
    "start_time": "2021-08-01T09:42:15.429Z"
   },
   {
    "duration": 6,
    "start_time": "2021-08-01T09:42:15.456Z"
   },
   {
    "duration": 12,
    "start_time": "2021-08-01T09:42:15.464Z"
   },
   {
    "duration": 8,
    "start_time": "2021-08-01T09:42:15.479Z"
   },
   {
    "duration": 23,
    "start_time": "2021-08-01T09:42:15.489Z"
   },
   {
    "duration": 6,
    "start_time": "2021-08-01T09:42:15.514Z"
   },
   {
    "duration": 35,
    "start_time": "2021-08-01T09:42:15.522Z"
   },
   {
    "duration": 447,
    "start_time": "2021-08-01T09:42:15.559Z"
   },
   {
    "duration": 6,
    "start_time": "2021-08-01T09:42:16.008Z"
   },
   {
    "duration": 15,
    "start_time": "2021-08-01T09:42:16.016Z"
   },
   {
    "duration": 27,
    "start_time": "2021-08-01T09:42:16.033Z"
   },
   {
    "duration": 763,
    "start_time": "2021-08-01T09:42:16.062Z"
   },
   {
    "duration": 132301,
    "start_time": "2021-08-01T09:42:16.828Z"
   },
   {
    "duration": 4,
    "start_time": "2021-08-01T09:44:29.132Z"
   },
   {
    "duration": 19,
    "start_time": "2021-08-01T09:44:29.138Z"
   },
   {
    "duration": 1814,
    "start_time": "2021-08-01T09:44:29.159Z"
   },
   {
    "duration": 28,
    "start_time": "2021-08-01T09:44:30.976Z"
   },
   {
    "duration": 1211,
    "start_time": "2021-08-01T09:44:31.006Z"
   },
   {
    "duration": 10886,
    "start_time": "2021-08-01T09:44:32.220Z"
   },
   {
    "duration": 12,
    "start_time": "2021-08-01T09:44:43.108Z"
   },
   {
    "duration": 23,
    "start_time": "2021-08-01T09:44:43.122Z"
   }
  ],
  "kernelspec": {
   "display_name": "Python 3",
   "language": "python",
   "name": "python3"
  },
  "language_info": {
   "codemirror_mode": {
    "name": "ipython",
    "version": 3
   },
   "file_extension": ".py",
   "mimetype": "text/x-python",
   "name": "python",
   "nbconvert_exporter": "python",
   "pygments_lexer": "ipython3",
   "version": "3.7.8"
  },
  "toc": {
   "base_numbering": 1,
   "nav_menu": {},
   "number_sections": true,
   "sideBar": true,
   "skip_h1_title": true,
   "title_cell": "Table of Contents",
   "title_sidebar": "Contents",
   "toc_cell": false,
   "toc_position": {},
   "toc_section_display": true,
   "toc_window_display": true
  }
 },
 "nbformat": 4,
 "nbformat_minor": 2
}
